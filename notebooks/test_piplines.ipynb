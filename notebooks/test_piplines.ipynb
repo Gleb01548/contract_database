{
 "cells": [
  {
   "cell_type": "code",
   "execution_count": 2,
   "metadata": {},
   "outputs": [],
   "source": [
    "import pandas as pd\n",
    "\n",
    "from src import GetNum, split_data, ParsingDataContract, extract_code_id, ParsingOrg"
   ]
  },
  {
   "cell_type": "markdown",
   "metadata": {},
   "source": [
    "## Извлечение номеров - Парсинг"
   ]
  },
  {
   "cell_type": "code",
   "execution_count": 5,
   "metadata": {},
   "outputs": [
    {
     "name": "stderr",
     "output_type": "stream",
     "text": [
      "СТАРТ ПРОГРАММЫ\n",
      "  4%|▍         | 199/5110 [04:37<1:54:11,  1.40s/it]\n"
     ]
    },
    {
     "ename": "KeyboardInterrupt",
     "evalue": "",
     "output_type": "error",
     "traceback": [
      "\u001b[0;31m---------------------------------------------------------------------------\u001b[0m",
      "\u001b[0;31mKeyboardInterrupt\u001b[0m                         Traceback (most recent call last)",
      "Cell \u001b[0;32mIn[5], line 43\u001b[0m\n\u001b[1;32m     30\u001b[0m     split_data(\n\u001b[1;32m     31\u001b[0m         path_data\u001b[39m=\u001b[39m\u001b[39mf\u001b[39m\u001b[39m\"\u001b[39m\u001b[39m../data/contract_number/code_id/\u001b[39m\u001b[39m{\u001b[39;00minput_dir\u001b[39m}\u001b[39;00m\u001b[39m/\u001b[39m\u001b[39m\"\u001b[39m,\n\u001b[1;32m     32\u001b[0m         path_output\u001b[39m=\u001b[39m\u001b[39m\"\u001b[39m\u001b[39m../data/contract_number/split_data/code/\u001b[39m\u001b[39m\"\u001b[39m,\n\u001b[1;32m     33\u001b[0m         n_split\u001b[39m=\u001b[39m\u001b[39m500\u001b[39m,\n\u001b[1;32m     34\u001b[0m     )\n\u001b[1;32m     36\u001b[0m     parsing_org \u001b[39m=\u001b[39m ParsingOrg(\n\u001b[1;32m     37\u001b[0m         path_df\u001b[39m=\u001b[39m\u001b[39m\"\u001b[39m\u001b[39m../data/contract_number/split_data/code/\u001b[39m\u001b[39m{input_dir}\u001b[39;00m\u001b[39m/1.csv\u001b[39m\u001b[39m\"\u001b[39m,\n\u001b[1;32m     38\u001b[0m         path_output\u001b[39m=\u001b[39m\u001b[39m\"\u001b[39m\u001b[39m../data/raw_data/org\u001b[39m\u001b[39m\"\u001b[39m,\n\u001b[0;32m   (...)\u001b[0m\n\u001b[1;32m     41\u001b[0m         continue_parsing\u001b[39m=\u001b[39m\u001b[39mTrue\u001b[39;00m,\n\u001b[1;32m     42\u001b[0m     )\n\u001b[0;32m---> 43\u001b[0m start(\u001b[39m'\u001b[39;49m\u001b[39m2021\u001b[39;49m\u001b[39m'\u001b[39;49m)\n",
      "Cell \u001b[0;32mIn[5], line 7\u001b[0m, in \u001b[0;36mstart\u001b[0;34m(input_dir)\u001b[0m\n\u001b[1;32m      1\u001b[0m \u001b[39mdef\u001b[39;00m \u001b[39mstart\u001b[39m(input_dir: \u001b[39mstr\u001b[39m):\n\u001b[1;32m      2\u001b[0m     get_num \u001b[39m=\u001b[39m GetNum(\n\u001b[1;32m      3\u001b[0m         path_dir_input\u001b[39m=\u001b[39m\u001b[39mf\u001b[39m\u001b[39m\"\u001b[39m\u001b[39m../data/data_from_spendgov/\u001b[39m\u001b[39m{\u001b[39;00minput_dir\u001b[39m}\u001b[39;00m\u001b[39m\"\u001b[39m,\n\u001b[1;32m      4\u001b[0m         path_name_result\u001b[39m=\u001b[39m\u001b[39mf\u001b[39m\u001b[39m\"\u001b[39m\u001b[39m../data/contract_number/numbers/\u001b[39m\u001b[39m{\u001b[39;00minput_dir\u001b[39m}\u001b[39;00m\u001b[39m.csv\u001b[39m\u001b[39m\"\u001b[39m,\n\u001b[1;32m      5\u001b[0m         path_dir_log\u001b[39m=\u001b[39m\u001b[39m\"\u001b[39m\u001b[39m../logs/logs_get_num/\u001b[39m\u001b[39m\"\u001b[39m,\n\u001b[1;32m      6\u001b[0m     )\n\u001b[0;32m----> 7\u001b[0m     get_num\u001b[39m.\u001b[39;49mrun()\n\u001b[1;32m      9\u001b[0m     split_data(\n\u001b[1;32m     10\u001b[0m         path_data\u001b[39m=\u001b[39m\u001b[39mf\u001b[39m\u001b[39m\"\u001b[39m\u001b[39m../data/contract_number/numbers/\u001b[39m\u001b[39m{\u001b[39;00minput_dir\u001b[39m}\u001b[39;00m\u001b[39m.csv\u001b[39m\u001b[39m\"\u001b[39m,\n\u001b[1;32m     11\u001b[0m         path_output\u001b[39m=\u001b[39m\u001b[39m\"\u001b[39m\u001b[39m../data/contract_number/split_data/\u001b[39m\u001b[39m\"\u001b[39m,\n\u001b[1;32m     12\u001b[0m         n_split\u001b[39m=\u001b[39m\u001b[39m500\u001b[39m,\n\u001b[1;32m     13\u001b[0m     )\n\u001b[1;32m     15\u001b[0m     parsing_data \u001b[39m=\u001b[39m ParsingDataContract(\n\u001b[1;32m     16\u001b[0m         path_df\u001b[39m=\u001b[39m\u001b[39mf\u001b[39m\u001b[39m\"\u001b[39m\u001b[39m../data/contract_number/split_data/contract/\u001b[39m\u001b[39m{\u001b[39;00minput_dir\u001b[39m}\u001b[39;00m\u001b[39m/1.csv\u001b[39m\u001b[39m\"\u001b[39m,\n\u001b[1;32m     17\u001b[0m         path_output\u001b[39m=\u001b[39m\u001b[39m\"\u001b[39m\u001b[39m../data/raw_data/contract/\u001b[39m\u001b[39m\"\u001b[39m,\n\u001b[1;32m     18\u001b[0m         path_dir_log\u001b[39m=\u001b[39m\u001b[39m\"\u001b[39m\u001b[39m../logs/parsing_data/\u001b[39m\u001b[39m\"\u001b[39m,\n\u001b[1;32m     19\u001b[0m         path_contract_problem\u001b[39m=\u001b[39m\u001b[39m\"\u001b[39m\u001b[39m../data/contract_number/problem_contract/parsing_data/\u001b[39m\u001b[39m\"\u001b[39m,\n\u001b[1;32m     20\u001b[0m     )\n",
      "File \u001b[0;32m~/.cache/pypoetry/virtualenvs/contract-Fr7eyqb1-py3.10/lib/python3.10/site-packages/src-0.0.0-py3.10.egg/src/get_num/get_num.py:166\u001b[0m, in \u001b[0;36mGetNum.run\u001b[0;34m(self)\u001b[0m\n\u001b[1;32m    164\u001b[0m             \u001b[39mif\u001b[39;00m line \u001b[39mis\u001b[39;00m \u001b[39mnot\u001b[39;00m \u001b[39mNone\u001b[39;00m:\n\u001b[1;32m    165\u001b[0m                 \u001b[39mself\u001b[39m\u001b[39m.\u001b[39mcount_lin \u001b[39m+\u001b[39m\u001b[39m=\u001b[39m \u001b[39m1\u001b[39m\n\u001b[0;32m--> 166\u001b[0m                 \u001b[39mself\u001b[39m\u001b[39m.\u001b[39mget_data(json\u001b[39m.\u001b[39;49mloads(line))\n\u001b[1;32m    168\u001b[0m \u001b[39mself\u001b[39m\u001b[39m.\u001b[39mlogger_print\u001b[39m.\u001b[39minfo(\u001b[39mf\u001b[39m\u001b[39m\"\u001b[39m\u001b[39mЧисло уникальных номеров: \u001b[39m\u001b[39m{\u001b[39;00m\u001b[39mself\u001b[39m\u001b[39m.\u001b[39mcount_not_duplicated\u001b[39m}\u001b[39;00m\u001b[39m\"\u001b[39m)\n\u001b[1;32m    169\u001b[0m \u001b[39mself\u001b[39m\u001b[39m.\u001b[39mlogger_print\u001b[39m.\u001b[39minfo(\u001b[39mf\u001b[39m\u001b[39m\"\u001b[39m\u001b[39mЧисло не пустых строк: \u001b[39m\u001b[39m{\u001b[39;00m\u001b[39mself\u001b[39m\u001b[39m.\u001b[39mcount_lin\u001b[39m}\u001b[39;00m\u001b[39m\"\u001b[39m)\n",
      "File \u001b[0;32m/usr/lib/python3.10/json/__init__.py:346\u001b[0m, in \u001b[0;36mloads\u001b[0;34m(s, cls, object_hook, parse_float, parse_int, parse_constant, object_pairs_hook, **kw)\u001b[0m\n\u001b[1;32m    341\u001b[0m     s \u001b[39m=\u001b[39m s\u001b[39m.\u001b[39mdecode(detect_encoding(s), \u001b[39m'\u001b[39m\u001b[39msurrogatepass\u001b[39m\u001b[39m'\u001b[39m)\n\u001b[1;32m    343\u001b[0m \u001b[39mif\u001b[39;00m (\u001b[39mcls\u001b[39m \u001b[39mis\u001b[39;00m \u001b[39mNone\u001b[39;00m \u001b[39mand\u001b[39;00m object_hook \u001b[39mis\u001b[39;00m \u001b[39mNone\u001b[39;00m \u001b[39mand\u001b[39;00m\n\u001b[1;32m    344\u001b[0m         parse_int \u001b[39mis\u001b[39;00m \u001b[39mNone\u001b[39;00m \u001b[39mand\u001b[39;00m parse_float \u001b[39mis\u001b[39;00m \u001b[39mNone\u001b[39;00m \u001b[39mand\u001b[39;00m\n\u001b[1;32m    345\u001b[0m         parse_constant \u001b[39mis\u001b[39;00m \u001b[39mNone\u001b[39;00m \u001b[39mand\u001b[39;00m object_pairs_hook \u001b[39mis\u001b[39;00m \u001b[39mNone\u001b[39;00m \u001b[39mand\u001b[39;00m \u001b[39mnot\u001b[39;00m kw):\n\u001b[0;32m--> 346\u001b[0m     \u001b[39mreturn\u001b[39;00m _default_decoder\u001b[39m.\u001b[39;49mdecode(s)\n\u001b[1;32m    347\u001b[0m \u001b[39mif\u001b[39;00m \u001b[39mcls\u001b[39m \u001b[39mis\u001b[39;00m \u001b[39mNone\u001b[39;00m:\n\u001b[1;32m    348\u001b[0m     \u001b[39mcls\u001b[39m \u001b[39m=\u001b[39m JSONDecoder\n",
      "File \u001b[0;32m/usr/lib/python3.10/json/decoder.py:337\u001b[0m, in \u001b[0;36mJSONDecoder.decode\u001b[0;34m(self, s, _w)\u001b[0m\n\u001b[1;32m    332\u001b[0m \u001b[39mdef\u001b[39;00m \u001b[39mdecode\u001b[39m(\u001b[39mself\u001b[39m, s, _w\u001b[39m=\u001b[39mWHITESPACE\u001b[39m.\u001b[39mmatch):\n\u001b[1;32m    333\u001b[0m \u001b[39m    \u001b[39m\u001b[39m\"\"\"Return the Python representation of ``s`` (a ``str`` instance\u001b[39;00m\n\u001b[1;32m    334\u001b[0m \u001b[39m    containing a JSON document).\u001b[39;00m\n\u001b[1;32m    335\u001b[0m \n\u001b[1;32m    336\u001b[0m \u001b[39m    \"\"\"\u001b[39;00m\n\u001b[0;32m--> 337\u001b[0m     obj, end \u001b[39m=\u001b[39m \u001b[39mself\u001b[39;49m\u001b[39m.\u001b[39;49mraw_decode(s, idx\u001b[39m=\u001b[39;49m_w(s, \u001b[39m0\u001b[39;49m)\u001b[39m.\u001b[39;49mend())\n\u001b[1;32m    338\u001b[0m     end \u001b[39m=\u001b[39m _w(s, end)\u001b[39m.\u001b[39mend()\n\u001b[1;32m    339\u001b[0m     \u001b[39mif\u001b[39;00m end \u001b[39m!=\u001b[39m \u001b[39mlen\u001b[39m(s):\n",
      "File \u001b[0;32m/usr/lib/python3.10/json/decoder.py:353\u001b[0m, in \u001b[0;36mJSONDecoder.raw_decode\u001b[0;34m(self, s, idx)\u001b[0m\n\u001b[1;32m    344\u001b[0m \u001b[39m\u001b[39m\u001b[39m\"\"\"Decode a JSON document from ``s`` (a ``str`` beginning with\u001b[39;00m\n\u001b[1;32m    345\u001b[0m \u001b[39ma JSON document) and return a 2-tuple of the Python\u001b[39;00m\n\u001b[1;32m    346\u001b[0m \u001b[39mrepresentation and the index in ``s`` where the document ended.\u001b[39;00m\n\u001b[0;32m   (...)\u001b[0m\n\u001b[1;32m    350\u001b[0m \n\u001b[1;32m    351\u001b[0m \u001b[39m\"\"\"\u001b[39;00m\n\u001b[1;32m    352\u001b[0m \u001b[39mtry\u001b[39;00m:\n\u001b[0;32m--> 353\u001b[0m     obj, end \u001b[39m=\u001b[39m \u001b[39mself\u001b[39;49m\u001b[39m.\u001b[39;49mscan_once(s, idx)\n\u001b[1;32m    354\u001b[0m \u001b[39mexcept\u001b[39;00m \u001b[39mStopIteration\u001b[39;00m \u001b[39mas\u001b[39;00m err:\n\u001b[1;32m    355\u001b[0m     \u001b[39mraise\u001b[39;00m JSONDecodeError(\u001b[39m\"\u001b[39m\u001b[39mExpecting value\u001b[39m\u001b[39m\"\u001b[39m, s, err\u001b[39m.\u001b[39mvalue) \u001b[39mfrom\u001b[39;00m \u001b[39mNone\u001b[39;00m\n",
      "\u001b[0;31mKeyboardInterrupt\u001b[0m: "
     ]
    }
   ],
   "source": [
    "def start(input_dir: str):\n",
    "    get_num = GetNum(\n",
    "        path_dir_input=f\"../data/data_from_spendgov/{input_dir}\",\n",
    "        path_name_result=f\"../data/contract_number/numbers/{input_dir}.csv\",\n",
    "        path_dir_log=\"../logs/logs_get_num/\",\n",
    "    )\n",
    "    get_num.run()\n",
    "\n",
    "    split_data(\n",
    "        path_data=f\"../data/contract_number/numbers/{input_dir}.csv\",\n",
    "        path_output=\"../data/contract_number/split_data/\",\n",
    "        n_split=500,\n",
    "    )\n",
    "\n",
    "    parsing_data = ParsingDataContract(\n",
    "        path_df=f\"../data/contract_number/split_data/contract/{input_dir}/1.csv\",\n",
    "        path_output=\"../data/raw_data/contract/\",\n",
    "        path_dir_log=\"../logs/parsing_data/\",\n",
    "        path_contract_problem=\"../data/contract_number/problem_contract/parsing_data/\",\n",
    "    )\n",
    "    parsing_data.run()\n",
    "\n",
    "    extract_code_id(\n",
    "        input_path=f\"../data/raw_data/contract/{input_dir}/\",\n",
    "        path_global_set_code=\"../data/global_cache/cache_code.csv\",\n",
    "        path_global_set_id=\"../data/global_cache/cache_id.csv\",\n",
    "        output_path=\"../data/contract_number/code_id\",\n",
    "    )\n",
    "\n",
    "    split_data(\n",
    "        path_data=f\"../data/contract_number/code_id/{input_dir}/\",\n",
    "        path_output=\"../data/contract_number/split_data/code/\",\n",
    "        n_split=500,\n",
    "    )\n",
    "\n",
    "    parsing_org = ParsingOrg(\n",
    "        path_df=\"../data/contract_number/split_data/code/{input_dir}/1.csv\",\n",
    "        path_output=\"../data/raw_data/org\",\n",
    "        path_dir_log=\"../logs/parsing_org\",\n",
    "        path_contract_problem=\"../data/contract_number/problem_contract/parsing_org\",\n",
    "        continue_parsing=True,\n",
    "    )\n",
    "    parsing_org.run()\n",
    "start('2021')"
   ]
  },
  {
   "cell_type": "code",
   "execution_count": null,
   "metadata": {},
   "outputs": [],
   "source": []
  }
 ],
 "metadata": {
  "kernelspec": {
   "display_name": "contract-Fr7eyqb1-py3.10",
   "language": "python",
   "name": "python3"
  },
  "language_info": {
   "codemirror_mode": {
    "name": "ipython",
    "version": 3
   },
   "file_extension": ".py",
   "mimetype": "text/x-python",
   "name": "python",
   "nbconvert_exporter": "python",
   "pygments_lexer": "ipython3",
   "version": "3.10.12"
  },
  "orig_nbformat": 4
 },
 "nbformat": 4,
 "nbformat_minor": 2
}
