{
 "cells": [
  {
   "cell_type": "code",
   "execution_count": 210,
   "id": "93d18478-ef29-4416-9acd-58c66f01f635",
   "metadata": {},
   "outputs": [],
   "source": [
    "import pandas as pd\n",
    "import time\n",
    "import requests, time\n",
    "from bs4 import BeautifulSoup\n",
    "import bs4.element\n",
    "from fake_useragent import UserAgent\n",
    "import re\n",
    "\n",
    "requests.packages.urllib3.util.ssl_.DEFAULT_CIPHERS = \"ALL:@SECLEVEL=1\""
   ]
  },
  {
   "attachments": {},
   "cell_type": "markdown",
   "id": "bffa2904",
   "metadata": {},
   "source": [
    "2772104168722000005 1700200833623000023 1380805025523000091 1380805025523000091 3184110207323000038 3633001779723000034"
   ]
  },
  {
   "cell_type": "code",
   "execution_count": 211,
   "id": "d17329df-66d0-4c4b-8cf8-14f5fce232e2",
   "metadata": {},
   "outputs": [],
   "source": [
    "url_info = \"https://zakupki.gov.ru/epz/contract/contractCard/common-info.html?reestrNumber=\"\n",
    "url_payment = \"https://zakupki.gov.ru/epz/contract/contractCard/payment-info-and-target-of-order.html?reestrNumber=\"\n",
    "url_process = \"https://zakupki.gov.ru/epz/contract/contractCard/process-info.html?reestrNumber=\"\n",
    "url_version = (\n",
    "    \"https://zakupki.gov.ru/epz/contract/contractCard/journal-version.html?reestrNumber=\"\n",
    ")\n",
    "url_document = \"https://zakupki.gov.ru/epz/contract/contractCard/document-info.html?reestrNumber=\"\n",
    "url_event = \"https://zakupki.gov.ru/epz/contract/contractCard/event-journal.html?reestrNumber=\""
   ]
  },
  {
   "attachments": {},
   "cell_type": "markdown",
   "id": "a61935c1-ea8f-457e-8e68-a7b58d89d1a4",
   "metadata": {},
   "source": [
    "## Получение информации с url_info"
   ]
  },
  {
   "cell_type": "code",
   "execution_count": 212,
   "id": "ea8ffd67",
   "metadata": {},
   "outputs": [],
   "source": [
    "number_contract = \"1380805025523000091\"\n",
    "url_info = (\n",
    "    \"https://zakupki.gov.ru/epz/contract/contractCard/common-info.html?reestrNumber=\"\n",
    "    + number_contract\n",
    ")\n",
    "res = requests.get(url_info, headers={\"User-Agent\": UserAgent().random})\n",
    "soup = BeautifulSoup(res.text, \"lxml\")"
   ]
  },
  {
   "cell_type": "code",
   "execution_count": 213,
   "id": "a001adf9",
   "metadata": {},
   "outputs": [],
   "source": [
    "def remove_bad_symbols(string: str) -> str:\n",
    "    string = re.sub(\"\\n|\\||\\xa0\", \"\", string.strip())\n",
    "    return \" \".join(string.split())"
   ]
  },
  {
   "attachments": {},
   "cell_type": "markdown",
   "id": "880fb3d1",
   "metadata": {},
   "source": [
    "## Информация о заказчике"
   ]
  },
  {
   "cell_type": "code",
   "execution_count": 214,
   "id": "99f9c885",
   "metadata": {},
   "outputs": [
    {
     "data": {
      "text/plain": [
       "'УПРАВЛЕНИЕ СУДЕБНОГО ДЕПАРТАМЕНТА В ИРКУТСКОЙ ОБЛАСТИ'"
      ]
     },
     "execution_count": 214,
     "metadata": {},
     "output_type": "execute_result"
    }
   ],
   "source": [
    "# ПОЛНОЕ НАИМЕНОВАНИЕ ЗАКАЗЧИКА\n",
    "def find_full_name_customer(soup: BeautifulSoup) -> str:\n",
    "    try:\n",
    "        soup = soup.find(\"span\", string=\"Полное наименование заказчика\")\n",
    "        castomer = soup.parent.find(\"a\", target=\"_blank\")\n",
    "        castomer = castomer.get_text()\n",
    "        return remove_bad_symbols(castomer)\n",
    "    except AttributeError:\n",
    "        # логии\n",
    "        return None\n",
    "\n",
    "find_full_name_customer(soup)"
   ]
  },
  {
   "cell_type": "code",
   "execution_count": 215,
   "id": "84c7c151",
   "metadata": {},
   "outputs": [
    {
     "data": {
      "text/plain": [
       "'УСД В ИРКУТСКОЙ ОБЛАСТИ'"
      ]
     },
     "execution_count": 215,
     "metadata": {},
     "output_type": "execute_result"
    }
   ],
   "source": [
    "# СОКРАЩЕННОЕ НАИМЕНОВАНИЕ ЗАКАЗЧИКА\n",
    "def find_short_name_customer(soup: BeautifulSoup) -> str:\n",
    "    try:\n",
    "        soup = soup.find(\"span\", string=\"Сокращенное наименование заказчика\")\n",
    "        castomer = soup.parent.find(\"span\", class_=\"section__info\")\n",
    "        castomer = castomer.get_text()\n",
    "        return remove_bad_symbols(castomer)\n",
    "    except AttributeError:\n",
    "        # логии\n",
    "        return None\n",
    "\n",
    "find_short_name_customer(soup)"
   ]
  },
  {
   "cell_type": "code",
   "execution_count": 216,
   "id": "09895c10",
   "metadata": {},
   "outputs": [
    {
     "data": {
      "text/plain": [
       "'13808050255380801001'"
      ]
     },
     "execution_count": 216,
     "metadata": {},
     "output_type": "execute_result"
    }
   ],
   "source": [
    "# ИДЕНТИФИКАЦИОННЫЙ КОД ЗАКАЗЧИКА\n",
    "def find_id_customer(soup: BeautifulSoup) -> str:\n",
    "    try:\n",
    "        soup = soup.find(\"span\", string=\"Идентификационный код заказчика\")\n",
    "        code = soup.parent.find(\"span\", class_=\"section__info\")\n",
    "        code = code.get_text()\n",
    "        return remove_bad_symbols(code)\n",
    "    except AttributeError:\n",
    "        # логии\n",
    "        return None\n",
    "\n",
    "find_id_customer(soup)"
   ]
  },
  {
   "cell_type": "code",
   "execution_count": 217,
   "id": "9cca8d83",
   "metadata": {},
   "outputs": [
    {
     "data": {
      "text/plain": [
       "'3808050255'"
      ]
     },
     "execution_count": 217,
     "metadata": {},
     "output_type": "execute_result"
    }
   ],
   "source": [
    "# ИНН ЗАКАЗЧИКА\n",
    "def find_inn_customer(soup: object) -> str:\n",
    "    try:\n",
    "        soup = soup.find(\"span\", string=\"ИНН\")\n",
    "        code = soup.parent.find(\"span\", class_=\"section__info\")\n",
    "        code = code.get_text()\n",
    "        return remove_bad_symbols(code)\n",
    "    except AttributeError:\n",
    "        # логии\n",
    "        return None\n",
    "\n",
    "find_inn_customer(soup)"
   ]
  },
  {
   "cell_type": "code",
   "execution_count": 218,
   "id": "dc4a77e6",
   "metadata": {},
   "outputs": [
    {
     "data": {
      "text/plain": [
       "'380801001'"
      ]
     },
     "execution_count": 218,
     "metadata": {},
     "output_type": "execute_result"
    }
   ],
   "source": [
    "# КПП ЗАКАЗЧИКА\n",
    "def find_kpp_customer(soup: object) -> str:\n",
    "    try:\n",
    "        soup = soup.find(\"span\", string=\"КПП\")\n",
    "        code = soup.parent.find(\"span\", class_=\"section__info\")\n",
    "        code = code.get_text()\n",
    "        return remove_bad_symbols(code)\n",
    "    except AttributeError:\n",
    "        # логии\n",
    "        return None\n",
    "\n",
    "find_kpp_customer(soup)"
   ]
  },
  {
   "cell_type": "code",
   "execution_count": 219,
   "id": "705711a7",
   "metadata": {},
   "outputs": [
    {
     "data": {
      "text/plain": [
       "'75104'"
      ]
     },
     "execution_count": 219,
     "metadata": {},
     "output_type": "execute_result"
    }
   ],
   "source": [
    "# КОД ОРАГИЗАЦИОННО-ПРАВОВОЙ ФОРМЫ\n",
    "def find_code_form_org(soup: object) -> str:\n",
    "    try:\n",
    "        soup = soup.find(\"span\", string=\"Код организационно-правовой формы\")\n",
    "        code = soup.parent.find(\"span\", class_=\"section__info\")\n",
    "        code = code.get_text()\n",
    "        return remove_bad_symbols(code)\n",
    "    except AttributeError:\n",
    "        # логии\n",
    "        return None\n",
    "\n",
    "find_code_form_org(soup)"
   ]
  },
  {
   "cell_type": "code",
   "execution_count": 220,
   "id": "ea53fa9f",
   "metadata": {},
   "outputs": [
    {
     "data": {
      "text/plain": [
       "'49430663'"
      ]
     },
     "execution_count": 220,
     "metadata": {},
     "output_type": "execute_result"
    }
   ],
   "source": [
    "# КОД ПО ОКПО\n",
    "def find_okpo_code(soup: object) -> str:\n",
    "    try:\n",
    "        soup = soup.find(\"span\", string=\"Код ОКПО\")\n",
    "        code = soup.parent.find(\"span\", class_=\"section__info\")\n",
    "        code = code.get_text()\n",
    "        return remove_bad_symbols(code)\n",
    "    except AttributeError:\n",
    "        # логии\n",
    "        return None\n",
    "\n",
    "find_okpo_code(soup)"
   ]
  },
  {
   "cell_type": "code",
   "execution_count": 221,
   "id": "750ffa5e",
   "metadata": {},
   "outputs": [
    {
     "data": {
      "text/plain": [
       "'25701000 – город Иркутск'"
      ]
     },
     "execution_count": 221,
     "metadata": {},
     "output_type": "execute_result"
    }
   ],
   "source": [
    "# КОД ТЕРРИТОРИИ МУНИЦИПАЛЬНОГО ОБРАЗОВАНИЯ\n",
    "def find_municipal_code(soup: object) -> str:\n",
    "    try:\n",
    "        soup = soup.find(\"span\", string=\"Код территории муниципального образования\")\n",
    "        code = soup.parent.find(\"span\", class_=\"section__info\")\n",
    "        code = code.get_text()\n",
    "        return remove_bad_symbols(code)\n",
    "    except AttributeError:\n",
    "        # логии\n",
    "        return None\n",
    "\n",
    "find_municipal_code(soup)"
   ]
  },
  {
   "cell_type": "code",
   "execution_count": 222,
   "id": "97d1a973",
   "metadata": {},
   "outputs": [
    {
     "data": {
      "text/plain": [
       "'Федеральный бюджет'"
      ]
     },
     "execution_count": 222,
     "metadata": {},
     "output_type": "execute_result"
    }
   ],
   "source": [
    "def find_budget_name(soup: object) -> str:\n",
    "    try:\n",
    "        soup = soup.find(\"span\", string=\"Наименование бюджета\")\n",
    "        code = soup.parent.find(\"span\", class_=\"section__info\")\n",
    "        code = code.get_text()\n",
    "        return remove_bad_symbols(code)\n",
    "    except AttributeError:\n",
    "        # логии\n",
    "        return None\n",
    "\n",
    "find_budget_name(soup)"
   ]
  },
  {
   "cell_type": "code",
   "execution_count": 223,
   "id": "64b75262",
   "metadata": {},
   "outputs": [
    {
     "data": {
      "text/plain": [
       "'10-федеральный бюджет'"
      ]
     },
     "execution_count": 223,
     "metadata": {},
     "output_type": "execute_result"
    }
   ],
   "source": [
    "def find_budget_level(soup: object) -> str:\n",
    "    try:\n",
    "        soup = soup.find(\"span\", string=\"Уровень бюджета\")\n",
    "        code = soup.parent.find(\"span\", class_=\"section__info\")\n",
    "        code = code.get_text()\n",
    "        return remove_bad_symbols(code)\n",
    "    except AttributeError:\n",
    "        # логии\n",
    "        return None\n",
    "\n",
    "find_budget_level(soup)"
   ]
  },
  {
   "attachments": {},
   "cell_type": "markdown",
   "id": "b2fc18cd",
   "metadata": {},
   "source": [
    "## Общая информация"
   ]
  },
  {
   "cell_type": "code",
   "execution_count": 224,
   "id": "99d4e77a",
   "metadata": {},
   "outputs": [
    {
     "data": {
      "text/plain": [
       "'Исполнение'"
      ]
     },
     "execution_count": 224,
     "metadata": {},
     "output_type": "execute_result"
    }
   ],
   "source": [
    "# СТАТУС КОНТРАКТА\n",
    "def find_contract_status(soup: object) -> str:\n",
    "    try:\n",
    "        soup = soup.find(\"span\", string=\"Статус контракта\")\n",
    "        code = soup.parent.find(\"span\", class_=\"section__info\")\n",
    "        code = code.get_text()\n",
    "        return remove_bad_symbols(code)\n",
    "    except AttributeError:\n",
    "        # логии\n",
    "        return None\n",
    "\n",
    "find_contract_status(soup)"
   ]
  },
  {
   "cell_type": "code",
   "execution_count": 225,
   "id": "ca3d3db5",
   "metadata": {},
   "outputs": [],
   "source": [
    "# НОМЕР ИЗВЕЩЕНИЯ ОБ ОСУЩЕСТВЛЕНИИ ЗАКУПКИ\n",
    "def find_notice(soup: object) -> str:\n",
    "    try:\n",
    "        soup = soup.find(\"span\", string=\"Номер извещения об осуществлении закупки\")\n",
    "        code = soup.parent.find(\"span\", class_=\"section__info\")\n",
    "        code = code.get_text()\n",
    "        return remove_bad_symbols(code)\n",
    "    except AttributeError:\n",
    "        # логии\n",
    "        return None\n",
    "\n",
    "find_notice(soup)"
   ]
  },
  {
   "cell_type": "code",
   "execution_count": 226,
   "id": "80351198",
   "metadata": {},
   "outputs": [
    {
     "data": {
      "text/plain": [
       "'231380805025538080100101210037112414'"
      ]
     },
     "execution_count": 226,
     "metadata": {},
     "output_type": "execute_result"
    }
   ],
   "source": [
    "# ИДЕНТИФИКАЦИОННЫЙ КОД ЗАКУПКИ (ИКЗ)\n",
    "def find_ikz_code(soup: object) -> str:\n",
    "    try:\n",
    "        soup = soup.find(\"span\", string=\"Идентификационный код закупки (ИКЗ)\")\n",
    "        code = soup.parent.find(\"span\", class_=\"section__info\")\n",
    "        code = code.get_text()\n",
    "        return remove_bad_symbols(code)\n",
    "    except AttributeError:\n",
    "        # логии\n",
    "        return None\n",
    "\n",
    "find_ikz_code(soup)"
   ]
  },
  {
   "cell_type": "code",
   "execution_count": 227,
   "id": "623e1b5b",
   "metadata": {},
   "outputs": [],
   "source": [
    "# ИДЕНТИФИКАТОР КОНТРАКТА, ЗАКЛЮЧЕННОГО В ЭЛЕКТРОННОЙ ФОРМЕ\n",
    "def find_id_contract_electronic(soup: object) -> str:\n",
    "    try:\n",
    "        soup = soup.find(\n",
    "            \"span\", string=\"Идентификатор контракта, заключенного в электронной форме\"\n",
    "        )\n",
    "        code = soup.parent.find(\"span\", class_=\"section__info\")\n",
    "        code = code.get_text()\n",
    "        return remove_bad_symbols(code)\n",
    "    except AttributeError:\n",
    "        # логии\n",
    "        return None\n",
    "\n",
    "find_id_contract_electronic(soup)"
   ]
  },
  {
   "cell_type": "code",
   "execution_count": 228,
   "id": "73c3e0ae",
   "metadata": {},
   "outputs": [
    {
     "data": {
      "text/plain": [
       "'202301341000091001000254'"
      ]
     },
     "execution_count": 228,
     "metadata": {},
     "output_type": "execute_result"
    }
   ],
   "source": [
    "# УНИКАЛЬНЫЙ НОМЕР ПОЗИЦИИ ПЛАНА-ГРАФИКА\n",
    "def find_unique_number_plan(soup: object) -> str:\n",
    "    try:\n",
    "        soup = soup.find(\"span\", string=\"Уникальный номер позиции плана-графика\")\n",
    "        number = soup.parent.find(\"span\", class_=\"section__info\")\n",
    "        number = number.get_text()\n",
    "        return remove_bad_symbols(number)\n",
    "    except AttributeError:\n",
    "        # логии\n",
    "        return None\n",
    "\n",
    "find_unique_number_plan(soup)"
   ]
  },
  {
   "cell_type": "code",
   "execution_count": 229,
   "id": "b8df4779",
   "metadata": {},
   "outputs": [
    {
     "data": {
      "text/plain": [
       "'Закупка у единственного поставщика (подрядчика, исполнителя)'"
      ]
     },
     "execution_count": 229,
     "metadata": {},
     "output_type": "execute_result"
    }
   ],
   "source": [
    "# СПОСОБ ОПРЕДЕЛНИЯ ПОСТАВЩИКА (подрядчика, исполнителя)\n",
    "def find_method_determinig_supplier(soup: object) -> str:\n",
    "    try:\n",
    "        soup = soup.find(\"span\", string=\"Способ определения поставщика (подрядчика, исполнителя)\")\n",
    "        number = soup.parent.find(\"span\", class_=\"section__info\")\n",
    "        number = number.get_text()\n",
    "        return remove_bad_symbols(number)\n",
    "    except AttributeError:\n",
    "        # логии\n",
    "        return None\n",
    "\n",
    "find_method_determinig_supplier(soup)"
   ]
  },
  {
   "cell_type": "code",
   "execution_count": 230,
   "id": "63191ffb",
   "metadata": {},
   "outputs": [],
   "source": [
    "# ДАТА ПОДВЕДЕНИЯ РЕЗУЛЬТАТОВ ОПРЕДЕЛЕНИЯ ПОСТАВЩИКА (ПОДРЯДЧИКА, ИСПОЛНИТЕЛЯ)\n",
    "def find_date_summarizing(soup: object) -> str:\n",
    "    \n",
    "    try:\n",
    "        soup = soup.find(\n",
    "            \"span\",\n",
    "            string=\"Дата подведения результатов определения поставщика (подрядчика, исполнителя)\",\n",
    "        )\n",
    "        date = soup.parent.find(\"span\", class_=\"section__info\")\n",
    "        date = date.get_text()\n",
    "        return remove_bad_symbols(date)\n",
    "    except AttributeError:\n",
    "        # логии\n",
    "        return None\n",
    "\n",
    "find_date_summarizing(soup)"
   ]
  },
  {
   "cell_type": "code",
   "execution_count": 232,
   "id": "a7603946",
   "metadata": {},
   "outputs": [
    {
     "data": {
      "text/plain": [
       "'26.06.2023 08:51 (МСК+5)'"
      ]
     },
     "execution_count": 232,
     "metadata": {},
     "output_type": "execute_result"
    }
   ],
   "source": [
    "# ДАТА РАЗМЕЩЕНИЯ (ПО МЕСТНОМУ ВРЕМЕНИ)\n",
    "def find_date_posting(soup: object) -> str:\n",
    "    try:\n",
    "        soup = soup.find(\"span\", string=\"Дата размещения (по местному времени)\")\n",
    "        date = soup.parent.find(\"span\", class_=\"section__info\")\n",
    "        date = date.get_text()\n",
    "        return remove_bad_symbols(date)\n",
    "    except AttributeError:\n",
    "        # логии\n",
    "        return None\n",
    "\n",
    "find_date_posting(soup)"
   ]
  },
  {
   "cell_type": "code",
   "execution_count": 262,
   "id": "bcb67bf1",
   "metadata": {},
   "outputs": [
    {
     "name": "stdout",
     "output_type": "stream",
     "text": [
      "\n"
     ]
    },
    {
     "data": {
      "text/plain": [
       "'Закупка услуг по осуществлению авторского контроля за разработкой проектной документации объекта капитального строительства, проведению авторского надзора за строительством, реконструкцией, капитальным ремонтом объекта капитального строительства соответствующими авторами, на проведение технического и авторского надзора за выполнением работ по сохранению объекта культурного наследия (памятников истории и культуры) народов Российской Федерации авторами проектов'"
      ]
     },
     "execution_count": 262,
     "metadata": {},
     "output_type": "execute_result"
    }
   ],
   "source": [
    "# ОСНОВАНИЕ ЗАКЛЮЧЕНИЯ КОНТРАКТА С ЕДИНСТВЕННЫМ ПОСТАВЩИКОМ\n",
    "def find_grouds_single_supplier(soup: object) -> str:\n",
    "    try:\n",
    "        soup = soup.find(\n",
    "            \"span\", string=\"Основание заключения контракта с единственным поставщиком\"\n",
    "        )\n",
    "        print()\n",
    "        grouds = soup.parent.find(\"span\", class_=\"section__info\")\n",
    "        grouds = grouds.get_text()\n",
    "        return remove_bad_symbols(grouds)\n",
    "    except AttributeError:\n",
    "        # логии\n",
    "        return None\n",
    "\n",
    "find_grouds_single_supplier(soup)"
   ]
  },
  {
   "cell_type": "code",
   "execution_count": 234,
   "id": "6e9cb6fe",
   "metadata": {},
   "outputs": [],
   "source": [
    "# РЕКВИЗИТЫ ДОКУМЕНТА, ПОДТВЕРЖДАЮЩЕГО ЗАКЛЮЧЕНИЯ КОНТРАКТА\n",
    "def find_document_details(soup: object) -> str:\n",
    "    try:\n",
    "        soup = soup.find(\n",
    "            \"span\", string=\"Реквизиты документа, подтверждающего основание заключения контракта\"\n",
    "        )\n",
    "        date = soup.parent.find(\"span\", class_=\"section__info\")\n",
    "        date = date.get_text()\n",
    "        return remove_bad_symbols(date)\n",
    "    except AttributeError:\n",
    "        # логии\n",
    "        return None\n",
    "\n",
    "find_document_details(soup)"
   ]
  },
  {
   "cell_type": "code",
   "execution_count": 235,
   "id": "672c5269",
   "metadata": {},
   "outputs": [
    {
     "data": {
      "text/plain": [
       "'Банковское или казначейское сопровождение контракта не требуется'"
      ]
     },
     "execution_count": 235,
     "metadata": {},
     "output_type": "execute_result"
    }
   ],
   "source": [
    "# ИНФОРМАЦИЯ О БАНКОВСКОМ и (или) КАЗНАЧЕЙСКОМ СОПРОВОЖДЕНИИ КОНТРАКТА\n",
    "def info_support(soup: object) -> str:\n",
    "    try:\n",
    "        soup = soup.find(\n",
    "            \"span\", string=\"Информация о банковском и (или) казначейском сопровождении контракта\"\n",
    "        )\n",
    "        date = soup.parent.find(\"span\", class_=\"section__info\")\n",
    "        date = date.get_text()\n",
    "        return remove_bad_symbols(date)\n",
    "    except AttributeError:\n",
    "        # логии\n",
    "        return None\n",
    "\n",
    "info_support(soup)"
   ]
  },
  {
   "attachments": {},
   "cell_type": "markdown",
   "id": "6841bc37",
   "metadata": {},
   "source": [
    "## Общие данные"
   ]
  },
  {
   "cell_type": "code",
   "execution_count": 236,
   "id": "4306d6af",
   "metadata": {},
   "outputs": [
    {
     "data": {
      "text/plain": [
       "'23.06.2023'"
      ]
     },
     "execution_count": 236,
     "metadata": {},
     "output_type": "execute_result"
    }
   ],
   "source": [
    "# ЗАКЛЮЧЕНИЕ КОНТРАКТА\n",
    "def find_date_contract(soup: object) -> str:\n",
    "    try:\n",
    "        soup = soup.find(\"span\", string=\"Заключение контракта\")\n",
    "        number = soup.parent.find(\"span\", class_=\"cardMainInfo__content\")\n",
    "        number = number.get_text()\n",
    "        return remove_bad_symbols(number)\n",
    "    except AttributeError:\n",
    "        # логии\n",
    "        return None\n",
    "\n",
    "find_date_contract(soup)"
   ]
  },
  {
   "cell_type": "code",
   "execution_count": 237,
   "id": "dfc00138",
   "metadata": {},
   "outputs": [
    {
     "data": {
      "text/plain": [
       "'31.12.2024'"
      ]
     },
     "execution_count": 237,
     "metadata": {},
     "output_type": "execute_result"
    }
   ],
   "source": [
    "# СРОК ИСПОЛНЕНИЯ\n",
    "def find_date_performance(soup: object) -> str:\n",
    "    try:\n",
    "        soup = soup.find(\"span\", string=\"Срок исполнения\")\n",
    "        number = soup.parent.find(\"span\", class_=\"cardMainInfo__content\")\n",
    "        number = number.get_text()\n",
    "        return remove_bad_symbols(number)\n",
    "    except AttributeError:\n",
    "        # логии\n",
    "        return None\n",
    "\n",
    "find_date_performance(soup)"
   ]
  },
  {
   "cell_type": "code",
   "execution_count": 238,
   "id": "985b1657",
   "metadata": {},
   "outputs": [
    {
     "data": {
      "text/plain": [
       "'26.06.2023'"
      ]
     },
     "execution_count": 238,
     "metadata": {},
     "output_type": "execute_result"
    }
   ],
   "source": [
    "# ДАТА РАЗМЕЩЕНИЕ КОНТРАКТА В РЕЕСТРЕ КОНТРАКТОВ\n",
    "def find_date_contract_registry(soup: object) -> str:\n",
    "    try:\n",
    "        soup = soup.find(\"span\", string=\"Размещен контракт в реестре контрактов\")\n",
    "        number = soup.parent.find(\"span\", class_=\"cardMainInfo__content\")\n",
    "        number = number.get_text()\n",
    "        return remove_bad_symbols(number)\n",
    "    except AttributeError:\n",
    "        # логии\n",
    "        return None\n",
    "\n",
    "find_date_contract_registry(soup)"
   ]
  },
  {
   "cell_type": "code",
   "execution_count": 239,
   "id": "d8d7930d",
   "metadata": {},
   "outputs": [
    {
     "data": {
      "text/plain": [
       "'26.06.2023'"
      ]
     },
     "execution_count": 239,
     "metadata": {},
     "output_type": "execute_result"
    }
   ],
   "source": [
    "# ДАТА ОБНОВЛЕНИЯ КОНТРАКТА В РЕЕСТРЕ КОНТРАКТОВ\n",
    "def find_date_update_registry(soup: object) -> str:\n",
    "    try:\n",
    "        soup = soup.find(\"span\", string=\"Обновлен контракт в реестре контрактов\")\n",
    "        number = soup.parent.find(\"span\", class_=\"cardMainInfo__content\")\n",
    "        number = number.get_text()\n",
    "        return remove_bad_symbols(number)\n",
    "    except AttributeError:\n",
    "        # логии\n",
    "        return None\n",
    "\n",
    "find_date_contract_registry(soup)"
   ]
  },
  {
   "cell_type": "code",
   "execution_count": 240,
   "id": "6202b014",
   "metadata": {},
   "outputs": [
    {
     "data": {
      "text/plain": [
       "'23.06.2023'"
      ]
     },
     "execution_count": 240,
     "metadata": {},
     "output_type": "execute_result"
    }
   ],
   "source": [
    "# ДАТА НАЧАЛА ИСПОЛНЕНИЯ КОНТРАКТА\n",
    "def find_date_start_performance(soup: object) -> str:\n",
    "    try:\n",
    "        soup = soup.find(\"span\", string=\"Дата начала исполнения контракта\")\n",
    "        date = soup.parent.find(\"span\", class_=\"section__info\")\n",
    "        date = date.get_text()\n",
    "        return remove_bad_symbols(date)\n",
    "    except AttributeError:\n",
    "        # логии\n",
    "        return None\n",
    "\n",
    "find_date_start_performance(soup)"
   ]
  },
  {
   "cell_type": "code",
   "execution_count": 241,
   "id": "2f4899c6",
   "metadata": {},
   "outputs": [
    {
     "data": {
      "text/plain": [
       "'31.12.2024'"
      ]
     },
     "execution_count": 241,
     "metadata": {},
     "output_type": "execute_result"
    }
   ],
   "source": [
    "# ДАТА ОКОНЧАНИЯ ИСПОЛНЕНИЯ КОНТРАКТА\n",
    "def find_date_end_performance(soup: object) -> str:\n",
    "    try:\n",
    "        soup = soup.find(\"span\", string=\"Дата окончания исполнения контракта\")\n",
    "        date = soup.parent.find(\"span\", class_=\"section__info\")\n",
    "        date = date.get_text()\n",
    "        return remove_bad_symbols(date)\n",
    "    except AttributeError:\n",
    "        # логии\n",
    "        return None\n",
    "\n",
    "find_date_end_performance(soup)"
   ]
  },
  {
   "cell_type": "code",
   "execution_count": 242,
   "id": "d404c648",
   "metadata": {},
   "outputs": [
    {
     "data": {
      "text/plain": [
       "'Услуги по авторскому надзору за строительством объекта капитального строительства «Строительство здания для размещения Нижнеудинского городского суда Иркутской области» по адресу: Иркутская область, г. Нижнеудинск, ул. Профсоюзная, уч. 140»'"
      ]
     },
     "execution_count": 242,
     "metadata": {},
     "output_type": "execute_result"
    }
   ],
   "source": [
    "# ПРЕДМЕТ КОНТРАКТА\n",
    "def find_contract_item(soup: object) -> str:\n",
    "    try:\n",
    "        soup = soup.find(\"span\", string=\"Предмет контракта\")\n",
    "        item = soup.parent.find(\"span\", class_=\"section__info\")\n",
    "        item = item.get_text()\n",
    "        return remove_bad_symbols(item)\n",
    "    except AttributeError:\n",
    "        # логии\n",
    "        return None\n",
    "\n",
    "find_contract_item(soup)"
   ]
  },
  {
   "cell_type": "code",
   "execution_count": 243,
   "id": "0533077a",
   "metadata": {},
   "outputs": [
    {
     "data": {
      "text/plain": [
       "'1286725.79'"
      ]
     },
     "execution_count": 243,
     "metadata": {},
     "output_type": "execute_result"
    }
   ],
   "source": [
    "# ЦЕНА КОНТРАКТА\n",
    "def find_contract_price(soup: object) -> str:\n",
    "    try:\n",
    "        soup_firts = soup.find(\"span\", string=\"Цена контракта\")\n",
    "        price = soup_firts.parent.find(\"span\", class_=\"cardMainInfo__content cost\")\n",
    "        price = remove_bad_symbols(price.get_text())\n",
    "        price = \"\".join([i for i in price if i.isdigit() or i in [\",\", \".\"]]).replace(\",\", \".\")\n",
    "        if price != \"\":\n",
    "            return price\n",
    "    except AttributeError:\n",
    "        # логии\n",
    "        pass\n",
    "\n",
    "    try:\n",
    "        soup = soup.find(\"div\", class_=\"price\")\n",
    "        price = soup.parent.find(\"span\", class_=\"cardMainInfo__content cost\")\n",
    "        price = remove_bad_symbols(price.get_text())\n",
    "        price = \"\".join([i for i in price if i.isdigit() or i in [\",\", \".\"]]).replace(\",\", \".\")\n",
    "        if price != \"\":\n",
    "            return price\n",
    "    except AttributeError:\n",
    "        # логии\n",
    "        return None\n",
    "\n",
    "find_contract_price(soup)"
   ]
  },
  {
   "cell_type": "code",
   "execution_count": 244,
   "id": "d43ae691",
   "metadata": {},
   "outputs": [
    {
     "data": {
      "text/plain": [
       "'1286725.79'"
      ]
     },
     "execution_count": 244,
     "metadata": {},
     "output_type": "execute_result"
    }
   ],
   "source": [
    "# В ТОМ ЧИСЛЕ С НДС\n",
    "def find_contract_price_nds(soup: object) -> str:\n",
    "    try:\n",
    "        soup_firts = soup.find(\"span\", string=\"В том числе НДС\")\n",
    "        price = soup_firts.parent.find(\"span\", class_=\"section__info\")\n",
    "        price = remove_bad_symbols(price.get_text())\n",
    "        price = \"\".join([i for i in price if i.isdigit() or i in [\",\", \".\"]]).replace(\",\", \".\")\n",
    "        if price != \"\":\n",
    "            return price\n",
    "    except AttributeError:\n",
    "        # логии\n",
    "        return None\n",
    "\n",
    "find_contract_price(soup)"
   ]
  },
  {
   "cell_type": "code",
   "execution_count": 245,
   "id": "30225384",
   "metadata": {},
   "outputs": [],
   "source": [
    "# РАЗМЕР АНВАНСА\n",
    "def find_prepayment_amount(soup: object) -> str:\n",
    "    try:\n",
    "        soup = soup.find(\"span\", string=\"Размер аванса\")\n",
    "        prepayment = soup.parent.find(\"span\", class_=\"section__info\")\n",
    "        prepayment = remove_bad_symbols(prepayment.get_text())\n",
    "        return prepayment\n",
    "    except AttributeError:\n",
    "        # логги\n",
    "        return None\n",
    "\n",
    "find_prepayment_amount(soup)"
   ]
  },
  {
   "cell_type": "code",
   "execution_count": 246,
   "id": "2d49a53e",
   "metadata": {},
   "outputs": [],
   "source": [
    "# РАЗМЕР ОБЕСПЕЧЕНИЯ ИСПОЛНЕНИЯ КОНТРАКТА\n",
    "def find_performance_security(soup: object) -> str:\n",
    "    try:\n",
    "        soup = soup.find(\"span\", string=\"Размер обеспечения исполнения контракта, ₽\")\n",
    "        security_sum = soup.parent.find(\"span\", class_=\"section__info\")\n",
    "        security_sum = remove_bad_symbols(security_sum.get_text())\n",
    "        security_sum = \"\".join(\n",
    "            [i for i in security_sum if i.isdigit() or i in [\",\", \".\"]]\n",
    "        ).replace(\",\", \".\")\n",
    "        if security_sum != \"\":\n",
    "            return security_sum\n",
    "    except AttributeError:\n",
    "        # логии\n",
    "        return None\n",
    "\n",
    "find_performance_security(soup)"
   ]
  },
  {
   "cell_type": "code",
   "execution_count": 247,
   "id": "d6d0ee43",
   "metadata": {},
   "outputs": [],
   "source": [
    "# РАЗМЕР ОБЕСПЕЧЕНИЯ ИСПОЛНЕНИЯ ОБЯЗАТЕЛЬСТВ ПО ПРЕДОСТАВЛЕННОЙ ГАРАНТИИ КАЧЕСТВА ТОВАРОВ, РАБОТ, УСЛУГ\n",
    "def find_size_performance_quality(soup: object) -> str:\n",
    "    try:\n",
    "        soup = soup.find(\n",
    "            \"span\",\n",
    "            string=\"Размер обеспечения исполнения обязательств по предоставленной гарантии качества товаров, работ, услуг\",\n",
    "        )\n",
    "        security_sum = soup.parent.find(\"span\", class_=\"section__info\")\n",
    "        security_sum = remove_bad_symbols(security_sum.get_text())\n",
    "        security_sum = \"\".join(\n",
    "            [i for i in security_sum if i.isdigit() or i in [\",\", \".\"]]\n",
    "        ).replace(\",\", \".\")\n",
    "        if security_sum != \"\":\n",
    "            return security_sum\n",
    "    except AttributeError:\n",
    "        # логии\n",
    "        return None\n",
    "\n",
    "find_size_performance_quality(soup)"
   ]
  },
  {
   "cell_type": "code",
   "execution_count": 248,
   "id": "f2c2be22",
   "metadata": {},
   "outputs": [],
   "source": [
    "# СРОК НА КОТОРЫЙ ПРЕДОСТАВЛЯЕТСЯ ГАРАНТИЯ\n",
    "def find_warranty_period(soup: object) -> str:\n",
    "    try:\n",
    "        soup_new = soup.find(\"h2\", string=\"Срок, на который предоставляется гарантия\")\n",
    "        if soup_new is None:\n",
    "            soup_new = soup.find(\"span\", string=\"Срок, на который предоставляется гарантия\")\n",
    "        date = soup_new.parent.find(\"span\", class_=\"section__info\")\n",
    "        date = date.get_text()\n",
    "        return remove_bad_symbols(date)\n",
    "    except AttributeError:\n",
    "        return None\n",
    "\n",
    "find_warranty_period(soup)"
   ]
  },
  {
   "cell_type": "code",
   "execution_count": 249,
   "id": "44504119",
   "metadata": {},
   "outputs": [
    {
     "data": {
      "text/plain": [
       "'Российская Федерация, Иркутская обл, Нижнеудинск г, ул. Профсоюзная, уч. 140 (Нижнеудинский городской суд Иркутской области)'"
      ]
     },
     "execution_count": 249,
     "metadata": {},
     "output_type": "execute_result"
    }
   ],
   "source": [
    "# ИНФОРМАЦИЯ О МЕСТЕ ПОСТАВКИ ТОВАРА, ВЫПОЛНЕНИИ РАБОТЫ ИЛИ ОКАЗАНИИ УСЛУГИ\n",
    "def find_place_performance(soup: object) -> str:\n",
    "    try:\n",
    "        place = soup.find(\n",
    "            \"h2\",\n",
    "            string=\"Информация о месте поставки товара, выполнения работы или оказания услуги\",\n",
    "            class_=\"blockInfo__title_sub\",\n",
    "        ).parent.find(\"span\", class_=\"section__info\")\n",
    "        place = remove_bad_symbols(place.get_text())\n",
    "        return place\n",
    "    except AttributeError:\n",
    "        # логии\n",
    "        return None\n",
    "\n",
    "find_place_performance(soup)"
   ]
  },
  {
   "attachments": {},
   "cell_type": "markdown",
   "id": "ffcbcfa6",
   "metadata": {},
   "source": [
    "## Информация о поставщиках"
   ]
  },
  {
   "cell_type": "code",
   "execution_count": 250,
   "id": "2619252b",
   "metadata": {},
   "outputs": [],
   "source": [
    "# ИМЯ ПОСТАВЩИКА\n",
    "def find_full_name_supplier(soup: object) -> str:\n",
    "    try:\n",
    "        name = soup.next.get_text()\n",
    "        return remove_bad_symbols(name)\n",
    "    except AttributeError:\n",
    "        # логии\n",
    "        return None"
   ]
  },
  {
   "cell_type": "code",
   "execution_count": 251,
   "id": "59637e75",
   "metadata": {},
   "outputs": [],
   "source": [
    "# КОД ПО ОКПО\n",
    "def find_code_okpo_supplier(soup: object) -> str:\n",
    "    try:\n",
    "        soup = soup.find(\"span\", string=\"Код по ОКПО:\")\n",
    "        code = soup.next.next.next\n",
    "        code = code.get_text()\n",
    "        return remove_bad_symbols(code)\n",
    "    except AttributeError:\n",
    "        # логии\n",
    "        return None"
   ]
  },
  {
   "cell_type": "code",
   "execution_count": 252,
   "id": "9349c922",
   "metadata": {},
   "outputs": [],
   "source": [
    "# ИНН ПОСТАВЩИКА\n",
    "def find_inn_supplier(soup: object) -> str:\n",
    "    try:\n",
    "        inn = soup.parent.find(\"span\", string=\"ИНН:\").next.next.next\n",
    "        inn = inn.get_text()\n",
    "        return remove_bad_symbols(inn)\n",
    "    except AttributeError:\n",
    "        # логии\n",
    "        return None"
   ]
  },
  {
   "cell_type": "code",
   "execution_count": 253,
   "id": "8c578181",
   "metadata": {},
   "outputs": [],
   "source": [
    "# КПП ПОСТАВЩИКА\n",
    "def find_kpp_supplier(soup: object) -> str:\n",
    "    try:\n",
    "        kpp = soup.parent.find(\"span\", string=\"КПП:\").next.next.next\n",
    "        kpp = kpp.get_text()\n",
    "        return remove_bad_symbols(kpp)\n",
    "    except AttributeError:\n",
    "        # логии\n",
    "        return None"
   ]
  },
  {
   "cell_type": "code",
   "execution_count": 254,
   "id": "d343f84b",
   "metadata": {},
   "outputs": [],
   "source": [
    "# ДАТА ПОСТАНОВКИ НА УЧЕТ\n",
    "def find_date_registration_supplier(soup: object) -> str:\n",
    "    try:\n",
    "        date = soup.parent.find(\"span\", string=\"Дата постановки на учет:\").next.next.next\n",
    "        date = date.get_text()\n",
    "        return remove_bad_symbols(date)\n",
    "    except AttributeError:\n",
    "        # логии\n",
    "        return None"
   ]
  },
  {
   "cell_type": "code",
   "execution_count": 255,
   "id": "9b5e6821",
   "metadata": {},
   "outputs": [],
   "source": [
    "# СТРАНА И КОД\n",
    "def find_country_code_supplier(soup: object) -> tuple[str, str]:\n",
    "    try:\n",
    "        country_code = soup.get_text()\n",
    "        country_code = remove_bad_symbols(country_code)\n",
    "\n",
    "        contry_list = []\n",
    "        code_list = []\n",
    "        for i in country_code.split():\n",
    "            if i.isdigit():\n",
    "                code_list.append(i)\n",
    "            else:\n",
    "                contry_list.append(i)\n",
    "\n",
    "        return \" \".join(contry_list), \"\".join(code_list)\n",
    "    except AttributeError:\n",
    "        # логии\n",
    "        return (None, None)"
   ]
  },
  {
   "cell_type": "code",
   "execution_count": 256,
   "id": "51e53c91",
   "metadata": {},
   "outputs": [],
   "source": [
    "# АДРЕС МЕСТА НАХОЖДЕНИЯ\n",
    "def find_adress_supplier(soup: object) -> str:\n",
    "    try:\n",
    "        adress = soup.get_text()\n",
    "        adress = remove_bad_symbols(adress)\n",
    "\n",
    "        return adress\n",
    "    except AttributeError:\n",
    "        # логии\n",
    "        return None"
   ]
  },
  {
   "cell_type": "code",
   "execution_count": 257,
   "id": "5f4497a3",
   "metadata": {},
   "outputs": [],
   "source": [
    "# ПОЧТОВЫЙ АДРЕСС\n",
    "def find_postal_adress_supplier(soup: object) -> str:\n",
    "    try:\n",
    "        adress = soup.get_text()\n",
    "        adress = remove_bad_symbols(adress)\n",
    "\n",
    "        return adress\n",
    "    except AttributeError:\n",
    "        # логии\n",
    "        return None"
   ]
  },
  {
   "cell_type": "code",
   "execution_count": 258,
   "id": "21a522a9",
   "metadata": {},
   "outputs": [],
   "source": [
    "# ТЕЛЕФОН, ЭЛЕКТРОННАЯ ПОЧТА\n",
    "def find_contact_supplier(soup: object) -> str:\n",
    "    try:\n",
    "        contact = soup.get_text()\n",
    "        contact = remove_bad_symbols(contact)\n",
    "\n",
    "        return contact\n",
    "    except AttributeError:\n",
    "        # логии\n",
    "        return None"
   ]
  },
  {
   "cell_type": "code",
   "execution_count": 259,
   "id": "59f95570",
   "metadata": {},
   "outputs": [],
   "source": [
    "# СТАТУС\n",
    "def find_status_supplier(soup: object) -> str:\n",
    "    try:\n",
    "        status = soup.get_text()\n",
    "        status = remove_bad_symbols(status)\n",
    "\n",
    "        return status\n",
    "    except AttributeError:\n",
    "        # логии\n",
    "        return None"
   ]
  },
  {
   "cell_type": "code",
   "execution_count": 260,
   "id": "3d6d7f1f",
   "metadata": {},
   "outputs": [],
   "source": [
    "def read_table_supplier(soup) -> tuple[list, list]:\n",
    "    table_names = soup.find(\n",
    "        \"h2\", class_=\"blockInfo__title\", string=\"Информация о поставщиках\"\n",
    "    ).parent.find(\"tr\", class_=\"tableBlock__row\")\n",
    "\n",
    "    table_values = soup.find(\n",
    "        \"h2\", class_=\"blockInfo__title\", string=\"Информация о поставщиках\"\n",
    "    ).parent.find_all(\"td\", class_=\"tableBlock__col\")\n",
    "\n",
    "    if table_names is None or table_values is None:\n",
    "        \"логги\"\n",
    "        return None, None\n",
    "\n",
    "    list_table_values = [element for element in table_values if type(element) is bs4.element.Tag]\n",
    "    string = remove_bad_symbols(table_names.get_text())\n",
    "    names_columns = []\n",
    "    i_start = 0\n",
    "    i_status = False\n",
    "    for i in range(len(string)):\n",
    "        if string[i].isupper() and not i_status:\n",
    "            i_status = True\n",
    "            i_start = i\n",
    "        elif string[i].isupper() and i_status == True:\n",
    "            names_columns.append(string[i_start:i])\n",
    "            i_start = i\n",
    "        elif i == len(string) - 1:\n",
    "            names_columns.append(string[i_start : i + 1])\n",
    "    return names_columns, list_table_values"
   ]
  },
  {
   "cell_type": "code",
   "execution_count": 261,
   "id": "5a01081b",
   "metadata": {},
   "outputs": [
    {
     "name": "stdout",
     "output_type": "stream",
     "text": [
      "full_name_supplier АКЦИОНЕРНОЕ ОБЩЕСТВО \"ВОСТСИБПРОЕКТ\" (АКЦИОНЕРНОЕ ОБЩЕСТВО \"ВОСТСИБПРОЕКТ\")\n",
      "inn_supplier 3808102030\n",
      "kpp_supplier 381101001\n",
      "code_okpo_supplier None\n",
      "date_registration_supplier None\n",
      "country Российская Федерация\n",
      "code 643\n",
      "adress_supplier 664075, Иркутская область, г.о. ГОРОД ИРКУТСК, Г ИРКУТСК, УЛ БАЙКАЛЬСКАЯ, Д. 202, ОФИС 503, 505\n",
      "postal_adress_supplier 664075, Иркутская область, г.о. ГОРОД ИРКУТСК, Г ИРКУТСК, УЛ БАЙКАЛЬСКАЯ, Д. 202, ОФИС 503, 505 ; - ; -\n",
      "contact 7-3952-550075 vi@vostsibstroy.ru\n"
     ]
    }
   ],
   "source": [
    "def parsing_supplier(soup):\n",
    "    \"\"\"\n",
    "    Парсинг данных поставщиков\n",
    "    \"\"\"\n",
    "    names_columns, list_table_values = read_table_supplier(soup)\n",
    "\n",
    "    if names_columns is None or list_table_values is None:\n",
    "        return None\n",
    "\n",
    "    for i_step, name_columns in enumerate(names_columns):\n",
    "        if \"Организация\" in name_columns:\n",
    "            full_name_supplier = find_full_name_supplier(list_table_values[i_step])\n",
    "            inn_supplier = find_inn_supplier(list_table_values[i_step])\n",
    "            kpp_supplier = find_kpp_supplier(list_table_values[i_step])\n",
    "            code_okpo_supplier = find_code_okpo_supplier(list_table_values[i_step])\n",
    "            date_registration_supplier = find_date_registration_supplier(\n",
    "                list_table_values[i_step]\n",
    "            )\n",
    "\n",
    "            print(\"full_name_supplier\", full_name_supplier)\n",
    "            print(\"inn_supplier\", inn_supplier)\n",
    "            print(\"kpp_supplier\", kpp_supplier)\n",
    "            print(\"code_okpo_supplier\", code_okpo_supplier)\n",
    "\n",
    "            print(\"date_registration_supplier\", date_registration_supplier)\n",
    "            continue\n",
    "\n",
    "        if \"Страна, код\" in name_columns:\n",
    "            country, code = find_country_code_supplier(list_table_values[i_step])\n",
    "            print(\"country\", country)\n",
    "            print(\"code\", code)\n",
    "            continue\n",
    "\n",
    "        if \"Адрес места нахождения\" in name_columns:\n",
    "            adress_supplier = find_adress_supplier(list_table_values[i_step])\n",
    "            print(\"adress_supplier\", adress_supplier)\n",
    "            continue\n",
    "\n",
    "        if \"Почтовый адрес\" in name_columns:\n",
    "            postal_adress_supplier = find_postal_adress_supplier(list_table_values[i_step])\n",
    "            print(\"postal_adress_supplier\", postal_adress_supplier)\n",
    "            continue\n",
    "\n",
    "        if \"Телефон, электронная почта\" in name_columns:\n",
    "            contact = find_contact_supplier(list_table_values[i_step])\n",
    "            print(\"contact\", contact)\n",
    "            continue\n",
    "\n",
    "        if \"Статус\" in name_columns:\n",
    "            status_supplier = find_status_supplier(list_table_values[i_step])\n",
    "            print(\"status_supplier\", status_supplier)\n",
    "            continue\n",
    "\n",
    "parsing_supplier(soup)"
   ]
  },
  {
   "attachments": {},
   "cell_type": "markdown",
   "id": "d4b6052b",
   "metadata": {},
   "source": [
    "## Платежи и объекты закупки "
   ]
  },
  {
   "cell_type": "code",
   "execution_count": 166,
   "id": "b4fe5c5a",
   "metadata": {},
   "outputs": [],
   "source": [
    "number_contract = \"166610555072200001\"\n",
    "url_info = (f'{url_payment}{number_contract}')\n",
    "res = requests.get(url_info, headers={\"User-Agent\": UserAgent().random})\n",
    "soup = BeautifulSoup(res.text, \"lxml\")"
   ]
  },
  {
   "cell_type": "code",
   "execution_count": 167,
   "id": "891685f7",
   "metadata": {},
   "outputs": [
    {
     "data": {
      "text/plain": [
       "<html><body><p>ï»¿\n",
       "</p>\n",
       "<meta charset=\"utf-8\" content=\"no-cache\" http-equiv=\"Pragma\"/>\n",
       "<title> Ð¡ÑÑÐ°Ð½Ð¸ÑÐ° Ð½Ðµ Ð½Ð°Ð¹Ð´ÐµÐ½Ð° </title>\n",
       "<style type=\"text/css\">\n",
       "        body {\n",
       "            background-color: #D5D5D5;\n",
       "        }\n",
       "\n",
       "        td {\n",
       "            color: #666666;\n",
       "            font-family: Arial, Helvetica, sans-serif;\n",
       "            font-size: 11px;\n",
       "        }\n",
       "\n",
       "        button {\n",
       "            border: 1px solid #D9D9D9;\n",
       "            font-family: tahoma;\n",
       "            font-size: 11px;\n",
       "            font-size-adjust: none;\n",
       "            font-stretch: normal;\n",
       "            font-style: normal;\n",
       "            font-variant: normal;\n",
       "            font-weight: normal;\n",
       "            line-height: normal;\n",
       "            margin: 0;\n",
       "            padding: 3px;\n",
       "        }\n",
       "    </style>\n",
       "<table cellpadding=\"0\" cellspacing=\"0\" height=\"100%\" width=\"100%\">\n",
       "<tr>\n",
       "<td align=\"center\" valign=\"middle\" width=\"100%\">\n",
       "<table border=\"0\" cellpadding=\"0\" cellspacing=\"0\" style=\"background-color:white;\">\n",
       "<tr>\n",
       "<td>\n",
       "<img alt=\"\" src=\"/header_left.gif\" style=\"padding:0;margin:0;border:0\"/>\n",
       "</td>\n",
       "</tr>\n",
       "<tr><td style=\"padding:20px;\">\n",
       "<table style=\"border:0;\" width=\"100%\">\n",
       "<tr>\n",
       "<td align=\"center\" style=\"font-weight:bold;font-size:11px;\" width=\"100%\">\n",
       "                                ÐÐ°Ð¿ÑÐ°ÑÐ¸Ð²Ð°ÐµÐ¼Ð°Ñ ÑÑÑÐ°Ð½Ð¸ÑÐ° Ð½Ðµ ÑÑÑÐµÑÑÐ²ÑÐµÑ.\n",
       "                            </td>\n",
       "</tr>\n",
       "<tr>\n",
       "<td align=\"center\" width=\"100%\">\n",
       "<button onclick=\"location.href='http://zakupki.gov.ru/';\">ÐÐµÑÐµÐ¹ÑÐ¸ Ð½Ð° Ð³Ð»Ð°Ð²Ð½ÑÑ ÑÑÑÐ°Ð½Ð¸ÑÑ</button>\n",
       "</td>\n",
       "</tr>\n",
       "</table>\n",
       "</td></tr>\n",
       "</table>\n",
       "</td>\n",
       "</tr>\n",
       "</table>\n",
       "</body></html>"
      ]
     },
     "execution_count": 167,
     "metadata": {},
     "output_type": "execute_result"
    }
   ],
   "source": [
    "soup"
   ]
  },
  {
   "cell_type": "code",
   "execution_count": 64,
   "id": "069be6f4",
   "metadata": {},
   "outputs": [
    {
     "data": {
      "text/plain": [
       "'43801059090090020242'"
      ]
     },
     "execution_count": 64,
     "metadata": {},
     "output_type": "execute_result"
    }
   ],
   "source": [
    "# КБК\n",
    "def find_status_supplier(soup: object) -> str:\n",
    "    try:\n",
    "        status = soup.find(\"td\", class_=\"tableBlock__col\")\n",
    "        status = remove_bad_symbols(status.get_text())\n",
    "\n",
    "        return status.replace(\" \", \"\")\n",
    "    except AttributeError:\n",
    "        # логии\n",
    "        return None\n",
    "find_status_supplier(soup)"
   ]
  },
  {
   "cell_type": "code",
   "execution_count": 78,
   "id": "40224852",
   "metadata": {},
   "outputs": [],
   "source": [
    "number_contract = \"1666105550722000041\"\n",
    "url_info = (f'{url_payment}{number_contract}')\n",
    "res = requests.get(url_info, headers={\"User-Agent\": UserAgent().random})\n",
    "soup = BeautifulSoup(res.text, \"lxml\")"
   ]
  },
  {
   "cell_type": "code",
   "execution_count": 164,
   "id": "19ef45b6",
   "metadata": {},
   "outputs": [],
   "source": [
    "def get_page(url: str) -> BeautifulSoup:\n",
    "    \"\"\"\n",
    "    Метод считывает заданную страницу,\n",
    "    а потом преобразует в lxml\n",
    "    \"\"\"\n",
    "    for num_attempt in range(10):\n",
    "        res = requests.get(\n",
    "            url,\n",
    "            headers={\"User-Agent\": UserAgent().random}\n",
    "        )\n",
    "        if res is not None and res.ok:\n",
    "            return BeautifulSoup(res.text, \"lxml\")\n",
    "\n",
    "number_contract = \"1666105550722000041\"  \n",
    "soup3 = get_page(f'{url_payment}{number_contract}#page-3')"
   ]
  },
  {
   "cell_type": "code",
   "execution_count": 148,
   "id": "7809f52c",
   "metadata": {},
   "outputs": [
    {
     "data": {
      "text/plain": [
       "['Наименование объекта закупки и его характеристики',\n",
       " 'Позиции по КТРУ, ОКПД2',\n",
       " 'Тип объекта закупки',\n",
       " 'Количество товара, объем работы, услуги,Единица измерения',\n",
       " 'Цена за единицу измерения, ₽',\n",
       " 'Сумма, ₽']"
      ]
     },
     "execution_count": 148,
     "metadata": {},
     "output_type": "execute_result"
    }
   ],
   "source": [
    "def read_table_budget(soup:BeautifulSoup) -> list:\n",
    "    soup = soup.find(\"table\", id='contract_subjects')\n",
    "    soup_table = soup.find_all(\"th\", class_='tableBlock__col tableBlock__col_header')\n",
    "    soup_table += soup.find_all(\"th\", class_='tableBlock__col tableBlock__col_right tableBlock__col_header')\n",
    "\n",
    "    list_result = []\n",
    "    for col_name in soup_table:\n",
    "        col_name = remove_bad_symbols(col_name.get_text())\n",
    "        if col_name != '':\n",
    "            list_result.append(col_name)\n",
    "\n",
    "    return list_result\n",
    "\n",
    "read_table_budget(soup)"
   ]
  },
  {
   "cell_type": "code",
   "execution_count": 150,
   "id": "d23af7f9",
   "metadata": {},
   "outputs": [
    {
     "name": "stdout",
     "output_type": "stream",
     "text": [
      "['Наименование объекта закупки и его характеристики', 'Позиции по КТРУ, ОКПД2', 'Тип объекта закупки', 'Количество товара, объем работы, услуги,Единица измерения', 'Цена за единицу измерения, ₽', 'Сумма, ₽']\n"
     ]
    }
   ],
   "source": [
    "def write_info_object(number_contract:str):\n",
    "    url_payment = \"https://zakupki.gov.ru/epz/contract/contractCard/payment-info-and-target-of-order.html?reestrNumber=\"\n",
    "    soup = get_page(f'{url_payment}{number_contract}')\n",
    "    table_columns = read_table_budget(soup)\n",
    "    print(table_columns)\n",
    "\n",
    "    \n",
    "number_contract = \"1666105550722000041\"\n",
    "write_info_object(number_contract)"
   ]
  },
  {
   "cell_type": "code",
   "execution_count": 143,
   "id": "cd4af281",
   "metadata": {},
   "outputs": [],
   "source": [
    "def read_table_budget(soup:BeautifulSoup) -> list:\n",
    "    soup_table = soup.find(\"table\", id='contract_subjects')\n",
    "    soup_table = soup_table.find(\"tbody\", class_='tableBlock__body')\n",
    "    list_values = soup_table.find_all('tr', class_='tableBlock__row')\n",
    "\n",
    "    return list_values\n",
    "\n",
    "for i in read_table_budget(soup)[1]:\n",
    "    if remove_bad_symbols(i.get_text()) != '':\n",
    "        print(remove_bad_symbols(i.get_text()))\n",
    "    else: "
   ]
  },
  {
   "cell_type": "code",
   "execution_count": 84,
   "id": "93f8aa35",
   "metadata": {},
   "outputs": [
    {
     "data": {
      "text/plain": [
       "[<th class=\"tableBlock__col tableBlock__col_header\"></th>,\n",
       " <th class=\"tableBlock__col tableBlock__col_header\">Наименование объекта закупки и его характеристики</th>,\n",
       " <th class=\"tableBlock__col tableBlock__col_header\">Позиции по КТРУ, ОКПД2</th>,\n",
       " <th class=\"tableBlock__col tableBlock__col_header\">Тип объекта закупки</th>,\n",
       " <th class=\"tableBlock__col tableBlock__col_header\">Количество товара, объем работы, услуги,<br/>Единица измерения</th>]"
      ]
     },
     "execution_count": 84,
     "metadata": {},
     "output_type": "execute_result"
    }
   ],
   "source": [
    "soup_table"
   ]
  },
  {
   "cell_type": "code",
   "execution_count": null,
   "id": "ba82df50",
   "metadata": {},
   "outputs": [],
   "source": [
    "def read_table_budget(soup) -> tuple[list, list]:\n",
    "    table_names = soup.find(\n",
    "        \"h2\", class_=\"blockInfo__title\", string=\"Информация о поставщиках\"\n",
    "    ).parent.find(\"tr\", class_=\"tableBlock__row\")\n",
    "\n",
    "    table_values = soup.find(\n",
    "        \"h2\", class_=\"blockInfo__title\", string=\"Информация о поставщиках\"\n",
    "    ).parent.find_all(\"td\", class_=\"tableBlock__col\")\n",
    "\n",
    "    if table_names is None or table_values is None:\n",
    "        \"логги\"\n",
    "        return None, None\n",
    "\n",
    "    list_table_values = [element for element in table_values if type(element) is bs4.element.Tag]\n",
    "    string = remove_bad_symbols(table_names.get_text())\n",
    "    names_columns = []\n",
    "    i_start = 0\n",
    "    i_status = False\n",
    "    for i in range(len(string)):\n",
    "        if string[i].isupper() and not i_status:\n",
    "            i_status = True\n",
    "            i_start = i\n",
    "        elif string[i].isupper() and i_status == True:\n",
    "            names_columns.append(string[i_start:i])\n",
    "            i_start = i\n",
    "        elif i == len(string) - 1:\n",
    "            names_columns.append(string[i_start : i + 1])\n",
    "    return names_columns, list_table_values"
   ]
  },
  {
   "cell_type": "code",
   "execution_count": 174,
   "id": "b78f4708",
   "metadata": {},
   "outputs": [],
   "source": [
    "number_contract = \"166610555072000041\"  \n",
    "inf = get_page('https://zakupki.gov.ru/epz/contract/contractCard/payment-info-and-target-of-order.html?reestrNumber=1784136222723')"
   ]
  },
  {
   "cell_type": "code",
   "execution_count": 177,
   "id": "5b8d39ab",
   "metadata": {},
   "outputs": [],
   "source": [
    "if inf is not None and inf.ok:\n",
    "    print(1)"
   ]
  },
  {
   "cell_type": "code",
   "execution_count": null,
   "id": "c698d588",
   "metadata": {},
   "outputs": [],
   "source": []
  }
 ],
 "metadata": {
  "kernelspec": {
   "display_name": "Python 3 (ipykernel)",
   "language": "python",
   "name": "python3"
  },
  "language_info": {
   "codemirror_mode": {
    "name": "ipython",
    "version": 3
   },
   "file_extension": ".py",
   "mimetype": "text/x-python",
   "name": "python",
   "nbconvert_exporter": "python",
   "pygments_lexer": "ipython3",
   "version": "3.10.6"
  }
 },
 "nbformat": 4,
 "nbformat_minor": 5
}
