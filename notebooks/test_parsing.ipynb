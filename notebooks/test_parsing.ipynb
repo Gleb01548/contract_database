{
 "cells": [
  {
   "cell_type": "code",
   "execution_count": 149,
   "id": "93d18478-ef29-4416-9acd-58c66f01f635",
   "metadata": {},
   "outputs": [],
   "source": [
    "import pandas as pd\n",
    "import time\n",
    "import requests, time\n",
    "from bs4 import BeautifulSoup\n",
    "import bs4.element\n",
    "from fake_useragent import UserAgent\n",
    "import re\n",
    "\n",
    "requests.packages.urllib3.util.ssl_.DEFAULT_CIPHERS = \"ALL:@SECLEVEL=1\""
   ]
  },
  {
   "attachments": {},
   "cell_type": "markdown",
   "id": "bffa2904",
   "metadata": {},
   "source": [
    "2772104168722000005 1700200833623000023 1380805025523000091 1380805025523000091 3184110207323000038 3633001779723000034 1380805025523000091"
   ]
  },
  {
   "cell_type": "code",
   "execution_count": 150,
   "id": "d17329df-66d0-4c4b-8cf8-14f5fce232e2",
   "metadata": {},
   "outputs": [],
   "source": [
    "url_info = \"https://zakupki.gov.ru/epz/contract/contractCard/common-info.html?reestrNumber=\"\n",
    "url_payment = \"https://zakupki.gov.ru/epz/contract/contractCard/payment-info-and-target-of-order.html?reestrNumber=\"\n",
    "url_process = \"https://zakupki.gov.ru/epz/contract/contractCard/process-info.html?reestrNumber=\"\n",
    "url_version = (\n",
    "    \"https://zakupki.gov.ru/epz/contract/contractCard/journal-version.html?reestrNumber=\"\n",
    ")\n",
    "url_document = \"https://zakupki.gov.ru/epz/contract/contractCard/document-info.html?reestrNumber=\"\n",
    "url_event = \"https://zakupki.gov.ru/epz/contract/contractCard/event-journal.html?reestrNumber=\""
   ]
  },
  {
   "attachments": {},
   "cell_type": "markdown",
   "id": "a61935c1-ea8f-457e-8e68-a7b58d89d1a4",
   "metadata": {},
   "source": [
    "## Получение информации с url_info"
   ]
  },
  {
   "cell_type": "code",
   "execution_count": 151,
   "id": "ea8ffd67",
   "metadata": {},
   "outputs": [
    {
     "data": {
      "text/plain": [
       "True"
      ]
     },
     "execution_count": 151,
     "metadata": {},
     "output_type": "execute_result"
    }
   ],
   "source": [
    "number_contract = \"0307300000714000007\"\n",
    "url_info = (\n",
    "    \"https://zakupki.gov.ru/epz/contract/contractCard/common-info.html?reestrNumber=\"\n",
    "    + number_contract\n",
    ")\n",
    "res = requests.get(url_info, headers={\"User-Agent\": UserAgent().random})\n",
    "soup = BeautifulSoup(res.text, \"html\")\n",
    "res.ok"
   ]
  },
  {
   "cell_type": "code",
   "execution_count": 152,
   "id": "aee41b14",
   "metadata": {},
   "outputs": [],
   "source": [
    "soup.find(\"a\", class_=\"phones-links__item\")\n",
    "soup.find(\"div\", class_=\"hotline-phones\")"
   ]
  },
  {
   "cell_type": "code",
   "execution_count": 153,
   "id": "d684b48f",
   "metadata": {},
   "outputs": [],
   "source": [
    "soup.find(\"a\", class_=\"phones-links__item\")\n",
    "soup.find(\"div\", class_=\"hotline-phones\")"
   ]
  },
  {
   "cell_type": "code",
   "execution_count": 154,
   "id": "dd095541",
   "metadata": {},
   "outputs": [
    {
     "data": {
      "text/plain": [
       "<!DOCTYPE html>\n",
       "<html>\n",
       "<head>\n",
       "<meta content=\"text/html; charset=utf-8\" http-equiv=\"content-type\"/>\n",
       "<meta content=\"app-id=1457694118\" name=\"apple-itunes-app\"/>\n",
       "<meta content=\"app-id=ru.gov.zakupki.mobile\" name=\"google-play-app\"/>\n",
       "<title>Карточка контракта</title>\n",
       "<script type=\"text/javascript\">\n",
       "      var contextPath = \"/epz/contract\";\n",
       "  </script>\n",
       "<script src=\"/static/useractivityrecordplugin/js/recordSupportSystem.js\" type=\"text/javascript\"></script>\n",
       "<link href=\"/epz/static/css/app.css\" media=\"all\" rel=\"stylesheet\" type=\"text/css\"/>\n",
       "<link href=\"/epz/static/css/jquery_msgbox.css\" rel=\"stylesheet\" type=\"text/css\"/>\n",
       "<script src=\"/epz/static/js/jquery-3.3.1.min.js\" type=\"text/javascript\"></script>\n",
       "<script src=\"/epz/static/js/jquery.cookie.min.js\" type=\"text/javascript\"></script>\n",
       "<script src=\"/epz/static/js/js.cookie.js\" type=\"text/javascript\"></script>\n",
       "<script src=\"/epz/static/js/jquery_msgBox.js\" type=\"text/javascript\"></script>\n",
       "<script type=\"text/javascript\">\n",
       "    \n",
       "    $(window).ready(function() {\n",
       "      $('body').animate({opacity:'1'},300);\n",
       "    });\n",
       "      function sessionTimeOutMsg(){\n",
       "          $.msgBox({\n",
       "              type:\"error\",\n",
       "              content:\"Время ожидания соединения истекло\",\n",
       "              title: \"Сообщение\",\n",
       "              afterClose: function(result) {\n",
       "                  document.location.href = \"\"\n",
       "              }\n",
       "          });\n",
       "      }\n",
       "\n",
       "      var isRegisteredUserObozApp = Boolean(\"\");\n",
       "      var sessionMaxInactiveInterval = \"600\";\n",
       "      $(document).ready(function(){\n",
       "          var notUsual = (($.cookie(\"usePoorVisionOption\") == 'true') && $(\".goodVisionLink\").length == 0);\n",
       "          var notPoorVision = (($.cookie(\"usePoorVisionOption\") != 'true') && $(\".poorVisionLink\").length == 0);\n",
       "          if (notUsual || notPoorVision){\n",
       "              location.reload();\n",
       "          }\n",
       "      });\n",
       "  </script>\n",
       "<script>window.jQuery || document.write('<script src=\"/epz/static/js/jquery-3.3.1.min.js\"><\\/script>')</script>\n",
       "<script src=\"/epz/static/js/ui_autocomplete.js\" type=\"text/javascript\"></script>\n",
       "<script src=\"/epz/static/js/mustache.min.js\" type=\"text/javascript\"></script>\n",
       "<script src=\"/epz/static/js/jquery.price_format.1.7.js\" type=\"text/javascript\"></script>\n",
       "<script src=\"/epz/static/js/moment.min.js\" type=\"text/javascript\"></script>\n",
       "<script src=\"/epz/static/js/moment-timezone.min.js\" type=\"text/javascript\"></script>\n",
       "<script src=\"/epz/static/js/action-switch.js\" type=\"text/javascript\"></script>\n",
       "<script src=\"/epz/static/js/browser.js\" type=\"text/javascript\"></script>\n",
       "<script src=\"/epz/static/js/app.js\" type=\"text/javascript\"></script>\n",
       "<script src=\"/epz/static/js/script.js\" type=\"text/javascript\"></script>\n",
       "<script src=\"/epz/static/js/cards_keyboard_control_script.js\" type=\"text/javascript\"></script>\n",
       "<script src=\"/epz/static/js/custom.js\" type=\"text/javascript\"></script>\n",
       "<script src=\"/epz/static/js/URI.js\" type=\"text/javascript\"></script>\n",
       "<script src=\"/epz/static/js/common/hints.js\" type=\"text/javascript\"></script>\n",
       "<script src=\"/epz/static/js/common/config.js\" type=\"text/javascript\"></script>\n",
       "<script src=\"/epz/static/js/common/analytics.js\" type=\"text/javascript\"></script>\n",
       "<script src=\"/epz/static/js/cardBaseLayout.js\" type=\"text/javascript\"></script>\n",
       "<script src=\"/epz/static/js/customScrollbar.js\" type=\"text/javascript\"></script>\n",
       "<script src=\"/epz/static/js/keyboardNavigationRules.js\" type=\"text/javascript\"></script>\n",
       "<script src=\"/epz/static/js/keyboardControl.js\" type=\"text/javascript\"></script>\n",
       "<script src=\"/epz/static/js/jquery-migrate-3.0.1.min.js\" type=\"text/javascript\"></script>\n",
       "<script type=\"text/javascript\">\n",
       "      var contextPath = \"/epz/contract\";\n",
       "      var epzMainPublicUrl = \"/epz/main/public/\";\n",
       "  </script>\n",
       "<script src=\"/epz/static/js/checkNotice.js\" type=\"text/javascript\"></script>\n",
       "<script src=\"/epz/static/js/common/attachments-common-tab.js\" type=\"text/javascript\"></script>\n",
       "<script src=\"/epz/static/js/generalPagination.js\" type=\"text/javascript\"></script>\n",
       "<script src=\"/epz/static/js/generalChevron.js\" type=\"text/javascript\"></script>\n",
       "<script type=\"text/javascript\">\n",
       "    epzCommonConfig.initCommonConfig({\n",
       "        contextPath: '/epz/contract',\n",
       "        smartSearchEnable: true,\n",
       "\n",
       "        urls: {\n",
       "            epzMainPublicUrl: '/epz/main/public/',\n",
       "            epzNsiUrl: '/epz/nsi/',\n",
       "            epzOrderUrl: '/epz/order/',\n",
       "            epzOrderPlanUrl: '/epz/orderplan/',\n",
       "            epzOrderClauseUrl: '/epz/orderclause/',\n",
       "            epzContractUrl: '/epz/contract/',\n",
       "            epzContractFz223Url: '/epz/contractfz223/',\n",
       "            epzContractReportingUrl: '/epz/contractreporting/',\n",
       "            epzCustomerReportsUrl: '/epz/customerreports/',\n",
       "            epzOrganizationUrl: '/epz/organization/',\n",
       "            epzDishonestSupplierUrl: '/epz/dishonestsupplier/',\n",
       "            epzComplaintUrl: '/epz/complaint/',\n",
       "            epzBankGuaranteeUrl: '/epz/bankguarantee/',\n",
       "            epzInspectionPlanUrl: '/epz/inspectionplan/',\n",
       "            epzUnscheduledInspectionUrl: '/epz/unscheduledinspection/',\n",
       "            epzControlResultUrl: '/epz/controlresult/',\n",
       "            epzDizkUrl: '/epz/dizk/',\n",
       "            epzEsUrl: '/analytics/hit/',\n",
       "            epzFarmUrl: '/epz/farm/'\n",
       "        }\n",
       "    });\n",
       "</script>\n",
       "</head>\n",
       "<body class=\"cardLayout\">\n",
       "<script type=\"text/javascript\">\n",
       "  if ($.cookie('usePoorVisionOption') === 'true') {\n",
       "    var body = $('body');\n",
       "    var style = '';\n",
       "    var cookie = $.cookie('colorSpectrumForPoorVision');\n",
       "    if (cookie) {\n",
       "      body.addClass(cookie + 'ColorSpectrum');\n",
       "      switch (cookie) {\n",
       "        case 'white':\n",
       "          style = '#ffffff';\n",
       "          break;\n",
       "        case 'black':\n",
       "          style = '#000000';\n",
       "          break;\n",
       "        case 'blue':\n",
       "          style = '#9DD1FF';\n",
       "          break;\n",
       "        case 'brown':\n",
       "          style = '#442713';\n",
       "          break;\n",
       "        case 'biege':\n",
       "          style = '#F7F3D6';\n",
       "          break;\n",
       "        default:\n",
       "          break;\n",
       "      }\n",
       "      body.css({backgroundColor: style});\n",
       "    }\n",
       "\n",
       "    var fontZize = $.cookie('fontSizeForPoorVision');\n",
       "    if (fontZize) {\n",
       "      body.addClass('fontSizeForPoorVision' + fontZize);\n",
       "    }\n",
       "  }\n",
       "</script>\n",
       "<style>\n",
       "    .header-logo {\n",
       "        top: -5px;\n",
       "        background: none;\n",
       "    }\n",
       "</style>\n",
       "<div id=\"critical_notice\"></div>\n",
       "<header class=\"header header-top\">\n",
       "<div class=\"container\">\n",
       "<div class=\"row align-items-center\">\n",
       "<div class=\"col-5\" style=\"z-index: 1;\">\n",
       "<span class=\"logo text-base-micro\">Официальный сайт Единой информационной системы в сфере закупок</span>\n",
       "</div>\n",
       "<div class=\"col-1\"></div>\n",
       "<div class=\"col-3\">\n",
       "<a data-modalup=\"\" href=\"/epz/nsi/kladr/chooseRegion.html\">\n",
       "<div class=\"region d-flex align-items-center pr-0\" data-target=\".modal-region\" data-toggle=\"modal-region\">\n",
       "<span class=\"region-city w-space-nowrap\">\n",
       "<span class=\"region-city__icon\">\n",
       "<img src=\"/epz/static/img/icons/icon_region.svg\" title=\"Информация о местоположении пользователя используется в поисковых запросах для динамической детализации результатов поиска.\"/>\n",
       "</span>\n",
       "<span class=\"region-city__text region-city__text_base text-base-micro\">Мой регион: </span>\n",
       "</span>\n",
       "<span id=\"chooseRegion\">\n",
       "<span class=\"region-city pl-1\">\n",
       "<span class=\"region-city__text region-city__text_prime text-base-micro region_name\" id=\"popUpUserRegion\">\n",
       "</span>\n",
       "</span>\n",
       "<span class=\"region-city__icon pl-1\">\n",
       "<img alt=\"\" src=\"/epz/static/img/icons/icon_arrow_region.svg\"/>\n",
       "</span>\n",
       "</span>\n",
       "</div>\n",
       "</a>\n",
       "</div>\n",
       "<div class=\"col-1\">\n",
       "<div class=\"header-links-group offset-block\">\n",
       "<a class=\"header-link header-link_top\" href=\"#\">\n",
       "<span class=\"header-link__icon poorVisionLink\">\n",
       "<img alt=\"\" class=\"glass-icon\" src=\"/epz/static/img/icons/icon_eye.svg\"/>\n",
       "</span>\n",
       "</a>\n",
       "</div>\n",
       "</div>\n",
       "<div class=\"col-2\">\n",
       "<div class=\"account\">\n",
       "<div class=\"account-block\">\n",
       "<span class=\"icon\">\n",
       "<img alt=\"\" src=\"/epz/static/img/icons/icon_user.svg\"/>\n",
       "</span>\n",
       "<span class=\"text padLeft4\">Личный кабинет</span>\n",
       "<span class=\"button-open icon\">\n",
       "<img alt=\"\" src=\"/epz/static/img/icons/icon_arrow_lk.svg\"/>\n",
       "</span>\n",
       "</div>\n",
       "<ul class=\"account-vars\">\n",
       "<li class=\"account__var\" data-toggle=\"modal-account44\">\n",
       "<a class=\"account__link\" data-modalup=\"\" href=\"/epz/main/public/chooseAuth44.html\" target=\"_blank\">\n",
       "<span class=\"icon\">\n",
       "<img alt=\"\" src=\"/epz/static/img/icons/arrow.svg\"/>\n",
       "</span>\n",
       "<span class=\"text text_bottom\">Личный кабинет</span>\n",
       "<span class=\"subtext\">44-Ф3</span>\n",
       "</a>\n",
       "</li>\n",
       "<li class=\"account__var\" data-toggle=\"modal-account223\">\n",
       "<a class=\"account__link\" data-modalup=\"\" href=\"/epz/main/public/chooseAuth223.html\" target=\"_blank\">\n",
       "<span class=\"icon\">\n",
       "<img alt=\"\" src=\"/epz/static/img/icons/arrow.svg\"/>\n",
       "</span>\n",
       "<span class=\"text text_bottom\">Личный кабинет</span>\n",
       "<span class=\"subtext\">223-ФЗ</span>\n",
       "</a>\n",
       "</li>\n",
       "<li class=\"account__var\" data-toggle=\"modal-account-private\">\n",
       "<a class=\"account__link\" href=\"https://zakupki.gov.ru/auth/welcome\">\n",
       "<span class=\"icon\">\n",
       "<img alt=\"\" src=\"/epz/static/img/icons/arrow.svg\"/>\n",
       "</span>\n",
       "<span class=\"text text_bottom\">Личный кабинет участника закупок</span>\n",
       "</a>\n",
       "</li>\n",
       "</ul>\n",
       "</div>\n",
       "</div>\n",
       "</div>\n",
       "</div>\n",
       "</header>\n",
       "<header class=\"header header-mid\">\n",
       "<div class=\"container\">\n",
       "<div class=\"row\">\n",
       "<div class=\"col-6\">\n",
       "<svg fill=\"none\" height=\"48\" viewbox=\"0 0 200 48\" width=\"200\" xmlns=\"http://www.w3.org/2000/svg\">\n",
       "<g clip-path=\"url(#clip0_129_4694)\">\n",
       "<a href=\"/epz/main/public/home.html\">\n",
       "<rect fill=\"#00000000\" height=\"60\" pointer-events=\"all\" width=\"100\" x=\"0\" y=\"-5\"></rect>\n",
       "<path clip-rule=\"evenodd\" d=\"M77.5818 15.4964V17.0585H79.1425V15.4964H77.5818Z\" fill=\"#0065DD\" fill-rule=\"evenodd\"></path>\n",
       "<path clip-rule=\"evenodd\" d=\"M77.5818 7.75768V9.31973H79.1425V7.75768H77.5818Z\" fill=\"#0065DD\" fill-rule=\"evenodd\"></path>\n",
       "<path clip-rule=\"evenodd\" d=\"M56.8945 43.8791V45.4357H58.4548V43.8791H56.8945Z\" fill=\"#0065DD\" fill-rule=\"evenodd\"></path>\n",
       "<path clip-rule=\"evenodd\" d=\"M46.5481 43.8791V45.4357H48.1139V43.8791H46.5481Z\" fill=\"#0065DD\" fill-rule=\"evenodd\"></path>\n",
       "<path clip-rule=\"evenodd\" d=\"M87.9285 43.8791V45.4357H89.4886V43.8791H87.9285Z\" fill=\"#0065DD\" fill-rule=\"evenodd\"></path>\n",
       "<path clip-rule=\"evenodd\" d=\"M87.9285 15.4964V17.0585H89.4886V15.4964H87.9285Z\" fill=\"#0065DD\" fill-rule=\"evenodd\"></path>\n",
       "<path clip-rule=\"evenodd\" d=\"M90.5125 15.4964V17.0585H92.0726V15.4964H90.5125Z\" fill=\"#0065DD\" fill-rule=\"evenodd\"></path>\n",
       "<path clip-rule=\"evenodd\" d=\"M67.2356 43.8791V45.4357H68.8017V43.8791H67.2356Z\" fill=\"#0065DD\" fill-rule=\"evenodd\"></path>\n",
       "<path clip-rule=\"evenodd\" d=\"M25.8606 15.4964V17.0585H27.4209V15.4964H25.8606Z\" fill=\"#0065DD\" fill-rule=\"evenodd\"></path>\n",
       "<path clip-rule=\"evenodd\" d=\"M41.375 12.9187V14.4752H42.9408V12.9187H41.375Z\" fill=\"#0065DD\" fill-rule=\"evenodd\"></path>\n",
       "<path clip-rule=\"evenodd\" d=\"M41.375 15.4964V17.0585H42.9408V15.4964H41.375Z\" fill=\"#0065DD\" fill-rule=\"evenodd\"></path>\n",
       "<path clip-rule=\"evenodd\" d=\"M82.7551 15.4964V17.0585H84.3159V15.4964H82.7551Z\" fill=\"#0065DD\" fill-rule=\"evenodd\"></path>\n",
       "<path clip-rule=\"evenodd\" d=\"M82.7551 7.75768V9.31973H84.3159V7.75768H82.7551Z\" fill=\"#0065DD\" fill-rule=\"evenodd\"></path>\n",
       "<path clip-rule=\"evenodd\" d=\"M87.9285 7.75768V9.31973H89.4886V7.75768H87.9285Z\" fill=\"#0065DD\" fill-rule=\"evenodd\"></path>\n",
       "<path clip-rule=\"evenodd\" d=\"M62.0674 43.8791V45.4357H63.6281V43.8791H62.0674Z\" fill=\"#0065DD\" fill-rule=\"evenodd\"></path>\n",
       "<path clip-rule=\"evenodd\" d=\"M51.7214 43.8791V45.4357H53.2817V43.8791H51.7214Z\" fill=\"#0065DD\" fill-rule=\"evenodd\"></path>\n",
       "<path clip-rule=\"evenodd\" d=\"M72.4087 43.8791V45.4357H73.9748V43.8791H72.4087Z\" fill=\"#0065DD\" fill-rule=\"evenodd\"></path>\n",
       "<path clip-rule=\"evenodd\" d=\"M72.4087 15.4964V17.0585H73.9748V15.4964H72.4087Z\" fill=\"#0065DD\" fill-rule=\"evenodd\"></path>\n",
       "<path clip-rule=\"evenodd\" d=\"M72.4087 12.9187V14.4752H73.9748V12.9187H72.4087Z\" fill=\"#0065DD\" fill-rule=\"evenodd\"></path>\n",
       "<path clip-rule=\"evenodd\" d=\"M36.2073 23.2406V24.7971H37.7675V23.2406H36.2073Z\" fill=\"#0065DD\" fill-rule=\"evenodd\"></path>\n",
       "<path clip-rule=\"evenodd\" d=\"M77.5818 23.2406V24.7971H79.1425V23.2406H77.5818Z\" fill=\"#0065DD\" fill-rule=\"evenodd\"></path>\n",
       "<path clip-rule=\"evenodd\" d=\"M56.8945 23.2406V24.7971H58.4548V23.2406H56.8945Z\" fill=\"#0065DD\" fill-rule=\"evenodd\"></path>\n",
       "<path clip-rule=\"evenodd\" d=\"M15.5144 23.2406V24.7971H17.0802V23.2406H15.5144Z\" fill=\"#0065DD\" fill-rule=\"evenodd\"></path>\n",
       "<path clip-rule=\"evenodd\" d=\"M46.5481 23.2406V24.7971H48.1139V23.2406H46.5481Z\" fill=\"#0065DD\" fill-rule=\"evenodd\"></path>\n",
       "<path clip-rule=\"evenodd\" d=\"M67.2356 23.2406V24.7971H68.8017V23.2406H67.2356Z\" fill=\"#0065DD\" fill-rule=\"evenodd\"></path>\n",
       "<path clip-rule=\"evenodd\" d=\"M25.8606 23.2406V24.7971H27.4209V23.2406H25.8606Z\" fill=\"#0065DD\" fill-rule=\"evenodd\"></path>\n",
       "<path clip-rule=\"evenodd\" d=\"M41.375 23.2406V24.7971H42.9408V23.2406H41.375Z\" fill=\"#0065DD\" fill-rule=\"evenodd\"></path>\n",
       "<path clip-rule=\"evenodd\" d=\"M41.375 7.75768V9.31973H42.9408V7.75768H41.375Z\" fill=\"#0065DD\" fill-rule=\"evenodd\"></path>\n",
       "<path clip-rule=\"evenodd\" d=\"M82.7551 23.2406V24.7971H84.3159V23.2406H82.7551Z\" fill=\"#0065DD\" fill-rule=\"evenodd\"></path>\n",
       "<path clip-rule=\"evenodd\" d=\"M62.0674 23.2406V24.7971H63.6281V23.2406H62.0674Z\" fill=\"#0065DD\" fill-rule=\"evenodd\"></path>\n",
       "<path clip-rule=\"evenodd\" d=\"M20.6875 23.2406V24.7971H22.2533V23.2406H20.6875Z\" fill=\"#0065DD\" fill-rule=\"evenodd\"></path>\n",
       "<path clip-rule=\"evenodd\" d=\"M51.7214 23.2406V24.7971H53.2817V23.2406H51.7214Z\" fill=\"#0065DD\" fill-rule=\"evenodd\"></path>\n",
       "<path clip-rule=\"evenodd\" d=\"M51.7214 18.0797V19.6362H53.2817V18.0797H51.7214Z\" fill=\"#0065DD\" fill-rule=\"evenodd\"></path>\n",
       "<path clip-rule=\"evenodd\" d=\"M72.4087 23.2406V24.7971H73.9748V23.2406H72.4087Z\" fill=\"#0065DD\" fill-rule=\"evenodd\"></path>\n",
       "<path clip-rule=\"evenodd\" d=\"M31.0339 23.2406V24.7971H32.5943V23.2406H31.0339Z\" fill=\"#0065DD\" fill-rule=\"evenodd\"></path>\n",
       "<path clip-rule=\"evenodd\" d=\"M36.2073 15.4964V17.0585H37.7675V15.4964H36.2073Z\" fill=\"#0065DD\" fill-rule=\"evenodd\"></path>\n",
       "<path clip-rule=\"evenodd\" d=\"M80.1714 15.4964V17.0585H81.7315V15.4964H80.1714Z\" fill=\"#0065DD\" fill-rule=\"evenodd\"></path>\n",
       "<path clip-rule=\"evenodd\" d=\"M80.1714 7.75768V9.31973H81.7315V7.75768H80.1714Z\" fill=\"#0065DD\" fill-rule=\"evenodd\"></path>\n",
       "<path clip-rule=\"evenodd\" d=\"M59.4785 43.8791V45.4357H61.0441V43.8791H59.4785Z\" fill=\"#0065DD\" fill-rule=\"evenodd\"></path>\n",
       "<path clip-rule=\"evenodd\" d=\"M49.1377 43.8791V45.4357H50.698V43.8791H49.1377Z\" fill=\"#0065DD\" fill-rule=\"evenodd\"></path>\n",
       "<path clip-rule=\"evenodd\" d=\"M69.8252 43.8791V45.4357H71.3853V43.8791H69.8252Z\" fill=\"#0065DD\" fill-rule=\"evenodd\"></path>\n",
       "<path clip-rule=\"evenodd\" d=\"M69.8252 15.4964V17.0585H71.3853V15.4964H69.8252Z\" fill=\"#0065DD\" fill-rule=\"evenodd\"></path>\n",
       "<path clip-rule=\"evenodd\" d=\"M28.4443 15.4964V17.0585H30.0102V15.4964H28.4443Z\" fill=\"#0065DD\" fill-rule=\"evenodd\"></path>\n",
       "<path clip-rule=\"evenodd\" d=\"M43.9646 12.9187V14.4752H45.5249V12.9187H43.9646Z\" fill=\"#0065DD\" fill-rule=\"evenodd\"></path>\n",
       "<path clip-rule=\"evenodd\" d=\"M43.9646 43.8791V45.4357H45.5249V43.8791H43.9646Z\" fill=\"#0065DD\" fill-rule=\"evenodd\"></path>\n",
       "<path clip-rule=\"evenodd\" d=\"M85.3394 15.4964V17.0585H86.9049V15.4964H85.3394Z\" fill=\"#0065DD\" fill-rule=\"evenodd\"></path>\n",
       "<path clip-rule=\"evenodd\" d=\"M85.3394 7.75768V9.31973H86.9049V7.75768H85.3394Z\" fill=\"#0065DD\" fill-rule=\"evenodd\"></path>\n",
       "<path clip-rule=\"evenodd\" d=\"M90.5125 7.75768V9.31973H92.078V7.75768H90.5125Z\" fill=\"#0065DD\" fill-rule=\"evenodd\"></path>\n",
       "<path clip-rule=\"evenodd\" d=\"M93.0439 7.75722V9.31934H94.6095V7.75722H93.0439Z\" fill=\"#0065DD\" fill-rule=\"evenodd\"></path>\n",
       "<path clip-rule=\"evenodd\" d=\"M90.5125 5.17992V6.73646H92.078V5.17992H90.5125Z\" fill=\"#0065DD\" fill-rule=\"evenodd\"></path>\n",
       "<path clip-rule=\"evenodd\" d=\"M93.0439 5.18196V6.73856H94.6095V5.18196H93.0439Z\" fill=\"#0065DD\" fill-rule=\"evenodd\"></path>\n",
       "<path clip-rule=\"evenodd\" d=\"M93.0439 5.18196V6.73856H94.6095V5.18196H93.0439Z\" fill=\"#0065DD\" fill-rule=\"evenodd\"></path>\n",
       "<path clip-rule=\"evenodd\" d=\"M64.6516 43.8791V45.4357H66.2117V43.8791H64.6516Z\" fill=\"#0065DD\" fill-rule=\"evenodd\"></path>\n",
       "<path clip-rule=\"evenodd\" d=\"M64.6516 15.4964V17.0585H66.2117V15.4964H64.6516Z\" fill=\"#0065DD\" fill-rule=\"evenodd\"></path>\n",
       "<path clip-rule=\"evenodd\" d=\"M54.3054 43.8791V45.4357H55.8712V43.8791H54.3054Z\" fill=\"#0065DD\" fill-rule=\"evenodd\"></path>\n",
       "<path clip-rule=\"evenodd\" d=\"M54.3054 15.4964V17.0585H55.8712V15.4964H54.3054Z\" fill=\"#0065DD\" fill-rule=\"evenodd\"></path>\n",
       "<path clip-rule=\"evenodd\" d=\"M56.8945 15.4964V17.0585H58.4548V15.4964H56.8945Z\" fill=\"#0065DD\" fill-rule=\"evenodd\"></path>\n",
       "<path clip-rule=\"evenodd\" d=\"M54.3054 12.9187V14.4752H55.8712V12.9187H54.3054Z\" fill=\"#0065DD\" fill-rule=\"evenodd\"></path>\n",
       "<path clip-rule=\"evenodd\" d=\"M74.9983 15.4964V17.0585H76.5584V15.4964H74.9983Z\" fill=\"#0065DD\" fill-rule=\"evenodd\"></path>\n",
       "<path clip-rule=\"evenodd\" d=\"M38.791 23.2406V24.7971H40.3513V23.2406H38.791Z\" fill=\"#0065DD\" fill-rule=\"evenodd\"></path>\n",
       "<path clip-rule=\"evenodd\" d=\"M80.1714 23.2406V24.7971H81.7315V23.2406H80.1714Z\" fill=\"#0065DD\" fill-rule=\"evenodd\"></path>\n",
       "<path clip-rule=\"evenodd\" d=\"M59.4785 23.2406V24.7971H61.0441V23.2406H59.4785Z\" fill=\"#0065DD\" fill-rule=\"evenodd\"></path>\n",
       "<path clip-rule=\"evenodd\" d=\"M18.1035 23.2406V24.7971H19.6638V23.2406H18.1035Z\" fill=\"#0065DD\" fill-rule=\"evenodd\"></path>\n",
       "<path clip-rule=\"evenodd\" d=\"M49.1377 23.2406V24.7971H50.698V23.2406H49.1377Z\" fill=\"#0065DD\" fill-rule=\"evenodd\"></path>\n",
       "<path clip-rule=\"evenodd\" d=\"M69.8252 23.2406V24.7971H71.3853V23.2406H69.8252Z\" fill=\"#0065DD\" fill-rule=\"evenodd\"></path>\n",
       "<path clip-rule=\"evenodd\" d=\"M28.4443 23.2406V24.7971H30.0102V23.2406H28.4443Z\" fill=\"#0065DD\" fill-rule=\"evenodd\"></path>\n",
       "<path clip-rule=\"evenodd\" d=\"M43.9646 23.2406V24.7971H45.5249V23.2406H43.9646Z\" fill=\"#0065DD\" fill-rule=\"evenodd\"></path>\n",
       "<path clip-rule=\"evenodd\" d=\"M43.9646 7.75768V9.31973H45.5249V7.75768H43.9646Z\" fill=\"#0065DD\" fill-rule=\"evenodd\"></path>\n",
       "<path clip-rule=\"evenodd\" d=\"M64.6516 23.2406V24.7971H66.2117V23.2406H64.6516Z\" fill=\"#0065DD\" fill-rule=\"evenodd\"></path>\n",
       "<path clip-rule=\"evenodd\" d=\"M23.2769 23.2406V24.7971H24.8371V23.2406H23.2769Z\" fill=\"#0065DD\" fill-rule=\"evenodd\"></path>\n",
       "<path clip-rule=\"evenodd\" d=\"M54.3054 23.2406V24.7971H55.8712V23.2406H54.3054Z\" fill=\"#0065DD\" fill-rule=\"evenodd\"></path>\n",
       "<path clip-rule=\"evenodd\" d=\"M74.9983 23.2406V24.7971H76.5584V23.2406H74.9983Z\" fill=\"#0065DD\" fill-rule=\"evenodd\"></path>\n",
       "<path clip-rule=\"evenodd\" d=\"M33.6179 23.2406V24.7971H35.1837V23.2406H33.6179Z\" fill=\"#0065DD\" fill-rule=\"evenodd\"></path>\n",
       "<path clip-rule=\"evenodd\" d=\"M36.2073 33.5571V35.1192H37.7675V33.5571H36.2073Z\" fill=\"#0065DD\" fill-rule=\"evenodd\"></path>\n",
       "<path clip-rule=\"evenodd\" d=\"M77.5818 33.5571V35.1192H79.1425V33.5571H77.5818Z\" fill=\"#0065DD\" fill-rule=\"evenodd\"></path>\n",
       "<path clip-rule=\"evenodd\" d=\"M56.8945 33.5571V35.1192H58.4548V33.5571H56.8945Z\" fill=\"#0065DD\" fill-rule=\"evenodd\"></path>\n",
       "<path clip-rule=\"evenodd\" d=\"M15.5144 33.5571V35.1192H17.0802V33.5571H15.5144Z\" fill=\"#0065DD\" fill-rule=\"evenodd\"></path>\n",
       "<path clip-rule=\"evenodd\" d=\"M46.5481 33.5571V35.1192H48.1139V33.5571H46.5481Z\" fill=\"#0065DD\" fill-rule=\"evenodd\"></path>\n",
       "<path clip-rule=\"evenodd\" d=\"M87.9285 33.5571V35.1192H89.4886V33.5571H87.9285Z\" fill=\"#0065DD\" fill-rule=\"evenodd\"></path>\n",
       "<path clip-rule=\"evenodd\" d=\"M87.9285 30.9793V32.5359H89.4886V30.9793H87.9285Z\" fill=\"#0065DD\" fill-rule=\"evenodd\"></path>\n",
       "<path clip-rule=\"evenodd\" d=\"M67.2356 33.5571V35.1192H68.8017V33.5571H67.2356Z\" fill=\"#0065DD\" fill-rule=\"evenodd\"></path>\n",
       "<path clip-rule=\"evenodd\" d=\"M25.8606 33.5571V35.1192H27.4209V33.5571H25.8606Z\" fill=\"#0065DD\" fill-rule=\"evenodd\"></path>\n",
       "<path clip-rule=\"evenodd\" d=\"M41.375 33.5571V35.1192H42.9408V33.5571H41.375Z\" fill=\"#0065DD\" fill-rule=\"evenodd\"></path>\n",
       "<path clip-rule=\"evenodd\" d=\"M62.0674 33.5571V35.1192H63.6281V33.5571H62.0674Z\" fill=\"#0065DD\" fill-rule=\"evenodd\"></path>\n",
       "<path clip-rule=\"evenodd\" d=\"M20.6875 33.5571V35.1192H22.2533V33.5571H20.6875Z\" fill=\"#0065DD\" fill-rule=\"evenodd\"></path>\n",
       "<path clip-rule=\"evenodd\" d=\"M20.6875 36.1403V37.6969H22.2533V36.1403H20.6875Z\" fill=\"#0065DD\" fill-rule=\"evenodd\"></path>\n",
       "<path clip-rule=\"evenodd\" d=\"M51.7214 33.5571V35.1192H53.2817V33.5571H51.7214Z\" fill=\"#0065DD\" fill-rule=\"evenodd\"></path>\n",
       "<path clip-rule=\"evenodd\" d=\"M72.4087 33.5571V35.1192H73.9748V33.5571H72.4087Z\" fill=\"#0065DD\" fill-rule=\"evenodd\"></path>\n",
       "<path clip-rule=\"evenodd\" d=\"M31.0339 33.5571V35.1192H32.5943V33.5571H31.0339Z\" fill=\"#0065DD\" fill-rule=\"evenodd\"></path>\n",
       "<path clip-rule=\"evenodd\" d=\"M38.791 33.5571V35.1192H40.3513V33.5571H38.791Z\" fill=\"#0065DD\" fill-rule=\"evenodd\"></path>\n",
       "<path clip-rule=\"evenodd\" d=\"M80.1714 33.5571V35.1192H81.7315V33.5571H80.1714Z\" fill=\"#0065DD\" fill-rule=\"evenodd\"></path>\n",
       "<path clip-rule=\"evenodd\" d=\"M59.4785 33.5571V35.1192H61.0441V33.5571H59.4785Z\" fill=\"#0065DD\" fill-rule=\"evenodd\"></path>\n",
       "<path clip-rule=\"evenodd\" d=\"M18.1035 33.5571V35.1192H19.6638V33.5571H18.1035Z\" fill=\"#0065DD\" fill-rule=\"evenodd\"></path>\n",
       "<path clip-rule=\"evenodd\" d=\"M49.1377 33.5571V35.1192H50.698V33.5571H49.1377Z\" fill=\"#0065DD\" fill-rule=\"evenodd\"></path>\n",
       "<path clip-rule=\"evenodd\" d=\"M90.5125 33.5571V35.1192H92.0726V33.5571H90.5125Z\" fill=\"#0065DD\" fill-rule=\"evenodd\"></path>\n",
       "<path clip-rule=\"evenodd\" d=\"M69.8252 33.5571V35.1192H71.3853V33.5571H69.8252Z\" fill=\"#0065DD\" fill-rule=\"evenodd\"></path>\n",
       "<path clip-rule=\"evenodd\" d=\"M28.4443 33.5571V35.1192H30.0102V33.5571H28.4443Z\" fill=\"#0065DD\" fill-rule=\"evenodd\"></path>\n",
       "<path clip-rule=\"evenodd\" d=\"M43.9646 33.5571V35.1192H45.5249V33.5571H43.9646Z\" fill=\"#0065DD\" fill-rule=\"evenodd\"></path>\n",
       "<path clip-rule=\"evenodd\" d=\"M85.3394 33.5571V35.1192H86.9049V33.5571H85.3394Z\" fill=\"#0065DD\" fill-rule=\"evenodd\"></path>\n",
       "<path clip-rule=\"evenodd\" d=\"M82.7551 33.5571V35.1192H84.3159V33.5571H82.7551Z\" fill=\"#0065DD\" fill-rule=\"evenodd\"></path>\n",
       "<path clip-rule=\"evenodd\" d=\"M64.6516 33.5571V35.1192H66.2117V33.5571H64.6516Z\" fill=\"#0065DD\" fill-rule=\"evenodd\"></path>\n",
       "<path clip-rule=\"evenodd\" d=\"M23.2769 33.5571V35.1192H24.8371V33.5571H23.2769Z\" fill=\"#0065DD\" fill-rule=\"evenodd\"></path>\n",
       "<path clip-rule=\"evenodd\" d=\"M23.2769 36.1403V37.6969H24.8371V36.1403H23.2769Z\" fill=\"#0065DD\" fill-rule=\"evenodd\"></path>\n",
       "<path clip-rule=\"evenodd\" d=\"M54.3054 33.5571V35.1192H55.8712V33.5571H54.3054Z\" fill=\"#0065DD\" fill-rule=\"evenodd\"></path>\n",
       "<path clip-rule=\"evenodd\" d=\"M12.9304 33.5571V35.1192H14.4907V33.5571H12.9304Z\" fill=\"#0065DD\" fill-rule=\"evenodd\"></path>\n",
       "<path clip-rule=\"evenodd\" d=\"M74.9983 33.5571V35.1192H76.5584V33.5571H74.9983Z\" fill=\"#0065DD\" fill-rule=\"evenodd\"></path>\n",
       "<path clip-rule=\"evenodd\" d=\"M33.6179 33.5571V35.1192H35.1837V33.5571H33.6179Z\" fill=\"#0065DD\" fill-rule=\"evenodd\"></path>\n",
       "<path clip-rule=\"evenodd\" d=\"M36.2073 38.7181V40.2747H37.7675V38.7181H36.2073Z\" fill=\"#0065DD\" fill-rule=\"evenodd\"></path>\n",
       "<path clip-rule=\"evenodd\" d=\"M77.5818 10.341V11.8975H79.1425V10.341H77.5818Z\" fill=\"#0065DD\" fill-rule=\"evenodd\"></path>\n",
       "<path clip-rule=\"evenodd\" d=\"M56.8945 38.7181V40.2747H58.4548V38.7181H56.8945Z\" fill=\"#0065DD\" fill-rule=\"evenodd\"></path>\n",
       "<path clip-rule=\"evenodd\" d=\"M56.8945 46.4568V48.0189H58.4548V46.4568H56.8945Z\" fill=\"#0065DD\" fill-rule=\"evenodd\"></path>\n",
       "<path clip-rule=\"evenodd\" d=\"M15.5144 38.7181V40.2747H17.0802V38.7181H15.5144Z\" fill=\"#0065DD\" fill-rule=\"evenodd\"></path>\n",
       "<path clip-rule=\"evenodd\" d=\"M18.1035 38.7181V40.2747H19.6638V38.7181H18.1035Z\" fill=\"#0065DD\" fill-rule=\"evenodd\"></path>\n",
       "<path clip-rule=\"evenodd\" d=\"M46.5481 38.7181V40.2747H48.1139V38.7181H46.5481Z\" fill=\"#0065DD\" fill-rule=\"evenodd\"></path>\n",
       "<path clip-rule=\"evenodd\" d=\"M46.5481 46.4568V48.0189H48.1139V46.4568H46.5481Z\" fill=\"#0065DD\" fill-rule=\"evenodd\"></path>\n",
       "<path clip-rule=\"evenodd\" d=\"M87.9285 38.7181V40.2747H89.4886V38.7181H87.9285Z\" fill=\"#0065DD\" fill-rule=\"evenodd\"></path>\n",
       "<path clip-rule=\"evenodd\" d=\"M67.2356 38.7181V40.2747H68.8017V38.7181H67.2356Z\" fill=\"#0065DD\" fill-rule=\"evenodd\"></path>\n",
       "<path clip-rule=\"evenodd\" d=\"M67.2356 46.4568V48.0189H68.8017V46.4568H67.2356Z\" fill=\"#0065DD\" fill-rule=\"evenodd\"></path>\n",
       "<path clip-rule=\"evenodd\" d=\"M25.8606 38.7181V40.2747H27.4209V38.7181H25.8606Z\" fill=\"#0065DD\" fill-rule=\"evenodd\"></path>\n",
       "<path clip-rule=\"evenodd\" d=\"M41.375 38.7181V40.2747H42.9408V38.7181H41.375Z\" fill=\"#0065DD\" fill-rule=\"evenodd\"></path>\n",
       "<path clip-rule=\"evenodd\" d=\"M82.7551 38.7181V40.2747H84.3159V38.7181H82.7551Z\" fill=\"#0065DD\" fill-rule=\"evenodd\"></path>\n",
       "<path clip-rule=\"evenodd\" d=\"M82.7551 10.341V11.8975H84.3159V10.341H82.7551Z\" fill=\"#0065DD\" fill-rule=\"evenodd\"></path>\n",
       "<path clip-rule=\"evenodd\" d=\"M87.9285 10.341V11.8975H89.4886V10.341H87.9285Z\" fill=\"#0065DD\" fill-rule=\"evenodd\"></path>\n",
       "<path clip-rule=\"evenodd\" d=\"M82.7551 2.59666V4.15876H84.3159V2.59666H82.7551Z\" fill=\"#0065DD\" fill-rule=\"evenodd\"></path>\n",
       "<path clip-rule=\"evenodd\" d=\"M87.9285 2.59666V4.15876H89.4886V2.59666H87.9285Z\" fill=\"#0065DD\" fill-rule=\"evenodd\"></path>\n",
       "<path clip-rule=\"evenodd\" d=\"M87.9285 0.0189209V1.5755H89.4886V0.0189209H87.9285Z\" fill=\"#0065DD\" fill-rule=\"evenodd\"></path>\n",
       "<path clip-rule=\"evenodd\" d=\"M62.0674 38.7181V40.2747H63.6281V38.7181H62.0674Z\" fill=\"#0065DD\" fill-rule=\"evenodd\"></path>\n",
       "<path clip-rule=\"evenodd\" d=\"M51.7214 38.7181V40.2747H53.2817V38.7181H51.7214Z\" fill=\"#0065DD\" fill-rule=\"evenodd\"></path>\n",
       "<path clip-rule=\"evenodd\" d=\"M51.7214 46.4568V48.0189H53.2817V46.4568H51.7214Z\" fill=\"#0065DD\" fill-rule=\"evenodd\"></path>\n",
       "<path clip-rule=\"evenodd\" d=\"M10.3467 38.7181V40.2747H11.9069V38.7181H10.3467Z\" fill=\"#0065DD\" fill-rule=\"evenodd\"></path>\n",
       "<path clip-rule=\"evenodd\" d=\"M7.75708 38.7181V40.2747H9.32286V38.7181H7.75708Z\" fill=\"#0065DD\" fill-rule=\"evenodd\"></path>\n",
       "<path clip-rule=\"evenodd\" d=\"M72.4087 38.7181V40.2747H73.9748V38.7181H72.4087Z\" fill=\"#0065DD\" fill-rule=\"evenodd\"></path>\n",
       "<path clip-rule=\"evenodd\" d=\"M31.0339 38.7181V40.2747H32.5943V38.7181H31.0339Z\" fill=\"#0065DD\" fill-rule=\"evenodd\"></path>\n",
       "<path clip-rule=\"evenodd\" d=\"M77.5818 18.0797V19.6362H79.1425V18.0797H77.5818Z\" fill=\"#0065DD\" fill-rule=\"evenodd\"></path>\n",
       "<path clip-rule=\"evenodd\" d=\"M56.8945 18.0797V19.6362H58.4548V18.0797H56.8945Z\" fill=\"#0065DD\" fill-rule=\"evenodd\"></path>\n",
       "<path clip-rule=\"evenodd\" d=\"M87.9285 18.0797V19.6362H89.4886V18.0797H87.9285Z\" fill=\"#0065DD\" fill-rule=\"evenodd\"></path>\n",
       "<path clip-rule=\"evenodd\" d=\"M90.5125 18.0797V19.6362H92.0726V18.0797H90.5125Z\" fill=\"#0065DD\" fill-rule=\"evenodd\"></path>\n",
       "<path clip-rule=\"evenodd\" d=\"M93.1016 18.0797V19.6362H94.6623V18.0797H93.1016Z\" fill=\"#0065DD\" fill-rule=\"evenodd\"></path>\n",
       "<path clip-rule=\"evenodd\" d=\"M90.5125 20.6574V22.2195H92.0726V20.6574H90.5125Z\" fill=\"#0065DD\" fill-rule=\"evenodd\"></path>\n",
       "<path clip-rule=\"evenodd\" d=\"M93.1016 20.6574V22.2195H94.6623V20.6574H93.1016Z\" fill=\"#0065DD\" fill-rule=\"evenodd\"></path>\n",
       "<path clip-rule=\"evenodd\" d=\"M25.8606 18.0797V19.6362H27.4209V18.0797H25.8606Z\" fill=\"#0065DD\" fill-rule=\"evenodd\"></path>\n",
       "<path clip-rule=\"evenodd\" d=\"M82.7551 18.0797V19.6362H84.3159V18.0797H82.7551Z\" fill=\"#0065DD\" fill-rule=\"evenodd\"></path>\n",
       "<path clip-rule=\"evenodd\" d=\"M85.3394 18.0797V19.6362H86.9049V18.0797H85.3394Z\" fill=\"#0065DD\" fill-rule=\"evenodd\"></path>\n",
       "<path clip-rule=\"evenodd\" d=\"M62.0674 18.0797V19.6362H63.6281V18.0797H62.0674Z\" fill=\"#0065DD\" fill-rule=\"evenodd\"></path>\n",
       "<path clip-rule=\"evenodd\" d=\"M59.4785 18.0797V19.6362H61.0441V18.0797H59.4785Z\" fill=\"#0065DD\" fill-rule=\"evenodd\"></path>\n",
       "<path clip-rule=\"evenodd\" d=\"M20.6875 18.0797V19.6362H22.2533V18.0797H20.6875Z\" fill=\"#0065DD\" fill-rule=\"evenodd\"></path>\n",
       "<path clip-rule=\"evenodd\" d=\"M72.4087 18.0797V19.6362H73.9748V18.0797H72.4087Z\" fill=\"#0065DD\" fill-rule=\"evenodd\"></path>\n",
       "<path clip-rule=\"evenodd\" d=\"M31.0339 18.0797V19.6362H32.5943V18.0797H31.0339Z\" fill=\"#0065DD\" fill-rule=\"evenodd\"></path>\n",
       "<path clip-rule=\"evenodd\" d=\"M38.791 38.7181V40.2747H40.3513V38.7181H38.791Z\" fill=\"#0065DD\" fill-rule=\"evenodd\"></path>\n",
       "<path clip-rule=\"evenodd\" d=\"M80.1714 38.7181V40.2747H81.7315V38.7181H80.1714Z\" fill=\"#0065DD\" fill-rule=\"evenodd\"></path>\n",
       "<path clip-rule=\"evenodd\" d=\"M80.1714 10.341V11.8975H81.7315V10.341H80.1714Z\" fill=\"#0065DD\" fill-rule=\"evenodd\"></path>\n",
       "<path clip-rule=\"evenodd\" d=\"M80.1714 2.59666V4.15876H81.7315V2.59666H80.1714Z\" fill=\"#0065DD\" fill-rule=\"evenodd\"></path>\n",
       "<path clip-rule=\"evenodd\" d=\"M85.3394 2.59666V4.15876H86.9049V2.59666H85.3394Z\" fill=\"#0065DD\" fill-rule=\"evenodd\"></path>\n",
       "<path clip-rule=\"evenodd\" d=\"M85.3394 0.0189209V1.5755H86.9049V0.0189209H85.3394Z\" fill=\"#0065DD\" fill-rule=\"evenodd\"></path>\n",
       "<path clip-rule=\"evenodd\" d=\"M59.4785 38.7181V40.2747H61.0441V38.7181H59.4785Z\" fill=\"#0065DD\" fill-rule=\"evenodd\"></path>\n",
       "<path clip-rule=\"evenodd\" d=\"M49.1377 38.7181V40.2747H50.698V38.7181H49.1377Z\" fill=\"#0065DD\" fill-rule=\"evenodd\"></path>\n",
       "<path clip-rule=\"evenodd\" d=\"M49.1377 46.4568V48.0189H50.698V46.4568H49.1377Z\" fill=\"#0065DD\" fill-rule=\"evenodd\"></path>\n",
       "<path clip-rule=\"evenodd\" d=\"M69.8252 38.7181V40.2747H71.3853V38.7181H69.8252Z\" fill=\"#0065DD\" fill-rule=\"evenodd\"></path>\n",
       "<path clip-rule=\"evenodd\" d=\"M28.4443 38.7181V40.2747H30.0102V38.7181H28.4443Z\" fill=\"#0065DD\" fill-rule=\"evenodd\"></path>\n",
       "<path clip-rule=\"evenodd\" d=\"M43.9646 38.7181V40.2747H45.5249V38.7181H43.9646Z\" fill=\"#0065DD\" fill-rule=\"evenodd\"></path>\n",
       "<path clip-rule=\"evenodd\" d=\"M85.3394 38.7181V40.2747H86.9049V38.7181H85.3394Z\" fill=\"#0065DD\" fill-rule=\"evenodd\"></path>\n",
       "<path clip-rule=\"evenodd\" d=\"M85.3394 10.341V11.8975H86.9049V10.341H85.3394Z\" fill=\"#0065DD\" fill-rule=\"evenodd\"></path>\n",
       "<path clip-rule=\"evenodd\" d=\"M90.5125 10.341V11.8975H92.078V10.341H90.5125Z\" fill=\"#0065DD\" fill-rule=\"evenodd\"></path>\n",
       "<path clip-rule=\"evenodd\" d=\"M95.4453 10.3384V11.895H97.0109V10.3384H95.4453Z\" fill=\"#0065DD\" fill-rule=\"evenodd\"></path>\n",
       "<path clip-rule=\"evenodd\" d=\"M64.6516 38.7181V40.2747H66.2117V38.7181H64.6516Z\" fill=\"#0065DD\" fill-rule=\"evenodd\"></path>\n",
       "<path clip-rule=\"evenodd\" d=\"M54.3054 38.7181V40.2747H55.8712V38.7181H54.3054Z\" fill=\"#0065DD\" fill-rule=\"evenodd\"></path>\n",
       "<path clip-rule=\"evenodd\" d=\"M54.3054 46.4568V48.0189H55.8712V46.4568H54.3054Z\" fill=\"#0065DD\" fill-rule=\"evenodd\"></path>\n",
       "<path clip-rule=\"evenodd\" d=\"M12.9304 38.7181V40.2747H14.4907V38.7181H12.9304Z\" fill=\"#0065DD\" fill-rule=\"evenodd\"></path>\n",
       "<path clip-rule=\"evenodd\" d=\"M12.9304 46.4568V48.0189H14.4907V46.4568H12.9304Z\" fill=\"#0065DD\" fill-rule=\"evenodd\"></path>\n",
       "<path clip-rule=\"evenodd\" d=\"M33.6179 38.7181V40.2747H35.1837V38.7181H33.6179Z\" fill=\"#0065DD\" fill-rule=\"evenodd\"></path>\n",
       "<path clip-rule=\"evenodd\" d=\"M36.2073 18.0797V19.6362H37.7675V18.0797H36.2073Z\" fill=\"#0065DD\" fill-rule=\"evenodd\"></path>\n",
       "<path clip-rule=\"evenodd\" d=\"M80.1714 18.0797V19.6362H81.7315V18.0797H80.1714Z\" fill=\"#0065DD\" fill-rule=\"evenodd\"></path>\n",
       "<path clip-rule=\"evenodd\" d=\"M95.6855 20.6574V22.2195H97.2457V20.6574H95.6855Z\" fill=\"#0065DD\" fill-rule=\"evenodd\"></path>\n",
       "<path clip-rule=\"evenodd\" d=\"M69.8252 18.0797V19.6362H71.3853V18.0797H69.8252Z\" fill=\"#0065DD\" fill-rule=\"evenodd\"></path>\n",
       "<path clip-rule=\"evenodd\" d=\"M28.4443 18.0797V19.6362H30.0102V18.0797H28.4443Z\" fill=\"#0065DD\" fill-rule=\"evenodd\"></path>\n",
       "<path clip-rule=\"evenodd\" d=\"M23.2769 18.0797V19.6362H24.8371V18.0797H23.2769Z\" fill=\"#0065DD\" fill-rule=\"evenodd\"></path>\n",
       "<path clip-rule=\"evenodd\" d=\"M54.3054 18.0797V19.6362H55.8712V18.0797H54.3054Z\" fill=\"#0065DD\" fill-rule=\"evenodd\"></path>\n",
       "<path clip-rule=\"evenodd\" d=\"M74.9983 18.0797V19.6362H76.5584V18.0797H74.9983Z\" fill=\"#0065DD\" fill-rule=\"evenodd\"></path>\n",
       "<path clip-rule=\"evenodd\" d=\"M36.2073 28.3961V29.9582H37.7675V28.3961H36.2073Z\" fill=\"#0065DD\" fill-rule=\"evenodd\"></path>\n",
       "<path clip-rule=\"evenodd\" d=\"M77.5818 28.3961V29.9582H79.1425V28.3961H77.5818Z\" fill=\"#0065DD\" fill-rule=\"evenodd\"></path>\n",
       "<path clip-rule=\"evenodd\" d=\"M56.8945 28.3961V29.9582H58.4548V28.3961H56.8945Z\" fill=\"#0065DD\" fill-rule=\"evenodd\"></path>\n",
       "<path clip-rule=\"evenodd\" d=\"M15.5144 28.3961V29.9582H17.0802V28.3961H15.5144Z\" fill=\"#0065DD\" fill-rule=\"evenodd\"></path>\n",
       "<path clip-rule=\"evenodd\" d=\"M46.5481 28.3961V29.9582H48.1139V28.3961H46.5481Z\" fill=\"#0065DD\" fill-rule=\"evenodd\"></path>\n",
       "<path clip-rule=\"evenodd\" d=\"M67.2356 28.3961V29.9582H68.8017V28.3961H67.2356Z\" fill=\"#0065DD\" fill-rule=\"evenodd\"></path>\n",
       "<path clip-rule=\"evenodd\" d=\"M25.8606 28.3961V29.9582H27.4209V28.3961H25.8606Z\" fill=\"#0065DD\" fill-rule=\"evenodd\"></path>\n",
       "<path clip-rule=\"evenodd\" d=\"M41.375 28.3961V29.9582H42.9408V28.3961H41.375Z\" fill=\"#0065DD\" fill-rule=\"evenodd\"></path>\n",
       "<path clip-rule=\"evenodd\" d=\"M62.0674 28.3961V29.9582H63.6281V28.3961H62.0674Z\" fill=\"#0065DD\" fill-rule=\"evenodd\"></path>\n",
       "<path clip-rule=\"evenodd\" d=\"M20.6875 28.3961V29.9582H22.2533V28.3961H20.6875Z\" fill=\"#0065DD\" fill-rule=\"evenodd\"></path>\n",
       "<path clip-rule=\"evenodd\" d=\"M51.7214 28.3961V29.9582H53.2817V28.3961H51.7214Z\" fill=\"#0065DD\" fill-rule=\"evenodd\"></path>\n",
       "<path clip-rule=\"evenodd\" d=\"M72.4087 28.3961V29.9582H73.9748V28.3961H72.4087Z\" fill=\"#0065DD\" fill-rule=\"evenodd\"></path>\n",
       "<path clip-rule=\"evenodd\" d=\"M12.9304 28.3961V29.9582H14.4907V28.3961H12.9304Z\" fill=\"#0065DD\" fill-rule=\"evenodd\"></path>\n",
       "<path clip-rule=\"evenodd\" d=\"M31.0339 28.3961V29.9582H32.5943V28.3961H31.0339Z\" fill=\"#0065DD\" fill-rule=\"evenodd\"></path>\n",
       "<path clip-rule=\"evenodd\" d=\"M38.791 28.3961V29.9582H40.3513V28.3961H38.791Z\" fill=\"#0065DD\" fill-rule=\"evenodd\"></path>\n",
       "<path clip-rule=\"evenodd\" d=\"M80.1714 28.3961V29.9582H81.7315V28.3961H80.1714Z\" fill=\"#0065DD\" fill-rule=\"evenodd\"></path>\n",
       "<path clip-rule=\"evenodd\" d=\"M59.4785 28.3961V29.9582H61.0441V28.3961H59.4785Z\" fill=\"#0065DD\" fill-rule=\"evenodd\"></path>\n",
       "<path clip-rule=\"evenodd\" d=\"M18.1035 28.3961V29.9582H19.6638V28.3961H18.1035Z\" fill=\"#0065DD\" fill-rule=\"evenodd\"></path>\n",
       "<path clip-rule=\"evenodd\" d=\"M49.1377 28.3961V29.9582H50.698V28.3961H49.1377Z\" fill=\"#0065DD\" fill-rule=\"evenodd\"></path>\n",
       "<path clip-rule=\"evenodd\" d=\"M69.8252 28.3961V29.9582H71.3853V28.3961H69.8252Z\" fill=\"#0065DD\" fill-rule=\"evenodd\"></path>\n",
       "<path clip-rule=\"evenodd\" d=\"M28.4443 28.3961V29.9582H30.0102V28.3961H28.4443Z\" fill=\"#0065DD\" fill-rule=\"evenodd\"></path>\n",
       "<path clip-rule=\"evenodd\" d=\"M43.9646 28.3961V29.9582H45.5249V28.3961H43.9646Z\" fill=\"#0065DD\" fill-rule=\"evenodd\"></path>\n",
       "<path clip-rule=\"evenodd\" d=\"M64.6516 28.3961V29.9582H66.2117V28.3961H64.6516Z\" fill=\"#0065DD\" fill-rule=\"evenodd\"></path>\n",
       "<path clip-rule=\"evenodd\" d=\"M23.2769 28.3961V29.9582H24.8371V28.3961H23.2769Z\" fill=\"#0065DD\" fill-rule=\"evenodd\"></path>\n",
       "<path clip-rule=\"evenodd\" d=\"M54.3054 28.3961V29.9582H55.8712V28.3961H54.3054Z\" fill=\"#0065DD\" fill-rule=\"evenodd\"></path>\n",
       "<path clip-rule=\"evenodd\" d=\"M74.9983 28.3961V29.9582H76.5584V28.3961H74.9983Z\" fill=\"#0065DD\" fill-rule=\"evenodd\"></path>\n",
       "<path clip-rule=\"evenodd\" d=\"M33.6179 28.3961V29.9582H35.1837V28.3961H33.6179Z\" fill=\"#0065DD\" fill-rule=\"evenodd\"></path>\n",
       "<path clip-rule=\"evenodd\" d=\"M77.5818 12.9187V14.4752H79.1425V12.9187H77.5818Z\" fill=\"#0065DD\" fill-rule=\"evenodd\"></path>\n",
       "<path clip-rule=\"evenodd\" d=\"M77.5818 5.17992V6.73646H79.1425V5.17992H77.5818Z\" fill=\"#0065DD\" fill-rule=\"evenodd\"></path>\n",
       "<path clip-rule=\"evenodd\" d=\"M56.8945 41.3013V42.8579H58.4548V41.3013H56.8945Z\" fill=\"#0065DD\" fill-rule=\"evenodd\"></path>\n",
       "<path clip-rule=\"evenodd\" d=\"M46.5481 41.3013V42.8579H48.1139V41.3013H46.5481Z\" fill=\"#0065DD\" fill-rule=\"evenodd\"></path>\n",
       "<path clip-rule=\"evenodd\" d=\"M87.9285 41.3013V42.8579H89.4886V41.3013H87.9285Z\" fill=\"#0065DD\" fill-rule=\"evenodd\"></path>\n",
       "<path clip-rule=\"evenodd\" d=\"M87.9285 12.9187V14.4752H89.4886V12.9187H87.9285Z\" fill=\"#0065DD\" fill-rule=\"evenodd\"></path>\n",
       "<path clip-rule=\"evenodd\" d=\"M67.2356 41.3013V42.8579H68.8017V41.3013H67.2356Z\" fill=\"#0065DD\" fill-rule=\"evenodd\"></path>\n",
       "<path clip-rule=\"evenodd\" d=\"M67.2356 12.9187V14.4752H68.8017V12.9187H67.2356Z\" fill=\"#0065DD\" fill-rule=\"evenodd\"></path>\n",
       "<path clip-rule=\"evenodd\" d=\"M67.2356 10.341V11.8975H68.8017V10.341H67.2356Z\" fill=\"#0065DD\" fill-rule=\"evenodd\"></path>\n",
       "<path clip-rule=\"evenodd\" d=\"M41.375 41.3013V42.8579H42.9408V41.3013H41.375Z\" fill=\"#0065DD\" fill-rule=\"evenodd\"></path>\n",
       "<path clip-rule=\"evenodd\" d=\"M82.7551 12.9187V14.4752H84.3159V12.9187H82.7551Z\" fill=\"#0065DD\" fill-rule=\"evenodd\"></path>\n",
       "<path clip-rule=\"evenodd\" d=\"M82.7551 5.17992V6.73646H84.3159V5.17992H82.7551Z\" fill=\"#0065DD\" fill-rule=\"evenodd\"></path>\n",
       "<path clip-rule=\"evenodd\" d=\"M87.9285 5.17992V6.73646H89.4886V5.17992H87.9285Z\" fill=\"#0065DD\" fill-rule=\"evenodd\"></path>\n",
       "<path clip-rule=\"evenodd\" d=\"M62.0674 41.3013V42.8579H63.6281V41.3013H62.0674Z\" fill=\"#0065DD\" fill-rule=\"evenodd\"></path>\n",
       "<path clip-rule=\"evenodd\" d=\"M51.7214 41.3013V42.8579H53.2817V41.3013H51.7214Z\" fill=\"#0065DD\" fill-rule=\"evenodd\"></path>\n",
       "<path clip-rule=\"evenodd\" d=\"M10.3467 41.3013V42.8579H11.9069V41.3013H10.3467Z\" fill=\"#0065DD\" fill-rule=\"evenodd\"></path>\n",
       "<path clip-rule=\"evenodd\" d=\"M72.4087 41.3013V42.8579H73.9748V41.3013H72.4087Z\" fill=\"#0065DD\" fill-rule=\"evenodd\"></path>\n",
       "<path clip-rule=\"evenodd\" d=\"M36.2073 20.6574V22.2195H37.7675V20.6574H36.2073Z\" fill=\"#0065DD\" fill-rule=\"evenodd\"></path>\n",
       "<path clip-rule=\"evenodd\" d=\"M77.5818 20.6574V22.2195H79.1425V20.6574H77.5818Z\" fill=\"#0065DD\" fill-rule=\"evenodd\"></path>\n",
       "<path clip-rule=\"evenodd\" d=\"M56.8945 20.6574V22.2195H58.4548V20.6574H56.8945Z\" fill=\"#0065DD\" fill-rule=\"evenodd\"></path>\n",
       "<path clip-rule=\"evenodd\" d=\"M46.5481 20.6574V22.2195H48.1139V20.6574H46.5481Z\" fill=\"#0065DD\" fill-rule=\"evenodd\"></path>\n",
       "<path clip-rule=\"evenodd\" d=\"M87.9285 20.6574V22.2195H89.4886V20.6574H87.9285Z\" fill=\"#0065DD\" fill-rule=\"evenodd\"></path>\n",
       "<path clip-rule=\"evenodd\" d=\"M67.2356 20.6574V22.2195H68.8017V20.6574H67.2356Z\" fill=\"#0065DD\" fill-rule=\"evenodd\"></path>\n",
       "<path clip-rule=\"evenodd\" d=\"M67.2356 18.0797V19.6362H68.8017V18.0797H67.2356Z\" fill=\"#0065DD\" fill-rule=\"evenodd\"></path>\n",
       "<path clip-rule=\"evenodd\" d=\"M25.8606 20.6574V22.2195H27.4209V20.6574H25.8606Z\" fill=\"#0065DD\" fill-rule=\"evenodd\"></path>\n",
       "<path clip-rule=\"evenodd\" d=\"M41.375 20.6574V22.2195H42.9408V20.6574H41.375Z\" fill=\"#0065DD\" fill-rule=\"evenodd\"></path>\n",
       "<path clip-rule=\"evenodd\" d=\"M82.7551 20.6574V22.2195H84.3159V20.6574H82.7551Z\" fill=\"#0065DD\" fill-rule=\"evenodd\"></path>\n",
       "<path clip-rule=\"evenodd\" d=\"M85.3394 20.6574V22.2195H86.9049V20.6574H85.3394Z\" fill=\"#0065DD\" fill-rule=\"evenodd\"></path>\n",
       "<path clip-rule=\"evenodd\" d=\"M62.0674 20.6574V22.2195H63.6281V20.6574H62.0674Z\" fill=\"#0065DD\" fill-rule=\"evenodd\"></path>\n",
       "<path clip-rule=\"evenodd\" d=\"M20.6875 20.6574V22.2195H22.2533V20.6574H20.6875Z\" fill=\"#0065DD\" fill-rule=\"evenodd\"></path>\n",
       "<path clip-rule=\"evenodd\" d=\"M51.7214 20.6574V22.2195H53.2817V20.6574H51.7214Z\" fill=\"#0065DD\" fill-rule=\"evenodd\"></path>\n",
       "<path clip-rule=\"evenodd\" d=\"M51.7214 15.4964V17.0585H53.2817V15.4964H51.7214Z\" fill=\"#0065DD\" fill-rule=\"evenodd\"></path>\n",
       "<path clip-rule=\"evenodd\" d=\"M51.7214 10.341V11.8975H53.2817V10.341H51.7214Z\" fill=\"#0065DD\" fill-rule=\"evenodd\"></path>\n",
       "<path clip-rule=\"evenodd\" d=\"M72.4087 20.6574V22.2195H73.9748V20.6574H72.4087Z\" fill=\"#0065DD\" fill-rule=\"evenodd\"></path>\n",
       "<path clip-rule=\"evenodd\" d=\"M31.0339 20.6574V22.2195H32.5943V20.6574H31.0339Z\" fill=\"#0065DD\" fill-rule=\"evenodd\"></path>\n",
       "<path clip-rule=\"evenodd\" d=\"M38.791 41.3013V42.8579H40.3513V41.3013H38.791Z\" fill=\"#0065DD\" fill-rule=\"evenodd\"></path>\n",
       "<path clip-rule=\"evenodd\" d=\"M80.1714 12.9187V14.4752H81.7315V12.9187H80.1714Z\" fill=\"#0065DD\" fill-rule=\"evenodd\"></path>\n",
       "<path clip-rule=\"evenodd\" d=\"M80.1714 5.17992V6.73646H81.7315V5.17992H80.1714Z\" fill=\"#0065DD\" fill-rule=\"evenodd\"></path>\n",
       "<path clip-rule=\"evenodd\" d=\"M85.3394 5.17992V6.73646H86.9049V5.17992H85.3394Z\" fill=\"#0065DD\" fill-rule=\"evenodd\"></path>\n",
       "<path clip-rule=\"evenodd\" d=\"M59.4785 41.3013V42.8579H61.0441V41.3013H59.4785Z\" fill=\"#0065DD\" fill-rule=\"evenodd\"></path>\n",
       "<path clip-rule=\"evenodd\" d=\"M49.1377 41.3013V42.8579H50.698V41.3013H49.1377Z\" fill=\"#0065DD\" fill-rule=\"evenodd\"></path>\n",
       "<path clip-rule=\"evenodd\" d=\"M69.8252 41.3013V42.8579H71.3853V41.3013H69.8252Z\" fill=\"#0065DD\" fill-rule=\"evenodd\"></path>\n",
       "<path clip-rule=\"evenodd\" d=\"M28.4443 41.3013V42.8579H30.0102V41.3013H28.4443Z\" fill=\"#0065DD\" fill-rule=\"evenodd\"></path>\n",
       "<path clip-rule=\"evenodd\" d=\"M43.9646 41.3013V42.8579H45.5249V41.3013H43.9646Z\" fill=\"#0065DD\" fill-rule=\"evenodd\"></path>\n",
       "<path clip-rule=\"evenodd\" d=\"M85.3394 41.3013V42.8579H86.9049V41.3013H85.3394Z\" fill=\"#0065DD\" fill-rule=\"evenodd\"></path>\n",
       "<path clip-rule=\"evenodd\" d=\"M85.3394 12.9187V14.4752H86.9049V12.9187H85.3394Z\" fill=\"#0065DD\" fill-rule=\"evenodd\"></path>\n",
       "<path clip-rule=\"evenodd\" d=\"M64.6516 41.3013V42.8579H66.2117V41.3013H64.6516Z\" fill=\"#0065DD\" fill-rule=\"evenodd\"></path>\n",
       "<path clip-rule=\"evenodd\" d=\"M54.3054 41.3013V42.8579H55.8712V41.3013H54.3054Z\" fill=\"#0065DD\" fill-rule=\"evenodd\"></path>\n",
       "<path clip-rule=\"evenodd\" d=\"M54.3054 10.341V11.8975H55.8712V10.341H54.3054Z\" fill=\"#0065DD\" fill-rule=\"evenodd\"></path>\n",
       "<path clip-rule=\"evenodd\" d=\"M12.9304 41.3013V42.8579H14.4907V41.3013H12.9304Z\" fill=\"#0065DD\" fill-rule=\"evenodd\"></path>\n",
       "<path clip-rule=\"evenodd\" d=\"M74.9983 12.9187V14.4752H76.5584V12.9187H74.9983Z\" fill=\"#0065DD\" fill-rule=\"evenodd\"></path>\n",
       "<path clip-rule=\"evenodd\" d=\"M38.791 20.6574V22.2195H40.3513V20.6574H38.791Z\" fill=\"#0065DD\" fill-rule=\"evenodd\"></path>\n",
       "<path clip-rule=\"evenodd\" d=\"M38.791 15.4964V17.0585H40.3513V15.4964H38.791Z\" fill=\"#0065DD\" fill-rule=\"evenodd\"></path>\n",
       "<path clip-rule=\"evenodd\" d=\"M80.1714 20.6574V22.2195H81.7315V20.6574H80.1714Z\" fill=\"#0065DD\" fill-rule=\"evenodd\"></path>\n",
       "<path clip-rule=\"evenodd\" d=\"M59.4785 20.6574V22.2195H61.0441V20.6574H59.4785Z\" fill=\"#0065DD\" fill-rule=\"evenodd\"></path>\n",
       "<path clip-rule=\"evenodd\" d=\"M59.4785 15.4964V17.0585H61.0441V15.4964H59.4785Z\" fill=\"#0065DD\" fill-rule=\"evenodd\"></path>\n",
       "<path clip-rule=\"evenodd\" d=\"M18.1035 20.6574V22.2195H19.6638V20.6574H18.1035Z\" fill=\"#0065DD\" fill-rule=\"evenodd\"></path>\n",
       "<path clip-rule=\"evenodd\" d=\"M49.1377 20.6574V22.2195H50.698V20.6574H49.1377Z\" fill=\"#0065DD\" fill-rule=\"evenodd\"></path>\n",
       "<path clip-rule=\"evenodd\" d=\"M95.6855 23.2406V24.7971H97.2457V23.2406H95.6855Z\" fill=\"#0065DD\" fill-rule=\"evenodd\"></path>\n",
       "<path clip-rule=\"evenodd\" d=\"M69.8252 20.6574V22.2195H71.3853V20.6574H69.8252Z\" fill=\"#0065DD\" fill-rule=\"evenodd\"></path>\n",
       "<path clip-rule=\"evenodd\" d=\"M28.4443 20.6574V22.2195H30.0102V20.6574H28.4443Z\" fill=\"#0065DD\" fill-rule=\"evenodd\"></path>\n",
       "<path clip-rule=\"evenodd\" d=\"M10.3467 20.6574V22.2195H11.9069V20.6574H10.3467Z\" fill=\"#0065DD\" fill-rule=\"evenodd\"></path>\n",
       "<path clip-rule=\"evenodd\" d=\"M43.9646 20.6574V22.2195H45.5249V20.6574H43.9646Z\" fill=\"#0065DD\" fill-rule=\"evenodd\"></path>\n",
       "<path clip-rule=\"evenodd\" d=\"M64.6516 20.6574V22.2195H66.2117V20.6574H64.6516Z\" fill=\"#0065DD\" fill-rule=\"evenodd\"></path>\n",
       "<path clip-rule=\"evenodd\" d=\"M64.6516 18.0797V19.6362H66.2117V18.0797H64.6516Z\" fill=\"#0065DD\" fill-rule=\"evenodd\"></path>\n",
       "<path clip-rule=\"evenodd\" d=\"M23.2769 20.6574V22.2195H24.8371V20.6574H23.2769Z\" fill=\"#0065DD\" fill-rule=\"evenodd\"></path>\n",
       "<path clip-rule=\"evenodd\" d=\"M54.3054 20.6574V22.2195H55.8712V20.6574H54.3054Z\" fill=\"#0065DD\" fill-rule=\"evenodd\"></path>\n",
       "<path clip-rule=\"evenodd\" d=\"M74.9983 20.6574V22.2195H76.5584V20.6574H74.9983Z\" fill=\"#0065DD\" fill-rule=\"evenodd\"></path>\n",
       "<path clip-rule=\"evenodd\" d=\"M33.6179 20.6574V22.2195H35.1837V20.6574H33.6179Z\" fill=\"#0065DD\" fill-rule=\"evenodd\"></path>\n",
       "<path clip-rule=\"evenodd\" d=\"M15.5144 20.6574V22.2195H17.0802V20.6574H15.5144Z\" fill=\"#0065DD\" fill-rule=\"evenodd\"></path>\n",
       "<path clip-rule=\"evenodd\" d=\"M36.2073 30.9793V32.5359H37.7675V30.9793H36.2073Z\" fill=\"#0065DD\" fill-rule=\"evenodd\"></path>\n",
       "<path clip-rule=\"evenodd\" d=\"M77.5818 30.9793V32.5359H79.1425V30.9793H77.5818Z\" fill=\"#0065DD\" fill-rule=\"evenodd\"></path>\n",
       "<path clip-rule=\"evenodd\" d=\"M56.8945 30.9793V32.5359H58.4548V30.9793H56.8945Z\" fill=\"#0065DD\" fill-rule=\"evenodd\"></path>\n",
       "<path clip-rule=\"evenodd\" d=\"M15.5144 30.9793V32.5359H17.0802V30.9793H15.5144Z\" fill=\"#0065DD\" fill-rule=\"evenodd\"></path>\n",
       "<path clip-rule=\"evenodd\" d=\"M15.5144 41.3013V42.8579H17.0802V41.3013H15.5144Z\" fill=\"#0065DD\" fill-rule=\"evenodd\"></path>\n",
       "<path clip-rule=\"evenodd\" d=\"M46.5481 30.9793V32.5359H48.1139V30.9793H46.5481Z\" fill=\"#0065DD\" fill-rule=\"evenodd\"></path>\n",
       "<path clip-rule=\"evenodd\" d=\"M67.2356 30.9793V32.5359H68.8017V30.9793H67.2356Z\" fill=\"#0065DD\" fill-rule=\"evenodd\"></path>\n",
       "<path clip-rule=\"evenodd\" d=\"M25.8606 30.9793V32.5359H27.4209V30.9793H25.8606Z\" fill=\"#0065DD\" fill-rule=\"evenodd\"></path>\n",
       "<path clip-rule=\"evenodd\" d=\"M41.375 30.9793V32.5359H42.9408V30.9793H41.375Z\" fill=\"#0065DD\" fill-rule=\"evenodd\"></path>\n",
       "<path clip-rule=\"evenodd\" d=\"M62.0674 30.9793V32.5359H63.6281V30.9793H62.0674Z\" fill=\"#0065DD\" fill-rule=\"evenodd\"></path>\n",
       "<path clip-rule=\"evenodd\" d=\"M20.6875 30.9793V32.5359H22.2533V30.9793H20.6875Z\" fill=\"#0065DD\" fill-rule=\"evenodd\"></path>\n",
       "<path clip-rule=\"evenodd\" d=\"M51.7214 30.9793V32.5359H53.2817V30.9793H51.7214Z\" fill=\"#0065DD\" fill-rule=\"evenodd\"></path>\n",
       "<path clip-rule=\"evenodd\" d=\"M72.4087 30.9793V32.5359H73.9748V30.9793H72.4087Z\" fill=\"#0065DD\" fill-rule=\"evenodd\"></path>\n",
       "<path clip-rule=\"evenodd\" d=\"M12.9304 30.9793V32.5359H14.4907V30.9793H12.9304Z\" fill=\"#0065DD\" fill-rule=\"evenodd\"></path>\n",
       "<path clip-rule=\"evenodd\" d=\"M31.0339 30.9793V32.5359H32.5943V30.9793H31.0339Z\" fill=\"#0065DD\" fill-rule=\"evenodd\"></path>\n",
       "<path clip-rule=\"evenodd\" d=\"M38.791 30.9793V32.5359H40.3513V30.9793H38.791Z\" fill=\"#0065DD\" fill-rule=\"evenodd\"></path>\n",
       "<path clip-rule=\"evenodd\" d=\"M80.1714 30.9793V32.5359H81.7315V30.9793H80.1714Z\" fill=\"#0065DD\" fill-rule=\"evenodd\"></path>\n",
       "<path clip-rule=\"evenodd\" d=\"M59.4785 30.9793V32.5359H61.0441V30.9793H59.4785Z\" fill=\"#0065DD\" fill-rule=\"evenodd\"></path>\n",
       "<path clip-rule=\"evenodd\" d=\"M18.1035 30.9793V32.5359H19.6638V30.9793H18.1035Z\" fill=\"#0065DD\" fill-rule=\"evenodd\"></path>\n",
       "<path clip-rule=\"evenodd\" d=\"M49.1377 30.9793V32.5359H50.698V30.9793H49.1377Z\" fill=\"#0065DD\" fill-rule=\"evenodd\"></path>\n",
       "<path clip-rule=\"evenodd\" d=\"M69.8252 30.9793V32.5359H71.3853V30.9793H69.8252Z\" fill=\"#0065DD\" fill-rule=\"evenodd\"></path>\n",
       "<path clip-rule=\"evenodd\" d=\"M28.4443 30.9793V32.5359H30.0102V30.9793H28.4443Z\" fill=\"#0065DD\" fill-rule=\"evenodd\"></path>\n",
       "<path clip-rule=\"evenodd\" d=\"M43.9646 30.9793V32.5359H45.5249V30.9793H43.9646Z\" fill=\"#0065DD\" fill-rule=\"evenodd\"></path>\n",
       "<path clip-rule=\"evenodd\" d=\"M64.6516 30.9793V32.5359H66.2117V30.9793H64.6516Z\" fill=\"#0065DD\" fill-rule=\"evenodd\"></path>\n",
       "<path clip-rule=\"evenodd\" d=\"M23.2769 30.9793V32.5359H24.8371V30.9793H23.2769Z\" fill=\"#0065DD\" fill-rule=\"evenodd\"></path>\n",
       "<path clip-rule=\"evenodd\" d=\"M54.3054 30.9793V32.5359H55.8712V30.9793H54.3054Z\" fill=\"#0065DD\" fill-rule=\"evenodd\"></path>\n",
       "<path clip-rule=\"evenodd\" d=\"M74.9983 30.9793V32.5359H76.5584V30.9793H74.9983Z\" fill=\"#0065DD\" fill-rule=\"evenodd\"></path>\n",
       "<path clip-rule=\"evenodd\" d=\"M33.6179 30.9793V32.5359H35.1837V30.9793H33.6179Z\" fill=\"#0065DD\" fill-rule=\"evenodd\"></path>\n",
       "<path clip-rule=\"evenodd\" d=\"M36.2073 36.1403V37.6969H37.7675V36.1403H36.2073Z\" fill=\"#0065DD\" fill-rule=\"evenodd\"></path>\n",
       "<path clip-rule=\"evenodd\" d=\"M77.5818 36.1403V37.6969H79.1425V36.1403H77.5818Z\" fill=\"#0065DD\" fill-rule=\"evenodd\"></path>\n",
       "<path clip-rule=\"evenodd\" d=\"M56.8945 36.1403V37.6969H58.4548V36.1403H56.8945Z\" fill=\"#0065DD\" fill-rule=\"evenodd\"></path>\n",
       "<path clip-rule=\"evenodd\" d=\"M15.5144 36.1403V37.6969H17.0802V36.1403H15.5144Z\" fill=\"#0065DD\" fill-rule=\"evenodd\"></path>\n",
       "<path clip-rule=\"evenodd\" d=\"M46.5481 36.1403V37.6969H48.1139V36.1403H46.5481Z\" fill=\"#0065DD\" fill-rule=\"evenodd\"></path>\n",
       "<path clip-rule=\"evenodd\" d=\"M87.9285 36.1403V37.6969H89.4886V36.1403H87.9285Z\" fill=\"#0065DD\" fill-rule=\"evenodd\"></path>\n",
       "<path clip-rule=\"evenodd\" d=\"M67.2356 36.1403V37.6969H68.8017V36.1403H67.2356Z\" fill=\"#0065DD\" fill-rule=\"evenodd\"></path>\n",
       "<path clip-rule=\"evenodd\" d=\"M25.8606 36.1403V37.6969H27.4209V36.1403H25.8606Z\" fill=\"#0065DD\" fill-rule=\"evenodd\"></path>\n",
       "<path clip-rule=\"evenodd\" d=\"M41.375 36.1403V37.6969H42.9408V36.1403H41.375Z\" fill=\"#0065DD\" fill-rule=\"evenodd\"></path>\n",
       "<path clip-rule=\"evenodd\" d=\"M82.7551 36.1403V37.6969H84.3159V36.1403H82.7551Z\" fill=\"#0065DD\" fill-rule=\"evenodd\"></path>\n",
       "<path clip-rule=\"evenodd\" d=\"M62.0674 36.1403V37.6969H63.6281V36.1403H62.0674Z\" fill=\"#0065DD\" fill-rule=\"evenodd\"></path>\n",
       "<path clip-rule=\"evenodd\" d=\"M51.7214 36.1403V37.6969H53.2817V36.1403H51.7214Z\" fill=\"#0065DD\" fill-rule=\"evenodd\"></path>\n",
       "<path clip-rule=\"evenodd\" d=\"M10.3467 36.1403V37.6969H11.9069V36.1403H10.3467Z\" fill=\"#0065DD\" fill-rule=\"evenodd\"></path>\n",
       "<path clip-rule=\"evenodd\" d=\"M72.4087 36.1403V37.6969H73.9748V36.1403H72.4087Z\" fill=\"#0065DD\" fill-rule=\"evenodd\"></path>\n",
       "<path clip-rule=\"evenodd\" d=\"M31.0339 36.1403V37.6969H32.5943V36.1403H31.0339Z\" fill=\"#0065DD\" fill-rule=\"evenodd\"></path>\n",
       "<path clip-rule=\"evenodd\" d=\"M38.791 36.1403V37.6969H40.3513V36.1403H38.791Z\" fill=\"#0065DD\" fill-rule=\"evenodd\"></path>\n",
       "<path clip-rule=\"evenodd\" d=\"M80.1714 36.1403V37.6969H81.7315V36.1403H80.1714Z\" fill=\"#0065DD\" fill-rule=\"evenodd\"></path>\n",
       "<path clip-rule=\"evenodd\" d=\"M59.4785 36.1403V37.6969H61.0441V36.1403H59.4785Z\" fill=\"#0065DD\" fill-rule=\"evenodd\"></path>\n",
       "<path clip-rule=\"evenodd\" d=\"M18.1035 36.1403V37.6969H19.6638V36.1403H18.1035Z\" fill=\"#0065DD\" fill-rule=\"evenodd\"></path>\n",
       "<path clip-rule=\"evenodd\" d=\"M49.1377 36.1403V37.6969H50.698V36.1403H49.1377Z\" fill=\"#0065DD\" fill-rule=\"evenodd\"></path>\n",
       "<path clip-rule=\"evenodd\" d=\"M90.5125 36.1403V37.6969H92.0726V36.1403H90.5125Z\" fill=\"#0065DD\" fill-rule=\"evenodd\"></path>\n",
       "<path clip-rule=\"evenodd\" d=\"M69.8252 36.1403V37.6969H71.3853V36.1403H69.8252Z\" fill=\"#0065DD\" fill-rule=\"evenodd\"></path>\n",
       "<path clip-rule=\"evenodd\" d=\"M28.4443 36.1403V37.6969H30.0102V36.1403H28.4443Z\" fill=\"#0065DD\" fill-rule=\"evenodd\"></path>\n",
       "<path clip-rule=\"evenodd\" d=\"M43.9646 36.1403V37.6969H45.5249V36.1403H43.9646Z\" fill=\"#0065DD\" fill-rule=\"evenodd\"></path>\n",
       "<path clip-rule=\"evenodd\" d=\"M85.3394 36.1403V37.6969H86.9049V36.1403H85.3394Z\" fill=\"#0065DD\" fill-rule=\"evenodd\"></path>\n",
       "<path clip-rule=\"evenodd\" d=\"M64.6516 36.1403V37.6969H66.2117V36.1403H64.6516Z\" fill=\"#0065DD\" fill-rule=\"evenodd\"></path>\n",
       "<path clip-rule=\"evenodd\" d=\"M54.3054 36.1403V37.6969H55.8712V36.1403H54.3054Z\" fill=\"#0065DD\" fill-rule=\"evenodd\"></path>\n",
       "<path clip-rule=\"evenodd\" d=\"M12.9304 36.1403V37.6969H14.4907V36.1403H12.9304Z\" fill=\"#0065DD\" fill-rule=\"evenodd\"></path>\n",
       "<path clip-rule=\"evenodd\" d=\"M12.9304 43.8791V45.4357H14.4907V43.8791H12.9304Z\" fill=\"#0065DD\" fill-rule=\"evenodd\"></path>\n",
       "<path clip-rule=\"evenodd\" d=\"M74.9983 36.1403V37.6969H76.5584V36.1403H74.9983Z\" fill=\"#0065DD\" fill-rule=\"evenodd\"></path>\n",
       "<path clip-rule=\"evenodd\" d=\"M33.6179 36.1403V37.6969H35.1837V36.1403H33.6179Z\" fill=\"#0065DD\" fill-rule=\"evenodd\"></path>\n",
       "<path clip-rule=\"evenodd\" d=\"M36.2073 25.8183V27.3748H37.7675V25.8183H36.2073Z\" fill=\"#0065DD\" fill-rule=\"evenodd\"></path>\n",
       "<path clip-rule=\"evenodd\" d=\"M77.5818 25.8183V27.3748H79.1425V25.8183H77.5818Z\" fill=\"#0065DD\" fill-rule=\"evenodd\"></path>\n",
       "<path clip-rule=\"evenodd\" d=\"M56.8945 25.8183V27.3748H58.4548V25.8183H56.8945Z\" fill=\"#0065DD\" fill-rule=\"evenodd\"></path>\n",
       "<path clip-rule=\"evenodd\" d=\"M15.5144 25.8183V27.3748H17.0802V25.8183H15.5144Z\" fill=\"#0065DD\" fill-rule=\"evenodd\"></path>\n",
       "<path clip-rule=\"evenodd\" d=\"M46.5481 25.8183V27.3748H48.1139V25.8183H46.5481Z\" fill=\"#0065DD\" fill-rule=\"evenodd\"></path>\n",
       "<path clip-rule=\"evenodd\" d=\"M67.2356 25.8183V27.3748H68.8017V25.8183H67.2356Z\" fill=\"#0065DD\" fill-rule=\"evenodd\"></path>\n",
       "<path clip-rule=\"evenodd\" d=\"M25.8606 25.8183V27.3748H27.4209V25.8183H25.8606Z\" fill=\"#0065DD\" fill-rule=\"evenodd\"></path>\n",
       "<path clip-rule=\"evenodd\" d=\"M5.1731 36.1403V37.6969H6.73334V36.1403H5.1731Z\" fill=\"#0065DD\" fill-rule=\"evenodd\"></path>\n",
       "<path clip-rule=\"evenodd\" d=\"M41.375 25.8183V27.3748H42.9408V25.8183H41.375Z\" fill=\"#0065DD\" fill-rule=\"evenodd\"></path>\n",
       "<path clip-rule=\"evenodd\" d=\"M62.0674 25.8183V27.3748H63.6281V25.8183H62.0674Z\" fill=\"#0065DD\" fill-rule=\"evenodd\"></path>\n",
       "<path clip-rule=\"evenodd\" d=\"M20.6875 25.8183V27.3748H22.2533V25.8183H20.6875Z\" fill=\"#0065DD\" fill-rule=\"evenodd\"></path>\n",
       "<path clip-rule=\"evenodd\" d=\"M0 36.1403V37.6969H1.56028V36.1403H0Z\" fill=\"#0065DD\" fill-rule=\"evenodd\"></path>\n",
       "<path clip-rule=\"evenodd\" d=\"M51.7214 25.8183V27.3748H53.2817V25.8183H51.7214Z\" fill=\"#0065DD\" fill-rule=\"evenodd\"></path>\n",
       "<path clip-rule=\"evenodd\" d=\"M72.4087 25.8183V27.3748H73.9748V25.8183H72.4087Z\" fill=\"#0065DD\" fill-rule=\"evenodd\"></path>\n",
       "<path clip-rule=\"evenodd\" d=\"M31.0339 25.8183V27.3748H32.5943V25.8183H31.0339Z\" fill=\"#0065DD\" fill-rule=\"evenodd\"></path>\n",
       "<path clip-rule=\"evenodd\" d=\"M38.791 25.8183V27.3748H40.3513V25.8183H38.791Z\" fill=\"#0065DD\" fill-rule=\"evenodd\"></path>\n",
       "<path clip-rule=\"evenodd\" d=\"M80.1714 25.8183V27.3748H81.7315V25.8183H80.1714Z\" fill=\"#0065DD\" fill-rule=\"evenodd\"></path>\n",
       "<path clip-rule=\"evenodd\" d=\"M59.4785 25.8183V27.3748H61.0441V25.8183H59.4785Z\" fill=\"#0065DD\" fill-rule=\"evenodd\"></path>\n",
       "<path clip-rule=\"evenodd\" d=\"M18.1035 25.8183V27.3748H19.6638V25.8183H18.1035Z\" fill=\"#0065DD\" fill-rule=\"evenodd\"></path>\n",
       "<path clip-rule=\"evenodd\" d=\"M49.1377 25.8183V27.3748H50.698V25.8183H49.1377Z\" fill=\"#0065DD\" fill-rule=\"evenodd\"></path>\n",
       "<path clip-rule=\"evenodd\" d=\"M69.8252 25.8183V27.3748H71.3853V25.8183H69.8252Z\" fill=\"#0065DD\" fill-rule=\"evenodd\"></path>\n",
       "<path clip-rule=\"evenodd\" d=\"M28.4443 25.8183V27.3748H30.0102V25.8183H28.4443Z\" fill=\"#0065DD\" fill-rule=\"evenodd\"></path>\n",
       "<path clip-rule=\"evenodd\" d=\"M43.9646 25.8183V27.3748H45.5249V25.8183H43.9646Z\" fill=\"#0065DD\" fill-rule=\"evenodd\"></path>\n",
       "<path clip-rule=\"evenodd\" d=\"M64.6516 25.8183V27.3748H66.2117V25.8183H64.6516Z\" fill=\"#0065DD\" fill-rule=\"evenodd\"></path>\n",
       "<path clip-rule=\"evenodd\" d=\"M23.2769 25.8183V27.3748H24.8371V25.8183H23.2769Z\" fill=\"#0065DD\" fill-rule=\"evenodd\"></path>\n",
       "<path clip-rule=\"evenodd\" d=\"M54.3054 25.8183V27.3748H55.8712V25.8183H54.3054Z\" fill=\"#0065DD\" fill-rule=\"evenodd\"></path>\n",
       "<path clip-rule=\"evenodd\" d=\"M74.9983 25.8183V27.3748H76.5584V25.8183H74.9983Z\" fill=\"#0065DD\" fill-rule=\"evenodd\"></path>\n",
       "<path clip-rule=\"evenodd\" d=\"M33.6179 25.8183V27.3748H35.1837V25.8183H33.6179Z\" fill=\"#0065DD\" fill-rule=\"evenodd\"></path>\n",
       "<path clip-rule=\"evenodd\" d=\"M10.2998 30.9793V32.5359H11.8601V30.9793H10.2998Z\" fill=\"#0065DD\" fill-rule=\"evenodd\"></path>\n",
       "<path clip-rule=\"evenodd\" d=\"M5.12671 30.9793V32.5359H6.68695V30.9793H5.12671Z\" fill=\"#0065DD\" fill-rule=\"evenodd\"></path>\n",
       "<path clip-rule=\"evenodd\" d=\"M2.6355 38.7181V40.2747H4.2013V38.7181H2.6355Z\" fill=\"#0065DD\" fill-rule=\"evenodd\"></path>\n",
       "<path clip-rule=\"evenodd\" d=\"M2.6355 36.1403V37.6969H4.2013V36.1403H2.6355Z\" fill=\"#0065DD\" fill-rule=\"evenodd\"></path>\n",
       "<path clip-rule=\"evenodd\" d=\"M2.6355 30.9793V32.5359H4.19576V30.9793H2.6355Z\" fill=\"#0065DD\" fill-rule=\"evenodd\"></path>\n",
       "<path clip-rule=\"evenodd\" d=\"M7.71045 30.9793V32.5359H9.27629V30.9793H7.71045Z\" fill=\"#0065DD\" fill-rule=\"evenodd\"></path>\n",
       "</a>\n",
       "<g id=\"eis-advice\" pointer-events=\"all\">\n",
       "<rect fill=\"#00000000\" height=\"45\" width=\"100\" x=\"105\" y=\"0\"></rect>\n",
       "<path d=\"M108.817 17.2177H117.079V18.6077H107.32V4.66866H116.875V6.06837H108.817V10.6467H115.281V12.0367H108.817V17.2177Z\" fill=\"#0065DD\"></path>\n",
       "<path d=\"M131.796 18.6077H130.308V7.36121L121.745 18.6077H120.452V4.66866H121.949V15.9249L130.503 4.66866H131.796V18.6077Z\" fill=\"#0065DD\"></path>\n",
       "<path d=\"M137.579 16.7122C136.186 15.319 135.489 13.6276 135.489 11.6381C135.489 9.64875 136.186 7.95739 137.579 6.56413C138.972 5.17086 140.663 4.47423 142.653 4.47423C143.359 4.47423 144.036 4.57467 144.685 4.77556C145.332 4.96997 145.867 5.2065 146.288 5.48515C146.716 5.7638 147.089 6.04572 147.406 6.3308C147.73 6.61593 147.963 6.85899 148.106 7.05984L148.329 7.36119L147.328 8.25549C147.29 8.19066 147.231 8.10644 147.153 8.00271C147.075 7.89256 146.894 7.70143 146.609 7.42926C146.324 7.15709 146.013 6.91727 145.676 6.70994C145.345 6.49606 144.908 6.30168 144.364 6.1267C143.82 5.95173 143.249 5.86425 142.653 5.86425C141.059 5.86425 139.714 6.41832 138.619 7.52644C137.524 8.63457 136.976 10.0051 136.976 11.6381C136.976 13.2712 137.524 14.6418 138.619 15.7499C139.714 16.858 141.059 17.4121 142.653 17.4121C143.249 17.4121 143.82 17.3311 144.364 17.1691C144.908 17.0006 145.359 16.7997 145.715 16.5664C146.078 16.3331 146.395 16.1031 146.667 15.8763C146.94 15.643 147.134 15.4388 147.251 15.2639L147.436 15.0209L148.427 15.9249C148.375 16.0026 148.294 16.1063 148.184 16.2359C148.08 16.359 147.844 16.5859 147.474 16.9163C147.111 17.2468 146.725 17.5417 146.317 17.8009C145.909 18.0601 145.371 18.2934 144.704 18.5008C144.043 18.7017 143.359 18.8021 142.653 18.8021C140.663 18.8021 138.972 18.1055 137.579 16.7122Z\" fill=\"#0065DD\"></path>\n",
       "<path d=\"M112.998 34.4649C113.076 34.4779 113.176 34.5103 113.299 34.5622C113.429 34.6075 113.659 34.7209 113.989 34.9023C114.32 35.0773 114.615 35.2847 114.874 35.5245C115.133 35.7642 115.366 36.1012 115.574 36.5354C115.781 36.963 115.885 37.4361 115.885 37.9545C115.885 39.0433 115.408 39.9959 114.456 40.8124C113.51 41.6224 112.292 42.0274 110.801 42.0274C110.192 42.0274 109.602 41.9529 109.032 41.8039C108.462 41.6483 107.989 41.4669 107.613 41.2595C107.243 41.0456 106.916 40.8318 106.631 40.6179C106.346 40.4041 106.145 40.2259 106.028 40.0833L105.824 39.8403L106.825 38.8488C106.865 38.9007 106.919 38.9687 106.991 39.0529C107.069 39.1307 107.231 39.2733 107.477 39.4806C107.73 39.6816 107.998 39.863 108.284 40.025C108.569 40.1805 108.941 40.3231 109.401 40.4527C109.862 40.5759 110.328 40.6374 110.801 40.6374C111.903 40.6374 112.774 40.3717 113.416 39.8403C114.064 39.309 114.388 38.6803 114.388 37.9545C114.388 37.1704 114.064 36.5095 113.416 35.9716C112.774 35.4337 111.903 35.1648 110.801 35.1648H109.216V33.7748H110.801C111.754 33.7748 112.505 33.5512 113.056 33.1041C113.614 32.6569 113.892 32.1158 113.892 31.4808C113.892 30.8068 113.617 30.2398 113.066 29.7797C112.515 29.3196 111.76 29.0895 110.801 29.0895C110.153 29.0895 109.541 29.2224 108.964 29.4881C108.387 29.7538 107.966 30.0194 107.7 30.2851L107.321 30.6837L106.33 29.6922C106.369 29.6404 106.43 29.5691 106.515 29.4783C106.599 29.3812 106.783 29.2191 107.069 28.9924C107.354 28.7655 107.655 28.5679 107.973 28.3994C108.296 28.2244 108.711 28.0656 109.216 27.9231C109.728 27.774 110.257 27.6995 110.801 27.6995C112.194 27.6995 113.306 28.0559 114.135 28.7687C114.965 29.4751 115.38 30.3467 115.38 31.3836C115.38 31.8372 115.295 32.2487 115.127 32.6181C114.965 32.9874 114.767 33.2823 114.534 33.5026C114.307 33.723 114.077 33.9108 113.843 34.0664C113.611 34.2154 113.406 34.3223 113.231 34.3872L112.998 34.4649Z\" fill=\"#334059\"></path>\n",
       "<path d=\"M126.713 36.5548L124.03 29.9839L121.337 36.5548H126.713ZM127.315 37.9546H120.745L119.15 41.833H117.556L123.33 27.894H124.72L130.494 41.833H128.91L127.315 37.9546Z\" fill=\"#334059\"></path>\n",
       "<path d=\"M134.985 35.7578L142.148 27.894H144.034L138.766 33.6679L144.54 41.833H142.742L137.765 34.7663L134.985 37.7505V41.833H133.488V27.894H134.985V35.7578Z\" fill=\"#334059\"></path>\n",
       "<path d=\"M151.606 36.0591L155.387 27.894H156.981L151.8 38.7517C151.23 39.944 150.65 40.7897 150.061 41.2887C149.47 41.7812 148.689 42.0274 147.718 42.0274C147.504 42.0274 147.29 42.0112 147.076 41.9788C146.869 41.9465 146.713 41.9108 146.609 41.8719L146.425 41.833V40.443C146.755 40.5727 147.154 40.6374 147.62 40.6374C148.242 40.6374 148.735 40.4949 149.098 40.2097C149.467 39.9246 149.837 39.4386 150.206 38.7517L150.808 37.6533C150.381 36.8432 149.571 35.3204 148.379 33.0847C147.186 30.849 146.269 29.1188 145.627 27.894H147.222L151.606 36.0591Z\" fill=\"#334059\"></path>\n",
       "<path d=\"M170.521 27.894V41.833H169.024V29.2937H161.268V41.833H159.771V27.894H170.521Z\" fill=\"#334059\"></path>\n",
       "<path d=\"M176.596 35.7578L183.76 27.894H185.646L180.377 33.6679L186.152 41.833H184.353L179.376 34.7663L176.596 37.7505V41.833H175.099V27.894H176.596V35.7578Z\" fill=\"#334059\"></path>\n",
       "<path d=\"M200.178 41.833H198.69V30.5865L190.127 41.833H188.834V27.894H190.331V39.1502L198.885 27.894H200.178V41.833Z\" fill=\"#334059\"></path>\n",
       "</g>\n",
       "</g>\n",
       "<defs>\n",
       "<clippath id=\"clip0_129_4694\">\n",
       "<rect fill=\"white\" height=\"48\" width=\"200\"></rect>\n",
       "</clippath>\n",
       "</defs>\n",
       "</svg>\n",
       "<div class=\"custom-tooltip-main blockMain btn-wrap-params\">\n",
       "<span class=\"tooltiptext\" id=\"eis-tooltiptext\">  Официальный сайт единой информационной системы в сфере закупок в информационно-телекоммуникационной сети Интернет (далее – Официальный сайт ЕИС) предназначен для обеспечения свободного и безвозмездного доступа к полной и достоверной информации о контрактной системе в сфере закупок и закупках товаров, работ, услуг, отдельными видами юридических лиц, а также для формирования, обработки и хранения такой информации.   Порядок размещения информации на Официальном сайте ЕИС и ее содержание регламентируется Федеральным законом от 05.04.2013 № 44-ФЗ «О контрактной системе в сфере закупок товаров, работ, услуг для обеспечения государственных и муниципальных нужд» и Федеральным законом от 18.07.2011 № 223-ФЗ «О закупках товаров, работ, услуг отдельными видами юридических лиц», а также соответствующими подзаконными актами.</span>\n",
       "</div>\n",
       "</div>\n",
       "<div class=\"col-sm-auto\" style=\"font-size: 13px;\">\n",
       "<a href=\"/epz/main/public/user-feedback.html\">\n",
       "<img alt=\"\" src=\"/epz/static/img/icons/icon_envelop_circle.svg\"/>\n",
       "<span class=\"banners-top-item__title\">Техническая поддержка</span>\n",
       "</a>\n",
       "</div>\n",
       "<div class=\"col-sm-auto pr-0\" style=\"font-size: 13px;\">\n",
       "<a href=\"/epz/main/public/qa/view.html\">\n",
       "<img alt=\"\" src=\"/epz/static/img/icons/icon_faq.svg\"/>\n",
       "<span class=\"banners-top-item__title\">Часто задаваемые вопросы</span>\n",
       "</a>\n",
       "</div>\n",
       "</div>\n",
       "</div>\n",
       "</header>\n",
       "<script type=\"text/javascript\">\n",
       "    $('#eis-advice').hover(\n",
       "        function () {\n",
       "            $('#eis-tooltiptext').css('visibility', 'visible');\n",
       "        },\n",
       "        function () {\n",
       "            $('#eis-tooltiptext').css('visibility', 'hidden');\n",
       "        });\n",
       "</script>\n",
       "<header class=\"header header-bottom\">\n",
       "<div class=\"container\">\n",
       "<div class=\"row\">\n",
       "<div class=\"col-12\">\n",
       "<ul class=\"menu-mega mb-0\">\n",
       "<ul class=\"menu-list\">\n",
       "<li class=\"main-item\" style=\"cursor: pointer;\">\n",
       "<img alt=\"\" src=\"/epz/static/img/icons/icon_sitemap.svg\"/>\n",
       "<a class=\"main-link\" href=\"/epz/main/public/siteMap.html\">Все разделы</a>\n",
       "</li>\n",
       "<li class=\"main-item parent-node\" style=\"cursor: pointer;\">\n",
       "<a class=\"main-link _order\" data-law=\"   \" href=\"http://zakupki.gov.ru/epz/order/extendedsearch/results.html\">\n",
       "        Закупки\n",
       "    </a>\n",
       "</li>\n",
       "<li class=\"main-item parent-node\" style=\"cursor: pointer;\">\n",
       "<a class=\"main-link\" data-law=\" \">\n",
       "        Контракты и договоры\n",
       "    </a>\n",
       "<ul>\n",
       "<li class=\"submenu-col\">\n",
       "<ul class=\"submenu-list menu-list child-node\">\n",
       "<li class=\"submenu-list__item\">\n",
       "<a class=\"submenu-list__link _contract\" data-law=\"FZ44\" href=\"http://zakupki.gov.ru/epz/contract/search/results.html\">\n",
       "<span class=\"link__text\">Реестр контрактов</span>\n",
       "<span class=\"link__desc\">44-ФЗ</span>\n",
       "</a>\n",
       "</li>\n",
       "<li class=\"submenu-list__item\">\n",
       "<a class=\"submenu-list__link _contractfz223\" data-law=\"FZ223\" href=\"http://zakupki.gov.ru/epz/contractfz223/search/results.html\">\n",
       "<span class=\"link__text\">Реестр договоров</span>\n",
       "<span class=\"link__desc\">223-ФЗ</span>\n",
       "</a>\n",
       "</li>\n",
       "<li class=\"submenu-list__item\">\n",
       "<a class=\"submenu-list__link _capitalrepairs\" data-law=\"PPRF615\" href=\"https://zakupki.gov.ru/epz/capitalrepairs/search/results.html\">\n",
       "<span class=\"link__text\">Реестр договоров о проведении капитального ремонта</span>\n",
       "<span class=\"link__desc\">ПП РФ-615</span>\n",
       "</a>\n",
       "</li>\n",
       "<li class=\"submenu-list__item\">\n",
       "<a class=\"submenu-list__link _dizk\" data-law=\"FZ44\" href=\"https://zakupki.gov.ru/epz/dizk/search/results.html\">\n",
       "<span class=\"link__text\">Дополнительная информация о контрактах</span>\n",
       "<span class=\"link__desc\">44-ФЗ</span>\n",
       "</a>\n",
       "</li>\n",
       "<li class=\"submenu-list__item\">\n",
       "<a class=\"submenu-list__link _btk\" data-law=\"FZ44\" href=\"http://zakupki.gov.ru/epz/btk/search/results.html\">\n",
       "<span class=\"link__text\">Библиотека типовых контрактов, типовых условий контрактов</span>\n",
       "<span class=\"link__desc\">44-ФЗ</span>\n",
       "</a>\n",
       "</li>\n",
       "</ul>\n",
       "</li>\n",
       "</ul>\n",
       "</li>\n",
       "<li class=\"main-item parent-node\" style=\"cursor: pointer;\">\n",
       "<a class=\"main-link\" data-law=\" \">\n",
       "        Планирование\n",
       "    </a>\n",
       "<ul>\n",
       "<li class=\"submenu-col\">\n",
       "<ul class=\"submenu-list menu-list child-node\">\n",
       "<li class=\"submenu-list__item\">\n",
       "<a class=\"submenu-list__link _orderplan\" data-law=\"FZ44\" href=\"https://zakupki.gov.ru/epz/orderplan/search/results.html?morphology=on&amp;search-filter=%D0%94%D0%B0%D1%82%D0%B5+%D1%80%D0%B0%D0%B7%D0%BC%D0%B5%D1%89%D0%B5%D0%BD%D0%B8%D1%8F&amp;structured=true&amp;fz44=on&amp;customerPlaceWithNested=on&amp;actualPeriodRangeYearFrom=2020&amp;sortBy=BY_MODIFY_DATE&amp;pageNumber=1&amp;sortDirection=false&amp;recordsPerPage=_10&amp;searchType=false\">\n",
       "<span class=\"link__text\">Планы-графики закупок</span>\n",
       "<span class=\"link__desc\">44-ФЗ</span>\n",
       "</a>\n",
       "</li>\n",
       "<li class=\"submenu-list__item\">\n",
       "<a class=\"submenu-list__link _orderplan\" data-law=\"FZ223\" href=\"http://zakupki.gov.ru/epz/orderplan/search/results.html?morphology=on&amp;structured=true&amp;searchType=false&amp;fz223=on&amp;region_regions_5277335=region_regions_5277335&amp;regionDeleted=false&amp;sortBy=BY_MODIFY_DATE&amp;pageNumber=1&amp;sortDirection=false&amp;recordsPerPage=_10\">\n",
       "<span class=\"link__text\">Планы закупки</span>\n",
       "<span class=\"link__desc\">223-ФЗ</span>\n",
       "</a>\n",
       "</li>\n",
       "<li class=\"submenu-list__item\">\n",
       "<a class=\"submenu-list__link _oboz\" data-law=\"FZ44\" href=\"https://zakupki.gov.ru/epz/oboz/public/search/results.html\">\n",
       "<span class=\"link__text\">Обязательное общественное обсуждение закупок</span>\n",
       "<span class=\"link__desc\">44-ФЗ</span>\n",
       "</a>\n",
       "</li>\n",
       "<li class=\"submenu-list__item\">\n",
       "<a class=\"submenu-list__link _pricereq\" data-law=\"FZ44\" href=\"http://zakupki.gov.ru/epz/pricereq/search/results.html\">\n",
       "<span class=\"link__text\">Запросы цен товаров, работ, услуг</span>\n",
       "<span class=\"link__desc\">44-ФЗ</span>\n",
       "</a>\n",
       "</li>\n",
       "<li class=\"submenu-list__item\">\n",
       "<a class=\"submenu-list__link _normalizationrules\" data-law=\"FZ44\" href=\"http://zakupki.gov.ru/epz/normalizationrules/search/results.html\">\n",
       "<span class=\"link__text\">Правила нормирования в сфере закупок</span>\n",
       "<span class=\"link__desc\">44-ФЗ</span>\n",
       "</a>\n",
       "</li>\n",
       "<li class=\"submenu-list__item\">\n",
       "<a class=\"submenu-list__link _orderclause\" data-law=\"FZ223\" href=\"https://zakupki.gov.ru/epz/orderclause/search/results.html\">\n",
       "<span class=\"link__text\">Положения о закупке</span>\n",
       "<span class=\"link__desc\">223-ФЗ</span>\n",
       "</a>\n",
       "</li>\n",
       "<li class=\"submenu-list__item\">\n",
       "<a class=\"submenu-list__link _typalclause\" data-law=\"FZ223\" href=\"https://zakupki.gov.ru/epz/typalclause/search/results.html\">\n",
       "<span class=\"link__text\">Типовые положения о закупке</span>\n",
       "<span class=\"link__desc\">223-ФЗ</span>\n",
       "</a>\n",
       "</li>\n",
       "</ul>\n",
       "</li>\n",
       "</ul>\n",
       "</li>\n",
       "<li class=\"main-item parent-node\" style=\"cursor: pointer;\">\n",
       "<a class=\"main-link _ktru\" data-law=\" FZ44  \" href=\"http://zakupki.gov.ru/epz/ktru/start/startPage.html\">\n",
       "        Каталог\n",
       "    </a>\n",
       "</li>\n",
       "<li class=\"main-item parent-node\" style=\"cursor: pointer;\">\n",
       "<a class=\"main-link\" data-law=\" \">\n",
       "        Документы\n",
       "    </a>\n",
       "<ul>\n",
       "<li class=\"submenu-col\">\n",
       "<ul class=\"submenu-list menu-list child-node\">\n",
       "<li class=\"submenu-list__item\">\n",
       "<a class=\"submenu-list__link _document\" data-law=\"1255\" href=\"http://zakupki.gov.ru/epz/main/public/document/view.html?sectionId=1255\">\n",
       "<span class=\"link__text\">Законодательство в сфере закупок</span>\n",
       "<span class=\"link__desc\"></span>\n",
       "</a>\n",
       "<ul class=\"submenu-list menu-list child-node\">\n",
       "<li class=\"submenu-list__item\">\n",
       "<a class=\"submenu-list__link _document\" data-law=\"907\" href=\"http://zakupki.gov.ru/epz/main/public/document/view.html?sectionId=907\">\n",
       "<span class=\"link__text\">Нормативные правовые акты</span>\n",
       "<span class=\"link__desc\">44-ФЗ</span>\n",
       "</a>\n",
       "</li>\n",
       "<li class=\"submenu-list__item\">\n",
       "<a class=\"submenu-list__link _document\" data-law=\"908\" href=\"http://zakupki.gov.ru/epz/main/public/document/view.html?sectionId=908\">\n",
       "<span class=\"link__text\">Нормативные правовые акты</span>\n",
       "<span class=\"link__desc\">223-ФЗ</span>\n",
       "</a>\n",
       "</li>\n",
       "<li class=\"submenu-list__item\">\n",
       "<a class=\"submenu-list__link _document\" data-law=\"1261\" href=\"http://zakupki.gov.ru/epz/main/public/document/view.html?sectionId=1261\">\n",
       "<span class=\"link__text\">Национальный режим</span>\n",
       "<span class=\"link__desc\"></span>\n",
       "</a>\n",
       "</li>\n",
       "<li class=\"submenu-list__item\">\n",
       "<a class=\"submenu-list__link _document\" data-law=\"910\" href=\"http://zakupki.gov.ru/epz/main/public/document/view.html?sectionId=910\">\n",
       "<span class=\"link__text\">Разъяснения законодательства</span>\n",
       "<span class=\"link__desc\"></span>\n",
       "</a>\n",
       "</li>\n",
       "</ul>\n",
       "</li>\n",
       "<li class=\"submenu-list__item\">\n",
       "<a class=\"submenu-list__link _legalacts\" data-law=\"\" href=\"https://zakupki.gov.ru/epz/legalacts/search/results.html\">\n",
       "<span class=\"link__text\">Нормативно-методическая информация, предусмотренная для размещения в ЕИС</span>\n",
       "<span class=\"link__desc\"></span>\n",
       "</a>\n",
       "</li>\n",
       "<li class=\"submenu-list__item\">\n",
       "<a class=\"submenu-list__link _document\" data-law=\"1254\" href=\"http://zakupki.gov.ru/epz/main/public/document/view.html?sectionId=1254\">\n",
       "<span class=\"link__text\">Сведения о банках и финансовых организациях</span>\n",
       "<span class=\"link__desc\"></span>\n",
       "</a>\n",
       "</li>\n",
       "<li class=\"submenu-list__item\">\n",
       "<a class=\"submenu-list__link _document\" data-law=\"1253\" href=\"http://zakupki.gov.ru/epz/main/public/document/view.html?sectionId=1253\">\n",
       "<span class=\"link__text\">Материалы для работы в ЕИС</span>\n",
       "<span class=\"link__desc\"></span>\n",
       "</a>\n",
       "</li>\n",
       "<li class=\"submenu-list__item\">\n",
       "<a class=\"submenu-list__link _document\" data-law=\"1252\" href=\"http://zakupki.gov.ru/epz/main/public/document/view.html?sectionId=1252\">\n",
       "<span class=\"link__text\">Техническая информация</span>\n",
       "<span class=\"link__desc\"></span>\n",
       "</a>\n",
       "</li>\n",
       "<li class=\"submenu-list__item\">\n",
       "<a class=\"submenu-list__link _document\" data-law=\"2369\" href=\"https://zakupki.gov.ru/epz/main/public/document/view.html?searchString=&amp;sectionId=2369&amp;strictEqual=false\">\n",
       "<span class=\"link__text\">Информация о привлечении участника закупки к административной ответственности<br/>по ст. 19.28 КоАП</span>\n",
       "<span class=\"link__desc\"></span>\n",
       "</a>\n",
       "</li>\n",
       "</ul>\n",
       "</li>\n",
       "</ul>\n",
       "</li>\n",
       "<li class=\"main-item parent-node\" style=\"cursor: pointer;\">\n",
       "<a class=\"main-link _news\" data-law=\" FZ44,FZ223,PPRF615  \" href=\"http://zakupki.gov.ru/epz/main/public/news/news-search.html\">\n",
       "        Новости\n",
       "    </a>\n",
       "</li>\n",
       "</ul>\n",
       "</ul>\n",
       "</div>\n",
       "</div>\n",
       "</div>\n",
       "</header>\n",
       "<script type=\"text/javascript\">\n",
       "    function selectCurrentMenuItem() {\n",
       "        var sectionSelector = '._' + getregistryName();\n",
       "\n",
       "        var fz44 = getURLParam('fz44'),\n",
       "            fz94 = getURLParam('fz44'),\n",
       "            fz223 = getURLParam('fz223'),\n",
       "            ppRf615 = getURLParam('fz44'),\n",
       "            documentSection = getURLParam('sectionId');\n",
       "\n",
       "        if ($(sectionSelector).length > 1) {\n",
       "            var selector = null;\n",
       "\n",
       "            $(sectionSelector).each(function () {\n",
       "                if ($(this).attr('data-law') !== undefined) {\n",
       "                    if (fz44 !== null && fz44 === 'on' && $(this).attr('data-law').trim() === 'FZ44') {selector = this; return true;}\n",
       "                    if (fz223 !== null && fz223 === 'on' && $(this).attr('data-law').trim() === 'FZ223') {selector = this; return true;}\n",
       "                    if (fz94 !== null && fz94 === 'on' && $(this).attr('data-law').trim() === 'FZ94') {selector = this; return true;}\n",
       "                    if (ppRf615 !== null && ppRf615 === 'on' && $(this).attr('data-law').trim() === 'PPRF615') {selector = this; return true;}\n",
       "                    if (documentSection !== null && documentSection !== '' && $(this).attr('data-law').trim() === documentSection) {selector = this; return true;}\n",
       "                }\n",
       "            });\n",
       "\n",
       "            if (selector !== null) {\n",
       "                if (!$(selector).parent().hasClass('parent-node'))\n",
       "                    $(selector).addClass('submenu-list__link--active');\n",
       "\n",
       "                $(selector).closest('li.main-item').css('border-bottom', '3px solid #0065dd');\n",
       "            }else{\n",
       "                $(sectionSelector).first().css('background-color', '#8c96ad');\n",
       "                $(sectionSelector).first().closest('li.main-item').css('border-bottom', '3px solid #0065dd');\n",
       "            }\n",
       "        } else {\n",
       "            if (!$(sectionSelector).parent().hasClass('parent-node') && checkStopListSelect(getregistryName()))\n",
       "                $(sectionSelector).addClass('submenu-list__link--active');\n",
       "\n",
       "            $(sectionSelector).closest('li.main-item').css('border-bottom', '3px solid #0065dd');\n",
       "        }\n",
       "    }\n",
       "\n",
       "    function checkStopListSelect(selector) {\n",
       "        var tempBitLink = window.location.pathname.split(\"/\" + selector + \"/\");\n",
       "        return !(tempBitLink.length > 1 && tempBitLink[1].match(\"private\"));\n",
       "    }\n",
       "\n",
       "    $(document).ready(function () {\n",
       "        selectCurrentMenuItem();\n",
       "    });\n",
       "</script>\n",
       "<div class=\"cardWrapper outerWrapper\">\n",
       "<div class=\"wrapper\">\n",
       "<div class=\"cardHeaderBlock\">\n",
       "<script type=\"text/javascript\">\n",
       "    $(document).ready(function () {\n",
       "        var poorVisionSettingsBlock = $('.poorVisionSettingsBlock');\n",
       "\n",
       "        \n",
       "        \n",
       "        \n",
       "        var poorVisionLink = poorVisionSettingsBlock.find('.poorVisionLink');\n",
       "\n",
       "        poorVisionLink.click(function (e) {\n",
       "            e.preventDefault();\n",
       "            $.cookie('usePoorVisionOption', 'true', {path: '/', expires: 365*100});\n",
       "            location.reload();\n",
       "        });\n",
       "        \n",
       "        \n",
       "    });\n",
       "\n",
       "</script>\n",
       "<div class=\"poorVisionSettingsBlock\">\n",
       "<span>\n",
       "<a class=\"poorVisionLink poorVisionBannerCards\"></a>\n",
       "</span>\n",
       "</div>\n",
       "<div class=\"container\">\n",
       "<div class=\"breadcrumb rowSpaceBetween\">\n",
       "<div class=\"navBreadcrumb\">\n",
       "<div class=\"navBreadcrumb__item navBreadcrumb__item_first\">\n",
       "<a class=\"navBreadcrumb__icon navBreadcrumb__icon_back align-middle cursor-pointer\" onclick=\"goToSearchUrl(true, '/epz/contract/search/results.html')\">\n",
       "<svg fill=\"none\" height=\"16\" viewbox=\"0 0 16 16\" width=\"16\" xmlns=\"http://www.w3.org/2000/svg\">\n",
       "<path d=\"M8.66014 3.33333L7.32813 2L1.33398 8.00001L7.32804 14L8.66006 12.6667L4.93989 8.94282H15.334V7.05721H4.93995L8.66014 3.33333Z\" fill=\"#0065DD\"></path>\n",
       "</svg>\n",
       "</a>\n",
       "<a class=\"navBreadcrumb__text cursor-pointer\" onclick=\"goToSearchUrl(true, '/epz/contract/search/results.html')\">\n",
       "                Назад к результатам поиска\n",
       "            </a>\n",
       "</div>\n",
       "<div class=\"navBreadcrumb__item navBreadcrumb__item_active\">\n",
       "<span class=\"navBreadcrumb__icon align-middle\">\n",
       "<svg fill=\"none\" height=\"8\" viewbox=\"0 0 4 8\" width=\"4\" xmlns=\"http://www.w3.org/2000/svg\">\n",
       "<path d=\"M0 7.33301L4 3.99967L7.94992e-08 0.666341L0 7.33301Z\" fill=\"#909EBB\"></path>\n",
       "</svg>\n",
       "</span>\n",
       "<span class=\"navBreadcrumb__text\">\n",
       "<span data-tooltip='&lt;span class=\"custom-tooltiptext\"&gt;№ 0307300000714000007 (Версия № 2 от 28.01.2015, действующая версия)&lt;/span&gt;'>№ 0307300000714000007 (Версия № 2 от 28.01.2015, действующая версия)</span>\n",
       "</span>\n",
       "</div>\n",
       "</div>\n",
       "<div class=\"breadcrumb__addition subscribeRss\">\n",
       "<a class=\"subscribeRss__link\" href=\"/epz/contract/contractCard/rss?reestrNumber=0307300000714000007\" target=\"_blank\">\n",
       "                        Подписаться на RSS\n",
       "                    </a>\n",
       "<svg class=\"subscribeRss__icon\" fill=\"none\" height=\"12\" viewbox=\"0 0 16 16\" width=\"12\" xmlns=\"http://www.w3.org/2000/svg\">\n",
       "<path d=\"M0.5 3.5C7.125 3.5 12.5 8.875 12.5 15.5H15.5C15.5 7.25 8.75 0.5 0.5 0.5V3.5ZM0.5 5.625V8.625C4.25 8.625 7.375 11.75 7.375 15.5H10.375C10.375 10 6 5.625 0.5 5.625ZM4.625 13.5C4.625 14.625 3.75 15.5 2.625 15.5C1.375 15.5 0.5 14.625 0.5 13.5C0.5 12.375 1.375 11.5 2.5 11.5C3.625 11.5 4.625 12.375 4.625 13.5Z\" fill=\"#E8523D\"></path>\n",
       "</svg>\n",
       "</div>\n",
       "</div>\n",
       "<script>\n",
       "    $(document).ready(saveReferrerUrl());\n",
       "</script>\n",
       "<div class=\"cardMainInfo row\">\n",
       "<div class=\"sectionMainInfo borderRight col-6\">\n",
       "<div class=\"sectionMainInfo__header\">\n",
       "<div class=\"cardMainInfo__status d-flex\">\n",
       "<span class=\"cardMainInfo__purchaseLink distancedText\">\n",
       "<a href=\"/epz/contract/contractCard/common-info.html?reestrNumber=0307300000714000007\" target=\"_blank\">№ 0307300000714000007</a>\n",
       "</span>\n",
       "<span class=\"cardMainInfo__state distancedText\">\n",
       "                                Исполнение завершено\n",
       "                            </span>\n",
       "<span class=\"blockIcon ml-auto\">\n",
       "<a href=\"/epz/contract/printForm/view.html?contractReestrNumber=0307300000714000007\" target=\"_blank\">\n",
       "<img alt=\"\" src=\"/epz/static/img/icons/icon_print_small.svg\"/>\n",
       "</a>\n",
       "</span>\n",
       "</div>\n",
       "</div>\n",
       "<div class=\"sectionMainInfo__body\">\n",
       "<div class=\"cardMainInfo__section\">\n",
       "<span class=\"cardMainInfo__title\">Заказчик</span>\n",
       "<span class=\"cardMainInfo__content\">\n",
       "<a href=\"/epz/organization/view/info.html?organizationCode=03073000007\" target=\"_blank\" title=\"ГОСУДАРСТВЕННОЕ БЮДЖЕТНОЕ УЧРЕЖДЕНИЕ ЗДРАВООХРАНЕНИЯ РЕСПУБЛИКИ КОМИ \">\n",
       "                                    \n",
       "                                \n",
       "                                ГОСУДАРСТВЕННОЕ БЮДЖЕТНОЕ УЧРЕЖДЕНИЕ ЗДРАВООХРАНЕНИЯ РЕСПУБЛИКИ КОМИ \"СЫКТЫВКАРСКАЯ ДЕТСКАЯ ПОЛИКЛИНИКА № 2\"\n",
       "                            </a>\n",
       "</span>\n",
       "</div>\n",
       "<div class=\"cardMainInfo__section\">\n",
       "<span class=\"cardMainInfo__title\">Контракт</span>\n",
       "<span class=\"cardMainInfo__content\">\n",
       "                                \n",
       "                                    \n",
       "                                    \n",
       "                                        № \n",
       "                                        \n",
       "                                        2612955\n",
       "                                    \n",
       "                                \n",
       "                            </span>\n",
       "</div>\n",
       "<div class=\"cardMainInfo__section\">\n",
       "<div class=\"cardMainInfo__title\">Объекты закупки</div>\n",
       "<div class=\"cardMainInfo__content\">\n",
       "<span class=\"text-break d-block\">\n",
       "                                        Электрическая энергия  \n",
       "                                        \n",
       "                                    </span>\n",
       "</div>\n",
       "</div>\n",
       "</div>\n",
       "</div>\n",
       "<div class=\"sectionMainInfo borderRight col-3 colSpaceBetween\">\n",
       "<div class=\"price\">\n",
       "<span class=\"cardMainInfo__title\">Цена контракта</span>\n",
       "<span class=\"cardMainInfo__content cost\">\n",
       "                                307 471,15 ₽\n",
       "                              </span>\n",
       "</div>\n",
       "<div class=\"date mt-auto\">\n",
       "<div class=\"cardMainInfo__section\">\n",
       "<span class=\"cardMainInfo__title\">Заключение контракта</span>\n",
       "<span class=\"cardMainInfo__content\">07.04.2014</span>\n",
       "</div>\n",
       "<div class=\"cardMainInfo__section\">\n",
       "<span class=\"cardMainInfo__title\">Срок исполнения</span>\n",
       "<span class=\"cardMainInfo__content\">\n",
       "                                \n",
       "                                    \n",
       "                                        31.01.2015\n",
       "                                    \n",
       "                                    \n",
       "                                \n",
       "                            </span>\n",
       "</div>\n",
       "<div class=\"cardMainInfo__section\">\n",
       "<span class=\"cardMainInfo__title\">Размещен контракт в реестре контрактов</span>\n",
       "<span class=\"cardMainInfo__content\">\n",
       "                                07.04.2014\n",
       "                            </span>\n",
       "</div>\n",
       "<div class=\"cardMainInfo__section\">\n",
       "<span class=\"cardMainInfo__title\">Обновлен контракт в реестре контрактов</span>\n",
       "<span class=\"cardMainInfo__content\">\n",
       "                                28.01.2015\n",
       "                            </span>\n",
       "</div>\n",
       "</div>\n",
       "</div>\n",
       "<div class=\"sectionMainInfo col-3 d-flex flex-column registry-entry__right-block b-left\">\n",
       "<div class=\"href-block mt-auto\">\n",
       "<div class=\"href mb-2\">\n",
       "<a href=\"/epz/contract/contractCard/payment-info-and-target-of-order.html?reestrNumber=0307300000714000007#contractSubjects\">Позиция КТРУ</a>\n",
       "</div>\n",
       "<div class=\"href mb-2\">\n",
       "<a href=\"/epz/order/notice/view/common-info.html?regNumber=0307300000714000003\" target=\"_blank\">Закупка</a>\n",
       "</div>\n",
       "<div class=\"href mb-2\">\n",
       "<a href=\"/epz/organization/view/info.html?organizationCode=03073000007\" target=\"_blank\">Заказчик</a>\n",
       "</div>\n",
       "<div class=\"href mb-2\">\n",
       "<a href=\"/epz/dishonestsupplier/search/results.html?searchString=&amp;morphology=on&amp;fz94=on&amp;dsStatuses_0=on&amp;dsStatuses=0&amp;customerINN=1101301856\" target=\"_blank\">Недобросовестный поставщик </a>\n",
       "</div>\n",
       "</div>\n",
       "</div>\n",
       "</div>\n",
       "</div>\n",
       "<style>\n",
       "    hr{\n",
       "        display: block;\n",
       "        margin-left: 20px;\n",
       "        border-radius: 3px;\n",
       "    }\n",
       "    span.hide_main_title hr {\n",
       "        width: 300px;\n",
       "        height: 20px;\n",
       "        background-color: #8fb6e9;\n",
       "    }\n",
       "    span.hide_status hr {\n",
       "        width: 200px;\n",
       "        height: 15px;\n",
       "        margin-top: 22px;\n",
       "        background-color: #e2e6ea;\n",
       "    }\n",
       "    span.hide_icon hr {\n",
       "        width: 20px;\n",
       "        height: 20px;\n",
       "        background-color: #e2e6ea;\n",
       "    }\n",
       "    span.hide_title hr {\n",
       "        width: 250px;\n",
       "        height: 10px;\n",
       "        margin-top: 15px;\n",
       "        background-color: #eceff0;\n",
       "    }\n",
       "    span.hide_info hr {\n",
       "        width: 520px;\n",
       "        height: 15px;\n",
       "        background-color: #eceff0;\n",
       "    }\n",
       "    span.hide_price_main_title hr {\n",
       "        width: 125px;\n",
       "        height: 10px;\n",
       "        background-color: #eceff0;\n",
       "    }\n",
       "    span.hide_price_main_info hr {\n",
       "        width: 150px;\n",
       "        height: 20px;\n",
       "        background-color: #eceff0;\n",
       "    }\n",
       "    span.hide_price_title hr {\n",
       "        width: 150px;\n",
       "        height: 10px;\n",
       "        background-color: #eceff0;\n",
       "    }\n",
       "    span.hide_price_info hr {\n",
       "        width: 100px;\n",
       "        height: 15px;\n",
       "        background-color: #eceff0;\n",
       "    }\n",
       "</style>\n",
       "<div class=\"container\">\n",
       "<div class=\"tabsNav d-flex align-items-end\">\n",
       "<a class=\"tabsNav__item tabsNav__item_active\" href=\"/epz/contract/contractCard/common-info.html?reestrNumber=0307300000714000007&amp;contractInfoId=19484825\">\n",
       "        \n",
       "            \n",
       "            \n",
       "            \n",
       "                \n",
       "            \n",
       "        \n",
       "        Общая информация\n",
       "    </a>\n",
       "<a class=\"tabsNav__item\" href=\"/epz/contract/contractCard/payment-info-and-target-of-order.html?reestrNumber=0307300000714000007&amp;contractInfoId=19484825\">\n",
       "        \n",
       "            \n",
       "            \n",
       "            \n",
       "                \n",
       "            \n",
       "        \n",
       "        Платежи и объекты закупки\n",
       "    </a>\n",
       "<a class=\"tabsNav__item\" href=\"/epz/contract/contractCard/process-info.html?reestrNumber=0307300000714000007&amp;contractInfoId=19484825\">\n",
       "        \n",
       "            \n",
       "            \n",
       "            \n",
       "                \n",
       "            \n",
       "        \n",
       "        Исполнение (расторжение) контракта\n",
       "    </a>\n",
       "<a class=\"tabsNav__item\" href=\"/epz/contract/contractCard/document-info.html?reestrNumber=0307300000714000007&amp;contractInfoId=19484825\">\n",
       "        \n",
       "            \n",
       "            \n",
       "            \n",
       "                \n",
       "            \n",
       "        \n",
       "        Вложения\n",
       "    </a>\n",
       "<a class=\"tabsNav__item\" href=\"/epz/contract/contractCard/journal-version.html?reestrNumber=0307300000714000007&amp;contractInfoId=19484825\">\n",
       "        \n",
       "            \n",
       "            \n",
       "            \n",
       "                \n",
       "            \n",
       "        \n",
       "        Журнал версий\n",
       "    </a>\n",
       "<a class=\"tabsNav__item\" href=\"/epz/contract/contractCard/event-journal.html?reestrNumber=0307300000714000007&amp;contractInfoId=19484825\">\n",
       "        \n",
       "            \n",
       "            \n",
       "            \n",
       "                \n",
       "            \n",
       "        \n",
       "        Журнал событий\n",
       "    </a>\n",
       "</div>\n",
       "</div>\n",
       "<script>\n",
       "    $(document).ready(function () {\n",
       "        $('.contentTabsWrapper td[tab = \"CARD_MAIN_INFO\"]').addClass('currentTab');\n",
       "    });\n",
       "</script>\n",
       "</div>\n",
       "<div class=\"contentTabBoxBlock contractCard\">\n",
       "<div class=\"b-bottom\">\n",
       "<div class=\"container card-attachments-switch\">\n",
       "<label class=\"switch d-flex\">\n",
       "<input class=\"inactive-redaction-toggle\" id=\"switcher\" type=\"checkbox\"/>\n",
       "<span class=\"slider round\"></span>\n",
       "<span class=\"slider-text\">Отображать изменения в блоке «Общие данные» по контракту</span>\n",
       "</label>\n",
       "</div>\n",
       "</div>\n",
       "<div class=\"container\">\n",
       "<div class=\"row blockInfo\">\n",
       "<div class=\"col\">\n",
       "<h2 class=\"blockInfo__title\">Общая информация</h2>\n",
       "<div class=\"blockInfo__section\">\n",
       "<section class=\"blockInfo__section section\">\n",
       "<span class=\"section__title\">Реестровый номер контракта</span>\n",
       "<span class=\"section__info\">03073000007 14 000007</span>\n",
       "</section>\n",
       "<section class=\"blockInfo__section section\">\n",
       "<span class=\"section__title\">Статус контракта</span>\n",
       "<span class=\"section__info\">\n",
       "                        \n",
       "                            Исполнение завершено\n",
       "                        \n",
       "                    </span>\n",
       "</section>\n",
       "<section class=\"blockInfo__section section\">\n",
       "<span class=\"section__title\">Номер извещения об осуществлении закупки</span>\n",
       "<span class=\"section__info\">\n",
       "<a href=\"/epz/order/notice/view/common-info.html?regNumber=0307300000714000003\" onclick=\"window.open(this.href); return false;\" target=\"_blank\">\n",
       "                                0307300000714000003\n",
       "                            </a>\n",
       "</span>\n",
       "</section>\n",
       "<section class=\"blockInfo__section section\">\n",
       "<span class=\"section__title\">Способ определения поставщика (подрядчика, исполнителя)</span>\n",
       "<span class=\"section__info\">\n",
       "                            \n",
       "                                \n",
       "                                \n",
       "                                    \n",
       "                                        \n",
       "                                            Закупка у единственного поставщика (подрядчика, исполнителя)\n",
       "                                        \n",
       "                                        \n",
       "                                    \n",
       "                                \n",
       "                            \n",
       "                        </span>\n",
       "</section>\n",
       "<section class=\"blockInfo__section section\">\n",
       "<span class=\"section__title\">Дата размещения (по местному времени)</span>\n",
       "<span class=\"section__info\">28.01.2015 14:13 <span class=\"timeZoneName\" title=\"Москва, стандартное время\">(МСК)</span></span>\n",
       "</section>\n",
       "<section class=\"blockInfo__section section\">\n",
       "<span class=\"section__title\">Основание заключения контракта с единственным поставщиком</span>\n",
       "<span class=\"section__info\">\n",
       "                                    Часть 1 пункт 29 статьи 93 – заключение договора энергоснабжения или договора купли-продажи электрической энергии с гарантирующим поставщиком электрической энергии\n",
       "                             \n",
       "                                </span>\n",
       "</section>\n",
       "<section class=\"blockInfo__section section\">\n",
       "<span class=\"section__title\">Информация о банковском и (или) казначейском сопровождении контракта</span>\n",
       "<span class=\"section__info\">Банковское или казначейское сопровождение контракта не требуется</span>\n",
       "</section>\n",
       "</div>\n",
       "</div>\n",
       "</div>\n",
       "</div>\n",
       "<hr class=\"graySeparator\"/>\n",
       "<div id=\"ajax-group\">\n",
       "<div class=\"container\">\n",
       "<div class=\"row blockInfo\">\n",
       "<div class=\"col\">\n",
       "<h2 class=\"blockInfo__title\">Информация об изменении контракта</h2>\n",
       "<div class=\"blockInfo__section\">\n",
       "<section class=\"blockInfo__section section\">\n",
       "<span class=\"section__title\">Основание для изменения</span>\n",
       "<span class=\"section__info\">Дата окончания исполнения контракта</span>\n",
       "</section>\n",
       "<section class=\"blockInfo__section section\">\n",
       "<span class=\"section__title\">Реквизиты документа, являющегося основанием\n",
       "                                        изменения условий контракта\n",
       "                                    </span>\n",
       "<span class=\"section__info\">\n",
       "                                        \n",
       "                                            «Дополнительное соглашение к контракту»\n",
       "                                        \n",
       "                                        \n",
       "                                        \n",
       "                                    </span>\n",
       "</section>\n",
       "</div>\n",
       "</div>\n",
       "</div>\n",
       "</div>\n",
       "<hr class=\"graySeparator\"/>\n",
       "<div class=\"container\">\n",
       "<div class=\"row blockInfo\">\n",
       "<div class=\"col\">\n",
       "<h2 class=\"blockInfo__title\">Информация о заказчике</h2>\n",
       "<div class=\"blockInfo__section\">\n",
       "<section class=\"blockInfo__section section\">\n",
       "<span class=\"section__title\">Полное наименование заказчика</span>\n",
       "<span class=\"section__info\">\n",
       "<a href=\"/epz/organization/view/info.html?organizationCode=03073000007\" onclick=\"window.open(this.href); return false;\" target=\"_blank\">\n",
       "                                        ГОСУДАРСТВЕННОЕ БЮДЖЕТНОЕ УЧРЕЖДЕНИЕ ЗДРАВООХРАНЕНИЯ РЕСПУБЛИКИ КОМИ \"СЫКТЫВКАРСКАЯ ДЕТСКАЯ ПОЛИКЛИНИКА № 2\"\n",
       "                                    </a>\n",
       "</span>\n",
       "</section>\n",
       "<section class=\"blockInfo__section section\">\n",
       "<span class=\"section__title\">Сокращенное наименование заказчика</span>\n",
       "<span class=\"section__info\">ГБУЗ РК \"СДП №2\"</span>\n",
       "</section>\n",
       "<section class=\"blockInfo__section section\">\n",
       "<span class=\"section__title\">Идентификационный код заказчика</span>\n",
       "<span class=\"section__info\">21101487375110101001</span>\n",
       "</section>\n",
       "<section class=\"blockInfo__section section\">\n",
       "<span class=\"section__title\">ИНН</span>\n",
       "<span class=\"section__info\">1101487375</span>\n",
       "</section>\n",
       "<section class=\"blockInfo__section section\">\n",
       "<span class=\"section__title\">КПП</span>\n",
       "<span class=\"section__info\">110101001</span>\n",
       "</section>\n",
       "<section class=\"blockInfo__section section\">\n",
       "<span class=\"section__title\">Код организационно-правовой формы</span>\n",
       "<span class=\"section__info\">75203</span>\n",
       "</section>\n",
       "<section class=\"blockInfo__section section\">\n",
       "<span class=\"section__title\">Код ОКПО</span>\n",
       "<span class=\"section__info\">24959799</span>\n",
       "</section>\n",
       "<section class=\"blockInfo__section section\">\n",
       "<span class=\"section__title\">Код территории муниципального образования</span>\n",
       "<span class=\"section__info\">\n",
       "                                        87701000 – Сыктывкар</span>\n",
       "</section>\n",
       "<section class=\"blockInfo__section section\">\n",
       "<span class=\"section__title\">Наименование бюджета</span>\n",
       "<span class=\"section__info\">республиканский бюджет Республики Коми</span>\n",
       "</section>\n",
       "<section class=\"blockInfo__section section\">\n",
       "<span class=\"section__title\">Уровень бюджета</span>\n",
       "<span class=\"section__info\">12 - бюджет субъекта Российской Федерации</span>\n",
       "</section>\n",
       "<section class=\"blockInfo__section section\">\n",
       "<span class=\"section__title\">Наименование внебюджетных средств</span>\n",
       "<span class=\"section__info\">21 - Средства бюджетных учреждений</span>\n",
       "</section>\n",
       "</div>\n",
       "</div>\n",
       "</div>\n",
       "</div>\n",
       "<hr class=\"graySeparator\"/>\n",
       "<div class=\"container\">\n",
       "<div class=\"row blockInfo\">\n",
       "<div class=\"col\">\n",
       "<h2 class=\"blockInfo__title\">Общие данные</h2>\n",
       "<div class=\"blockInfo__section\">\n",
       "<div class=\"mb-32px\">\n",
       "<section class=\"blockInfo__section section\">\n",
       "<span class=\"section__title\">Дата заключения контракта</span>\n",
       "<span class=\"section__info\">07.04.2014\n",
       "                                \n",
       "                            </span>\n",
       "</section>\n",
       "<section class=\"blockInfo__section section\">\n",
       "<span class=\"section__title\">Номер контракта</span>\n",
       "<span class=\"section__info\">\n",
       "                                    \n",
       "                                        \n",
       "                                        \n",
       "                                            \n",
       "                                            \n",
       "                                            2612955\n",
       "                                        \n",
       "                                    \n",
       "                                </span>\n",
       "</section>\n",
       "<section class=\"blockInfo__section section\">\n",
       "<span class=\"section__title\">Цена контракта</span>\n",
       "<span class=\"section__info\">307 471,15\n",
       "                                                \n",
       "                                                    <img class=\"icon-note-contract displayNone\" data-id=\"contractPrice\" src=\"/epz/static/img/icons/info_icon.svg\"/>\n",
       "<div class=\"custom-tooltip-contract\">\n",
       "<span class=\"tooltiptext-contract\">Загрузка ...</span>\n",
       "</div>\n",
       "</span>\n",
       "</section>\n",
       "<section class=\"blockInfo__section section\">\n",
       "<span class=\"section__title\">Валюта контракта</span>\n",
       "<span class=\"section__info\">\n",
       "                                    Российский рубль (₽)\n",
       "                                    \n",
       "                                </span>\n",
       "</section>\n",
       "<section class=\"blockInfo__section section\">\n",
       "<span class=\"section__title\">Дата начала исполнения контракта</span>\n",
       "<span class=\"section__info\">07.04.2014\n",
       "                                    \n",
       "                                </span>\n",
       "</section>\n",
       "<section class=\"blockInfo__section section\">\n",
       "<span class=\"section__title\">Дата окончания исполнения контракта</span>\n",
       "<span class=\"section__info\">31.01.2015\n",
       "                                \n",
       "                                    <img class=\"icon-note-contract displayNone\" data-id=\"contractTerm\" src=\"/epz/static/img/icons/info_icon.svg\"/>\n",
       "<div class=\"custom-tooltip-contract\">\n",
       "<span class=\"tooltiptext-contract\">Загрузка ...</span>\n",
       "</div>\n",
       "</span>\n",
       "</section>\n",
       "<section class=\"blockInfo__section section\">\n",
       "<span class=\"section__title\">Идентификатор этапа контракта</span>\n",
       "<span class=\"section__info\">5362430</span>\n",
       "</section>\n",
       "</div>\n",
       "</div>\n",
       "</div>\n",
       "</div>\n",
       "</div>\n",
       "<hr class=\"graySeparator\"/>\n",
       "<div class=\"container\">\n",
       "<div class=\"row blockInfo\">\n",
       "<div class=\"col\">\n",
       "<h2 class=\"blockInfo__title\">Информация о поставщиках</h2>\n",
       "<div class=\"blockInfo__section\">\n",
       "<div class=\"participantsInnerHtml\">\n",
       "<table class=\"blockInfo__table tableBlock grayBorderBottom\">\n",
       "<thead>\n",
       "<tr class=\"tableBlock__row\">\n",
       "<th class=\"tableBlock__col tableBlock__col_header\">Организация</th>\n",
       "<th class=\"tableBlock__col tableBlock__col_header\">Страна, код</th>\n",
       "<th class=\"tableBlock__col tableBlock__col_header\">Адрес места нахождения</th>\n",
       "<th class=\"tableBlock__col tableBlock__col_header\">Телефон, электронная почта</th>\n",
       "<th class=\"tableBlock__col tableBlock__col_header\"></th>\n",
       "</tr>\n",
       "</thead>\n",
       "<tbody class=\"tableBlock__body\">\n",
       "<tr class=\"tableBlock__row\">\n",
       "<td class=\"tableBlock__col tableBlock__col_first text-break\">\n",
       "                ОАО \"Коми энергосбытовая компания\"\n",
       "                \n",
       "                    \n",
       "                    \n",
       "                        <section class=\"blockInfo__section section\">\n",
       "<span class=\"grey-main-light\">Код по ОКПО:</span>\n",
       "<span>40815611</span>\n",
       "</section>\n",
       "<section class=\"section\">\n",
       "<span class=\"grey-main-light\">ИНН:</span>\n",
       "<span>1101301856</span>\n",
       "</section>\n",
       "<section>\n",
       "<span class=\"grey-main-light\">КПП:</span>\n",
       "<span>110101001</span>\n",
       "</section>\n",
       "<section class=\"section\">\n",
       "<span class=\"grey-main-light\">Дата постановки на учет:</span>\n",
       "<span>01.07.2006</span>\n",
       "</section>\n",
       "</td>\n",
       "<td class=\"tableBlock__col\">\n",
       "                    Российская Федерация\n",
       "                    <br/>643\n",
       "                </td>\n",
       "<td class=\"tableBlock__col\">\n",
       "                    \n",
       "                        \n",
       "                            167000 Республика Коми, г. Сыктывкар, ул. Первомайская д.70 \n",
       "                        \n",
       "                        \n",
       "                    \n",
       "                        \n",
       "                </td>\n",
       "<td class=\"tableBlock__col\">\n",
       "                    \n",
       "                        \n",
       "                            7-8212-391643\n",
       "                            <br/>mail@komiesc.ru\n",
       "                        \n",
       "                        \n",
       "                    \n",
       "                </td>\n",
       "<td class=\"tableBlock__col tableBlock__col_last\">\n",
       "</td>\n",
       "</tr>\n",
       "</tbody>\n",
       "</table>\n",
       "</div>\n",
       "<input id=\"participantsUrlRefresh\" type=\"hidden\" value=\"/epz/contract/contractCard/participants.html?reestrNumber=0307300000714000007\"/>\n",
       "</div>\n",
       "</div>\n",
       "</div>\n",
       "</div>\n",
       "</div>\n",
       "<script src=\"/epz/contract/js/contract/pagination.js\" type=\"text/javascript\"></script>\n",
       "<script>\n",
       "    $(document).ready(function () {\n",
       "        const switcher = '0307300000714000007';\n",
       "        if(sessionStorage.getItem(switcher) === '1'){\n",
       "            $('#switcher').prop('checked', true);\n",
       "            $('.icon-note-contract').toggle();\n",
       "        }\n",
       "\n",
       "        $(document).on(\"click\", \"#switcher\", function(){\n",
       "            if(sessionStorage.getItem(switcher) === '1'){\n",
       "                $('.icon-note-contract').toggle();\n",
       "                sessionStorage.setItem(switcher, '0');\n",
       "            }\n",
       "            else {\n",
       "                $('.icon-note-contract').toggle();\n",
       "                sessionStorage.setItem(switcher, '1');\n",
       "            }\n",
       "        });\n",
       "\n",
       "        $('.icon-note-contract').hover(showAdvice, hideAdvice);\n",
       "\n",
       "        function showAdvice() {\n",
       "            $(this).next().find('.tooltiptext-contract').css('visibility', 'visible');\n",
       "            advise($(this).attr('data-id'), this);\n",
       "        }\n",
       "\n",
       "        function hideAdvice() {\n",
       "            $(this).next().find('.tooltiptext-contract').css('visibility', 'hidden');\n",
       "        }\n",
       "\n",
       "        function advise(fieldName, hoverElement) {\n",
       "            const storedOutput = sessionStorage.getItem(fieldName);\n",
       "            if (storedOutput !== null) {\n",
       "                $(hoverElement).next().find('.tooltiptext-contract').html(storedOutput);\n",
       "                return;\n",
       "            }\n",
       "            $.ajax({\n",
       "                type:\"GET\",\n",
       "                url:'/epz/contract/contractCard/historical-data.json',\n",
       "                data: {reestrNumber:'0307300000714000007', fieldName:fieldName},\n",
       "                success: function(res) {\n",
       "                    let previousElement = res[0];\n",
       "                    let lastAddedElement;\n",
       "                    let count = 0;\n",
       "                    let output = '';\n",
       "                    for (let i = 0; i < res.length; i++) {\n",
       "                        let currentElement = res[i];\n",
       "                        let currentField = currentElement.field;\n",
       "                        let previousField =  previousElement.field;\n",
       "                        let currentPublished = currentElement.published;\n",
       "                        if (currentField !== previousField) {\n",
       "                            if (currentField == null || currentField === '') {\n",
       "                                currentField = 'не указано';\n",
       "                            }\n",
       "                            if (currentPublished == null || currentPublished === '') {\n",
       "                                currentPublished = 'не указано';\n",
       "                            }\n",
       "                            if(count === 7) {\n",
       "                                output = output + 'Остальные изменения доступны в Журнале версий';\n",
       "                                break;\n",
       "                            }\n",
       "                            if (lastAddedElement === undefined || previousField !== lastAddedElement.field) {\n",
       "                                output = output + 'Версия ' + previousElement.versionNumber + ' от '\n",
       "                                    + previousElement.published + ' - ' + previousField + '<br>';\n",
       "                                count++;\n",
       "                            }\n",
       "                            output = output + 'Версия ' + currentElement.versionNumber + ' от '\n",
       "                                + currentPublished + ' - ' + currentField + '<br>';\n",
       "                            count++;\n",
       "                            lastAddedElement = currentElement;\n",
       "                        }\n",
       "                        previousElement = currentElement;\n",
       "                    }\n",
       "                    sessionStorage.setItem(fieldName, output);\n",
       "                    $(hoverElement).next().find('.tooltiptext-contract').html(output);\n",
       "                }\n",
       "            });\n",
       "        }\n",
       "    });\n",
       "</script>\n",
       "</div>\n",
       "</div>\n",
       "<footer class=\"footer\">\n",
       "<div class=\"wrapperFooter\">\n",
       "<div class=\"container\">\n",
       "<div class=\"poll-banner\">\n",
       "<div class=\"row align-items-center\">\n",
       "<div class=\"col-9\">\n",
       "<div class=\"figure-footer d-flex align-items-center noselect\">\n",
       "<div class=\"figure-footer__icon\">\n",
       "<img alt=\"\" class=\"icon\" src=\"/epz/static/img/icons/ico_sub.svg\"/>\n",
       "</div>\n",
       "<div class=\"figure-footer__text\">\n",
       "<h4 class=\"heading-h4 poll-title\">Поделитесь мнением о качестве работы единой\n",
       "                                                информационной системы</h4>\n",
       "</div>\n",
       "</div>\n",
       "</div>\n",
       "<div class=\"col-3 text-right\">\n",
       "<a class=\"btn btn-default poll-button\" href=\"/epz/main/public/quiz/list.html\">\n",
       "<span class=\"separator\"></span>\n",
       "<span class=\"btn-text\">Перейти к опросу</span>\n",
       "</a>\n",
       "</div>\n",
       "</div>\n",
       "<figure class=\"poll__logo\">\n",
       "<img alt=\"\" src=\"/epz/static/img/icons/icon-footer-eagle.svg\"/>\n",
       "</figure>\n",
       "</div>\n",
       "</div>\n",
       "<div class=\"container\">\n",
       "<div class=\"partners-wrap\">\n",
       "<div class=\"partners partners-slider\">\n",
       "<figure class=\"partner\">\n",
       "<p class=\"partner-logo-wrap\">\n",
       "<a href=\"http://www.sberbank-ast.ru/\" target=\"_blank\"><img alt=\"\" class=\"partner__logo\" src=\"/epz/static/img/partners/sberbank_new.svg\"/></a>\n",
       "</p>\n",
       "<figcaption class=\"partner__desc\"> Система торгов <br/> Сбербанк-АСТ\n",
       "                                </figcaption>\n",
       "<a class=\"partner__link\" href=\"http://www.sberbank-ast.ru/\" target=\"_blank\">sberbank-ast.ru</a>\n",
       "</figure>\n",
       "<figure class=\"partner\">\n",
       "<p class=\"partner-logo-wrap\">\n",
       "<a href=\"http://www.roseltorg.ru/\" target=\"_blank\"><img alt=\"\" class=\"partner__logo\" src=\"/epz/static/img/partners/rostorg_new.svg\"/></a>\n",
       "</p>\n",
       "<figcaption class=\"partner__desc\"> Единая электронная торговая <br/> площадка\n",
       "                                </figcaption>\n",
       "<a class=\"partner__link\" href=\"http://www.roseltorg.ru/\" target=\"_blank\">roseltorg.ru</a>\n",
       "</figure>\n",
       "<figure class=\"partner\">\n",
       "<p class=\"partner-logo-wrap\">\n",
       "<a href=\"http://etp.zakazrf.ru/\" target=\"_blank\"><img alt=\"\" class=\"partner__logo\" src=\"/epz/static/img/partners/etp.svg\"/></a>\n",
       "</p>\n",
       "<figcaption class=\"partner__desc\"> Общероссийская система <br/> электронной торговли\n",
       "                                </figcaption>\n",
       "<a class=\"partner__link\" href=\"http://etp.zakazrf.ru/\" target=\"_blank\">etp.zakazrf.ru</a>\n",
       "</figure>\n",
       "<figure class=\"partner\">\n",
       "<p class=\"partner-logo-wrap\">\n",
       "<a href=\"http://www.rts-tender.ru/\" target=\"_blank\"><img alt=\"\" class=\"partner__logo\" src=\"/epz/static/img/partners/rts.svg\"/></a>\n",
       "</p>\n",
       "<figcaption class=\"partner__desc\"> Электронная площадка <br/> России\n",
       "                                </figcaption>\n",
       "<a class=\"partner__link\" href=\"http://www.rts-tender.ru/\" target=\"_blank\">rts-tender.ru</a>\n",
       "</figure>\n",
       "<figure class=\"partner\">\n",
       "<p class=\"partner-logo-wrap\">\n",
       "<a href=\"http://etp-ets.ru/\" target=\"_blank\"><img alt=\"\" class=\"partner__logo\" src=\"/epz/static/img/partners/ets.svg\"/></a>\n",
       "</p>\n",
       "<figcaption class=\"partner__desc\"> Электронная торговая <br/> площадка «Фабрикант»\n",
       "                                </figcaption>\n",
       "<a class=\"partner__link\" href=\"http://etp-ets.ru/\" target=\"_blank\">etp-ets.ru</a>\n",
       "</figure>\n",
       "<figure class=\"partner\">\n",
       "<p class=\"partner-logo-wrap\">\n",
       "<a href=\"https://gz.lot-online.ru/\" target=\"_blank\"><img alt=\"\" class=\"partner__logo\" src=\"/epz/static/img/partners/newGZ.svg\"/></a>\n",
       "</p>\n",
       "<figcaption class=\"partner__desc\"> Всероссийская <br/> универсальная площадка\n",
       "                                </figcaption>\n",
       "<a class=\"partner__link\" href=\"https://gz.lot-online.ru/\" target=\"_blank\">gz.lot-online.ru</a>\n",
       "</figure>\n",
       "<figure class=\"partner\">\n",
       "<p class=\"partner-logo-wrap\">\n",
       "<a href=\"https://www.tektorg.ru/\" target=\"_blank\"><img alt=\"\" class=\"partner__logo\" src=\"/epz/static/img/partners/tektorg_new.svg\"/></a>\n",
       "</p>\n",
       "<figcaption class=\"partner__desc\"> Федеральная электронная<br/>площадка ТЭК-Торг\n",
       "\n",
       "                                </figcaption>\n",
       "<a class=\"partner__link\" href=\"https://www.tektorg.ru/\" target=\"_blank\">tektorg.ru</a>\n",
       "</figure>\n",
       "<figure class=\"partner\">\n",
       "<p class=\"partner-logo-wrap\">\n",
       "<a href=\"https://etpgpb.ru/\" target=\"_blank\"><img alt=\"\" class=\"partner__logo\" src=\"/epz/static/img/partners/etpgpb.svg\"/></a>\n",
       "</p>\n",
       "<figcaption class=\"partner__desc\"> Электронная торговая<br/>площадка ГПБ\n",
       "                                </figcaption>\n",
       "<a class=\"partner__link\" href=\"https://etpgpb.ru/\" target=\"_blank\">etpgpb.ru</a>\n",
       "</figure>\n",
       "<figure class=\"partner\">\n",
       "<p class=\"partner-logo-wrap\">\n",
       "<a href=\"http://www.astgoz.ru/\" target=\"_blank\"><img alt=\"\" class=\"partner__logo\" src=\"/epz/static/img/partners/astgoz.svg\"/></a>\n",
       "</p>\n",
       "<figcaption class=\"partner__desc\"> Автоматизированная система торгов государственного\n",
       "                                    оборонного\n",
       "                                    заказа <br/></figcaption>\n",
       "<a class=\"partner__link\" href=\"http://www.astgoz.ru/\" target=\"_blank\">astgoz.ru</a>\n",
       "</figure>\n",
       "</div>\n",
       "<span class=\"partners-slider__btn partners-slider__btn_prev\">\n",
       "<img alt=\"\" src=\"/epz/static/img/icons/arrow_blue.svg\"/>\n",
       "</span> \n",
       "                        <span class=\"partners-slider__btn partners-slider__btn_next\">\n",
       "<img alt=\"\" src=\"/epz/static/img/icons/arrow_blue.svg\"/>\n",
       "</span> \n",
       "                    </div>\n",
       "</div>\n",
       "<section class=\"footer-nav\">\n",
       "<div class=\"container\">\n",
       "<div class=\"row\">\n",
       "<div class=\"col-md-12 col-lg-12\">\n",
       "<ul class=\"footer-nav-list\">\n",
       "<li class=\"footer-nav__item\">\n",
       "<a class=\"footer-nav__link\" href=\"/epz/main/public/news/news-search.html\">Новости</a>\n",
       "</li>\n",
       "<li class=\"footer-nav__item\">\n",
       "<a class=\"footer-nav__link\" href=\"/epz/main/public/siteMap.html?section=suppliers\">Поставщикам</a>\n",
       "</li>\n",
       "<li class=\"footer-nav__item\">\n",
       "<a class=\"footer-nav__link\" href=\"/epz/main/public/siteMap.html?section=customers\">Заказчикам</a>\n",
       "</li>\n",
       "<li class=\"footer-nav__item\">\n",
       "<a class=\"footer-nav__link\" href=\"/epz/main/public/siteMap.html?section=control-bodies\">Органам контроля</a>\n",
       "</li>\n",
       "<li class=\"footer-nav__item\">\n",
       "<a class=\"footer-nav__link\" href=\"/epz/main/public/quiz/list.html\">Опросы</a>\n",
       "</li>\n",
       "<li class=\"footer-nav__item\">\n",
       "<a class=\"footer-nav__link\" href=\"/epz/main/public/home.html#statAnchor\">Статистика</a>\n",
       "</li>\n",
       "<li class=\"footer-nav__item\">\n",
       "<a class=\"footer-nav__link\" href=\"/epz/main/public/siteMap.html\">Карта сайта</a>\n",
       "</li>\n",
       "<li class=\"footer-nav__item\">\n",
       "<a class=\"footer-nav__link\" href=\"https://zakupki.gov.ru/rpt/cat02/zakupki-traffic.xlsx\">Отчет о посещаемости</a>\n",
       "</li>\n",
       "<li class=\"footer-nav__item\">\n",
       "<a class=\"footer-nav__link\" href=\"/epz/main/public/qa/view.html\">Часто задаваемые вопросы</a>\n",
       "</li>\n",
       "</ul>\n",
       "</div>\n",
       "</div>\n",
       "</div>\n",
       "</section>\n",
       "<section class=\"footer-links\">\n",
       "<div class=\"container\">\n",
       "<div class=\"row\">\n",
       "<div class=\"col-4 col-sm-4 col-md-4 col-lg-4\">\n",
       "<figure class=\"logo\">\n",
       "<img alt=\"\" src=\"/epz/static/img/header/emblem.svg\"/>\n",
       "<figcaption class=\"logo__name filterParametrs\"> Единая информационная система<br/> в сфере закупок</figcaption>\n",
       "</figure>\n",
       "<div class=\"copyright\">\n",
       "<small class=\"copyright__text\">© Федеральное казначейство, 2023</small>\n",
       "<small class=\"copyright__text\"> Версия hotfix/13.2.4.1 rev97d8b75c от 07.08.2023</small>\n",
       "</div>\n",
       "</div>\n",
       "<div class=\"col-4 col-sm-4 col-md-4 col-lg-4\">\n",
       "<nav class=\"usefull-links\">\n",
       "<span class=\"list-title\">Официальные ресурсы</span>\n",
       "<ul class=\"list\">\n",
       "<li class=\"list-item\">\n",
       "<a class=\"list-item__link\" href=\"http://www.kremlin.ru\" target=\"_blank\">Президент Российской Федерации</a>\n",
       "</li>\n",
       "<li class=\"list-item\">\n",
       "<a class=\"list-item__link\" href=\"http://www.government.ru\" target=\"_blank\">Правительство Российской Федерации</a>\n",
       "</li>\n",
       "<li class=\"list-item\">\n",
       "<a class=\"list-item__link\" href=\"http://www.economy.gov.ru\" target=\"_blank\">Министерство экономического развития Российской Федерации</a>\n",
       "</li>\n",
       "<li class=\"list-item\">\n",
       "<a class=\"list-item__link\" href=\"https://minfin.gov.ru\" target=\"_blank\">Министерство финансов Российской Федерации</a>\n",
       "</li>\n",
       "<li class=\"list-item\">\n",
       "<a class=\"list-item__link\" href=\"http://www.fas.gov.ru\" target=\"_blank\">Федеральная антимонопольная служба</a>\n",
       "</li>\n",
       "<li class=\"list-item\">\n",
       "<a class=\"list-item__link\" href=\"http://roskazna.gov.ru\" target=\"_blank\">Федеральное казначейство</a>\n",
       "</li>\n",
       "</ul>\n",
       "</nav>\n",
       "</div>\n",
       "<div class=\"col-4 col-sm-4 col-md-4 col-lg-4\">\n",
       "<nav class=\"usefull-links\">\n",
       "<span class=\"list-title\">Техническая информация</span>\n",
       "<ul class=\"list\">\n",
       "<li class=\"list-item\">\n",
       "<a class=\"list-item__link\" href=\"/epz/main/public/user-feedback.html\">Техническая поддержка</a>\n",
       "</li>\n",
       "<li class=\"list-item\">\n",
       "<a class=\"list-item__link\" data-modalup=\"\" href=\"/epz/main/public/userFeedback/openFeedbackForm.html\">Ваши идеи по улучшению сайта</a>\n",
       "</li>\n",
       "</ul>\n",
       "</nav>\n",
       "<figure class=\"btn-on-top\">\n",
       "<a class=\"btn-on-top__link\">\n",
       "<img alt=\"\" class=\"btn-on-top__image\" src=\"/epz/static/img/icons/arrow-on-top.svg\"/>\n",
       "</a>\n",
       "</figure>\n",
       "</div>\n",
       "</div>\n",
       "</div>\n",
       "</section>\n",
       "<div class=\"clear\"></div>\n",
       "</div>\n",
       "</footer>\n",
       "<script src=\"/epz/static/js/openstreetmap.js\"></script>\n",
       "<script src=\"/epz/static/js/openStreetMapCommonFunctions.js\"></script>\n",
       "<!-- Yandex.Metrika counter -->\n",
       "<script type=\"text/javascript\">\n",
       "    (function(m,e,t,r,i,k,a){m[i]=m[i]||function(){(m[i].a=m[i].a||[]).push(arguments)};\n",
       "        m[i].l=1*new Date();k=e.createElement(t),a=e.getElementsByTagName(t)[0],k.async=1,k.src=r,a.parentNode.insertBefore(k,a)})\n",
       "    (window, document, \"script\", \"https://mc.yandex.ru/metrika/tag.js\", \"ym\");\n",
       "\n",
       "    ym(36706425, \"init\", {\n",
       "        clickmap:true,\n",
       "        trackLinks:true,\n",
       "        accurateTrackBounce:true,\n",
       "        webvisor:true\n",
       "    });\n",
       "</script>\n",
       "<noscript><div><img alt=\"\" src=\"https://mc.yandex.ru/watch/36706425\" style=\"position:absolute; left:-9999px;\"/></div></noscript>\n",
       "<!-- /Yandex.Metrika counter -->\n",
       "<script type=\"text/javascript\">if (window.epzAnalytics) window.epzAnalytics.track();\n",
       "$(document).ready(function () {\n",
       "        checkNotice();\n",
       "});\n",
       "</script>\n",
       "<div id=\"custom-tooltip\"></div>\n",
       "</div></body>\n",
       "</html>"
      ]
     },
     "execution_count": 154,
     "metadata": {},
     "output_type": "execute_result"
    }
   ],
   "source": [
    "soup"
   ]
  },
  {
   "cell_type": "code",
   "execution_count": 155,
   "id": "a001adf9",
   "metadata": {},
   "outputs": [],
   "source": [
    "def remove_bad_symbols(string: str) -> str:\n",
    "    string = re.sub(\"\\n|\\||\\xa0\", \"\", string.strip())\n",
    "    return \" \".join(string.split())"
   ]
  },
  {
   "attachments": {},
   "cell_type": "markdown",
   "id": "880fb3d1",
   "metadata": {},
   "source": [
    "## Информация о заказчике"
   ]
  },
  {
   "cell_type": "code",
   "execution_count": 156,
   "id": "99f9c885",
   "metadata": {},
   "outputs": [
    {
     "data": {
      "text/plain": [
       "'ГОСУДАРСТВЕННОЕ БЮДЖЕТНОЕ УЧРЕЖДЕНИЕ ЗДРАВООХРАНЕНИЯ РЕСПУБЛИКИ КОМИ \"СЫКТЫВКАРСКАЯ ДЕТСКАЯ ПОЛИКЛИНИКА № 2\"'"
      ]
     },
     "execution_count": 156,
     "metadata": {},
     "output_type": "execute_result"
    }
   ],
   "source": [
    "# ПОЛНОЕ НАИМЕНОВАНИЕ ЗАКАЗЧИКА\n",
    "def find_full_name_customer(soup: BeautifulSoup) -> str:\n",
    "    try:\n",
    "        soup = soup.find(\"span\", string=\"Полное наименование заказчика\")\n",
    "        castomer = soup.parent.find(\"a\", target=\"_blank\")\n",
    "        castomer = castomer.get_text()\n",
    "        return remove_bad_symbols(castomer)\n",
    "    except AttributeError:\n",
    "        # логии\n",
    "        return None\n",
    "\n",
    "\n",
    "find_full_name_customer(soup)"
   ]
  },
  {
   "cell_type": "code",
   "execution_count": 157,
   "id": "0782f90e",
   "metadata": {},
   "outputs": [],
   "source": [
    "link = soup.find(\"span\", class_=\"cardMainInfo__content\").find(\"a\")[\"href\"]\n",
    "number = re.search(\"Id=[0-9]+\", link)\n",
    "number\n",
    "# re.search(\"[0-9]+\", number)"
   ]
  },
  {
   "cell_type": "code",
   "execution_count": 158,
   "id": "44392ff0",
   "metadata": {},
   "outputs": [
    {
     "data": {
      "text/plain": [
       "('03073000007', None)"
      ]
     },
     "execution_count": 158,
     "metadata": {},
     "output_type": "execute_result"
    }
   ],
   "source": [
    "# УНИКАЛЬНЫЙ УЧЕТНЫЙ НОМЕР ОРГАНИЗАЦИИ\n",
    "def find_unique_account_number(soup: BeautifulSoup) -> str:\n",
    "    try:\n",
    "        link = soup.find(\"span\", class_=\"cardMainInfo__content\").find(\"a\")[\"href\"]\n",
    "        number = re.search(\"Code=[0-9]+\", link)\n",
    "        if number is None:\n",
    "            number = re.search(\"Id=[0-9]+\", link)\n",
    "            if number is None:\n",
    "                return None, None\n",
    "            else:\n",
    "                return None, re.search(\"[0-9]+\", number[0])[0]\n",
    "        else:\n",
    "            return re.search(\"[0-9]+\", number[0])[0], None\n",
    "    except AttributeError:\n",
    "        # логии\n",
    "        return None\n",
    "\n",
    "\n",
    "find_unique_account_number(soup)"
   ]
  },
  {
   "cell_type": "code",
   "execution_count": 159,
   "id": "84c7c151",
   "metadata": {},
   "outputs": [
    {
     "data": {
      "text/plain": [
       "'ГБУЗ РК \"СДП №2\"'"
      ]
     },
     "execution_count": 159,
     "metadata": {},
     "output_type": "execute_result"
    }
   ],
   "source": [
    "# СОКРАЩЕННОЕ НАИМЕНОВАНИЕ ЗАКАЗЧИКА\n",
    "def find_short_name_customer(soup: BeautifulSoup) -> str:\n",
    "    try:\n",
    "        soup = soup.find(\"span\", string=\"Сокращенное наименование заказчика\")\n",
    "        castomer = soup.parent.find(\"span\", class_=\"section__info\")\n",
    "        castomer = castomer.get_text()\n",
    "        return remove_bad_symbols(castomer)\n",
    "    except AttributeError:\n",
    "        # логии\n",
    "        return None\n",
    "\n",
    "\n",
    "find_short_name_customer(soup)"
   ]
  },
  {
   "cell_type": "code",
   "execution_count": 160,
   "id": "09895c10",
   "metadata": {},
   "outputs": [
    {
     "data": {
      "text/plain": [
       "'21101487375110101001'"
      ]
     },
     "execution_count": 160,
     "metadata": {},
     "output_type": "execute_result"
    }
   ],
   "source": [
    "# ИДЕНТИФИКАЦИОННЫЙ КОД ЗАКАЗЧИКА\n",
    "def find_id_customer(soup: BeautifulSoup) -> str:\n",
    "    try:\n",
    "        soup = soup.find(\"span\", string=\"Идентификационный код заказчика\")\n",
    "        code = soup.parent.find(\"span\", class_=\"section__info\")\n",
    "        code = code.get_text()\n",
    "        return remove_bad_symbols(code)\n",
    "    except AttributeError:\n",
    "        # логии\n",
    "        return None\n",
    "\n",
    "\n",
    "find_id_customer(soup)"
   ]
  },
  {
   "cell_type": "code",
   "execution_count": 161,
   "id": "9cca8d83",
   "metadata": {},
   "outputs": [
    {
     "data": {
      "text/plain": [
       "'1101487375'"
      ]
     },
     "execution_count": 161,
     "metadata": {},
     "output_type": "execute_result"
    }
   ],
   "source": [
    "# ИНН ЗАКАЗЧИКА\n",
    "def find_inn_customer(soup: object) -> str:\n",
    "    try:\n",
    "        soup = soup.find(\"span\", string=\"ИНН\")\n",
    "        code = soup.parent.find(\"span\", class_=\"section__info\")\n",
    "        code = code.get_text()\n",
    "        return remove_bad_symbols(code)\n",
    "    except AttributeError:\n",
    "        # логии\n",
    "        return None\n",
    "\n",
    "\n",
    "find_inn_customer(soup)"
   ]
  },
  {
   "cell_type": "code",
   "execution_count": 162,
   "id": "dc4a77e6",
   "metadata": {},
   "outputs": [
    {
     "data": {
      "text/plain": [
       "'110101001'"
      ]
     },
     "execution_count": 162,
     "metadata": {},
     "output_type": "execute_result"
    }
   ],
   "source": [
    "# КПП ЗАКАЗЧИКА\n",
    "def find_kpp_customer(soup: object) -> str:\n",
    "    try:\n",
    "        soup = soup.find(\"span\", string=\"КПП\")\n",
    "        code = soup.parent.find(\"span\", class_=\"section__info\")\n",
    "        code = code.get_text()\n",
    "        return remove_bad_symbols(code)\n",
    "    except AttributeError:\n",
    "        # логии\n",
    "        return None\n",
    "\n",
    "\n",
    "find_kpp_customer(soup)"
   ]
  },
  {
   "cell_type": "code",
   "execution_count": 163,
   "id": "705711a7",
   "metadata": {},
   "outputs": [
    {
     "data": {
      "text/plain": [
       "'75203'"
      ]
     },
     "execution_count": 163,
     "metadata": {},
     "output_type": "execute_result"
    }
   ],
   "source": [
    "# КОД ОРАГИЗАЦИОННО-ПРАВОВОЙ ФОРМЫ\n",
    "def find_code_form_org(soup: object) -> str:\n",
    "    try:\n",
    "        soup = soup.find(\"span\", string=\"Код организационно-правовой формы\")\n",
    "        code = soup.parent.find(\"span\", class_=\"section__info\")\n",
    "        code = code.get_text()\n",
    "        return remove_bad_symbols(code)\n",
    "    except AttributeError:\n",
    "        # логии\n",
    "        return None\n",
    "\n",
    "\n",
    "find_code_form_org(soup)"
   ]
  },
  {
   "cell_type": "code",
   "execution_count": 164,
   "id": "ea53fa9f",
   "metadata": {},
   "outputs": [
    {
     "data": {
      "text/plain": [
       "'24959799'"
      ]
     },
     "execution_count": 164,
     "metadata": {},
     "output_type": "execute_result"
    }
   ],
   "source": [
    "# КОД ПО ОКПО\n",
    "def find_okpo_code(soup: object) -> str:\n",
    "    try:\n",
    "        soup = soup.find(\"span\", string=\"Код ОКПО\")\n",
    "        code = soup.parent.find(\"span\", class_=\"section__info\")\n",
    "        code = code.get_text()\n",
    "        return remove_bad_symbols(code)\n",
    "    except AttributeError:\n",
    "        # логии\n",
    "        return None\n",
    "\n",
    "\n",
    "find_okpo_code(soup)"
   ]
  },
  {
   "cell_type": "code",
   "execution_count": 165,
   "id": "750ffa5e",
   "metadata": {},
   "outputs": [
    {
     "data": {
      "text/plain": [
       "'87701000 – Сыктывкар'"
      ]
     },
     "execution_count": 165,
     "metadata": {},
     "output_type": "execute_result"
    }
   ],
   "source": [
    "# КОД ТЕРРИТОРИИ МУНИЦИПАЛЬНОГО ОБРАЗОВАНИЯ\n",
    "def find_municipal_code(soup: object) -> str:\n",
    "    try:\n",
    "        soup = soup.find(\"span\", string=\"Код территории муниципального образования\")\n",
    "        code = soup.parent.find(\"span\", class_=\"section__info\")\n",
    "        code = code.get_text()\n",
    "        return remove_bad_symbols(code)\n",
    "    except AttributeError:\n",
    "        # логии\n",
    "        return None\n",
    "\n",
    "\n",
    "find_municipal_code(soup)"
   ]
  },
  {
   "cell_type": "code",
   "execution_count": 166,
   "id": "97d1a973",
   "metadata": {},
   "outputs": [
    {
     "data": {
      "text/plain": [
       "('республиканский бюджет Республики Коми', None)"
      ]
     },
     "execution_count": 166,
     "metadata": {},
     "output_type": "execute_result"
    }
   ],
   "source": [
    "def find_budget_name(soup: object) -> str:\n",
    "    try:\n",
    "        soup_1 = soup.find(\"span\", string=\"Наименование бюджета\")\n",
    "        name = soup_1.parent.find(\"span\", class_=\"section__info\")\n",
    "        name = name.get_text()\n",
    "        return remove_bad_symbols(name), None\n",
    "    except AttributeError:\n",
    "        try:\n",
    "            soup = soup.find(\"span\", string=\"Наименование внебюджетных средств\")\n",
    "            name = soup.parent.find(\"span\", class_=\"section__info\")\n",
    "            name = name.get_text()\n",
    "            return None, remove_bad_symbols(name)\n",
    "        except AttributeError:\n",
    "            # логии\n",
    "            return None, None\n",
    "\n",
    "\n",
    "find_budget_name(soup)"
   ]
  },
  {
   "cell_type": "code",
   "execution_count": 167,
   "id": "64b75262",
   "metadata": {},
   "outputs": [
    {
     "data": {
      "text/plain": [
       "'12-бюджет субъекта Российской Федерации'"
      ]
     },
     "execution_count": 167,
     "metadata": {},
     "output_type": "execute_result"
    }
   ],
   "source": [
    "def find_budget_level(soup: object) -> str:\n",
    "    try:\n",
    "        soup = soup.find(\"span\", string=\"Уровень бюджета\")\n",
    "        code = soup.parent.find(\"span\", class_=\"section__info\")\n",
    "        code = code.get_text()\n",
    "        return remove_bad_symbols(code)\n",
    "    except AttributeError:\n",
    "        # логии\n",
    "        return None\n",
    "\n",
    "\n",
    "find_budget_level(soup)"
   ]
  },
  {
   "attachments": {},
   "cell_type": "markdown",
   "id": "b2fc18cd",
   "metadata": {},
   "source": [
    "## Общая информация"
   ]
  },
  {
   "cell_type": "code",
   "execution_count": 168,
   "id": "99d4e77a",
   "metadata": {},
   "outputs": [
    {
     "data": {
      "text/plain": [
       "'Исполнение завершено'"
      ]
     },
     "execution_count": 168,
     "metadata": {},
     "output_type": "execute_result"
    }
   ],
   "source": [
    "# СТАТУС КОНТРАКТА\n",
    "def find_contract_status(soup: object) -> str:\n",
    "    try:\n",
    "        soup = soup.find(\"span\", string=\"Статус контракта\")\n",
    "        code = soup.parent.find(\"span\", class_=\"section__info\")\n",
    "        code = code.get_text()\n",
    "        return remove_bad_symbols(code)\n",
    "    except AttributeError:\n",
    "        # логии\n",
    "        return None\n",
    "\n",
    "\n",
    "find_contract_status(soup)"
   ]
  },
  {
   "cell_type": "code",
   "execution_count": 169,
   "id": "ca3d3db5",
   "metadata": {},
   "outputs": [
    {
     "data": {
      "text/plain": [
       "'0307300000714000003'"
      ]
     },
     "execution_count": 169,
     "metadata": {},
     "output_type": "execute_result"
    }
   ],
   "source": [
    "# НОМЕР ИЗВЕЩЕНИЯ ОБ ОСУЩЕСТВЛЕНИИ ЗАКУПКИ\n",
    "def find_notice(soup: object) -> str:\n",
    "    try:\n",
    "        soup = soup.find(\"span\", string=\"Номер извещения об осуществлении закупки\")\n",
    "        code = soup.parent.find(\"span\", class_=\"section__info\")\n",
    "        code = code.get_text()\n",
    "        return remove_bad_symbols(code)\n",
    "    except AttributeError:\n",
    "        # логии\n",
    "        return None\n",
    "\n",
    "\n",
    "find_notice(soup)"
   ]
  },
  {
   "cell_type": "code",
   "execution_count": 170,
   "id": "80351198",
   "metadata": {},
   "outputs": [],
   "source": [
    "# ИДЕНТИФИКАЦИОННЫЙ КОД ЗАКУПКИ (ИКЗ)\n",
    "def find_ikz_code(soup: object) -> str:\n",
    "    try:\n",
    "        soup = soup.find(\"span\", string=\"Идентификационный код закупки (ИКЗ)\")\n",
    "        code = soup.parent.find(\"span\", class_=\"section__info\")\n",
    "        code = code.get_text()\n",
    "        return remove_bad_symbols(code)\n",
    "    except AttributeError:\n",
    "        # логии\n",
    "        return None\n",
    "\n",
    "\n",
    "find_ikz_code(soup)"
   ]
  },
  {
   "cell_type": "code",
   "execution_count": 171,
   "id": "623e1b5b",
   "metadata": {},
   "outputs": [],
   "source": [
    "# ИДЕНТИФИКАТОР КОНТРАКТА, ЗАКЛЮЧЕННОГО В ЭЛЕКТРОННОЙ ФОРМЕ\n",
    "def find_id_contract_electronic(soup: object) -> str:\n",
    "    try:\n",
    "        soup = soup.find(\n",
    "            \"span\", string=\"Идентификатор контракта, заключенного в электронной форме\"\n",
    "        )\n",
    "        code = soup.parent.find(\"span\", class_=\"section__info\")\n",
    "        code = code.get_text()\n",
    "        return remove_bad_symbols(code)\n",
    "    except AttributeError:\n",
    "        # логии\n",
    "        return None\n",
    "\n",
    "\n",
    "find_id_contract_electronic(soup)"
   ]
  },
  {
   "cell_type": "code",
   "execution_count": 172,
   "id": "73c3e0ae",
   "metadata": {},
   "outputs": [],
   "source": [
    "# УНИКАЛЬНЫЙ НОМЕР ПОЗИЦИИ ПЛАНА-ГРАФИКА\n",
    "def find_unique_number_plan(soup: object) -> str:\n",
    "    try:\n",
    "        soup = soup.find(\"span\", string=\"Уникальный номер позиции плана-графика\")\n",
    "        number = soup.parent.find(\"span\", class_=\"section__info\")\n",
    "        number = number.get_text()\n",
    "        return remove_bad_symbols(number)\n",
    "    except AttributeError:\n",
    "        # логии\n",
    "        return None\n",
    "\n",
    "\n",
    "find_unique_number_plan(soup)"
   ]
  },
  {
   "cell_type": "code",
   "execution_count": 173,
   "id": "b8df4779",
   "metadata": {},
   "outputs": [
    {
     "data": {
      "text/plain": [
       "'Закупка у единственного поставщика (подрядчика, исполнителя)'"
      ]
     },
     "execution_count": 173,
     "metadata": {},
     "output_type": "execute_result"
    }
   ],
   "source": [
    "# СПОСОБ ОПРЕДЕЛНИЯ ПОСТАВЩИКА (подрядчика, исполнителя)\n",
    "def find_method_determinig_supplier(soup: object) -> str:\n",
    "    try:\n",
    "        soup = soup.find(\"span\", string=\"Способ определения поставщика (подрядчика, исполнителя)\")\n",
    "        number = soup.parent.find(\"span\", class_=\"section__info\")\n",
    "        number = number.get_text()\n",
    "        return remove_bad_symbols(number)\n",
    "    except AttributeError:\n",
    "        # логии\n",
    "        return None\n",
    "\n",
    "\n",
    "find_method_determinig_supplier(soup)"
   ]
  },
  {
   "cell_type": "code",
   "execution_count": 174,
   "id": "63191ffb",
   "metadata": {},
   "outputs": [],
   "source": [
    "# ДАТА ПОДВЕДЕНИЯ РЕЗУЛЬТАТОВ ОПРЕДЕЛЕНИЯ ПОСТАВЩИКА (ПОДРЯДЧИКА, ИСПОЛНИТЕЛЯ)\n",
    "def find_date_summarizing(soup: object) -> str:\n",
    "    try:\n",
    "        soup = soup.find(\n",
    "            \"span\",\n",
    "            string=\"Дата подведения результатов определения поставщика (подрядчика, исполнителя)\",\n",
    "        )\n",
    "        date = soup.parent.find(\"span\", class_=\"section__info\")\n",
    "        date = date.get_text()\n",
    "        return remove_bad_symbols(date)\n",
    "    except AttributeError:\n",
    "        # логии\n",
    "        return None\n",
    "\n",
    "\n",
    "find_date_summarizing(soup)"
   ]
  },
  {
   "cell_type": "code",
   "execution_count": 175,
   "id": "a7603946",
   "metadata": {},
   "outputs": [
    {
     "data": {
      "text/plain": [
       "'28.01.2015 14:13 (МСК)'"
      ]
     },
     "execution_count": 175,
     "metadata": {},
     "output_type": "execute_result"
    }
   ],
   "source": [
    "# ДАТА РАЗМЕЩЕНИЯ (ПО МЕСТНОМУ ВРЕМЕНИ)\n",
    "def find_date_posting(soup: object) -> str:\n",
    "    try:\n",
    "        soup = soup.find(\"span\", string=\"Дата размещения (по местному времени)\")\n",
    "        date = soup.parent.find(\"span\", class_=\"section__info\")\n",
    "        date = date.get_text()\n",
    "        return remove_bad_symbols(date)\n",
    "    except AttributeError:\n",
    "        # логии\n",
    "        return None\n",
    "\n",
    "\n",
    "find_date_posting(soup)"
   ]
  },
  {
   "cell_type": "code",
   "execution_count": 176,
   "id": "bcb67bf1",
   "metadata": {},
   "outputs": [
    {
     "name": "stdout",
     "output_type": "stream",
     "text": [
      "\n"
     ]
    },
    {
     "data": {
      "text/plain": [
       "'Часть 1 пункт 29 статьи 93 – заключение договора энергоснабжения или договора купли-продажи электрической энергии с гарантирующим поставщиком электрической энергии'"
      ]
     },
     "execution_count": 176,
     "metadata": {},
     "output_type": "execute_result"
    }
   ],
   "source": [
    "# ОСНОВАНИЕ ЗАКЛЮЧЕНИЯ КОНТРАКТА С ЕДИНСТВЕННЫМ ПОСТАВЩИКОМ\n",
    "def find_grouds_single_supplier(soup: object) -> str:\n",
    "    try:\n",
    "        soup = soup.find(\n",
    "            \"span\", string=\"Основание заключения контракта с единственным поставщиком\"\n",
    "        )\n",
    "        print()\n",
    "        grouds = soup.parent.find(\"span\", class_=\"section__info\")\n",
    "        grouds = grouds.get_text()\n",
    "        return remove_bad_symbols(grouds)\n",
    "    except AttributeError:\n",
    "        # логии\n",
    "        return None\n",
    "\n",
    "\n",
    "find_grouds_single_supplier(soup)"
   ]
  },
  {
   "cell_type": "code",
   "execution_count": 177,
   "id": "6e9cb6fe",
   "metadata": {},
   "outputs": [],
   "source": [
    "# РЕКВИЗИТЫ ДОКУМЕНТА, ПОДТВЕРЖДАЮЩЕГО ЗАКЛЮЧЕНИЯ КОНТРАКТА\n",
    "def find_document_details(soup: object) -> str:\n",
    "    try:\n",
    "        soup = soup.find(\n",
    "            \"span\", string=\"Реквизиты документа, подтверждающего основание заключения контракта\"\n",
    "        )\n",
    "        date = soup.parent.find(\"span\", class_=\"section__info\")\n",
    "        date = date.get_text()\n",
    "        return remove_bad_symbols(date)\n",
    "    except AttributeError:\n",
    "        # логии\n",
    "        return None\n",
    "\n",
    "\n",
    "find_document_details(soup)"
   ]
  },
  {
   "cell_type": "code",
   "execution_count": 178,
   "id": "672c5269",
   "metadata": {},
   "outputs": [
    {
     "data": {
      "text/plain": [
       "'Банковское или казначейское сопровождение контракта не требуется'"
      ]
     },
     "execution_count": 178,
     "metadata": {},
     "output_type": "execute_result"
    }
   ],
   "source": [
    "# ИНФОРМАЦИЯ О БАНКОВСКОМ и (или) КАЗНАЧЕЙСКОМ СОПРОВОЖДЕНИИ КОНТРАКТА\n",
    "def info_support(soup: object) -> str:\n",
    "    try:\n",
    "        soup = soup.find(\n",
    "            \"span\", string=\"Информация о банковском и (или) казначейском сопровождении контракта\"\n",
    "        )\n",
    "        date = soup.parent.find(\"span\", class_=\"section__info\")\n",
    "        date = date.get_text()\n",
    "        return remove_bad_symbols(date)\n",
    "    except AttributeError:\n",
    "        # логии\n",
    "        return None\n",
    "\n",
    "\n",
    "info_support(soup)"
   ]
  },
  {
   "attachments": {},
   "cell_type": "markdown",
   "id": "6841bc37",
   "metadata": {},
   "source": [
    "## Общие данные"
   ]
  },
  {
   "cell_type": "code",
   "execution_count": 179,
   "id": "4306d6af",
   "metadata": {},
   "outputs": [
    {
     "data": {
      "text/plain": [
       "'07.04.2014'"
      ]
     },
     "execution_count": 179,
     "metadata": {},
     "output_type": "execute_result"
    }
   ],
   "source": [
    "# ЗАКЛЮЧЕНИЕ КОНТРАКТА\n",
    "def find_date_contract(soup: object) -> str:\n",
    "    try:\n",
    "        soup = soup.find(\"span\", string=\"Заключение контракта\")\n",
    "        number = soup.parent.find(\"span\", class_=\"cardMainInfo__content\")\n",
    "        number = number.get_text()\n",
    "        return remove_bad_symbols(number)\n",
    "    except AttributeError:\n",
    "        # логии\n",
    "        return None\n",
    "\n",
    "\n",
    "find_date_contract(soup)"
   ]
  },
  {
   "cell_type": "code",
   "execution_count": 180,
   "id": "dfc00138",
   "metadata": {},
   "outputs": [
    {
     "data": {
      "text/plain": [
       "'31.01.2015'"
      ]
     },
     "execution_count": 180,
     "metadata": {},
     "output_type": "execute_result"
    }
   ],
   "source": [
    "# СРОК ИСПОЛНЕНИЯ\n",
    "def find_date_performance(soup: object) -> str:\n",
    "    try:\n",
    "        soup = soup.find(\"span\", string=\"Срок исполнения\")\n",
    "        number = soup.parent.find(\"span\", class_=\"cardMainInfo__content\")\n",
    "        number = number.get_text()\n",
    "        return remove_bad_symbols(number)\n",
    "    except AttributeError:\n",
    "        # логии\n",
    "        return None\n",
    "\n",
    "\n",
    "find_date_performance(soup)"
   ]
  },
  {
   "cell_type": "code",
   "execution_count": 181,
   "id": "985b1657",
   "metadata": {},
   "outputs": [
    {
     "data": {
      "text/plain": [
       "'07.04.2014'"
      ]
     },
     "execution_count": 181,
     "metadata": {},
     "output_type": "execute_result"
    }
   ],
   "source": [
    "# ДАТА РАЗМЕЩЕНИЕ КОНТРАКТА В РЕЕСТРЕ КОНТРАКТОВ\n",
    "def find_date_contract_registry(soup: object) -> str:\n",
    "    try:\n",
    "        soup = soup.find(\"span\", string=\"Размещен контракт в реестре контрактов\")\n",
    "        number = soup.parent.find(\"span\", class_=\"cardMainInfo__content\")\n",
    "        number = number.get_text()\n",
    "        return remove_bad_symbols(number)\n",
    "    except AttributeError:\n",
    "        # логии\n",
    "        return None\n",
    "\n",
    "\n",
    "find_date_contract_registry(soup)"
   ]
  },
  {
   "cell_type": "code",
   "execution_count": 182,
   "id": "d8d7930d",
   "metadata": {},
   "outputs": [
    {
     "data": {
      "text/plain": [
       "'07.04.2014'"
      ]
     },
     "execution_count": 182,
     "metadata": {},
     "output_type": "execute_result"
    }
   ],
   "source": [
    "# ДАТА ОБНОВЛЕНИЯ КОНТРАКТА В РЕЕСТРЕ КОНТРАКТОВ\n",
    "def find_date_update_registry(soup: object) -> str:\n",
    "    try:\n",
    "        soup = soup.find(\"span\", string=\"Обновлен контракт в реестре контрактов\")\n",
    "        number = soup.parent.find(\"span\", class_=\"cardMainInfo__content\")\n",
    "        number = number.get_text()\n",
    "        return remove_bad_symbols(number)\n",
    "    except AttributeError:\n",
    "        # логии\n",
    "        return None\n",
    "\n",
    "\n",
    "find_date_contract_registry(soup)"
   ]
  },
  {
   "cell_type": "code",
   "execution_count": 183,
   "id": "ea2b058b",
   "metadata": {},
   "outputs": [
    {
     "data": {
      "text/plain": [
       "True"
      ]
     },
     "execution_count": 183,
     "metadata": {},
     "output_type": "execute_result"
    }
   ],
   "source": [
    "number_contract = \"3690202684015000006\"\n",
    "number_another = '1027800704818000089'\n",
    "url_info = (\n",
    "    \"https://zakupki.gov.ru/epz/contract/contractCard/common-info.html?reestrNumber=\"\n",
    "    + number_contract\n",
    ")\n",
    "res = requests.get(url_info, headers={\"User-Agent\": UserAgent().random})\n",
    "soup = BeautifulSoup(res.text, \"html\")\n",
    "res.ok"
   ]
  },
  {
   "cell_type": "code",
   "execution_count": 184,
   "id": "6202b014",
   "metadata": {},
   "outputs": [
    {
     "data": {
      "text/plain": [
       "'12.01.2015 Загрузка ...'"
      ]
     },
     "execution_count": 184,
     "metadata": {},
     "output_type": "execute_result"
    }
   ],
   "source": [
    "# ДАТА НАЧАЛА ИСПОЛНЕНИЯ КОНТРАКТА\n",
    "def find_date_start_performance(soup: object) -> str:\n",
    "    try:\n",
    "        soup_new = soup.find(\"span\", string=\"Дата начала исполнения контракта\")\n",
    "        date = soup_new.parent.find(\"span\", class_=\"section__info\")\n",
    "        date = date.get_text()\n",
    "        date = remove_bad_symbols(date)\n",
    "        if date == 'Дата начала исполнения контракта':\n",
    "            soup = soup.find(\"span\", string=\"Дата начала исполнения контракта\", class_='section__title')\n",
    "            date = soup.parent.find(\"span\", class_=\"section__info\")\n",
    "            date = date.get_text()\n",
    "            date = remove_bad_symbols(date)\n",
    "        return date\n",
    "    except AttributeError:\n",
    "        # логии\n",
    "        return None\n",
    "\n",
    "find_date_start_performance(soup)"
   ]
  },
  {
   "cell_type": "code",
   "execution_count": 185,
   "id": "81a913b6",
   "metadata": {},
   "outputs": [
    {
     "data": {
      "text/plain": [
       "'30.06.2015'"
      ]
     },
     "execution_count": 185,
     "metadata": {},
     "output_type": "execute_result"
    }
   ],
   "source": [
    "# ДАТА ОКОНЧАНИЯ ИСПОЛНЕНИЯ КОНТРАКТА\n",
    "def find_date_end_performance(soup: object) -> str:\n",
    "    try:\n",
    "        soup_new = soup.find(\"span\", string=\"Дата окончания исполнения контракта\")\n",
    "        date = soup_new.parent.find(\"span\", class_=\"section__info\")\n",
    "        date = date.get_text()\n",
    "        date = remove_bad_symbols(date)\n",
    "        if date == 'Дата окончания исполнения контракта':\n",
    "            soup = soup.find(\"span\", string=\"Дата окончания исполнения контракта\", class_='section__title')\n",
    "            date = soup.parent.find(\"span\", class_=\"section__info\")\n",
    "            date = date.get_text()\n",
    "            date = remove_bad_symbols(date)\n",
    "        return date\n",
    "    except AttributeError:\n",
    "        # логии\n",
    "        return None\n",
    "\n",
    "find_date_end_performance(soup)"
   ]
  },
  {
   "cell_type": "code",
   "execution_count": 186,
   "id": "d404c648",
   "metadata": {},
   "outputs": [],
   "source": [
    "# ПРЕДМЕТ КОНТРАКТА\n",
    "def find_contract_item(soup: object) -> str:\n",
    "    try:\n",
    "        soup = soup.find(\"span\", string=\"Предмет контракта\")\n",
    "        item = soup.parent.find(\"span\", class_=\"section__info\")\n",
    "        item = item.get_text()\n",
    "        return remove_bad_symbols(item)\n",
    "    except AttributeError:\n",
    "        # логии\n",
    "        return None\n",
    "\n",
    "\n",
    "find_contract_item(soup)"
   ]
  },
  {
   "cell_type": "code",
   "execution_count": 187,
   "id": "0533077a",
   "metadata": {},
   "outputs": [
    {
     "data": {
      "text/plain": [
       "'21701.08'"
      ]
     },
     "execution_count": 187,
     "metadata": {},
     "output_type": "execute_result"
    }
   ],
   "source": [
    "# ЦЕНА КОНТРАКТА\n",
    "def find_contract_price(soup: object) -> str:\n",
    "    try:\n",
    "        soup_firts = soup.find(\"span\", string=\"Цена контракта\")\n",
    "        price = soup_firts.parent.find(\"span\", class_=\"cardMainInfo__content cost\")\n",
    "        price = remove_bad_symbols(price.get_text())\n",
    "        price = \"\".join([i for i in price if i.isdigit() or i in [\",\", \".\"]]).replace(\",\", \".\")\n",
    "        if price != \"\":\n",
    "            return price\n",
    "    except AttributeError:\n",
    "        # логии\n",
    "        pass\n",
    "\n",
    "    try:\n",
    "        soup = soup.find(\"div\", class_=\"price\")\n",
    "        price = soup.parent.find(\"span\", class_=\"cardMainInfo__content cost\")\n",
    "        price = remove_bad_symbols(price.get_text())\n",
    "        price = \"\".join([i for i in price if i.isdigit() or i in [\",\", \".\"]]).replace(\",\", \".\")\n",
    "        if price != \"\":\n",
    "            return price\n",
    "    except AttributeError:\n",
    "        # логии\n",
    "        return None\n",
    "\n",
    "\n",
    "find_contract_price(soup)"
   ]
  },
  {
   "cell_type": "code",
   "execution_count": 188,
   "id": "d43ae691",
   "metadata": {},
   "outputs": [
    {
     "data": {
      "text/plain": [
       "'21701.08'"
      ]
     },
     "execution_count": 188,
     "metadata": {},
     "output_type": "execute_result"
    }
   ],
   "source": [
    "# В ТОМ ЧИСЛЕ С НДС\n",
    "def find_contract_price_nds(soup: object) -> str:\n",
    "    try:\n",
    "        soup_firts = soup.find(\"span\", string=\"В том числе НДС\")\n",
    "        price = soup_firts.parent.find(\"span\", class_=\"section__info\")\n",
    "        price = remove_bad_symbols(price.get_text())\n",
    "        price = \"\".join([i for i in price if i.isdigit() or i in [\",\", \".\"]]).replace(\",\", \".\")\n",
    "        if price != \"\":\n",
    "            return price\n",
    "    except AttributeError:\n",
    "        # логии\n",
    "        return None\n",
    "\n",
    "\n",
    "find_contract_price(soup)"
   ]
  },
  {
   "cell_type": "code",
   "execution_count": 189,
   "id": "30225384",
   "metadata": {},
   "outputs": [],
   "source": [
    "# РАЗМЕР АНВАНСА\n",
    "def find_prepayment_amount(soup: object) -> str:\n",
    "    try:\n",
    "        soup = soup.find(\"span\", string=\"Размер аванса\")\n",
    "        prepayment = soup.parent.find(\"span\", class_=\"section__info\")\n",
    "        prepayment = remove_bad_symbols(prepayment.get_text())\n",
    "        return prepayment\n",
    "    except AttributeError:\n",
    "        # логги\n",
    "        return None\n",
    "\n",
    "\n",
    "find_prepayment_amount(soup)"
   ]
  },
  {
   "cell_type": "code",
   "execution_count": 190,
   "id": "2d49a53e",
   "metadata": {},
   "outputs": [],
   "source": [
    "# РАЗМЕР ОБЕСПЕЧЕНИЯ ИСПОЛНЕНИЯ КОНТРАКТА\n",
    "def find_performance_security(soup: object) -> str:\n",
    "    try:\n",
    "        soup = soup.find(\"span\", string=\"Размер обеспечения исполнения контракта, ₽\")\n",
    "        security_sum = soup.parent.find(\"span\", class_=\"section__info\")\n",
    "        security_sum = remove_bad_symbols(security_sum.get_text())\n",
    "        security_sum = \"\".join(\n",
    "            [i for i in security_sum if i.isdigit() or i in [\",\", \".\"]]\n",
    "        ).replace(\",\", \".\")\n",
    "        if security_sum != \"\":\n",
    "            return security_sum\n",
    "    except AttributeError:\n",
    "        # логии\n",
    "        return None\n",
    "\n",
    "\n",
    "find_performance_security(soup)"
   ]
  },
  {
   "cell_type": "code",
   "execution_count": 191,
   "id": "d6d0ee43",
   "metadata": {},
   "outputs": [],
   "source": [
    "# РАЗМЕР ОБЕСПЕЧЕНИЯ ИСПОЛНЕНИЯ ОБЯЗАТЕЛЬСТВ ПО ПРЕДОСТАВЛЕННОЙ ГАРАНТИИ КАЧЕСТВА ТОВАРОВ, РАБОТ, УСЛУГ\n",
    "def find_size_performance_quality(soup: object) -> str:\n",
    "    try:\n",
    "        soup = soup.find(\n",
    "            \"span\",\n",
    "            string=\"Размер обеспечения исполнения обязательств по предоставленной гарантии качества товаров, работ, услуг\",\n",
    "        )\n",
    "        security_sum = soup.parent.find(\"span\", class_=\"section__info\")\n",
    "        security_sum = remove_bad_symbols(security_sum.get_text())\n",
    "        security_sum = \"\".join(\n",
    "            [i for i in security_sum if i.isdigit() or i in [\",\", \".\"]]\n",
    "        ).replace(\",\", \".\")\n",
    "        if security_sum != \"\":\n",
    "            return security_sum\n",
    "    except AttributeError:\n",
    "        # логии\n",
    "        return None\n",
    "\n",
    "\n",
    "find_size_performance_quality(soup)"
   ]
  },
  {
   "cell_type": "code",
   "execution_count": 192,
   "id": "f2c2be22",
   "metadata": {},
   "outputs": [],
   "source": [
    "# СРОК НА КОТОРЫЙ ПРЕДОСТАВЛЯЕТСЯ ГАРАНТИЯ\n",
    "def find_warranty_period(soup: object) -> str:\n",
    "    try:\n",
    "        soup_new = soup.find(\"h2\", string=\"Срок, на который предоставляется гарантия\")\n",
    "        if soup_new is None:\n",
    "            soup_new = soup.find(\"span\", string=\"Срок, на который предоставляется гарантия\")\n",
    "        date = soup_new.parent.find(\"span\", class_=\"section__info\")\n",
    "        date = date.get_text()\n",
    "        return remove_bad_symbols(date)\n",
    "    except AttributeError:\n",
    "        return None\n",
    "\n",
    "\n",
    "find_warranty_period(soup)"
   ]
  },
  {
   "cell_type": "code",
   "execution_count": 193,
   "id": "44504119",
   "metadata": {},
   "outputs": [],
   "source": [
    "# ИНФОРМАЦИЯ О МЕСТЕ ПОСТАВКИ ТОВАРА, ВЫПОЛНЕНИИ РАБОТЫ ИЛИ ОКАЗАНИИ УСЛУГИ\n",
    "def find_place_performance(soup: object) -> str:\n",
    "    try:\n",
    "        place = soup.find(\n",
    "            \"h2\",\n",
    "            string=\"Информация о месте поставки товара, выполнения работы или оказания услуги\",\n",
    "            class_=\"blockInfo__title_sub\",\n",
    "        ).parent.find(\"span\", class_=\"section__info\")\n",
    "        place = remove_bad_symbols(place.get_text())\n",
    "        return place\n",
    "    except AttributeError:\n",
    "        # логии\n",
    "        return None\n",
    "\n",
    "\n",
    "find_place_performance(soup)"
   ]
  },
  {
   "attachments": {},
   "cell_type": "markdown",
   "id": "ffcbcfa6",
   "metadata": {},
   "source": [
    "## Информация о поставщиках"
   ]
  },
  {
   "cell_type": "code",
   "execution_count": 194,
   "id": "2619252b",
   "metadata": {},
   "outputs": [],
   "source": [
    "# ИМЯ ПОСТАВЩИКА\n",
    "def find_full_name_supplier(soup: object) -> str:\n",
    "    try:\n",
    "        name = soup.next.get_text()\n",
    "        return remove_bad_symbols(name)\n",
    "    except AttributeError:\n",
    "        # логии\n",
    "        return None"
   ]
  },
  {
   "cell_type": "code",
   "execution_count": 195,
   "id": "59637e75",
   "metadata": {},
   "outputs": [],
   "source": [
    "# КОД ПО ОКПО\n",
    "def find_code_okpo_supplier(soup: object) -> str:\n",
    "    try:\n",
    "        soup = soup.find(\"span\", string=\"Код по ОКПО:\")\n",
    "        code = soup.next.next.next\n",
    "        code = code.get_text()\n",
    "        return remove_bad_symbols(code)\n",
    "    except AttributeError:\n",
    "        # логии\n",
    "        return None"
   ]
  },
  {
   "cell_type": "code",
   "execution_count": 196,
   "id": "9349c922",
   "metadata": {},
   "outputs": [],
   "source": [
    "# ИНН ПОСТАВЩИКА\n",
    "def find_inn_supplier(soup: object) -> str:\n",
    "    try:\n",
    "        inn = soup.parent.find(\"span\", string=\"ИНН:\").next.next.next\n",
    "        inn = inn.get_text()\n",
    "        return remove_bad_symbols(inn)\n",
    "    except AttributeError:\n",
    "        # логии\n",
    "        return None"
   ]
  },
  {
   "cell_type": "code",
   "execution_count": 197,
   "id": "8c578181",
   "metadata": {},
   "outputs": [],
   "source": [
    "# КПП ПОСТАВЩИКА\n",
    "def find_kpp_supplier(soup: object) -> str:\n",
    "    try:\n",
    "        kpp = soup.parent.find(\"span\", string=\"КПП:\").next.next.next\n",
    "        kpp = kpp.get_text()\n",
    "        return remove_bad_symbols(kpp)\n",
    "    except AttributeError:\n",
    "        # логии\n",
    "        return None"
   ]
  },
  {
   "cell_type": "code",
   "execution_count": 198,
   "id": "d343f84b",
   "metadata": {},
   "outputs": [],
   "source": [
    "# ДАТА ПОСТАНОВКИ НА УЧЕТ\n",
    "def find_date_registration_supplier(soup: object) -> str:\n",
    "    try:\n",
    "        date = soup.parent.find(\"span\", string=\"Дата постановки на учет:\").next.next.next\n",
    "        date = date.get_text()\n",
    "        return remove_bad_symbols(date)\n",
    "    except AttributeError:\n",
    "        # логии\n",
    "        return None"
   ]
  },
  {
   "cell_type": "code",
   "execution_count": 199,
   "id": "9b5e6821",
   "metadata": {},
   "outputs": [],
   "source": [
    "# СТРАНА И КОД\n",
    "def find_country_code_supplier(soup: object) -> tuple[str, str]:\n",
    "    try:\n",
    "        country_code = soup.get_text()\n",
    "        country_code = remove_bad_symbols(country_code)\n",
    "\n",
    "        contry_list = []\n",
    "        code_list = []\n",
    "        for i in country_code.split():\n",
    "            if i.isdigit():\n",
    "                code_list.append(i)\n",
    "            else:\n",
    "                contry_list.append(i)\n",
    "\n",
    "        return \" \".join(contry_list), \"\".join(code_list)\n",
    "    except AttributeError:\n",
    "        # логии\n",
    "        return (None, None)"
   ]
  },
  {
   "cell_type": "code",
   "execution_count": 200,
   "id": "51e53c91",
   "metadata": {},
   "outputs": [],
   "source": [
    "# АДРЕС МЕСТА НАХОЖДЕНИЯ\n",
    "def find_adress_supplier(soup: object) -> str:\n",
    "    try:\n",
    "        adress = soup.get_text()\n",
    "        adress = remove_bad_symbols(adress)\n",
    "\n",
    "        return adress\n",
    "    except AttributeError:\n",
    "        # логии\n",
    "        return None"
   ]
  },
  {
   "cell_type": "code",
   "execution_count": 201,
   "id": "5f4497a3",
   "metadata": {},
   "outputs": [],
   "source": [
    "# ПОЧТОВЫЙ АДРЕСС\n",
    "def find_postal_adress_supplier(soup: object) -> str:\n",
    "    try:\n",
    "        adress = soup.get_text()\n",
    "        adress = remove_bad_symbols(adress)\n",
    "\n",
    "        return adress\n",
    "    except AttributeError:\n",
    "        # логии\n",
    "        return None"
   ]
  },
  {
   "cell_type": "code",
   "execution_count": 202,
   "id": "21a522a9",
   "metadata": {},
   "outputs": [],
   "source": [
    "# ТЕЛЕФОН, ЭЛЕКТРОННАЯ ПОЧТА\n",
    "def find_contact_supplier(soup: object) -> str:\n",
    "    try:\n",
    "        contact = soup.get_text()\n",
    "        contact = remove_bad_symbols(contact)\n",
    "\n",
    "        return contact\n",
    "    except AttributeError:\n",
    "        # логии\n",
    "        return None"
   ]
  },
  {
   "cell_type": "code",
   "execution_count": 203,
   "id": "59f95570",
   "metadata": {},
   "outputs": [],
   "source": [
    "# СТАТУС\n",
    "def find_status_supplier(soup: object) -> str:\n",
    "    try:\n",
    "        status = soup.get_text()\n",
    "        status = remove_bad_symbols(status)\n",
    "\n",
    "        return status\n",
    "    except AttributeError:\n",
    "        # логии\n",
    "        return None"
   ]
  },
  {
   "cell_type": "code",
   "execution_count": 204,
   "id": "3d6d7f1f",
   "metadata": {},
   "outputs": [],
   "source": [
    "def read_table_supplier(soup) -> tuple[list, list]:\n",
    "    table_names = soup.find(\n",
    "        \"h2\", class_=\"blockInfo__title\", string=\"Информация о поставщиках\"\n",
    "    ).parent.find(\"tr\", class_=\"tableBlock__row\")\n",
    "\n",
    "    table_values = soup.find(\n",
    "        \"h2\", class_=\"blockInfo__title\", string=\"Информация о поставщиках\"\n",
    "    ).parent.find_all(\"td\", class_=\"tableBlock__col\")\n",
    "\n",
    "    if table_names is None or table_values is None:\n",
    "        \"логги\"\n",
    "        return None, None\n",
    "\n",
    "    list_table_values = [element for element in table_values if type(element) is bs4.element.Tag]\n",
    "    string = remove_bad_symbols(table_names.get_text())\n",
    "    names_columns = []\n",
    "    i_start = 0\n",
    "    i_status = False\n",
    "    for i in range(len(string)):\n",
    "        if string[i].isupper() and not i_status:\n",
    "            i_status = True\n",
    "            i_start = i\n",
    "        elif string[i].isupper() and i_status == True:\n",
    "            names_columns.append(string[i_start:i])\n",
    "            i_start = i\n",
    "        elif i == len(string) - 1:\n",
    "            names_columns.append(string[i_start : i + 1])\n",
    "    return names_columns, list_table_values"
   ]
  },
  {
   "cell_type": "code",
   "execution_count": 205,
   "id": "5a01081b",
   "metadata": {},
   "outputs": [
    {
     "name": "stdout",
     "output_type": "stream",
     "text": [
      "full_name_supplier Виноградов Владимир Анатольевич\n",
      "inn_supplier 690500008361\n",
      "kpp_supplier None\n",
      "code_okpo_supplier None\n",
      "date_registration_supplier 21.02.2004\n",
      "country Российская Федерация\n",
      "code 643\n",
      "adress_supplier г.Тверь,ул.Спартака, дом 43Б, кв 10\n",
      "contact 7-4822-563042 vinogradov@mail.ru\n"
     ]
    }
   ],
   "source": [
    "def parsing_supplier(soup):\n",
    "    \"\"\"\n",
    "    Парсинг данных поставщиков\n",
    "    \"\"\"\n",
    "    names_columns, list_table_values = read_table_supplier(soup)\n",
    "\n",
    "    if names_columns is None or list_table_values is None or len(list_table_values) == 0:\n",
    "        print(1)\n",
    "        return None\n",
    "\n",
    "    for i_step, name_columns in enumerate(names_columns):\n",
    "        if \"Организация\" in name_columns:\n",
    "            full_name_supplier = find_full_name_supplier(list_table_values[i_step])\n",
    "            inn_supplier = find_inn_supplier(list_table_values[i_step])\n",
    "            kpp_supplier = find_kpp_supplier(list_table_values[i_step])\n",
    "            code_okpo_supplier = find_code_okpo_supplier(list_table_values[i_step])\n",
    "            date_registration_supplier = find_date_registration_supplier(\n",
    "                list_table_values[i_step]\n",
    "            )\n",
    "\n",
    "            print(\"full_name_supplier\", full_name_supplier)\n",
    "            print(\"inn_supplier\", inn_supplier)\n",
    "            print(\"kpp_supplier\", kpp_supplier)\n",
    "            print(\"code_okpo_supplier\", code_okpo_supplier)\n",
    "\n",
    "            print(\"date_registration_supplier\", date_registration_supplier)\n",
    "            continue\n",
    "\n",
    "        if \"Страна, код\" in name_columns:\n",
    "            country, code = find_country_code_supplier(list_table_values[i_step])\n",
    "            print(\"country\", country)\n",
    "            print(\"code\", code)\n",
    "            continue\n",
    "\n",
    "        if \"Адрес места нахождения\" in name_columns:\n",
    "            adress_supplier = find_adress_supplier(list_table_values[i_step])\n",
    "            print(\"adress_supplier\", adress_supplier)\n",
    "            continue\n",
    "\n",
    "        if \"Почтовый адрес\" in name_columns:\n",
    "            postal_adress_supplier = find_postal_adress_supplier(list_table_values[i_step])\n",
    "            print(\"postal_adress_supplier\", postal_adress_supplier)\n",
    "            continue\n",
    "\n",
    "        if \"Телефон, электронная почта\" in name_columns:\n",
    "            contact = find_contact_supplier(list_table_values[i_step])\n",
    "            print(\"contact\", contact)\n",
    "            continue\n",
    "\n",
    "        if \"Статус\" in name_columns:\n",
    "            status_supplier = find_status_supplier(list_table_values[i_step])\n",
    "            print(\"status_supplier\", status_supplier)\n",
    "            continue\n",
    "\n",
    "\n",
    "parsing_supplier(soup)"
   ]
  },
  {
   "attachments": {},
   "cell_type": "markdown",
   "id": "d4b6052b",
   "metadata": {},
   "source": [
    "## Платежи и объекты закупки "
   ]
  },
  {
   "cell_type": "code",
   "execution_count": 206,
   "id": "cc5d025b",
   "metadata": {},
   "outputs": [],
   "source": [
    "url_payment_test = \"\"\"https://zakupki.gov.ru/epz/contract/contractCard/\n",
    "payment-info-and-target-of-order.html?reestrNumber=\"\"\""
   ]
  },
  {
   "cell_type": "code",
   "execution_count": 207,
   "id": "b4fe5c5a",
   "metadata": {},
   "outputs": [],
   "source": [
    "number_contract = \"2780214400023000008\"\n",
    "url_info = f\"{url_payment}{number_contract}\"\n",
    "res = requests.get(url_info, headers={\"User-Agent\": UserAgent().random})\n",
    "soup = BeautifulSoup(res.text, \"lxml\")"
   ]
  },
  {
   "cell_type": "code",
   "execution_count": 208,
   "id": "cfcf203e",
   "metadata": {},
   "outputs": [
    {
     "data": {
      "text/plain": [
       "'1. крытый лыжный тоннель, абонемент для группы физ лиц 8-15 чел. (2 группы, 8 трен.)'"
      ]
     },
     "execution_count": 208,
     "metadata": {},
     "output_type": "execute_result"
    }
   ],
   "source": [
    "# Объекты запупки\n",
    "def find_contract_object(soup: object) -> str:\n",
    "    try:\n",
    "        obj = soup.find(\"div\", class_=\"padBtm5 inline js-expand-all-list--not-count\").get_text()\n",
    "        return remove_bad_symbols(obj)\n",
    "    except AttributeError:\n",
    "        return None\n",
    "\n",
    "\n",
    "find_contract_object(soup)"
   ]
  },
  {
   "cell_type": "code",
   "execution_count": 209,
   "id": "069be6f4",
   "metadata": {},
   "outputs": [
    {
     "data": {
      "text/plain": [
       "'Карточка контрактаОфициальный сайт Единой информационной системы в сфере закупокМой регион: Личный кабинетЛичный кабинет44-Ф3Личный кабинет223-ФЗЛичный кабинет участника закупок Официальный сайт единой информационной системы в сфере закупок в информационно-телекоммуникационной сети Интернет (далее – Официальный сайт ЕИС) предназначен для обеспечения свободного и безвозмездного доступа к полной и достоверной информации о контрактной системе в сфере закупок и закупках товаров, работ, услуг, отдельными видами юридических лиц, а также для формирования, обработки и хранения такой информации. Порядок размещения информации на Официальном сайте ЕИС и ее содержание регламентируется Федеральным законом от 05.04.2013 № 44-ФЗ «О контрактной системе в сфере закупок товаров, работ, услуг для обеспечения государственных и муниципальных нужд» и Федеральным законом от 18.07.2011 № 223-ФЗ «О закупках товаров, работ, услуг отдельными видами юридических лиц», а также соответствующими подзаконными актами.Техническая поддержкаЧасто задаваемые вопросыВсе разделы Закупки Контракты и договоры Реестр контрактов44-ФЗРеестр договоров223-ФЗРеестр договоров о проведении капитального ремонтаПП РФ-615Дополнительная информация о контрактах44-ФЗБиблиотека типовых контрактов, типовых условий контрактов44-ФЗ Планирование Планы-графики закупок44-ФЗПланы закупки223-ФЗОбязательное общественное обсуждение закупок44-ФЗЗапросы цен товаров, работ, услуг44-ФЗПравила нормирования в сфере закупок44-ФЗПоложения о закупке223-ФЗТиповые положения о закупке223-ФЗ Каталог Документы Законодательство в сфере закупокНормативные правовые акты44-ФЗНормативные правовые акты223-ФЗНациональный режимРазъяснения законодательстваНормативно-методическая информация, предусмотренная для размещения в ЕИССведения о банках и финансовых организацияхМатериалы для работы в ЕИСТехническая информацияИнформация о привлечении участника закупки к административной ответственностипо ст. 19.28 КоАП Новости Назад к результатам поиска № 2780214400023000008 (Версия № 0 от 25.04.2023, действующая версия) Подписаться на RSS № 2780214400023000008 Исполнение Заказчик САНКТ-ПЕТЕРБУРГСКОЕ ГОСУДАРСТВЕННОЕ БЮДЖЕТНОЕ УЧРЕЖДЕНИЕ СПОРТИВНАЯ ШКОЛА ОЛИМПИЙСКОГО РЕЗЕРВА ПО ЛЫЖНЫМ ВИДАМ СПОРТА Контракт № 04-02-07/16-2023 Объекты закупки крытый лыжный тоннель, абонемент для группы физ лиц 8-15 чел. (2 группы, 8 трен.) Посмотреть все(137) Цена контракта 20118483,00₽ Заключение контракта21.04.2023Срок исполнения 31.12.2023 Размещен контракт в реестре контрактов 25.04.2023 Обновлен контракт в реестре контрактов 17.08.2023 Позиция КТРУПозиция плана-графикаЗакупкаЗаказчикНедобросовестный поставщик Электронные документы об исполнении Общая информация Платежи и объекты закупки Исполнение (расторжение) контракта Вложения Журнал версий Журнал событий График финансирования Этап: 21.04.2023 - 31.12.2023 (идентификатор: 91548750) Детализация по кодам видов расходовКод вида расходовна 2023 год , ₽ 244 20118483,00 Итого (1 запись): 20118483,00 Объекты закупкиНаименование объекта закупки и его характеристикиПозиции по КТРУ, ОКПД2Тип объекта закупкиКоличество товара, объем работы, услуги,Единица измеренияЦена за единицу измерения, ₽Страна происхождения товараСумма, ₽ 1. крытый лыжный тоннель, абонемент для группы физ лиц 8-15 чел. (2 группы, 8 трен.) Услуги спортивных объектов (93.11.10.000) Услуга 20 чел 3267,00 65340,00 Ставка НДС: Без НДС 2. оздоровительный комплекс при посещении до 15 человек Услуги спортивных объектов (93.11.10.000) Услуга 4 ч 3960,00 15840,00 Ставка НДС: Без НДС 3. крытый лыжный тоннель, абонемент для группы физ лиц 8-15 чел. (3 группы, 8 трен.) Услуги спортивных объектов (93.11.10.000) Услуга 38 чел 3267,00 124146,00 Ставка НДС: Без НДС 4. оздоровительный комплекс при посещении свыше 15 человек Услуги спортивных объектов (93.11.10.000) Услуга 4 ч 4950,00 19800,00 Ставка НДС: Без НДС 5. оздоровительный комплекс при посещении свыше 15 человек Услуги спортивных объектов (93.11.10.000) Услуга 4 ч 4950,00 19800,00 Ставка НДС: Без НДС 6. оздоровительный комплекс при посещении свыше 15 человек Услуги спортивных объектов (93.11.10.000) Услуга 4 ч 4950,00 19800,00 Ставка НДС: Без НДС 7. крытый лыжный тоннель, абонемент для группы физ лиц 8-15 чел. (3 группы, 8 трен.) Услуги спортивных объектов (93.11.10.000) Услуга 36 чел 3267,00 117612,00 Ставка НДС: Без НДС 8. хранение оружия в оружейной комнате Услуги спортивных объектов (93.11.10.000) Услуга 340 ед 198,00 67320,00 Ставка НДС: Без НДС 9. проживание тренеров в 1 местном номере Услуги спортивных объектов (93.11.10.000) Услуга 17 сут;^дн 2475,00 42075,00 Ставка НДС: Без НДС 10. Проживание спортсменов в 2х местном номере Услуги спортивных объектов (93.11.10.000) Услуга 204 сут;^дн 2574,00 525096,00 Ставка НДС: Без НДС Итого (137 записей): 20118483,00 Показатьпо:10102050Поделитесь мнением о качестве работы единой информационной системыПерейти к опросу Система торгов Сбербанк-АСТ sberbank-ast.ru Единая электронная торговая площадка roseltorg.ru Общероссийская система электронной торговли etp.zakazrf.ru Электронная площадка России rts-tender.ru Электронная торговая площадка «Фабрикант» etp-ets.ru Всероссийская универсальная площадка gz.lot-online.ru Федеральная электроннаяплощадка ТЭК-Торг tektorg.ru Электронная торговаяплощадка ГПБ etpgpb.ru Автоматизированная система торгов государственного оборонного заказа astgoz.ru НовостиПоставщикамЗаказчикамОрганам контроляОпросыСтатистикаКарта сайтаОтчет о посещаемостиЧасто задаваемые вопросы Единая информационная система в сфере закупок© Федеральное казначейство, 2023 Версия hotfix/13.2.4.1 rev97d8b75c от 07.08.2023Официальные ресурсыПрезидент Российской ФедерацииПравительство Российской ФедерацииМинистерство экономического развития Российской ФедерацииМинистерство финансов Российской ФедерацииФедеральная антимонопольная службаФедеральное казначействоТехническая информацияТехническая поддержкаВаши идеи по улучшению сайта'"
      ]
     },
     "execution_count": 209,
     "metadata": {},
     "output_type": "execute_result"
    }
   ],
   "source": [
    "# КБК\n",
    "def find_kbk(soup: object) -> str:\n",
    "    try:\n",
    "        code = soup.find(\"td\", class_=\"tableBlock__col\")\n",
    "        code = remove_bad_symbols(code.get_text())\n",
    "\n",
    "        return code.replace(\" \", \"\")\n",
    "    except AttributeError:\n",
    "        # логии\n",
    "        return None\n",
    "\n",
    "\n",
    "find_status_supplier(soup)"
   ]
  },
  {
   "cell_type": "code",
   "execution_count": 210,
   "id": "40224852",
   "metadata": {},
   "outputs": [],
   "source": [
    "number_contract = \"0358200041314000090\"\n",
    "url_info = f\"{url_payment}{number_contract}\"\n",
    "res = requests.get(url_info, headers={\"User-Agent\": UserAgent().random})\n",
    "soup = BeautifulSoup(res.text, \"lxml\")"
   ]
  },
  {
   "cell_type": "code",
   "execution_count": 211,
   "id": "19ef45b6",
   "metadata": {},
   "outputs": [],
   "source": [
    "def get_page(url: str) -> BeautifulSoup:\n",
    "    \"\"\"\n",
    "    Метод считывает заданную страницу,\n",
    "    а потом преобразует в lxml\n",
    "    \"\"\"\n",
    "    for num_attempt in range(10):\n",
    "        res = requests.get(url, headers={\"User-Agent\": UserAgent().random})\n",
    "        if res is not None and res.ok:\n",
    "            return BeautifulSoup(res.text, \"lxml\")\n",
    "\n",
    "\n",
    "number_contract = \"1666105550722000041\"\n",
    "soup3 = get_page(f\"{url_payment}{number_contract}#page-3\")"
   ]
  },
  {
   "cell_type": "code",
   "execution_count": 212,
   "id": "7809f52c",
   "metadata": {},
   "outputs": [
    {
     "data": {
      "text/plain": [
       "['Наименование объекта закупки и его характеристики',\n",
       " 'Позиции по КТРУ, ОКПД2',\n",
       " 'Тип объекта закупки',\n",
       " 'Количество товара, объем работы, услуги,Единица измерения',\n",
       " 'Страна происхождения товара',\n",
       " 'Цена за единицу измерения, ₽',\n",
       " 'Сумма, ₽']"
      ]
     },
     "execution_count": 212,
     "metadata": {},
     "output_type": "execute_result"
    }
   ],
   "source": [
    "def read_table_budget(soup: BeautifulSoup) -> list:\n",
    "    soup = soup.find(\"table\", id=\"contract_subjects\")\n",
    "    soup_table = soup.find_all(\"th\", class_=\"tableBlock__col tableBlock__col_header\")\n",
    "    soup_table += soup.find_all(\n",
    "        \"th\", class_=\"tableBlock__col tableBlock__col_right tableBlock__col_header\"\n",
    "    )\n",
    "\n",
    "    list_result = []\n",
    "    for col_name in soup_table:\n",
    "        col_name = remove_bad_symbols(col_name.get_text())\n",
    "        if col_name != \"\":\n",
    "            list_result.append(col_name)\n",
    "\n",
    "    return list_result\n",
    "\n",
    "\n",
    "read_table_budget(soup)"
   ]
  },
  {
   "cell_type": "code",
   "execution_count": 213,
   "id": "d23af7f9",
   "metadata": {},
   "outputs": [
    {
     "name": "stdout",
     "output_type": "stream",
     "text": [
      "['Наименование объекта закупки и его характеристики', 'Позиции по КТРУ, ОКПД2', 'Тип объекта закупки', 'Количество товара, объем работы, услуги,Единица измерения', 'Страна происхождения товара', 'Цена за единицу измерения, ₽', 'Сумма, ₽']\n"
     ]
    }
   ],
   "source": [
    "def write_info_object(number_contract: str):\n",
    "    url_payment = \"https://zakupki.gov.ru/epz/contract/contractCard/payment-info-and-target-of-order.html?reestrNumber=\"\n",
    "    soup = get_page(f\"{url_payment}{number_contract}\")\n",
    "    table_columns = read_table_budget(soup)\n",
    "    print(table_columns)\n",
    "\n",
    "\n",
    "number_contract = \"1666105550722000041\"\n",
    "write_info_object(number_contract)"
   ]
  },
  {
   "cell_type": "code",
   "execution_count": 214,
   "id": "cd4af281",
   "metadata": {},
   "outputs": [],
   "source": [
    "def read_table_budget(soup: BeautifulSoup) -> list:\n",
    "    soup_table = soup.find(\"table\", id=\"contract_subjects\")\n",
    "    soup_table = soup_table.find(\"tbody\", class_=\"tableBlock__body\")\n",
    "    list_values = soup_table.find_all(\"tr\", class_=\"tableBlock__row\")\n",
    "\n",
    "    return list_values\n",
    "\n",
    "\n",
    "for i in read_table_budget(soup)[1]:\n",
    "    if remove_bad_symbols(i.get_text()) != \"\":\n",
    "        print(remove_bad_symbols(i.get_text()))\n",
    "    else:\n",
    "        pass"
   ]
  },
  {
   "cell_type": "code",
   "execution_count": 215,
   "id": "ba82df50",
   "metadata": {},
   "outputs": [],
   "source": [
    "def read_table_budget(soup) -> tuple[list, list]:\n",
    "    table_names = soup.find(\n",
    "        \"h2\", class_=\"blockInfo__title\", string=\"Информация о поставщиках\"\n",
    "    ).parent.find(\"tr\", class_=\"tableBlock__row\")\n",
    "\n",
    "    table_values = soup.find(\n",
    "        \"h2\", class_=\"blockInfo__title\", string=\"Информация о поставщиках\"\n",
    "    ).parent.find_all(\"td\", class_=\"tableBlock__col\")\n",
    "\n",
    "    if table_names is None or table_values is None:\n",
    "        \"логги\"\n",
    "        return None, None\n",
    "\n",
    "    list_table_values = [element for element in table_values if type(element) is bs4.element.Tag]\n",
    "    string = remove_bad_symbols(table_names.get_text())\n",
    "    names_columns = []\n",
    "    i_start = 0\n",
    "    i_status = False\n",
    "    for i in range(len(string)):\n",
    "        if string[i].isupper() and not i_status:\n",
    "            i_status = True\n",
    "            i_start = i\n",
    "        elif string[i].isupper() and i_status == True:\n",
    "            names_columns.append(string[i_start:i])\n",
    "            i_start = i\n",
    "        elif i == len(string) - 1:\n",
    "            names_columns.append(string[i_start : i + 1])\n",
    "    return names_columns, list_table_values"
   ]
  },
  {
   "attachments": {},
   "cell_type": "markdown",
   "id": "c698d588",
   "metadata": {},
   "source": [
    "## Прасинг информации об организации"
   ]
  },
  {
   "cell_type": "markdown",
   "id": "8c79e6ed",
   "metadata": {},
   "source": [
    "Добаить местонахождение"
   ]
  },
  {
   "cell_type": "code",
   "execution_count": 216,
   "id": "d107419f",
   "metadata": {},
   "outputs": [
    {
     "data": {
      "text/plain": [
       "True"
      ]
     },
     "execution_count": 216,
     "metadata": {},
     "output_type": "execute_result"
    }
   ],
   "source": [
    "url_id = \"https://zakupki.gov.ru/epz/organization/view/info.html?organizationCode=\"\n",
    "code = \"03553000005\"\n",
    "res = requests.get(f\"{url_id}{code}\", headers={\"User-Agent\": UserAgent().random})\n",
    "soup = BeautifulSoup(res.text, \"html\")\n",
    "res.ok"
   ]
  },
  {
   "cell_type": "code",
   "execution_count": 217,
   "id": "68419242",
   "metadata": {},
   "outputs": [
    {
     "data": {
      "text/plain": [
       "'Да'"
      ]
     },
     "execution_count": 217,
     "metadata": {},
     "output_type": "execute_result"
    }
   ],
   "source": [
    "# Доступ организации заблокирован организацией, оказывающей услуги по обслуживанию пользователей ЕИС\n",
    "def find_access_blocking(soup: BeautifulSoup) -> str:\n",
    "    try:\n",
    "        query_1 = \"Доступ организации заблокирован организацией,\"\n",
    "        query_2 = \"оказывающей услуги по обслуживанию пользователей ЕИС\"\n",
    "\n",
    "        query = query_1 + \" \" + query_2\n",
    "        soup = soup.find(\n",
    "            \"span\",\n",
    "            class_=\"section__title\",\n",
    "            string=query,\n",
    "        )\n",
    "        access = soup.parent.find(\"span\", class_=\"section__info\")\n",
    "        return remove_bad_symbols(access.get_text())\n",
    "    except AttributeError:\n",
    "        # логии\n",
    "        return None\n",
    "\n",
    "\n",
    "find_access_blocking(soup)"
   ]
  },
  {
   "cell_type": "code",
   "execution_count": 220,
   "id": "7d1a1fa8",
   "metadata": {},
   "outputs": [
    {
     "data": {
      "text/plain": [
       "'Российская Федерация, 442600, Пензенская обл, Спасский р-н, Спасск г, КОММУНАЛЬНАЯ, 39'"
      ]
     },
     "execution_count": 220,
     "metadata": {},
     "output_type": "execute_result"
    }
   ],
   "source": [
    "# Местонахождение\n",
    "def find_adress(soup: BeautifulSoup) -> str:\n",
    "    try:\n",
    "        name = soup.find(\"span\", class_=\"section__title\", string=\"Место нахождения\")\n",
    "        name = name.parent.find(\"span\", class_=\"section__info\")\n",
    "        name = remove_bad_symbols(name.get_text())\n",
    "        return remove_bad_symbols(name)\n",
    "    except AttributeError:\n",
    "        # логии\n",
    "        return None\n",
    "\n",
    "find_adress(soup)"
   ]
  },
  {
   "cell_type": "code",
   "execution_count": 70,
   "id": "62e33407",
   "metadata": {},
   "outputs": [
    {
     "data": {
      "text/plain": [
       "'ГОСУДАРСТВЕННОЕ БЮДЖЕТНОЕ УЧРЕЖДЕНИЕ ЗДРАВООХРАНЕНИЯ \"СПАССКАЯ РАЙОННАЯ БОЛЬНИЦА\"'"
      ]
     },
     "execution_count": 70,
     "metadata": {},
     "output_type": "execute_result"
    }
   ],
   "source": [
    "# ПОЛНОЕ НАИМЕНОВАНИЕ\n",
    "def find_full_name(soup: BeautifulSoup) -> str:\n",
    "    try:\n",
    "        name = soup.find(\"span\", class_=\"section__title\", string=\"Полное наименование\")\n",
    "        name = name.parent.find(\"span\", class_=\"section__info\")\n",
    "        name = remove_bad_symbols(name.get_text())\n",
    "        return name\n",
    "    except AttributeError:\n",
    "        # логии\n",
    "        return None\n",
    "\n",
    "\n",
    "find_full_name(soup)"
   ]
  },
  {
   "cell_type": "code",
   "execution_count": 71,
   "id": "925fd3c5",
   "metadata": {},
   "outputs": [
    {
     "data": {
      "text/plain": [
       "'ГБУЗ \"Спасская РБ\"'"
      ]
     },
     "execution_count": 71,
     "metadata": {},
     "output_type": "execute_result"
    }
   ],
   "source": [
    "# СОКРАЩЕННОЕ НАИМЕНОВАНИЕ\n",
    "def find_short_name(soup: BeautifulSoup) -> str:\n",
    "    try:\n",
    "        name = soup.find(\"span\", class_=\"section__title\", string=\"Сокращенное наименование\")\n",
    "        name = name.parent.find(\"span\", class_=\"section__info\")\n",
    "        name = remove_bad_symbols(name.get_text())\n",
    "        return name\n",
    "    except AttributeError:\n",
    "        # логии\n",
    "        return None\n",
    "\n",
    "\n",
    "find_short_name(soup)"
   ]
  },
  {
   "cell_type": "code",
   "execution_count": 72,
   "id": "0933e037",
   "metadata": {},
   "outputs": [
    {
     "data": {
      "text/plain": [
       "'01552000016'"
      ]
     },
     "execution_count": 72,
     "metadata": {},
     "output_type": "execute_result"
    }
   ],
   "source": [
    "# КОД ПО СВОДНОМУ РЕГИСТРУ\n",
    "def find_code_registr(soup: BeautifulSoup) -> str:\n",
    "    try:\n",
    "        code = soup.find(\"span\", class_=\"section__title\", string=\"Код по Сводному реестру\")\n",
    "        code = code.parent.find(\"span\", class_=\"section__info\")\n",
    "        code = remove_bad_symbols(code.get_text())\n",
    "        return code\n",
    "    except AttributeError:\n",
    "        # логии\n",
    "        return None\n",
    "\n",
    "\n",
    "find_code_registr(soup)"
   ]
  },
  {
   "cell_type": "code",
   "execution_count": 73,
   "id": "60a99318",
   "metadata": {},
   "outputs": [
    {
     "data": {
      "text/plain": [
       "'31.12.2010'"
      ]
     },
     "execution_count": 73,
     "metadata": {},
     "output_type": "execute_result"
    }
   ],
   "source": [
    "# Дата регистрации\n",
    "def find_date_registration(soup: BeautifulSoup) -> str:\n",
    "    try:\n",
    "        code = soup.find(\"span\", class_=\"section__title\", string=\"Дата регистрации\")\n",
    "        code = code.parent.find(\"span\", class_=\"section__info\")\n",
    "        code = remove_bad_symbols(code.get_text())\n",
    "        return code\n",
    "    except AttributeError:\n",
    "        # логии\n",
    "        return None\n",
    "\n",
    "\n",
    "find_date_registration(soup)"
   ]
  },
  {
   "cell_type": "code",
   "execution_count": 74,
   "id": "29c32880",
   "metadata": {},
   "outputs": [],
   "source": [
    "# Дата/время последнего изменения записи об организации\n",
    "def find_date_last_change(soup: BeautifulSoup) -> str:\n",
    "    try:\n",
    "        code = soup.find(\n",
    "            \"span\",\n",
    "            class_=\"section__title\",\n",
    "            string=\"Дата/время последнего изменения сведений об организации\",\n",
    "        )\n",
    "        code = code.parent.find(\"span\", class_=\"section__info\")\n",
    "        code = remove_bad_symbols(code.get_text())\n",
    "        return code\n",
    "    except AttributeError:\n",
    "        # логии\n",
    "        return None\n",
    "\n",
    "\n",
    "find_date_last_change(soup)"
   ]
  },
  {
   "cell_type": "code",
   "execution_count": 75,
   "id": "4bbb385d",
   "metadata": {},
   "outputs": [
    {
     "data": {
      "text/plain": [
       "'5807001820'"
      ]
     },
     "execution_count": 75,
     "metadata": {},
     "output_type": "execute_result"
    }
   ],
   "source": [
    "# ИНН\n",
    "def find_inn(soup: BeautifulSoup) -> str:\n",
    "    try:\n",
    "        code = soup.find(\n",
    "            \"span\",\n",
    "            class_=\"section__title\",\n",
    "            string=\"ИНН\",\n",
    "        )\n",
    "        code = code.parent.find(\"span\", class_=\"section__info\")\n",
    "        code = remove_bad_symbols(code.get_text())\n",
    "        return code\n",
    "    except AttributeError:\n",
    "        # логии\n",
    "        return None\n",
    "\n",
    "\n",
    "find_inn(soup)"
   ]
  },
  {
   "cell_type": "code",
   "execution_count": 76,
   "id": "1d1b4005",
   "metadata": {},
   "outputs": [
    {
     "data": {
      "text/plain": [
       "'580701001'"
      ]
     },
     "execution_count": 76,
     "metadata": {},
     "output_type": "execute_result"
    }
   ],
   "source": [
    "# КПП\n",
    "def find_kpp(soup: BeautifulSoup) -> str:\n",
    "    try:\n",
    "        code = soup.find(\n",
    "            \"span\",\n",
    "            class_=\"section__title\",\n",
    "            string=\"КПП\",\n",
    "        )\n",
    "        code = code.parent.find(\"span\", class_=\"section__info\")\n",
    "        code = remove_bad_symbols(code.get_text())\n",
    "        return code\n",
    "    except AttributeError:\n",
    "        # логии\n",
    "        return None\n",
    "\n",
    "\n",
    "find_kpp(soup)"
   ]
  },
  {
   "cell_type": "code",
   "execution_count": 77,
   "id": "53809329",
   "metadata": {},
   "outputs": [
    {
     "data": {
      "text/plain": [
       "'1035801600713'"
      ]
     },
     "execution_count": 77,
     "metadata": {},
     "output_type": "execute_result"
    }
   ],
   "source": [
    "# ОГРН\n",
    "def find_ogrn(soup: BeautifulSoup) -> str:\n",
    "    try:\n",
    "        code = soup.find(\n",
    "            \"span\",\n",
    "            class_=\"section__title\",\n",
    "            string=\"ОГРН\",\n",
    "        )\n",
    "        code = code.parent.find(\"span\", class_=\"section__info\")\n",
    "        code = remove_bad_symbols(code.get_text())\n",
    "        return code\n",
    "    except AttributeError:\n",
    "        # логии\n",
    "        return None\n",
    "\n",
    "\n",
    "find_ogrn(soup)"
   ]
  },
  {
   "cell_type": "code",
   "execution_count": 78,
   "id": "ba962a27",
   "metadata": {},
   "outputs": [
    {
     "data": {
      "text/plain": [
       "'56000000'"
      ]
     },
     "execution_count": 78,
     "metadata": {},
     "output_type": "execute_result"
    }
   ],
   "source": [
    "# ОКТМО\n",
    "def find_oktmo(soup: BeautifulSoup) -> str:\n",
    "    try:\n",
    "        code = soup.find(\n",
    "            \"span\",\n",
    "            class_=\"section__title\",\n",
    "            string=\"ОКТМО\",\n",
    "        )\n",
    "        if code is None:\n",
    "            code = soup.find(\n",
    "                \"span\",\n",
    "                class_=\"section__title\",\n",
    "                string=\"Код ОКТМО\",\n",
    "            )\n",
    "\n",
    "        code = code.parent.find(\"span\", class_=\"section__info\")\n",
    "        code = remove_bad_symbols(code.get_text())\n",
    "        return code\n",
    "    except AttributeError:\n",
    "        # логии\n",
    "        return None\n",
    "\n",
    "\n",
    "find_oktmo(soup)"
   ]
  },
  {
   "cell_type": "code",
   "execution_count": 79,
   "id": "70b03001",
   "metadata": {},
   "outputs": [
    {
     "data": {
      "text/plain": [
       "'Российская Федерация, 442600, Пензенская обл, Спасский р-н, Спасск г, КОММУНАЛЬНАЯ, 39'"
      ]
     },
     "execution_count": 79,
     "metadata": {},
     "output_type": "execute_result"
    }
   ],
   "source": [
    "# МЕСТО НАХОЖДЕНИЯ\n",
    "def find_location(soup: BeautifulSoup) -> str:\n",
    "    try:\n",
    "        code = soup.find(\n",
    "            \"span\",\n",
    "            class_=\"section__title\",\n",
    "            string=\"Место нахождения\",\n",
    "        )\n",
    "        code = code.parent.find(\"span\", class_=\"section__info\")\n",
    "        code = remove_bad_symbols(code.get_text())\n",
    "        return code\n",
    "    except AttributeError:\n",
    "        # логии\n",
    "        return None\n",
    "\n",
    "\n",
    "find_location(soup)"
   ]
  },
  {
   "cell_type": "code",
   "execution_count": 80,
   "id": "2ace2a36",
   "metadata": {},
   "outputs": [
    {
     "data": {
      "text/plain": [
       "'Российская Федерация, 442600, Пензенская обл, Спасский р-н, Спасск г, КОММУНАЛЬНАЯ, 39'"
      ]
     },
     "execution_count": 80,
     "metadata": {},
     "output_type": "execute_result"
    }
   ],
   "source": [
    "# ИКУ\n",
    "def find_iky(soup: BeautifulSoup) -> str:\n",
    "    try:\n",
    "        code = soup.find(\n",
    "            \"span\",\n",
    "            class_=\"section__title\",\n",
    "            string=\"ИКУ\",\n",
    "        )\n",
    "        code = code.parent.find(\"span\", class_=\"section__info\")\n",
    "        code = remove_bad_symbols(code.get_text())\n",
    "        return code\n",
    "    except AttributeError:\n",
    "        # логии\n",
    "        return None\n",
    "\n",
    "\n",
    "find_location(soup)"
   ]
  },
  {
   "cell_type": "code",
   "execution_count": 81,
   "id": "5d7bb428",
   "metadata": {},
   "outputs": [
    {
     "data": {
      "text/plain": [
       "'01.01.2015'"
      ]
     },
     "execution_count": 81,
     "metadata": {},
     "output_type": "execute_result"
    }
   ],
   "source": [
    "# ДАТА ПРИСВОЕНИЯ ИКУ\n",
    "def find_date_iky(soup: BeautifulSoup) -> str:\n",
    "    try:\n",
    "        code = soup.find(\n",
    "            \"span\",\n",
    "            class_=\"section__title\",\n",
    "            string=\"Дата присвоения ИКУ\",\n",
    "        )\n",
    "        code = code.parent.find(\"span\", class_=\"section__info\")\n",
    "        code = remove_bad_symbols(code.get_text())\n",
    "        return code\n",
    "    except AttributeError:\n",
    "        # логии\n",
    "        return None\n",
    "\n",
    "\n",
    "find_date_iky(soup)"
   ]
  },
  {
   "cell_type": "code",
   "execution_count": 82,
   "id": "ecd9405f",
   "metadata": {},
   "outputs": [],
   "source": [
    "# КОД ПО ОФКС\n",
    "def find_code_okfs(soup: BeautifulSoup) -> str:\n",
    "    try:\n",
    "        code = soup.find(\n",
    "            \"span\",\n",
    "            class_=\"section__title\",\n",
    "            string=\"Код по ОКФС\",\n",
    "        )\n",
    "        code = code.parent.find(\"span\", class_=\"section__info\")\n",
    "        code = remove_bad_symbols(code.get_text())\n",
    "        return code\n",
    "    except AttributeError:\n",
    "        # логии\n",
    "        return None\n",
    "\n",
    "\n",
    "find_code_okfs(soup)"
   ]
  },
  {
   "cell_type": "code",
   "execution_count": 83,
   "id": "025e90c5",
   "metadata": {},
   "outputs": [
    {
     "data": {
      "text/plain": [
       "'Пензенская область'"
      ]
     },
     "execution_count": 83,
     "metadata": {},
     "output_type": "execute_result"
    }
   ],
   "source": [
    "# НАИМЕНОВАНИЕ СОБСТВЕННОСТИ\n",
    "def find_name_property(soup: BeautifulSoup) -> str:\n",
    "    try:\n",
    "        code = soup.find(\n",
    "            \"span\",\n",
    "            class_=\"section__title\",\n",
    "            string=\"Наименование\",\n",
    "        )\n",
    "        code = code.parent.find(\"span\", class_=\"section__info\")\n",
    "        code = remove_bad_symbols(code.get_text())\n",
    "        return code\n",
    "    except AttributeError:\n",
    "        # логии\n",
    "        return None\n",
    "\n",
    "\n",
    "find_name_property(soup)"
   ]
  },
  {
   "cell_type": "code",
   "execution_count": 84,
   "id": "cf3d4d1e",
   "metadata": {},
   "outputs": [],
   "source": [
    "# КОД ПО ОКОПФ\n",
    "def find_code_okpf(soup: BeautifulSoup) -> str:\n",
    "    try:\n",
    "        code = soup.find_all(\n",
    "            \"span\",\n",
    "            class_=\"section__title\",\n",
    "            string=\"Код по ОКОПФ\",\n",
    "        )\n",
    "        code = code.parent.find(\"span\", class_=\"section__info\")\n",
    "        code = remove_bad_symbols(code.get_text())\n",
    "        return code\n",
    "    except AttributeError:\n",
    "        # логии\n",
    "        return None\n",
    "\n",
    "\n",
    "find_code_okpf(soup)"
   ]
  },
  {
   "cell_type": "code",
   "execution_count": 85,
   "id": "c8e7cb78",
   "metadata": {},
   "outputs": [
    {
     "data": {
      "text/plain": [
       "'МИНИСТЕРСТВО ЗДРАВООХРАНЕНИЯ ПЕНЗЕНСКОЙ ОБЛАСТИ'"
      ]
     },
     "execution_count": 85,
     "metadata": {},
     "output_type": "execute_result"
    }
   ],
   "source": [
    "# КОД ПО ОКОПФ\n",
    "def find_okopf_name(soup: BeautifulSoup) -> str:\n",
    "    try:\n",
    "        code = soup.find_all(\n",
    "            \"span\",\n",
    "            class_=\"section__title\",\n",
    "            string=\"Наименование\",\n",
    "        )[1]\n",
    "        code = code.parent.find(\"span\", class_=\"section__info\")\n",
    "        code = remove_bad_symbols(code.get_text())\n",
    "        return code\n",
    "    except AttributeError:\n",
    "        # логии\n",
    "        return None\n",
    "\n",
    "\n",
    "find_okopf_name(soup)"
   ]
  },
  {
   "attachments": {},
   "cell_type": "markdown",
   "id": "9b80000a",
   "metadata": {},
   "source": [
    "## Парсинг другого"
   ]
  },
  {
   "cell_type": "code",
   "execution_count": 86,
   "id": "ef78ec47",
   "metadata": {},
   "outputs": [
    {
     "data": {
      "text/plain": [
       "True"
      ]
     },
     "execution_count": 86,
     "metadata": {},
     "output_type": "execute_result"
    }
   ],
   "source": [
    "code = \"731554\"\n",
    "res = requests.get(\n",
    "    f\"https://zakupki.gov.ru/epz/organization/view/info.html?organizationId={code}&tab=other\",\n",
    "    headers={\"User-Agent\": UserAgent().random},\n",
    ")\n",
    "soup = BeautifulSoup(res.text, \"html\")\n",
    "res.ok"
   ]
  },
  {
   "cell_type": "code",
   "execution_count": 87,
   "id": "8255b058",
   "metadata": {},
   "outputs": [
    {
     "data": {
      "text/plain": [
       "'Заказчик (с 26.07.2017 )'"
      ]
     },
     "execution_count": 87,
     "metadata": {},
     "output_type": "execute_result"
    }
   ],
   "source": [
    "# ПОЛНОМОЧИЯ ОРГАНИЗАЦИИ\n",
    "def find_credentials(soup: BeautifulSoup) -> str:\n",
    "    try:\n",
    "        code = soup.find(\n",
    "            \"span\",\n",
    "            class_=\"section__title\",\n",
    "            string=\"Полномочия организации\",\n",
    "        )\n",
    "        code = code.parent.find(\"span\", class_=\"section__info\")\n",
    "        code = remove_bad_symbols(code.get_text())\n",
    "        return code\n",
    "    except AttributeError:\n",
    "        # логии\n",
    "        return None\n",
    "\n",
    "\n",
    "find_credentials(soup)"
   ]
  },
  {
   "cell_type": "code",
   "execution_count": 88,
   "id": "7e072dbb",
   "metadata": {},
   "outputs": [
    {
     "data": {
      "text/plain": [
       "'28.03.2022'"
      ]
     },
     "execution_count": 88,
     "metadata": {},
     "output_type": "execute_result"
    }
   ],
   "source": [
    "# ДАТА ПОСТАНОВКИ НА УЧЕТ В НАЛОГОВОМ ОРГАНЕ\n",
    "def find_date_registration_tax(soup: BeautifulSoup) -> str:\n",
    "    try:\n",
    "        code = soup.find(\n",
    "            \"span\",\n",
    "            class_=\"section__title\",\n",
    "            string=\"Дата постановки организации на учет в налоговом органе\",\n",
    "        )\n",
    "        code = code.parent.find(\"span\", class_=\"section__info\")\n",
    "        code = remove_bad_symbols(code.get_text())\n",
    "        return code\n",
    "    except AttributeError:\n",
    "        # логии\n",
    "        return None\n",
    "\n",
    "\n",
    "find_date_registration_tax(soup)"
   ]
  },
  {
   "cell_type": "code",
   "execution_count": 89,
   "id": "dd209dac",
   "metadata": {},
   "outputs": [
    {
     "data": {
      "text/plain": [
       "'Казенное учреждение'"
      ]
     },
     "execution_count": 89,
     "metadata": {},
     "output_type": "execute_result"
    }
   ],
   "source": [
    "# ТИП ОРГАНИЗАЦИИ\n",
    "def find_organization_type(soup: BeautifulSoup) -> str:\n",
    "    try:\n",
    "        code = soup.find(\n",
    "            \"span\",\n",
    "            class_=\"section__title\",\n",
    "            string=\"Тип организации\",\n",
    "        )\n",
    "        code = code.parent.find(\"span\", class_=\"section__info\")\n",
    "        code = remove_bad_symbols(code.get_text())\n",
    "        return code\n",
    "    except AttributeError:\n",
    "        # логии\n",
    "        return None\n",
    "\n",
    "\n",
    "find_organization_type(soup)"
   ]
  },
  {
   "cell_type": "code",
   "execution_count": 90,
   "id": "15fee9a4",
   "metadata": {},
   "outputs": [
    {
     "data": {
      "text/plain": [
       "'Муниципальный уровень'"
      ]
     },
     "execution_count": 90,
     "metadata": {},
     "output_type": "execute_result"
    }
   ],
   "source": [
    "# УРОВЕНЬ ОРГАНИЗАЦИИ\n",
    "def find_organization_level(soup: BeautifulSoup) -> str:\n",
    "    try:\n",
    "        code = soup.find(\n",
    "            \"span\",\n",
    "            class_=\"section__title\",\n",
    "            string=\"Уровень организации\",\n",
    "        )\n",
    "        code = code.parent.find(\"span\", class_=\"section__info\")\n",
    "        code = remove_bad_symbols(code.get_text())\n",
    "        return code\n",
    "    except AttributeError:\n",
    "        # логии\n",
    "        return None\n",
    "\n",
    "\n",
    "find_organization_level(soup)"
   ]
  },
  {
   "cell_type": "code",
   "execution_count": 91,
   "id": "215d93f6",
   "metadata": {},
   "outputs": [
    {
     "data": {
      "text/plain": [
       "'51666568'"
      ]
     },
     "execution_count": 91,
     "metadata": {},
     "output_type": "execute_result"
    }
   ],
   "source": [
    "# ОКПО\n",
    "def find_okpo_code(soup: BeautifulSoup) -> str:\n",
    "    try:\n",
    "        code = soup.find(\n",
    "            \"span\",\n",
    "            class_=\"section__title\",\n",
    "            string=\"ОКПО\",\n",
    "        )\n",
    "        code = code.parent.find(\"span\", class_=\"section__info\")\n",
    "        code = remove_bad_symbols(code.get_text())\n",
    "        return code\n",
    "    except AttributeError:\n",
    "        # логии\n",
    "        return None\n",
    "\n",
    "\n",
    "find_okpo_code(soup)"
   ]
  },
  {
   "cell_type": "code",
   "execution_count": 92,
   "id": "eb1f8079",
   "metadata": {},
   "outputs": [
    {
     "data": {
      "text/plain": [
       "'85.11: Образование дошкольное'"
      ]
     },
     "execution_count": 92,
     "metadata": {},
     "output_type": "execute_result"
    }
   ],
   "source": [
    "# ОКВЭД\n",
    "def find_okfd_code(soup: BeautifulSoup) -> str:\n",
    "    try:\n",
    "        code = soup.find(\n",
    "            \"span\",\n",
    "            class_=\"section__title\",\n",
    "            string=\"ОКВЭД\",\n",
    "        )\n",
    "        code = code.parent.find(\"span\", class_=\"section__info\")\n",
    "        code = remove_bad_symbols(code.get_text())\n",
    "        return code\n",
    "    except AttributeError:\n",
    "        # логии\n",
    "        return None\n",
    "\n",
    "\n",
    "find_okfd_code(soup)"
   ]
  },
  {
   "attachments": {},
   "cell_type": "markdown",
   "id": "5d387e3f",
   "metadata": {},
   "source": [
    "## Данные по Бюджету"
   ]
  },
  {
   "cell_type": "code",
   "execution_count": 93,
   "id": "7a653d21",
   "metadata": {},
   "outputs": [],
   "source": [
    "# ТАБЛИЦА БЮДЖЕТА\n",
    "def find_budget_table(soup: BeautifulSoup) -> str:\n",
    "    try:\n",
    "        table = soup.find(\n",
    "            \"h2\",\n",
    "            class_=\"blockInfo__title\",\n",
    "            string=\"Бюджеты\",\n",
    "        )\n",
    "        table = table.parent.find(\"tr\", class_=\"tableBlock__row\")\n",
    "        return remove_bad_symbols(table.get_text())\n",
    "    except AttributeError:\n",
    "        # логии\n",
    "        return None"
   ]
  },
  {
   "cell_type": "code",
   "execution_count": 94,
   "id": "f0aeee81",
   "metadata": {},
   "outputs": [],
   "source": [
    "# ДАННЫЕ ПО БЮДЖЕТУ\n",
    "def find_budget_data(soup: BeautifulSoup) -> str:\n",
    "    try:\n",
    "        data = soup.find(\n",
    "            \"h2\",\n",
    "            class_=\"blockInfo__title\",\n",
    "            string=\"Бюджеты\",\n",
    "        )\n",
    "        data = data.parent.find_all(\"tr\", class_=\"tableBlock__row\")[1].find_all(\"td\")\n",
    "        return data\n",
    "    except AttributeError:\n",
    "        # логии\n",
    "        return None"
   ]
  },
  {
   "cell_type": "code",
   "execution_count": 95,
   "id": "6f95626a",
   "metadata": {},
   "outputs": [
    {
     "data": {
      "text/plain": [
       "('25030091',\n",
       " 'Бюджет муниципального образования \"Камызякский муниципальный район Астраханской области\"')"
      ]
     },
     "execution_count": 95,
     "metadata": {},
     "output_type": "execute_result"
    }
   ],
   "source": [
    "def parsing_budget_table(soup):\n",
    "    string = find_budget_table(soup)\n",
    "    if string is None:\n",
    "        return None, None\n",
    "    stri = []\n",
    "    i_start = 0\n",
    "    i_status = False\n",
    "    for i in range(len(string)):\n",
    "        if string[i].isupper() and i_status == False:\n",
    "            i_status = True\n",
    "            i_start = i\n",
    "        elif string[i].isupper() and i_status == True:\n",
    "            stri.append(string[i_start : i - 1])\n",
    "            i_start = i\n",
    "        elif i == len(string) - 1:\n",
    "            stri.append(string[i_start : i + 1])\n",
    "\n",
    "    budget_data = find_budget_data(soup)\n",
    "    if budget_data is None:\n",
    "        return None, None\n",
    "\n",
    "    code_budget = None\n",
    "    name_budget = None\n",
    "    for i_step, i in enumerate(stri):\n",
    "        i_step += 1\n",
    "        if \"Код\" in i:\n",
    "            code_budget = remove_bad_symbols(budget_data[i_step].get_text())\n",
    "        if \"Наименование\" in i:\n",
    "            name_budget = remove_bad_symbols(budget_data[i_step].get_text())\n",
    "    return code_budget, name_budget\n",
    "\n",
    "\n",
    "parsing_budget_table(soup)"
   ]
  },
  {
   "cell_type": "markdown",
   "id": "4f20ef6b",
   "metadata": {},
   "source": [
    "## Контактные данные организации"
   ]
  },
  {
   "cell_type": "code",
   "execution_count": 96,
   "id": "1feef6e5",
   "metadata": {},
   "outputs": [],
   "source": [
    "# КОНТАКТНАЯ ИНФОРМАЦИЯ\n",
    "def find_contact_info(soup: BeautifulSoup) -> str:\n",
    "    try:\n",
    "        info = soup.find(\"h2\", class_=\"blockInfo__title\", string=\"Контактная информация\").parent\n",
    "        return info\n",
    "    except AttributeError:\n",
    "        # логии\n",
    "        return None\n",
    "\n",
    "\n",
    "contact_info = find_contact_info(soup)"
   ]
  },
  {
   "cell_type": "code",
   "execution_count": 97,
   "id": "e98eb93c",
   "metadata": {},
   "outputs": [
    {
     "data": {
      "text/plain": [
       "'+7 (85145) 91249'"
      ]
     },
     "execution_count": 97,
     "metadata": {},
     "output_type": "execute_result"
    }
   ],
   "source": [
    "# ТЕЛЕФОН\n",
    "def find_telephone(soup: BeautifulSoup) -> str:\n",
    "    try:\n",
    "        soup = soup.find(\"span\", class_=\"section__title\", string=\"Телефон\")\n",
    "        telephone = soup.parent.find(\"span\", class_=\"section__info\")\n",
    "        return remove_bad_symbols(telephone.get_text())\n",
    "    except AttributeError:\n",
    "        # логии\n",
    "        return None\n",
    "\n",
    "\n",
    "find_telephone(contact_info)"
   ]
  },
  {
   "cell_type": "code",
   "execution_count": 98,
   "id": "ffb24d8d",
   "metadata": {},
   "outputs": [
    {
     "data": {
      "text/plain": [
       "'+7 (85145) 91245'"
      ]
     },
     "execution_count": 98,
     "metadata": {},
     "output_type": "execute_result"
    }
   ],
   "source": [
    "# ФАКС\n",
    "def find_fax(soup: BeautifulSoup) -> str:\n",
    "    try:\n",
    "        soup = soup.find(\"span\", class_=\"section__title\", string=\"Факс\")\n",
    "        telephone = soup.parent.find(\"span\", class_=\"section__info\")\n",
    "        return remove_bad_symbols(telephone.get_text())\n",
    "    except AttributeError:\n",
    "        # логии\n",
    "        return None\n",
    "\n",
    "\n",
    "find_fax(contact_info)"
   ]
  },
  {
   "cell_type": "code",
   "execution_count": 99,
   "id": "cbf6512a",
   "metadata": {},
   "outputs": [
    {
     "data": {
      "text/plain": [
       "'Российская Федерация, 416340, Астраханская обл, Камызякский р-н, Камызяк г, УЛ. ТАРАКАНОВА, Д.11'"
      ]
     },
     "execution_count": 99,
     "metadata": {},
     "output_type": "execute_result"
    }
   ],
   "source": [
    "# ПОЧТОВЫЙ АДРЕС\n",
    "def find_postal_adress(soup: BeautifulSoup) -> str:\n",
    "    try:\n",
    "        soup = soup.find(\"span\", class_=\"section__title\", string=\"Почтовый адрес\")\n",
    "        telephone = soup.parent.find(\"span\", class_=\"section__info\")\n",
    "        return remove_bad_symbols(telephone.get_text())\n",
    "    except AttributeError:\n",
    "        # логии\n",
    "        return None\n",
    "\n",
    "\n",
    "find_postal_adress(contact_info)"
   ]
  },
  {
   "cell_type": "code",
   "execution_count": 100,
   "id": "d59d8f5f",
   "metadata": {},
   "outputs": [
    {
     "data": {
      "text/plain": [
       "'kam_ds1@mail.ru'"
      ]
     },
     "execution_count": 100,
     "metadata": {},
     "output_type": "execute_result"
    }
   ],
   "source": [
    "# КОНТАКТНЫЙ АДРЕС ЭЛЕКТРОННОЙ ПОЧТЫ\n",
    "def find_email(soup: BeautifulSoup) -> str:\n",
    "    try:\n",
    "        soup = soup.find(\n",
    "            \"span\", class_=\"section__title\", string=\"Контактный адрес электронной почты\"\n",
    "        )\n",
    "        telephone = soup.parent.find(\"span\", class_=\"section__info\")\n",
    "        return remove_bad_symbols(telephone.get_text())\n",
    "    except AttributeError:\n",
    "        # логии\n",
    "        return None\n",
    "\n",
    "\n",
    "find_email(contact_info)"
   ]
  },
  {
   "cell_type": "code",
   "execution_count": 101,
   "id": "4ad2accd",
   "metadata": {},
   "outputs": [
    {
     "data": {
      "text/plain": [
       "'http://'"
      ]
     },
     "execution_count": 101,
     "metadata": {},
     "output_type": "execute_result"
    }
   ],
   "source": [
    "# САЙТ\n",
    "def find_site(soup: BeautifulSoup) -> str:\n",
    "    try:\n",
    "        soup = soup.find(\n",
    "            \"span\", class_=\"section__title\", string=\"Адрес организации в сети Интернет\"\n",
    "        )\n",
    "        telephone = soup.parent.find(\"span\", class_=\"section__info\")\n",
    "        return remove_bad_symbols(telephone.get_text())\n",
    "    except AttributeError:\n",
    "        # логии\n",
    "        return None\n",
    "\n",
    "\n",
    "find_site(contact_info)"
   ]
  },
  {
   "cell_type": "code",
   "execution_count": 102,
   "id": "bfec80ae",
   "metadata": {},
   "outputs": [
    {
     "data": {
      "text/plain": [
       "'Барышева Л. Н.'"
      ]
     },
     "execution_count": 102,
     "metadata": {},
     "output_type": "execute_result"
    }
   ],
   "source": [
    "# КОНТАКТНОЕ ЛИЦО\n",
    "def find_contact_person(soup: BeautifulSoup) -> str:\n",
    "    try:\n",
    "        soup = soup.find(\"span\", class_=\"section__title\", string=\"Контактное лицо\")\n",
    "        telephone = soup.parent.find(\"span\", class_=\"section__info\")\n",
    "        return remove_bad_symbols(telephone.get_text())\n",
    "    except AttributeError:\n",
    "        # логии\n",
    "        return None\n",
    "\n",
    "\n",
    "find_contact_person(contact_info)"
   ]
  },
  {
   "cell_type": "code",
   "execution_count": 103,
   "id": "133815ec",
   "metadata": {},
   "outputs": [
    {
     "data": {
      "text/plain": [
       "'MSK+1 (UTC+4) Самара'"
      ]
     },
     "execution_count": 103,
     "metadata": {},
     "output_type": "execute_result"
    }
   ],
   "source": [
    "# ЧАСОВАЯ ЗОНА\n",
    "def find_time_zone(soup: BeautifulSoup) -> str:\n",
    "    try:\n",
    "        soup = soup.find(\"span\", class_=\"section__title\", string=\"Часовая зона\")\n",
    "        telephone = soup.parent.find(\"span\", class_=\"section__info\")\n",
    "        return remove_bad_symbols(telephone.get_text())\n",
    "    except AttributeError:\n",
    "        # логии\n",
    "        return None\n",
    "\n",
    "\n",
    "find_time_zone(contact_info)"
   ]
  },
  {
   "cell_type": "markdown",
   "id": "a53a313b",
   "metadata": {},
   "source": [
    "## Парсинг особых орагнизаций"
   ]
  },
  {
   "cell_type": "code",
   "execution_count": 210,
   "id": "54954c14",
   "metadata": {},
   "outputs": [
    {
     "data": {
      "text/plain": [
       "True"
      ]
     },
     "execution_count": 210,
     "metadata": {},
     "output_type": "execute_result"
    }
   ],
   "source": [
    "url_id = \"https://zakupki.gov.ru/epz/organization/view/info.html?organizationCode=\"\n",
    "code = \"03553000005\"\n",
    "res = requests.get(f\"{url_id}{code}\", headers={\"User-Agent\": UserAgent().random})\n",
    "soup = BeautifulSoup(res.text, \"html\")\n",
    "res.ok"
   ]
  },
  {
   "cell_type": "markdown",
   "id": "1fc020cd",
   "metadata": {},
   "source": [
    "Скорее всего здесь не найти: полномочия организации"
   ]
  },
  {
   "cell_type": "code",
   "execution_count": 211,
   "id": "cf742b14",
   "metadata": {},
   "outputs": [
    {
     "data": {
      "text/plain": [
       "'Да'"
      ]
     },
     "execution_count": 211,
     "metadata": {},
     "output_type": "execute_result"
    }
   ],
   "source": [
    "def find_access_blocking(soup: BeautifulSoup) -> str:\n",
    "    try:\n",
    "        soup = soup.find(\n",
    "            \"span\",\n",
    "            class_=\"section__title\",\n",
    "            string=\"Доступ организации заблокирован организацией, оказывающей услуги по обслуживанию пользователей ЕИС\",\n",
    "        )\n",
    "        access = soup.parent.find(\"span\", class_=\"section__info\")\n",
    "        return remove_bad_symbols(access.get_text())\n",
    "    except AttributeError:\n",
    "        # логии\n",
    "        return None\n",
    "\n",
    "\n",
    "find_access_blocking(soup)"
   ]
  },
  {
   "cell_type": "code",
   "execution_count": 212,
   "id": "39382e0d",
   "metadata": {},
   "outputs": [],
   "source": [
    "# ПОЛНОМОЧИЯ ОРГАНИЗАЦИИ\n",
    "find_credentials(soup)"
   ]
  },
  {
   "cell_type": "code",
   "execution_count": 213,
   "id": "94e7b33c",
   "metadata": {},
   "outputs": [
    {
     "data": {
      "text/plain": [
       "'11.04.1994'"
      ]
     },
     "execution_count": 213,
     "metadata": {},
     "output_type": "execute_result"
    }
   ],
   "source": [
    "# ДАТА ПОСТАНОВКИ НА УЧЕТ В НАЛОГОВОМ ОРГАНЕ\n",
    "find_date_registration_tax(soup)"
   ]
  },
  {
   "cell_type": "code",
   "execution_count": 214,
   "id": "4c86e219",
   "metadata": {},
   "outputs": [],
   "source": [
    "find_organization_type(soup)"
   ]
  },
  {
   "cell_type": "code",
   "execution_count": 215,
   "id": "dad5a94c",
   "metadata": {},
   "outputs": [],
   "source": [
    "find_organization_level(soup)"
   ]
  },
  {
   "cell_type": "code",
   "execution_count": 216,
   "id": "d799bc96",
   "metadata": {},
   "outputs": [
    {
     "data": {
      "text/plain": [
       "'01938731'"
      ]
     },
     "execution_count": 216,
     "metadata": {},
     "output_type": "execute_result"
    }
   ],
   "source": [
    "find_okpo_code(soup)"
   ]
  },
  {
   "cell_type": "code",
   "execution_count": 217,
   "id": "ffb7f259",
   "metadata": {},
   "outputs": [
    {
     "data": {
      "text/plain": [
       "'85.11.1: Деятельность больничных учреждений широкого профиля и специализированных 85.12: Образование начальное общее 85.13: Образование основное общее 85.14.3: Деятельность медицинских лабораторий'"
      ]
     },
     "execution_count": 217,
     "metadata": {},
     "output_type": "execute_result"
    }
   ],
   "source": [
    "find_okfd_code(soup)"
   ]
  },
  {
   "cell_type": "code",
   "execution_count": 218,
   "id": "783b8579",
   "metadata": {},
   "outputs": [
    {
     "data": {
      "text/plain": [
       "('55020001', 'Бюджет Пензенской области')"
      ]
     },
     "execution_count": 218,
     "metadata": {},
     "output_type": "execute_result"
    }
   ],
   "source": [
    "parsing_budget_table(soup)"
   ]
  },
  {
   "cell_type": "code",
   "execution_count": 219,
   "id": "71652ae6",
   "metadata": {},
   "outputs": [],
   "source": [
    "contact_info = find_contact_info(soup)"
   ]
  },
  {
   "cell_type": "code",
   "execution_count": 221,
   "id": "0164df99",
   "metadata": {},
   "outputs": [
    {
     "data": {
      "text/plain": [
       "'+7 (84151) 31645'"
      ]
     },
     "execution_count": 221,
     "metadata": {},
     "output_type": "execute_result"
    }
   ],
   "source": [
    "find_telephone(contact_info)"
   ]
  },
  {
   "cell_type": "code",
   "execution_count": 222,
   "id": "834ba170",
   "metadata": {},
   "outputs": [
    {
     "data": {
      "text/plain": [
       "'+7 (84151) 31645'"
      ]
     },
     "execution_count": 222,
     "metadata": {},
     "output_type": "execute_result"
    }
   ],
   "source": [
    "find_fax(contact_info)"
   ]
  },
  {
   "cell_type": "code",
   "execution_count": 223,
   "id": "3aae0458",
   "metadata": {},
   "outputs": [
    {
     "data": {
      "text/plain": [
       "'Российская Федерация, 442600, Пензенская обл, Спасский р-н, Спасск г, КОММУНАЛЬНАЯ, 39'"
      ]
     },
     "execution_count": 223,
     "metadata": {},
     "output_type": "execute_result"
    }
   ],
   "source": [
    "find_postal_adress(contact_info)"
   ]
  },
  {
   "cell_type": "code",
   "execution_count": 224,
   "id": "da817a14",
   "metadata": {},
   "outputs": [],
   "source": [
    "find_email(contact_info)"
   ]
  },
  {
   "cell_type": "code",
   "execution_count": 225,
   "id": "ce116b79",
   "metadata": {},
   "outputs": [],
   "source": [
    "find_site(contact_info)"
   ]
  },
  {
   "cell_type": "code",
   "execution_count": 226,
   "id": "baee77fe",
   "metadata": {},
   "outputs": [
    {
     "data": {
      "text/plain": [
       "'Зайцева Е. А.'"
      ]
     },
     "execution_count": 226,
     "metadata": {},
     "output_type": "execute_result"
    }
   ],
   "source": [
    "find_contact_person(contact_info)"
   ]
  },
  {
   "cell_type": "code",
   "execution_count": 227,
   "id": "6d4f31f1",
   "metadata": {},
   "outputs": [
    {
     "data": {
      "text/plain": [
       "'MSK (UTC+3) Москва'"
      ]
     },
     "execution_count": 227,
     "metadata": {},
     "output_type": "execute_result"
    }
   ],
   "source": [
    "find_time_zone(contact_info)"
   ]
  }
 ],
 "metadata": {
  "kernelspec": {
   "display_name": "Python 3 (ipykernel)",
   "language": "python",
   "name": "python3"
  },
  "language_info": {
   "codemirror_mode": {
    "name": "ipython",
    "version": 3
   },
   "file_extension": ".py",
   "mimetype": "text/x-python",
   "name": "python",
   "nbconvert_exporter": "python",
   "pygments_lexer": "ipython3",
   "version": "3.10.12"
  }
 },
 "nbformat": 4,
 "nbformat_minor": 5
}
