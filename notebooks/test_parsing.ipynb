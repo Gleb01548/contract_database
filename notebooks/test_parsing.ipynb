{
 "cells": [
  {
   "cell_type": "code",
   "execution_count": 1,
   "id": "93d18478-ef29-4416-9acd-58c66f01f635",
   "metadata": {},
   "outputs": [],
   "source": [
    "import pandas as pd\n",
    "import time\n",
    "import requests, time\n",
    "from bs4 import BeautifulSoup\n",
    "import bs4.element\n",
    "from fake_useragent import UserAgent\n",
    "import re\n",
    "\n",
    "requests.packages.urllib3.util.ssl_.DEFAULT_CIPHERS = \"ALL:@SECLEVEL=1\""
   ]
  },
  {
   "attachments": {},
   "cell_type": "markdown",
   "id": "bffa2904",
   "metadata": {},
   "source": [
    "2772104168722000005 1700200833623000023 1380805025523000091 1380805025523000091 3184110207323000038 3633001779723000034 1380805025523000091"
   ]
  },
  {
   "cell_type": "code",
   "execution_count": 2,
   "id": "ae7ebd3f",
   "metadata": {},
   "outputs": [
    {
     "data": {
      "text/plain": [
       "True"
      ]
     },
     "execution_count": 2,
     "metadata": {},
     "output_type": "execute_result"
    }
   ],
   "source": [
    "any([True, False])"
   ]
  },
  {
   "cell_type": "code",
   "execution_count": 9,
   "id": "d17329df-66d0-4c4b-8cf8-14f5fce232e2",
   "metadata": {},
   "outputs": [],
   "source": [
    "url_info = \"https://zakupki.gov.ru/epz/contract/contractCard/common-info.html?reestrNumber=\"\n",
    "url_payment = \"https://zakupki.gov.ru/epz/contract/contractCard/payment-info-and-target-of-order.html?reestrNumber=\"\n",
    "url_process = \"https://zakupki.gov.ru/epz/contract/contractCard/process-info.html?reestrNumber=\"\n",
    "url_version = (\n",
    "    \"https://zakupki.gov.ru/epz/contract/contractCard/journal-version.html?reestrNumber=\"\n",
    ")\n",
    "url_document = \"https://zakupki.gov.ru/epz/contract/contractCard/document-info.html?reestrNumber=\"\n",
    "url_event = \"https://zakupki.gov.ru/epz/contract/contractCard/event-journal.html?reestrNumber=\""
   ]
  },
  {
   "attachments": {},
   "cell_type": "markdown",
   "id": "a61935c1-ea8f-457e-8e68-a7b58d89d1a4",
   "metadata": {},
   "source": [
    "## Получение информации с url_info"
   ]
  },
  {
   "cell_type": "code",
   "execution_count": 19,
   "id": "ea8ffd67",
   "metadata": {},
   "outputs": [
    {
     "data": {
      "text/plain": [
       "False"
      ]
     },
     "execution_count": 19,
     "metadata": {},
     "output_type": "execute_result"
    }
   ],
   "source": [
    "number_contract = \"0372200028814000053\"\n",
    "url_info = (\n",
    "    \"https://zakupki.gov.ru/epz/contract/contractCard/common-info.html?reestrNumber=\"\n",
    "    + number_contract\n",
    ")\n",
    "res = requests.get(url_info, headers={\"User-Agent\": UserAgent().random})\n",
    "soup = BeautifulSoup(res.text, \"html\")\n",
    "res.ok"
   ]
  },
  {
   "cell_type": "code",
   "execution_count": 28,
   "id": "d684b48f",
   "metadata": {},
   "outputs": [
    {
     "data": {
      "text/plain": [
       "<div class=\"hotline-phones\">\n",
       "<div class=\"phones-title\"> ÐÐ¾Ð½ÑÐ°ÐºÑÐ½ÑÐµ ÑÐµÐ»ÐµÑÐ¾Ð½Ñ ÑÐ»ÑÐ¶Ð±Ñ ÑÐµÑ\n",
       "Ð½Ð¸ÑÐµÑÐºÐ¾Ð¹ Ð¿Ð¾Ð´Ð´ÐµÑÐ¶ÐºÐ¸ ÐÐÐ¡:</div>\n",
       "<div class=\"phones-links\">\n",
       "<a class=\"phones-links__item\" href=\"tel:88006009089\">8 (800) 600-90-89</a>\n",
       "<a class=\"phones-links__item\" href=\"tel:84957392583\">8 (495) 739-25-83</a>\n",
       "</div>\n",
       "</div>"
      ]
     },
     "execution_count": 28,
     "metadata": {},
     "output_type": "execute_result"
    }
   ],
   "source": [
    "soup.find('a', class_='phones-links__item')\n",
    "soup.find('div', class_='hotline-phones')"
   ]
  },
  {
   "cell_type": "code",
   "execution_count": 20,
   "id": "dd095541",
   "metadata": {},
   "outputs": [
    {
     "data": {
      "text/plain": [
       "<!DOCTYPE html>\n",
       "<html lang=\"ru\">\n",
       "<head>\n",
       "<meta charset=\"utf-8\"/>\n",
       "<meta content=\"ie=edge\" http-equiv=\"X-UA-Compatible\"/>\n",
       "<link href=\"https://zakupki.gov.ru/app-locked.css\" media=\"all\" rel=\"stylesheet\"/>\n",
       "<!--<link rel=\"stylesheet\" media=\"all\" href=\"/app-locked.css\" />-->\n",
       "</head>\n",
       "<body>\n",
       "<div class=\"engineering\">\n",
       "<div class=\"logo-large\">\n",
       "<!--<img src=\"https://zakupki.gov.ru/emblem-large.png\" alt=\"\">\n",
       "       <img src=\"/emblem-large.png\" alt=\"\"> -->\n",
       "</div>\n",
       "<div class=\"container full-height\">\n",
       "<div class=\"row full-height\">\n",
       "<div class=\"col-12\">\n",
       "<div class=\"logo\"><img alt=\"\" src=\"https://zakupki.gov.ru/emblem1.svg\"/>\n",
       "<!--<div class=\"logo\"><img src=\"/emblem.svg\" alt=\"\" />-->\n",
       "</div>\n",
       "<div class=\"col-10 col-lg-11\">\n",
       "<div class=\"alert-text\">\n",
       "<div class=\"alert-text__item\">\n",
       "<!-- Ð¢ÑÑ Ð¼ÐµÐ½ÑÐµÑÑÑ Ð¸Ð½ÑÐ¾ÑÐ¼Ð°ÑÐ¸Ñ Ð¾ ÑÐµÐ³Ð»Ð°Ð¼ÐµÐ½ÑÐ½ÑÑ\n",
       " ÑÐ°Ð±Ð¾ÑÐ°Ñ\n",
       " Ð¸ ÑÐºÐ°Ð·ÑÐ²Ð°ÐµÑÑÑ Ð²ÑÐµÐ¼Ñ Ð¿ÑÐ¾Ð²ÐµÐ´ÐµÐ½Ð¸Ñ -->\n",
       "<h3 align=\"center\" class=\"heading-h3\">Ð¡Ð»ÑÐ¶Ð±a ÑÐµÑ\n",
       "Ð½Ð¸ÑÐµÑÐºÐ¾Ð¹ Ð¿Ð¾Ð´Ð´ÐµÑÐ¶ÐºÐ¸ ÐÐÐ¡ Ð² ÑÑÐµÑÐµ Ð·Ð°ÐºÑÐ¿Ð¾Ðº ÑÐ¾Ð¾Ð±ÑÐ°ÐµÑ Ð¾ Ð¿ÑÐ¾Ð²ÐµÐ´ÐµÐ½Ð¸Ð¸ ÑÐµÐ³Ð»Ð°Ð¼ÐµÐ½ÑÐ½ÑÑ\n",
       " ÑÐ°Ð±Ð¾Ñ Ð² Ð¿ÐµÑÐ¸Ð¾Ð´ Ñ 00:00 02.07.2023 Ð¿Ð¾ 00:00 03.07.2023 <nobr>Ð¿Ð¾ Ð¼Ð¾ÑÐºÐ¾Ð²ÑÐºÐ¾Ð¼Ñ Ð²ÑÐµÐ¼ÐµÐ½Ð¸.</nobr><br/></h3>\n",
       "</div>\n",
       "<div class=\"alert-text__item\">\n",
       "<h3 align=\"center\" class=\"heading-h3\">\n",
       "<!-- ÐÐ°Ð½Ð½ÑÐ¹ ÑÐµÐºÑÑ Ð±ÑÐ´ÐµÑ Ð¾ÑÐ¾Ð±ÑÐ°Ð¶Ð°ÑÑÑÑ Ð² ÑÐ»ÑÑÐ°Ðµ, ÐµÑÐ»Ð¸ Ð·Ð°ÐºÑÑÐ²Ð°ÐµÑÑÑ Ð²ÐµÑÑ ÑÐ°Ð¹Ñ -->\n",
       "ÐÐ¾ Ð²ÑÐµÐ¼Ñ Ð¿ÑÐ¾Ð²ÐµÐ´ÐµÐ½Ð¸Ñ ÑÐ°Ð±Ð¾Ñ Ð±ÑÐ´ÐµÑ Ð½ÐµÐ´Ð¾ÑÑÑÐ¿ÐµÐ½ Ð¾ÑÐ¸ÑÐ¸Ð°Ð»ÑÐ½ÑÐ¹ ÑÐ°Ð¹Ñ ÐÐÐ¡ Ð² ÑÑÐµÑÐµ Ð·Ð°ÐºÑÐ¿Ð¾Ðº, Ð»Ð¸ÑÐ½ÑÐ¹ ÐºÐ°Ð±Ð¸Ð½ÐµÑ ÑÑÐ°ÑÑÐ½Ð¸ÐºÐ° Ð·Ð°ÐºÑÐ¿Ð¾Ðº, Ð»Ð¸ÑÐ½ÑÐ¹ ÐºÐ°Ð±Ð¸Ð½ÐµÑ Ð¿Ð¾ ÐÐ°ÐºÐ¾Ð½Ñ â 44-Ð¤Ð Ð¸ Ð»Ð¸ÑÐ½ÑÐ¹ ÐºÐ°Ð±Ð¸Ð½ÐµÑ Ð¿Ð¾ ÐÐ°ÐºÐ¾Ð½Ñ â 223-Ð¤Ð.<br/>Ð¢Ð°ÐºÐ¶Ðµ ÑÑÐ½ÐºÑÐ¸Ð¾Ð½Ð°Ð» Ð±ÑÐ´ÐµÑ Ð½ÐµÐ´Ð¾ÑÑÑÐ¿ÐµÐ½ ÑÐµÑÐµÐ· ÐÐ¾Ð±Ð¸Ð»ÑÐ½Ð¾Ðµ Ð¿ÑÐ¸Ð»Ð¾Ð¶ÐµÐ½Ð¸Ðµ ÐÐÐ¡.<br/></h3>\n",
       "<h3 align=\"center\" class=\"heading-h3\">\n",
       "</h3>\n",
       "<div class=\"alert-desc\">\n",
       "<div align=\"center\" class=\"alert-desc__text\"> ÐÐ¾Ð¿Ð¾Ð»Ð½Ð¸ÑÐµÐ»ÑÐ½Ð¾ ÑÐ¾Ð¾Ð±ÑÐ°ÐµÐ¼, ÑÑÐ¾ Ð²ÑÐµÐ¼Ñ Ð¿ÑÐ¾Ð²ÐµÐ´ÐµÐ½Ð¸Ñ ÑÐµÐ³Ð»Ð°Ð¼ÐµÐ½ÑÐ½ÑÑ\n",
       " ÑÐ°Ð±Ð¾Ñ Ð¼Ð¾Ð¶ÐµÑ Ð±ÑÑÑ Ð¿ÑÐ¾Ð´Ð»ÐµÐ½Ð¾. Ð ÑÑÐ¾Ð¼ ÑÐ»ÑÑÐ°Ðµ Ð¸Ð½ÑÐ¾ÑÐ¼Ð°ÑÐ¸Ñ Ð¾Ð± ÑÐ²ÐµÐ»Ð¸ÑÐµÐ½Ð¸Ð¸ Ð²ÑÐµÐ¼ÐµÐ½Ð¸ Ð¿ÑÐ¾Ð²ÐµÐ´ÐµÐ½Ð¸Ñ ÑÐµÐ³Ð»Ð°Ð¼ÐµÐ½ÑÐ½ÑÑ\n",
       " ÑÐ°Ð±Ð¾Ñ Ð±ÑÐ´ÐµÑ ÑÐ°Ð·Ð¼ÐµÑÐµÐ½Ð° Ð´Ð¾Ð¿Ð¾Ð»Ð½Ð¸ÑÐµÐ»ÑÐ½Ð¾.</div>\n",
       "</div>\n",
       "</div>\n",
       "</div>\n",
       "</div>\n",
       "</div>\n",
       "</div>\n",
       "</div>\n",
       "<div class=\"engineering-content\">\n",
       "<div class=\"container\">\n",
       "<div class=\"row\">\n",
       "<div class=\"col-7 col-lg-9\">\n",
       "<div class=\"link-block\">\n",
       "<div class=\"link-block__title\">\n",
       "<h3 class=\"heading-h3\">ÐÐ° ÑÐµÐºÑÑÐ¸Ð¹ Ð¼Ð¾Ð¼ÐµÐ½Ñ Ð¼Ð¾Ð¶Ð½Ð¾ Ð¾Ð·Ð½Ð°ÐºÐ¾Ð¼Ð¸ÑÑÑÑ ÑÐ¾ ÑÐ»ÐµÐ´ÑÑÑÐ¸Ð¼Ð¸ Ð¼Ð°ÑÐµÑÐ¸Ð°Ð»Ð°Ð¼Ð¸</h3><br/>\n",
       "<div class=\"link-block__items\">\n",
       "<a class=\"link-block__link1\" href=\"/ÐÐÐÐÐ¡_ÐÐÐ Ð¡ÐÐ_13.2.pdf\" style=\"padding-bottom: 5px;\">ÐÐ½Ð¾Ð½Ñ Ð¸Ð·Ð¼ÐµÐ½ÐµÐ½Ð¸Ð¹ ÐÐÐ¡ Ð²ÐµÑÑÐ¸Ð¸ 13.2</a>\n",
       "<!-- <a href=\"#\" class=\"link-block__link1\">ÐÐ¸Ð´ÐµÐ¾Ð·Ð°Ð¿Ð¸ÑÑ Ð²ÐµÐ±Ð¸Ð½Ð°ÑÐ° Â«ÐÐ¾Ð²ÑÐµ ÑÑÐ½ÐºÑÐ¸Ð¾Ð½Ð°Ð»ÑÐ½ÑÐµ Ð²Ð¾Ð·Ð¼Ð¾Ð¶Ð½Ð¾ÑÑÐ¸ ÐµÐ´Ð¸Ð½Ð¾Ð¹ Ð¸Ð½ÑÐ¾ÑÐ¼Ð°ÑÐ¸Ð¾Ð½Ð½Ð¾Ð¹ ÑÐ¸ÑÑÐµÐ¼Ñ Ð² ÑÑÐµÑÐµ Ð·Ð°ÐºÑÐ¿Ð¾Ðº Ð²ÐµÑÑÐ¸Ð¸ 13.0Â»</a> -->\n",
       "\t\t\tÐÐ¾Ð»ÐµÐ·Ð½Ð°Ñ Ð¸Ð½ÑÐ¾ÑÐ¼Ð°ÑÐ¸Ñ Ð¸ Ð°ÐºÑÑÐ°Ð»ÑÐ½ÑÐµ Ð½Ð¾Ð²Ð¾ÑÑÐ¸ Ð² Ð¾ÑÐ¸ÑÐ¸Ð°Ð»ÑÐ½Ð¾Ð¼ ÐºÐ°Ð½Ð°Ð»Ðµ <a class=\"link-block__link2\" href=\"https://t.me/gis_eiszakupki\">Â«ÐÐÐ¡ ÐÐÐ¡ ÐÐÐÐ£ÐÐÐÂ»</a> <a class=\"link-block__link2\" href=\"https://t.me/gis_eiszakupki\">https://t.me/gis_eiszakupki</a>\n",
       "</div>\n",
       "</div>\n",
       "<div class=\"link-block__title\">\n",
       "<h3 class=\"heading-h5\">ÐÐ¾ÑÐ¼Ð°ÑÐ¸Ð²Ð½ÑÐµ Ð¿ÑÐ°Ð²Ð¾Ð²ÑÐµ Ð°ÐºÑÑ Ð² ÑÑÐµÑÐµ Ð·Ð°ÐºÑÐ¿Ð¾Ðº, Ð¾Ð¿ÑÐ±Ð»Ð¸ÐºÐ¾Ð²Ð°Ð½Ð½ÑÐµ Ð²Ð¾ Ð²ÑÐ¾ÑÐ¾Ð¼ ÐºÐ²Ð°ÑÑÐ°Ð»Ðµ 2023 Ð³Ð¾Ð´Ð°:\n",
       "          </h3></div>\n",
       "<div class=\"link-block__items\">\n",
       "<a class=\"link-block__link\" href=\"http://publication.pravo.gov.ru/Document/View/0001202304040038\">1. ÐÑÐ¸ÐºÐ°Ð· ÐÐ¸Ð½Ð¸ÑÑÐµÑÑÑÐ²Ð° Ð¿ÑÐ¾Ð¼ÑÑÐ»ÐµÐ½Ð½Ð¾ÑÑÐ¸ Ð¸ ÑÐ¾ÑÐ³Ð¾Ð²Ð»Ð¸ Ð Ð¾ÑÑÐ¸Ð¹ÑÐºÐ¾Ð¹ Ð¤ÐµÐ´ÐµÑÐ°ÑÐ¸Ð¸ Ð¾Ñ 28.02.2023 â 639 Â«ÐÐ± ÑÑÐ²ÐµÑÐ¶Ð´ÐµÐ½Ð¸Ð¸ ÐÐ¾ÑÑÐ´ÐºÐ° Ð¾Ð¿ÑÐµÐ´ÐµÐ»ÐµÐ½Ð¸Ñ Ð½Ð°ÑÐ°Ð»ÑÐ½Ð¾Ð¹ (Ð¼Ð°ÐºÑÐ¸Ð¼Ð°Ð»ÑÐ½Ð¾Ð¹) ÑÐµÐ½Ñ ÐºÐ¾Ð½ÑÑÐ°ÐºÑÐ°, ÑÐµÐ½Ñ ÐºÐ¾Ð½ÑÑÐ°ÐºÑÐ°, Ð·Ð°ÐºÐ»ÑÑÐ°ÐµÐ¼Ð¾Ð³Ð¾ Ñ ÐµÐ´Ð¸Ð½ÑÑÐ²ÐµÐ½Ð½ÑÐ¼ Ð¿Ð¾ÑÑÐ°Ð²ÑÐ¸ÐºÐ¾Ð¼ (Ð¿Ð¾Ð´ÑÑÐ´ÑÐ¸ÐºÐ¾Ð¼, Ð¸ÑÐ¿Ð¾Ð»Ð½Ð¸ÑÐµÐ»ÐµÐ¼), Ð¸ Ð½Ð°ÑÐ°Ð»ÑÐ½Ð¾Ð¹ ÑÐµÐ½Ñ ÐµÐ´Ð¸Ð½Ð¸ÑÑ ÑÐ¾Ð²Ð°ÑÐ°, ÑÐ°Ð±Ð¾ÑÑ, ÑÑÐ»ÑÐ³Ð¸ Ð¿ÑÐ¸ Ð¾ÑÑÑÐµÑÑÐ²Ð»ÐµÐ½Ð¸Ð¸ Ð·Ð°ÐºÑÐ¿Ð¾Ðº Ð¿ÑÐ¾Ð´ÑÐºÑÐ¸Ð¸ ÑÑÐ´Ð¾ÑÑÑÐ¾Ð¸ÑÐµÐ»ÑÐ½Ð¾Ð¹ Ð¿ÑÐ¾Ð¼ÑÑÐ»ÐµÐ½Ð½Ð¾ÑÑÐ¸ (Ð·Ð° Ð¸ÑÐºÐ»ÑÑÐµÐ½Ð¸ÐµÐ¼ Ð¿ÑÐ¾Ð´ÑÐºÑÐ¸Ð¸, Ð·Ð°ÐºÑÐ¿ÐºÐ° ÐºÐ¾ÑÐ¾ÑÐ¾Ð¹ Ð¾ÑÑÑÐµÑÑÐ²Ð»ÑÐµÑÑÑ Ð² ÑÐ°Ð¼ÐºÐ°Ñ\n",
       " Ð³Ð¾ÑÑÐ´Ð°ÑÑÑÐ²ÐµÐ½Ð½Ð¾Ð³Ð¾ Ð¾Ð±Ð¾ÑÐ¾Ð½Ð½Ð¾Ð³Ð¾ Ð·Ð°ÐºÐ°Ð·Ð°)Â»</a>\n",
       "<a class=\"link-block__link\" href=\"http://publication.pravo.gov.ru/Document/View/0001202303310018\">2. ÐÑÐ¸ÐºÐ°Ð· ÐÐ¸Ð½Ð¸ÑÑÐµÑÑÑÐ²Ð° ÑÐ¸Ð½Ð°Ð½ÑÐ¾Ð² Ð Ð¾ÑÑÐ¸Ð¹ÑÐºÐ¾Ð¹ Ð¤ÐµÐ´ÐµÑÐ°ÑÐ¸Ð¸ Ð¾Ñ 01.03.2023 â 26Ð½ Â«Ð Ð²Ð½ÐµÑÐµÐ½Ð¸Ð¸ Ð¸Ð·Ð¼ÐµÐ½ÐµÐ½Ð¸Ð¹ Ð² Ð¿ÑÐ¸ÐºÐ°Ð· ÐÐ¸Ð½Ð¸ÑÑÐµÑÑÑÐ²Ð° ÑÐ¸Ð½Ð°Ð½ÑÐ¾Ð² Ð Ð¾ÑÑÐ¸Ð¹ÑÐºÐ¾Ð¹ Ð¤ÐµÐ´ÐµÑÐ°ÑÐ¸Ð¸ Ð¾Ñ 23 Ð´ÐµÐºÐ°Ð±ÑÑ 2014 Ð³. â 163Ð½ Â«Ð ÐÐ¾ÑÑÐ´ÐºÐµ ÑÐ¾ÑÐ¼Ð¸ÑÐ¾Ð²Ð°Ð½Ð¸Ñ Ð¸ Ð²ÐµÐ´ÐµÐ½Ð¸Ñ ÑÐµÐµÑÑÑÐ° ÑÑÐ°ÑÑÐ½Ð¸ÐºÐ¾Ð² Ð±ÑÐ´Ð¶ÐµÑÐ½Ð¾Ð³Ð¾ Ð¿ÑÐ¾ÑÐµÑÑÐ°, Ð° ÑÐ°ÐºÐ¶Ðµ ÑÑÐ¸Ð´Ð¸ÑÐµÑÐºÐ¸Ñ\n",
       " Ð»Ð¸Ñ, Ð½Ðµ ÑÐ²Ð»ÑÑÑÐ¸Ñ\n",
       "ÑÑ ÑÑÐ°ÑÑÐ½Ð¸ÐºÐ°Ð¼Ð¸ Ð±ÑÐ´Ð¶ÐµÑÐ½Ð¾Ð³Ð¾ Ð¿ÑÐ¾ÑÐµÑÑÐ°Â»</a>\n",
       "<a class=\"link-block__link\" href=\"http://publication.pravo.gov.ru/Document/View/0001202304110016\">3. ÐÐ¾ÑÑÐ°Ð½Ð¾Ð²Ð»ÐµÐ½Ð¸Ðµ ÐÑÐ°Ð²Ð¸ÑÐµÐ»ÑÑÑÐ²Ð° Ð Ð¾ÑÑÐ¸Ð¹ÑÐºÐ¾Ð¹ Ð¤ÐµÐ´ÐµÑÐ°ÑÐ¸Ð¸ Ð¾Ñ 10.04.2023 â 579 Â«ÐÐ± Ð¾ÑÐ¾Ð±ÐµÐ½Ð½Ð¾ÑÑÑÑ\n",
       " Ð¿Ð¾ÑÑÐ´ÐºÐ° Ð¿ÑÐµÐ´Ð¾ÑÑÐ°Ð²Ð»ÐµÐ½Ð¸Ñ Ð¾Ð±ÐµÑÐ¿ÐµÑÐµÐ½Ð¸Ñ Ð·Ð°ÑÐ²Ð¾Ðº Ð½Ð° ÑÑÐ°ÑÑÐ¸Ðµ Ð² Ð·Ð°ÐºÑÐ¿ÐºÐ°Ñ\n",
       " ÑÐ¾Ð²Ð°ÑÐ¾Ð², ÑÐ°Ð±Ð¾Ñ, ÑÑÐ»ÑÐ³ Ð´Ð»Ñ Ð¾Ð±ÐµÑÐ¿ÐµÑÐµÐ½Ð¸Ñ Ð³Ð¾ÑÑÐ´Ð°ÑÑÑÐ²ÐµÐ½Ð½ÑÑ\n",
       " Ð¸Ð»Ð¸ Ð¼ÑÐ½Ð¸ÑÐ¸Ð¿Ð°Ð»ÑÐ½ÑÑ\n",
       " Ð½ÑÐ¶Ð´ ÑÑÐ°ÑÑÐ½Ð¸ÐºÐ°Ð¼Ð¸ ÑÐ°ÐºÐ¸Ñ\n",
       " Ð·Ð°ÐºÑÐ¿Ð¾Ðº, ÑÐ²Ð»ÑÑÑÐ¸Ð¼Ð¸ÑÑ Ð¸Ð½Ð¾ÑÑÑÐ°Ð½Ð½ÑÐ¼Ð¸ Ð»Ð¸ÑÐ°Ð¼Ð¸Â»</a>\n",
       "<a class=\"link-block__link\" href=\"http://publication.pravo.gov.ru/Document/View/0001202304110013\">4. ÐÐ¾ÑÑÐ°Ð½Ð¾Ð²Ð»ÐµÐ½Ð¸Ðµ ÐÑÐ°Ð²Ð¸ÑÐµÐ»ÑÑÑÐ²Ð° Ð Ð¾ÑÑÐ¸Ð¹ÑÐºÐ¾Ð¹ Ð¤ÐµÐ´ÐµÑÐ°ÑÐ¸Ð¸ Ð¾Ñ 08.04.2023 â 572 Â«ÐÐ± ÑÑÐ²ÐµÑÐ¶Ð´ÐµÐ½Ð¸Ð¸ ÑÐ¸Ð¿Ð¾Ð²ÑÑ\n",
       " ÑÑÐ»Ð¾Ð²Ð¸Ð¹ ÐºÐ¾Ð½ÑÑÐ°ÐºÑÐ¾Ð² Ð½Ð° Ð²ÑÐ¿Ð¾Ð»Ð½ÐµÐ½Ð¸Ðµ ÑÐ°Ð±Ð¾Ñ Ð¿Ð¾ ÑÐµÐ¼Ð¾Ð½ÑÑ Ð°Ð²ÑÐ¾Ð¼Ð¾Ð±Ð¸Ð»ÑÐ½ÑÑ\n",
       " Ð´Ð¾ÑÐ¾Ð³, Ð¸ÑÐºÑÑÑÑÐ²ÐµÐ½Ð½ÑÑ\n",
       " Ð´Ð¾ÑÐ¾Ð¶Ð½ÑÑ\n",
       " ÑÐ¾Ð¾ÑÑÐ¶ÐµÐ½Ð¸Ð¹Â»</a>\n",
       "<a class=\"link-block__link\" href=\"http://publication.pravo.gov.ru/Document/View/0001202304190018\">5. ÐÑÐ¸ÐºÐ°Ð· Ð¤ÐµÐ´ÐµÑÐ°Ð»ÑÐ½Ð¾Ð³Ð¾ ÐºÐ°Ð·Ð½Ð°ÑÐµÐ¹ÑÑÐ²Ð° Ð¾Ñ 17.01.2023 â 2Ð½ Â«Ð Ð²Ð½ÐµÑÐµÐ½Ð¸Ð¸ Ð¸Ð·Ð¼ÐµÐ½ÐµÐ½Ð¸Ð¹ Ð² Ð¿ÑÐ¸ÐºÐ°Ð· Ð¤ÐµÐ´ÐµÑÐ°Ð»ÑÐ½Ð¾Ð³Ð¾ ÐºÐ°Ð·Ð½Ð°ÑÐµÐ¹ÑÑÐ²Ð° <nobr>Ð¾Ñ 18 Ð¸ÑÐ»Ñ 2022 Ð³. â 17Ð½</nobr> Â«ÐÐ± ÑÑÐ²ÐµÑÐ¶Ð´ÐµÐ½Ð¸Ð¸ ÐÐ¾ÑÑÐ´ÐºÐ° ÑÐ¾ÑÐ¼Ð¸ÑÐ¾Ð²Ð°Ð½Ð¸Ñ Ð¸ Ð½Ð°Ð¿ÑÐ°Ð²Ð»ÐµÐ½Ð¸Ñ Ð·Ð°ÐºÐ°Ð·ÑÐ¸ÐºÐ¾Ð¼ ÑÐ²ÐµÐ´ÐµÐ½Ð¸Ð¹, Ð¿Ð¾Ð´Ð»ÐµÐ¶Ð°ÑÐ¸Ñ\n",
       " Ð²ÐºÐ»ÑÑÐµÐ½Ð¸Ñ Ð² ÑÐµÐµÑÑÑ ÐºÐ¾Ð½ÑÑÐ°ÐºÑÐ¾Ð², ÑÐ¾Ð´ÐµÑÐ¶Ð°ÑÐ¸Ð¹ ÑÐ²ÐµÐ´ÐµÐ½Ð¸Ñ, ÑÐ¾ÑÑÐ°Ð²Ð»ÑÑÑÐ¸Ðµ Ð³Ð¾ÑÑÐ´Ð°ÑÑÑÐ²ÐµÐ½Ð½ÑÑ ÑÐ°Ð¹Ð½Ñ, ÑÐ¾ÑÐ¼Ð¸ÑÐ¾Ð²Ð°Ð½Ð¸Ñ<nobr> Ð¸ Ð½Ð°Ð¿ÑÐ°Ð²Ð»ÐµÐ½Ð¸Ñ</nobr> Ð·Ð°Ð¿ÑÐ¾ÑÐ¾Ð² Ð¾ Ð¿ÑÐµÐ´Ð¾ÑÑÐ°Ð²Ð»ÐµÐ½Ð¸Ð¸ ÑÐ²ÐµÐ´ÐµÐ½Ð¸Ð¹ Ð¸Ð· ÑÐºÐ°Ð·Ð°Ð½Ð½Ð¾Ð³Ð¾ ÑÐµÐµÑÑÑÐ°, ÑÐ¾ÑÐ¼Ð¸ÑÐ¾Ð²Ð°Ð½Ð¸Ñ Ð¸ Ð½Ð°Ð¿ÑÐ°Ð²Ð»ÐµÐ½Ð¸Ñ Ð¤ÐµÐ´ÐµÑÐ°Ð»ÑÐ½ÑÐ¼ ÐºÐ°Ð·Ð½Ð°ÑÐµÐ¹ÑÑÐ²Ð¾Ð¼ Ð²ÑÐ¿Ð¸ÑÐ¾Ðº Ð¸Ð· ÑÐºÐ°Ð·Ð°Ð½Ð½Ð¾Ð³Ð¾ ÑÐµÐµÑÑÑÐ° Ð¸ Ð¿ÑÐ¾ÑÐ¾ÐºÐ¾Ð»Ð°, Ð° ÑÐ°ÐºÐ¶Ðµ ÑÐ¾ÑÐ¼ ÑÐºÐ°Ð·Ð°Ð½Ð½ÑÑ\n",
       " Ð´Ð¾ÐºÑÐ¼ÐµÐ½ÑÐ¾Ð²Â»</a>\n",
       "<a class=\"link-block__link\" href=\"http://publication.pravo.gov.ru/Document/View/0001202304190036\">6. ÐÐ¾ÑÑÐ°Ð½Ð¾Ð²Ð»ÐµÐ½Ð¸Ðµ ÐÑÐ°Ð²Ð¸ÑÐµÐ»ÑÑÑÐ²Ð° Ð Ð¾ÑÑÐ¸Ð¹ÑÐºÐ¾Ð¹ Ð¤ÐµÐ´ÐµÑÐ°ÑÐ¸Ð¸ Ð¾Ñ 19.04.2023 â 620 Â«ÐÐ± ÑÑÐ²ÐµÑÐ¶Ð´ÐµÐ½Ð¸Ð¸ Ð¾ÑÐ¾Ð±ÐµÐ½Ð½Ð¾ÑÑÐµÐ¹ Ð¾Ð¿ÑÐµÐ´ÐµÐ»ÐµÐ½Ð¸Ñ Ð½Ð°ÑÐ°Ð»ÑÐ½Ð¾Ð¹ (Ð¼Ð°ÐºÑÐ¸Ð¼Ð°Ð»ÑÐ½Ð¾Ð¹) ÑÐµÐ½Ñ ÐºÐ¾Ð½ÑÑÐ°ÐºÑÐ°, Ð¿ÑÐµÐ´Ð¼ÐµÑÐ¾Ð¼ ÐºÐ¾ÑÐ¾ÑÐ¾Ð³Ð¾ ÑÐ²Ð»ÑÐµÑÑÑ Ð²ÑÐ¿Ð¾Ð»Ð½ÐµÐ½Ð¸Ðµ ÑÐ°Ð±Ð¾Ñ Ð¿Ð¾ ÑÑÑÐ¾Ð¸ÑÐµÐ»ÑÑÑÐ²Ñ, ÑÐµÐºÐ¾Ð½ÑÑÑÑÐºÑÐ¸Ð¸, ÐºÐ°Ð¿Ð¸ÑÐ°Ð»ÑÐ½Ð¾Ð¼Ñ ÑÐµÐ¼Ð¾Ð½ÑÑ Ð¾Ð±ÑÐµÐºÑÐ¾Ð² ÐºÐ°Ð¿Ð¸ÑÐ°Ð»ÑÐ½Ð¾Ð³Ð¾ ÑÑÑÐ¾Ð¸ÑÐµÐ»ÑÑÑÐ²Ð°, ÑÐ°ÑÐ¿Ð¾Ð»Ð¾Ð¶ÐµÐ½Ð½ÑÑ\n",
       " Ð½Ð° ÑÐµÑÑÐ¸ÑÐ¾ÑÐ¸Ð¸ ÐÐ¾Ð½ÐµÑÐºÐ¾Ð¹ ÐÐ°ÑÐ¾Ð´Ð½Ð¾Ð¹ Ð ÐµÑÐ¿ÑÐ±Ð»Ð¸ÐºÐ¸, ÐÑÐ³Ð°Ð½ÑÐºÐ¾Ð¹ ÐÐ°ÑÐ¾Ð´Ð½Ð¾Ð¹ Ð ÐµÑÐ¿ÑÐ±Ð»Ð¸ÐºÐ¸, ÐÐ°Ð¿Ð¾ÑÐ¾Ð¶ÑÐºÐ¾Ð¹ Ð¾Ð±Ð»Ð°ÑÑÐ¸ Ð¸Ð»Ð¸ Ð¥ÐµÑÑÐ¾Ð½ÑÐºÐ¾Ð¹ Ð¾Ð±Ð»Ð°ÑÑÐ¸, ÑÐµÐ½Ñ ÑÐ°ÐºÐ¾Ð³Ð¾ ÐºÐ¾Ð½ÑÑÐ°ÐºÑÐ°, Ð·Ð°ÐºÐ»ÑÑÐ°ÐµÐ¼Ð¾Ð³Ð¾ Ñ ÐµÐ´Ð¸Ð½ÑÑÐ²ÐµÐ½Ð½ÑÐ¼ Ð¿Ð¾ÑÑÐ°Ð²ÑÐ¸ÐºÐ¾Ð¼ (Ð¿Ð¾Ð´ÑÑÐ´ÑÐ¸ÐºÐ¾Ð¼, Ð¸ÑÐ¿Ð¾Ð»Ð½Ð¸ÑÐµÐ»ÐµÐ¼), Ð° ÑÐ°ÐºÐ¶Ðµ Ð¾ÑÐ¾Ð±ÐµÐ½Ð½Ð¾ÑÑÐµÐ¹ Ð¿ÑÐ¸ÐµÐ¼ÐºÐ¸<nobr> Ð¸ Ð¾Ð¿Ð»Ð°ÑÑ ÑÐºÐ°Ð·Ð°Ð½Ð½ÑÑ\n",
       " ÑÐ°Ð±Ð¾ÑÂ»</nobr></a>\n",
       "<a class=\"link-block__link\" href=\"http://publication.pravo.gov.ru/Document/View/0001202304280047\">7. Ð¤ÐµÐ´ÐµÑÐ°Ð»ÑÐ½ÑÐ¹ Ð·Ð°ÐºÐ¾Ð½ Ð¾Ñ 28.04.2023 â 154-Ð¤Ð Â«Ð Ð²Ð½ÐµÑÐµÐ½Ð¸Ð¸ Ð¸Ð·Ð¼ÐµÐ½ÐµÐ½Ð¸Ð¹ Ð² Ð¤ÐµÐ´ÐµÑÐ°Ð»ÑÐ½ÑÐ¹ Ð·Ð°ÐºÐ¾Ð½ Â«Ð ÐºÐ¾Ð½ÑÑÐ°ÐºÑÐ½Ð¾Ð¹ ÑÐ¸ÑÑÐµÐ¼Ðµ<nobr> Ð² ÑÑÐµÑÐµ</nobr> Ð·Ð°ÐºÑÐ¿Ð¾Ðº ÑÐ¾Ð²Ð°ÑÐ¾Ð², ÑÐ°Ð±Ð¾Ñ, ÑÑÐ»ÑÐ³ Ð´Ð»Ñ Ð¾Ð±ÐµÑÐ¿ÐµÑÐµÐ½Ð¸Ñ Ð³Ð¾ÑÑÐ´Ð°ÑÑÑÐ²ÐµÐ½Ð½ÑÑ\n",
       " Ð¸ Ð¼ÑÐ½Ð¸ÑÐ¸Ð¿Ð°Ð»ÑÐ½ÑÑ\n",
       " Ð½ÑÐ¶Ð´Â»</a>\n",
       "<a class=\"link-block__link\" href=\"http://publication.pravo.gov.ru/Document/View/0001202305050031\">8. ÐÐ¾ÑÑÐ°Ð½Ð¾Ð²Ð»ÐµÐ½Ð¸Ðµ ÐÑÐ°Ð²Ð¸ÑÐµÐ»ÑÑÑÐ²Ð° Ð Ð¾ÑÑÐ¸Ð¹ÑÐºÐ¾Ð¹ Ð¤ÐµÐ´ÐµÑÐ°ÑÐ¸Ð¸ Ð¾Ñ 04.05.2023 â 694 Â«ÐÐ± ÑÑÐ²ÐµÑÐ¶Ð´ÐµÐ½Ð¸Ð¸ ÑÐ¸Ð¿Ð¾Ð²ÑÑ\n",
       " ÑÑÐ»Ð¾Ð²Ð¸Ð¹ Ð³Ð¾ÑÑÐ´Ð°ÑÑÑÐ²ÐµÐ½Ð½ÑÑ\n",
       " ÐºÐ¾Ð½ÑÑÐ°ÐºÑÐ¾Ð² Ð½Ð° Ð¾ÐºÐ°Ð·Ð°Ð½Ð¸Ðµ ÑÑÐ»ÑÐ³ Ð¿Ð¾ Ñ\n",
       "ÑÐ°Ð½ÐµÐ½Ð¸Ñ, ÑÐ½Ð¸ÑÑÐ¾Ð¶ÐµÐ½Ð¸Ñ, ÑÐºÑÐ¿ÐµÑÑÐ¸Ð·Ðµ, Ð¾ÑÐµÐ½ÐºÐµ ÑÑÐ½Ð¾ÑÐ½Ð¾Ð¹ ÑÑÐ¾Ð¸Ð¼Ð¾ÑÑÐ¸ Ð¸Ð¼ÑÑÐµÑÑÐ²Ð°, Ð¾Ð±ÑÐ°ÑÐµÐ½Ð½Ð¾Ð³Ð¾ Ð² ÑÐ¾Ð±ÑÑÐ²ÐµÐ½Ð½Ð¾ÑÑÑ Ð³Ð¾ÑÑÐ´Ð°ÑÑÑÐ²Ð°Â»</a>\n",
       "<a class=\"link-block__link\" href=\"http://publication.pravo.gov.ru/Document/View/0001202305150021?index=1\">9. Ð Ð°ÑÐ¿Ð¾ÑÑÐ¶ÐµÐ½Ð¸Ðµ ÐÑÐ°Ð²Ð¸ÑÐµÐ»ÑÑÑÐ²Ð° Ð Ð¾ÑÑÐ¸Ð¹ÑÐºÐ¾Ð¹ Ð¤ÐµÐ´ÐµÑÐ°ÑÐ¸Ð¸ Ð¾Ñ 12.05.2023 â 1217-Ñ Â«Ð Ð²Ð½ÐµÑÐµÐ½Ð¸Ð¸ Ð¸Ð·Ð¼ÐµÐ½ÐµÐ½Ð¸Ð¹ Ð² ÑÐ°ÑÐ¿Ð¾ÑÑÐ¶ÐµÐ½Ð¸Ðµ ÐÑÐ°Ð²Ð¸ÑÐµÐ»ÑÑÑÐ²Ð° Ð Ð¤ Ð¾Ñ 08.12.2021 N 3500-ÑÂ»</a>\n",
       "<a class=\"link-block__link\" href=\"http://publication.pravo.gov.ru/Document/View/0001202305150020\">10. ÐÐ¾ÑÑÐ°Ð½Ð¾Ð²Ð»ÐµÐ½Ð¸Ðµ ÐÑÐ°Ð²Ð¸ÑÐµÐ»ÑÑÑÐ²Ð° Ð Ð¾ÑÑÐ¸Ð¹ÑÐºÐ¾Ð¹ Ð¤ÐµÐ´ÐµÑÐ°ÑÐ¸Ð¸ Ð¾Ñ 06.05.2023 â 717 Â«ÐÐ± ÑÑÐ²ÐµÑÐ¶Ð´ÐµÐ½Ð¸Ð¸ ÐÐ¾Ð»Ð¾Ð¶ÐµÐ½Ð¸Ñ Ð¾ Ð¿Ð¾ÑÑÐ´ÐºÐµ ÑÐºÑÐ¿ÐµÑÑÐ½Ð¾Ð³Ð¾ ÑÐ¾Ð¿ÑÐ¾Ð²Ð¾Ð¶Ð´ÐµÐ½Ð¸Ñ ÑÐµÐ·ÑÐ»ÑÑÐ°ÑÐ¾Ð² Ð¸Ð½Ð¶ÐµÐ½ÐµÑÐ½ÑÑ\n",
       " Ð¸Ð·ÑÑÐºÐ°Ð½Ð¸Ð¹ Ð¸ (Ð¸Ð»Ð¸) ÑÐ°Ð·Ð´ÐµÐ»Ð¾Ð² Ð¿ÑÐ¾ÐµÐºÑÐ½Ð¾Ð¹ Ð´Ð¾ÐºÑÐ¼ÐµÐ½ÑÐ°ÑÐ¸Ð¸ Ð¾Ð±ÑÐµÐºÑÐ° ÐºÐ°Ð¿Ð¸ÑÐ°Ð»ÑÐ½Ð¾Ð³Ð¾ ÑÑÑÐ¾Ð¸ÑÐµÐ»ÑÑÑÐ²Ð°, Ð²Ð½ÐµÑÐµÐ½Ð¸Ð¸ Ð¸Ð·Ð¼ÐµÐ½ÐµÐ½Ð¸Ð¹ Ð² Ð½ÐµÐºÐ¾ÑÐ¾ÑÑÐµ Ð°ÐºÑÑ ÐÑÐ°Ð²Ð¸ÑÐµÐ»ÑÑÑÐ²Ð° Ð Ð¾ÑÑÐ¸Ð¹ÑÐºÐ¾Ð¹ Ð¤ÐµÐ´ÐµÑÐ°ÑÐ¸Ð¸ Ð¸ Ð¿ÑÐ¸Ð·Ð½Ð°Ð½Ð¸Ð¸ ÑÑÑÐ°ÑÐ¸Ð²ÑÐ¸Ð¼Ð¸ ÑÐ¸Ð»Ñ Ð¾ÑÐ´ÐµÐ»ÑÐ½ÑÑ\n",
       " Ð¿Ð¾Ð»Ð¾Ð¶ÐµÐ½Ð¸Ð¹ Ð½ÐµÐºÐ¾ÑÐ¾ÑÑÑ\n",
       " Ð°ÐºÑÐ¾Ð² ÐÑÐ°Ð²Ð¸ÑÐµÐ»ÑÑÑÐ²Ð° Ð Ð¾ÑÑÐ¸Ð¹ÑÐºÐ¾Ð¹ Ð¤ÐµÐ´ÐµÑÐ°ÑÐ¸Ð¸Â»</a>\n",
       "<a class=\"link-block__link\" href=\"http://publication.pravo.gov.ru/Document/View/0001202305190020\">11. ÐÐ¾ÑÑÐ°Ð½Ð¾Ð²Ð»ÐµÐ½Ð¸Ðµ ÐÑÐ°Ð²Ð¸ÑÐµÐ»ÑÑÑÐ²Ð° Ð Ð¾ÑÑÐ¸Ð¹ÑÐºÐ¾Ð¹ Ð¤ÐµÐ´ÐµÑÐ°ÑÐ¸Ð¸ Ð¾Ñ 16.05.2023 â 753 Â«ÐÐ± ÑÑÐ²ÐµÑÐ¶Ð´ÐµÐ½Ð¸Ð¸ Ð¿ÐµÑÐµÑÐ½Ñ ÐºÑÐ¸ÑÐµÑÐ¸ÐµÐ², Ð¿ÑÐµÐ´ÑÑÐ²Ð»ÑÐµÐ¼ÑÑ\n",
       " Ðº ÐµÐ´Ð¸Ð½ÑÑÐ²ÐµÐ½Ð½ÑÐ¼ Ð¿Ð¾ÑÑÐ°Ð²ÑÐ¸ÐºÐ°Ð¼ (Ð¿Ð¾Ð´ÑÑÐ´ÑÐ¸ÐºÐ°Ð¼, Ð¸ÑÐ¿Ð¾Ð»Ð½Ð¸ÑÐµÐ»ÑÐ¼) Ð¿ÑÐ¸ Ð¾ÑÑÑÐµÑÑÐ²Ð»ÐµÐ½Ð¸Ð¸ Ð·Ð°ÐºÑÐ¿Ð¾Ðº Ð»ÐµÐºÐ°ÑÑÑÐ²ÐµÐ½Ð½ÑÑ\n",
       " Ð¿ÑÐµÐ¿Ð°ÑÐ°ÑÐ¾Ð² Ð´Ð»Ñ Ð¼ÐµÐ´Ð¸ÑÐ¸Ð½ÑÐºÐ¾Ð³Ð¾ Ð¿ÑÐ¸Ð¼ÐµÐ½ÐµÐ½Ð¸Ñ, Ð¸ Ð¿ÐµÑÐµÑÐ½Ñ ÐºÑÐ¸ÑÐµÑÐ¸ÐµÐ² Ð¾ÑÐ±Ð¾ÑÐ° Ð»ÐµÐºÐ°ÑÑÑÐ²ÐµÐ½Ð½ÑÑ\n",
       " Ð¿ÑÐµÐ¿Ð°ÑÐ°ÑÐ¾Ð² Ð´Ð»Ñ Ð¼ÐµÐ´Ð¸ÑÐ¸Ð½ÑÐºÐ¾Ð³Ð¾ Ð¿ÑÐ¸Ð¼ÐµÐ½ÐµÐ½Ð¸Ñ Ð¿ÑÐ¸ Ð¾ÑÑÑÐµÑÑÐ²Ð»ÐµÐ½Ð¸Ð¸ Ð·Ð°ÐºÑÐ¿Ð¾Ðº Ñ ÐµÐ´Ð¸Ð½ÑÑÐ²ÐµÐ½Ð½Ð¾Ð³Ð¾ Ð¿Ð¾ÑÑÐ°Ð²ÑÐ¸ÐºÐ° (Ð¿Ð¾Ð´ÑÑÐ´ÑÐ¸ÐºÐ°, Ð¸ÑÐ¿Ð¾Ð»Ð½Ð¸ÑÐµÐ»Ñ)Â»</a>\n",
       "<a class=\"link-block__link\" href=\"http://publication.pravo.gov.ru/document/0001202305260023?index=1\">12. ÐÐ¾ÑÑÐ°Ð½Ð¾Ð²Ð»ÐµÐ½Ð¸Ðµ ÐÑÐ°Ð²Ð¸ÑÐµÐ»ÑÑÑÐ²Ð° Ð Ð¾ÑÑÐ¸Ð¹ÑÐºÐ¾Ð¹ Ð¤ÐµÐ´ÐµÑÐ°ÑÐ¸Ð¸ Ð¾Ñ 20.05.2023 â 800 Â«Ð Ð²Ð½ÐµÑÐµÐ½Ð¸Ð¸ Ð¸Ð·Ð¼ÐµÐ½ÐµÐ½Ð¸Ð¹ Ð² ÐÐ¾Ð»Ð¾Ð¶ÐµÐ½Ð¸Ðµ <nobr> Ð¾ Ð³Ð¾ÑÑÐ´Ð°ÑÑÑÐ²ÐµÐ½Ð½Ð¾Ð¼</nobr> ÑÐµÐ³ÑÐ»Ð¸ÑÐ¾Ð²Ð°Ð½Ð¸Ð¸ ÑÐµÐ½ Ð½Ð° Ð¿ÑÐ¾Ð´ÑÐºÑÐ¸Ñ, Ð¿Ð¾ÑÑÐ°Ð²Ð»ÑÐµÐ¼ÑÑ Ð¿Ð¾ Ð³Ð¾ÑÑÐ´Ð°ÑÑÑÐ²ÐµÐ½Ð½Ð¾Ð¼Ñ Ð¾Ð±Ð¾ÑÐ¾Ð½Ð½Ð¾Ð¼Ñ Ð·Ð°ÐºÐ°Ð·ÑÂ»</a>\n",
       "<a class=\"link-block__link\" href=\"http://publication.pravo.gov.ru/document/0001202305290013\">13. Ð¤ÐµÐ´ÐµÑÐ°Ð»ÑÐ½ÑÐ¹ Ð·Ð°ÐºÐ¾Ð½ Ð¾Ñ 29.05.2023 â 185-Ð¤Ð Â«Ð Ð²Ð½ÐµÑÐµÐ½Ð¸Ð¸ Ð¸Ð·Ð¼ÐµÐ½ÐµÐ½Ð¸Ð¹ Ð² Ð¾ÑÐ´ÐµÐ»ÑÐ½ÑÐµ Ð·Ð°ÐºÐ¾Ð½Ð¾Ð´Ð°ÑÐµÐ»ÑÐ½ÑÐµ Ð°ÐºÑÑ Ð Ð¾ÑÑÐ¸Ð¹ÑÐºÐ¾Ð¹ Ð¤ÐµÐ´ÐµÑÐ°ÑÐ¸Ð¸Â»</a>\n",
       "<a class=\"link-block__link\" href=\"http://publication.pravo.gov.ru/document/0001202306010019\">14. ÐÑÐ¸ÐºÐ°Ð· ÐÐ¸Ð½Ð¸ÑÑÐµÑÑÑÐ²Ð° ÑÑÑÐ¾Ð¸ÑÐµÐ»ÑÑÑÐ²Ð° Ð¸ Ð¶Ð¸Ð»Ð¸ÑÐ½Ð¾-ÐºÐ¾Ð¼Ð¼ÑÐ½Ð°Ð»ÑÐ½Ð¾Ð³Ð¾ Ñ\n",
       "Ð¾Ð·ÑÐ¹ÑÑÐ²Ð° Ð Ð¾ÑÑÐ¸Ð¹ÑÐºÐ¾Ð¹ Ð¤ÐµÐ´ÐµÑÐ°ÑÐ¸Ð¸ <nobr> Ð¾Ñ 16.05.2023 â 344/Ð¿Ñ</nobr> Â«ÐÐ± ÑÑÐ²ÐµÑÐ¶Ð´ÐµÐ½Ð¸Ð¸ ÑÐ¾ÑÑÐ°Ð²Ð° Ð¸ Ð¿Ð¾ÑÑÐ´ÐºÐ° Ð²ÐµÐ´ÐµÐ½Ð¸Ñ Ð¸ÑÐ¿Ð¾Ð»Ð½Ð¸ÑÐµÐ»ÑÐ½Ð¾Ð¹ Ð´Ð¾ÐºÑÐ¼ÐµÐ½ÑÐ°ÑÐ¸Ð¸ Ð¿ÑÐ¸ ÑÑÑÐ¾Ð¸ÑÐµÐ»ÑÑÑÐ²Ðµ, ÑÐµÐºÐ¾Ð½ÑÑÑÑÐºÑÐ¸Ð¸, ÐºÐ°Ð¿Ð¸ÑÐ°Ð»ÑÐ½Ð¾Ð¼ ÑÐµÐ¼Ð¾Ð½ÑÐµ Ð¾Ð±ÑÐµÐºÑÐ¾Ð² ÐºÐ°Ð¿Ð¸ÑÐ°Ð»ÑÐ½Ð¾Ð³Ð¾ ÑÑÑÐ¾Ð¸ÑÐµÐ»ÑÑÑÐ²Ð°Â»</a>\n",
       "<a class=\"link-block__link\" href=\"http://publication.pravo.gov.ru/document/0001202306010026\">15. ÐÐ¾ÑÑÐ°Ð½Ð¾Ð²Ð»ÐµÐ½Ð¸Ðµ ÐÑÐ°Ð²Ð¸ÑÐµÐ»ÑÑÑÐ²Ð° Ð Ð¾ÑÑÐ¸Ð¹ÑÐºÐ¾Ð¹ Ð¤ÐµÐ´ÐµÑÐ°ÑÐ¸Ð¸ Ð¾Ñ 27.05.2023 â 845 Â«Ð Ð²Ð½ÐµÑÐµÐ½Ð¸Ð¸ Ð¸Ð·Ð¼ÐµÐ½ÐµÐ½Ð¸Ð¹ Ð² Ð¿ÑÐ¸Ð»Ð¾Ð¶ÐµÐ½Ð¸Ðµ <nobr> Ðº Ð¿Ð¾ÑÑÐ°Ð½Ð¾Ð²Ð»ÐµÐ½Ð¸Ñ</nobr> ÐÑÐ°Ð²Ð¸ÑÐµÐ»ÑÑÑÐ²Ð° Ð Ð¾ÑÑÐ¸Ð¹ÑÐºÐ¾Ð¹ Ð¤ÐµÐ´ÐµÑÐ°ÑÐ¸Ð¸ Ð¾Ñ 17 Ð¸ÑÐ»Ñ 2015 Ð³. â 719Â»</a>\n",
       "<a class=\"link-block__link\" href=\"http://publication.pravo.gov.ru/document/0001202306010074?index=1\">16. ÐÐ¾ÑÑÐ°Ð½Ð¾Ð²Ð»ÐµÐ½Ð¸Ðµ ÐÑÐ°Ð²Ð¸ÑÐµÐ»ÑÑÑÐ²Ð° Ð Ð¾ÑÑÐ¸Ð¹ÑÐºÐ¾Ð¹ Ð¤ÐµÐ´ÐµÑÐ°ÑÐ¸Ð¸ Ð¾Ñ 31.05.2023 â 889 Â«Ð Ð¿ÑÐ¸Ð·Ð½Ð°Ð½Ð¸Ð¸ ÑÑÑÐ°ÑÐ¸Ð²ÑÐ¸Ð¼Ð¸ ÑÐ¸Ð»Ñ Ð¾ÑÐ´ÐµÐ»ÑÐ½ÑÑ\n",
       " Ð¿Ð¾Ð»Ð¾Ð¶ÐµÐ½Ð¸Ð¹ Ð½ÐµÐºÐ¾ÑÐ¾ÑÑÑ\n",
       " Ð°ÐºÑÐ¾Ð² ÐÑÐ°Ð²Ð¸ÑÐµÐ»ÑÑÑÐ²Ð° Ð Ð¾ÑÑÐ¸Ð¹ÑÐºÐ¾Ð¹ Ð¤ÐµÐ´ÐµÑÐ°ÑÐ¸Ð¸Â»</a>\n",
       "<a class=\"link-block__link\" href=\"http://publication.pravo.gov.ru/document/0001202306010069\">17. ÐÐ¾ÑÑÐ°Ð½Ð¾Ð²Ð»ÐµÐ½Ð¸Ðµ ÐÑÐ°Ð²Ð¸ÑÐµÐ»ÑÑÑÐ²Ð° Ð Ð¾ÑÑÐ¸Ð¹ÑÐºÐ¾Ð¹ Ð¤ÐµÐ´ÐµÑÐ°ÑÐ¸Ð¸ Ð¾Ñ 31.05.2023 â 890 Â«Ð Ð²Ð½ÐµÑÐµÐ½Ð¸Ð¸ Ð¸Ð·Ð¼ÐµÐ½ÐµÐ½Ð¸Ð¹ Ð² Ð¿Ð¾ÑÑÐ°Ð½Ð¾Ð²Ð»ÐµÐ½Ð¸Ðµ ÐÑÐ°Ð²Ð¸ÑÐµÐ»ÑÑÑÐ²Ð° Ð Ð¾ÑÑÐ¸Ð¹ÑÐºÐ¾Ð¹ Ð¤ÐµÐ´ÐµÑÐ°ÑÐ¸Ð¸ Ð¾Ñ 18 Ð°Ð²Ð³ÑÑÑÐ° 2010 Ð³. â 636Â»</a>\n",
       "<a class=\"link-block__link\" href=\"http://publication.pravo.gov.ru/document/0001202306020032?index=1\">18. ÐÑÐ¸ÐºÐ°Ð· ÐÐ¸Ð½Ð¸ÑÑÑÐ° Ð¾Ð±Ð¾ÑÐ¾Ð½Ñ Ð Ð¾ÑÑÐ¸Ð¹ÑÐºÐ¾Ð¹ Ð¤ÐµÐ´ÐµÑÐ°ÑÐ¸Ð¸ Ð¾Ñ 19.04.2023 â 224 Â«ÐÐ± ÑÑÑÐ°Ð½Ð¾Ð²Ð»ÐµÐ½Ð¸Ð¸ ÑÐ¾ÑÐ¼Ñ Ð·Ð°ÐºÐ»ÑÑÐµÐ½Ð¸Ñ Ð²Ð¾ÐµÐ½Ð½Ð¾Ð³Ð¾ Ð¿ÑÐµÐ´ÑÑÐ°Ð²Ð¸ÑÐµÐ»ÑÑÑÐ²Ð° ÐÐ¸Ð½Ð¸ÑÑÐµÑÑÑÐ²Ð° Ð¾Ð±Ð¾ÑÐ¾Ð½Ñ Ð Ð¾ÑÑÐ¸Ð¹ÑÐºÐ¾Ð¹ Ð¤ÐµÐ´ÐµÑÐ°ÑÐ¸Ð¸ Ð¾ ÑÐµÐ½Ðµ Ð½Ð° Ð¿ÑÐ¾Ð´ÑÐºÑÐ¸Ñ, Ð¿Ð¾ÑÑÐ°Ð²Ð»ÑÐµÐ¼ÑÑ <nobr>Ð¿Ð¾ Ð³Ð¾ÑÑÐ´Ð°ÑÑÑÐ²ÐµÐ½Ð½Ð¾Ð¼Ñ Ð¾Ð±Ð¾ÑÐ¾Ð½Ð½Ð¾Ð¼Ñ Ð·Ð°ÐºÐ°Ð·ÑÂ»</nobr></a>\n",
       "<a class=\"link-block__link\" href=\"http://publication.pravo.gov.ru/document/0001202306130024\">19. ÐÑÐ¸ÐºÐ°Ð· Ð¤ÐµÐ´ÐµÑÐ°Ð»ÑÐ½Ð¾Ð¹ Ð°Ð½ÑÐ¸Ð¼Ð¾Ð½Ð¾Ð¿Ð¾Ð»ÑÐ½Ð¾Ð¹ ÑÐ»ÑÐ¶Ð±Ñ Ð¾Ñ 11.05.2023 â 272/23 Â«ÐÐ± ÑÑÐ²ÐµÑÐ¶Ð´ÐµÐ½Ð¸Ð¸ ÑÐ¾ÑÐ¼Ñ Ð¾ÑÐ¾Ð±Ð¾Ð³Ð¾ Ð¼Ð½ÐµÐ½Ð¸Ñ<nobr> Ð½Ð° Ð·Ð°ÐºÐ»ÑÑÐµÐ½Ð¸Ðµ Ð³Ð¾ÑÑÐ´Ð°ÑÑÑÐ²ÐµÐ½Ð½Ð¾Ð³Ð¾</nobr> Ð·Ð°ÐºÐ°Ð·ÑÐ¸ÐºÐ° Ð¾ ÑÐµÐ½Ðµ Ð½Ð° Ð¿ÑÐ¾Ð´ÑÐºÑÐ¸Ñ, Ð¿Ð¾ÑÑÐ°Ð²Ð»ÑÐµÐ¼ÑÑ Ð¿Ð¾ Ð³Ð¾ÑÑÐ´Ð°ÑÑÑÐ²ÐµÐ½Ð½Ð¾Ð¼Ñ Ð¾Ð±Ð¾ÑÐ¾Ð½Ð½Ð¾Ð¼Ñ Ð·Ð°ÐºÐ°Ð·ÑÂ»</a>\n",
       "<a class=\"link-block__link\" href=\"http://publication.pravo.gov.ru/document/0001202306260013\">20. ÐÑÐ¸ÐºÐ°Ð· ÐÐ¸Ð½Ð¸ÑÑÐµÑÑÑÐ²Ð° ÑÐ¸Ð½Ð°Ð½ÑÐ¾Ð² Ð Ð¾ÑÑÐ¸Ð¹ÑÐºÐ¾Ð¹ Ð¤ÐµÐ´ÐµÑÐ°ÑÐ¸Ð¸ Ð¾Ñ 03.05.2023 â 60Ð½ Â«Ð Ð²Ð½ÐµÑÐµÐ½Ð¸Ð¸ Ð¸Ð·Ð¼ÐµÐ½ÐµÐ½Ð¸Ð¹ Ð² ÐÐ¾ÑÑÐ´Ð¾Ðº Ð¿ÑÐ¾Ð²ÐµÐ´ÐµÐ½Ð¸Ñ Ð¤ÐµÐ´ÐµÑÐ°Ð»ÑÐ½ÑÐ¼ ÐºÐ°Ð·Ð½Ð°ÑÐµÐ¹ÑÑÐ²Ð¾Ð¼ Ð¿ÑÐ¾Ð²ÐµÑÐ¾Ðº Ð¾ÑÑÑÐµÑÑÐ²Ð»ÐµÐ½Ð¸Ñ Ð¾ÑÐ³Ð°Ð½Ð°Ð¼Ð¸ Ð³Ð¾ÑÑÐ´Ð°ÑÑÑÐ²ÐµÐ½Ð½Ð¾Ð³Ð¾ (Ð¼ÑÐ½Ð¸ÑÐ¸Ð¿Ð°Ð»ÑÐ½Ð¾Ð³Ð¾) ÑÐ¸Ð½Ð°Ð½ÑÐ¾Ð²Ð¾Ð³Ð¾ ÐºÐ¾Ð½ÑÑÐ¾Ð»Ñ, ÑÐ²Ð»ÑÑÑÐ¸Ð¼Ð¸ÑÑ Ð¾ÑÐ³Ð°Ð½Ð°Ð¼Ð¸ (Ð´Ð¾Ð»Ð¶Ð½Ð¾ÑÑÐ½ÑÐ¼Ð¸ Ð»Ð¸ÑÐ°Ð¼Ð¸) Ð¸ÑÐ¿Ð¾Ð»Ð½Ð¸ÑÐµÐ»ÑÐ½Ð¾Ð¹ Ð²Ð»Ð°ÑÑÐ¸ ÑÑÐ±ÑÐµÐºÑÐ¾Ð² Ð Ð¾ÑÑÐ¸Ð¹ÑÐºÐ¾Ð¹ Ð¤ÐµÐ´ÐµÑÐ°ÑÐ¸Ð¸ (Ð¼ÐµÑÑÐ½ÑÑ\n",
       " Ð°Ð´Ð¼Ð¸Ð½Ð¸ÑÑÑÐ°ÑÐ¸Ð¹), ÐºÐ¾Ð½ÑÑÐ¾Ð»Ñ Ð·Ð° ÑÐ¾Ð±Ð»ÑÐ´ÐµÐ½Ð¸ÐµÐ¼ Ð¤ÐµÐ´ÐµÑÐ°Ð»ÑÐ½Ð¾Ð³Ð¾ Ð·Ð°ÐºÐ¾Ð½Ð° Ð¾Ñ 5 Ð°Ð¿ÑÐµÐ»Ñ 2013 Ð³. â 44-Ð¤Ð <nobr>Â«Ð ÐºÐ¾Ð½ÑÑÐ°ÐºÑÐ½Ð¾Ð¹</nobr> ÑÐ¸ÑÑÐµÐ¼Ðµ Ð² ÑÑÐµÑÐµ Ð·Ð°ÐºÑÐ¿Ð¾Ðº ÑÐ¾Ð²Ð°ÑÐ¾Ð², ÑÐ°Ð±Ð¾Ñ, ÑÑÐ»ÑÐ³ Ð´Ð»Ñ Ð¾Ð±ÐµÑÐ¿ÐµÑÐµÐ½Ð¸Ñ Ð³Ð¾ÑÑÐ´Ð°ÑÑÑÐ²ÐµÐ½Ð½ÑÑ\n",
       " Ð¸ Ð¼ÑÐ½Ð¸ÑÐ¸Ð¿Ð°Ð»ÑÐ½ÑÑ\n",
       " Ð½ÑÐ¶Ð´Â», ÑÑÐ²ÐµÑÐ¶Ð´ÐµÐ½Ð½ÑÐ¹ Ð¿ÑÐ¸ÐºÐ°Ð·Ð¾Ð¼ ÐÐ¸Ð½Ð¸ÑÑÐµÑÑÑÐ²Ð° ÑÐ¸Ð½Ð°Ð½ÑÐ¾Ð² Ð Ð¾ÑÑÐ¸Ð¹ÑÐºÐ¾Ð¹ Ð¤ÐµÐ´ÐµÑÐ°ÑÐ¸Ð¸ Ð¾Ñ 29 Ð¾ÐºÑÑÐ±ÑÑ 2021 Ð³. â 167Ð½Â»</a>\n",
       "<a class=\"link-block__link\" href=\"http://publication.pravo.gov.ru/document/0001202306260032?index=1\">21. ÐÐ¾ÑÑÐ°Ð½Ð¾Ð²Ð»ÐµÐ½Ð¸Ðµ ÐÑÐ°Ð²Ð¸ÑÐµÐ»ÑÑÑÐ²Ð° Ð Ð¾ÑÑÐ¸Ð¹ÑÐºÐ¾Ð¹ Ð¤ÐµÐ´ÐµÑÐ°ÑÐ¸Ð¸ Ð¾Ñ 14.06.2023 â 980 Â«Ð Ð²Ð½ÐµÑÐµÐ½Ð¸Ð¸ Ð¸Ð·Ð¼ÐµÐ½ÐµÐ½Ð¸Ð¹ Ð² Ð½ÐµÐºÐ¾ÑÐ¾ÑÑÐµ Ð°ÐºÑÑ ÐÑÐ°Ð²Ð¸ÑÐµÐ»ÑÑÑÐ²Ð° Ð Ð¾ÑÑÐ¸Ð¹ÑÐºÐ¾Ð¹ Ð¤ÐµÐ´ÐµÑÐ°ÑÐ¸Ð¸Â»</a>\n",
       "<!--<a href=\"\" class=\"link-block__link\">23. </a>-->\n",
       "</div>\n",
       "</div>\n",
       "</div>\n",
       "<div class=\"col-5 col-lg-3\">\n",
       "<div class=\"hotline\">\n",
       "<div class=\"hotline__title\">\n",
       "<!-- Ð Ð°Ð·Ð¼ÐµÑÐµÐ½Ð¸Ðµ QR ÐºÐ¾Ð´Ð° -->\n",
       "<!-- <h3 class=\"heading-h3\">ÐÐ¤ÐÐ¦ÐÐÐÐ¬ÐÐ«Ð ÐÐÐÐÐ &#171;ÐÐÐ¡ ÐÐÐ¡ ÐÐÐÐ£ÐÐÐ&#187;</h3>\n",
       "\t\t<div class=\"qr_space\"><img src=\"/eis_qr.png\" width=\"60%\"></div> \n",
       "\t\t<div class=\"qr_space\"><a href=https://t.me/gis_eiszakupki>https://t.me/gis_eiszakupki</a></div> -->\n",
       "</div>\n",
       "<div class=\"hotline__title\">\n",
       "<!--  ÐÐ½ÑÐ¾ÑÐ¼Ð°ÑÐ¸Ñ Ð¿Ð¾ Ð¢Ð ÐÐÐ¡ Ð¸ Ð¸Ð½ÑÐ¾ÑÐ¼Ð°ÑÐ¸Ñ Ð¾ Ð¿Ð»Ð¾ÑÐ°Ð´ÐºÐ°Ñ\n",
       " -->\n",
       "<h3 class=\"heading-h3\">Ð¡Ð»ÑÐ¶Ð±Ð° ÑÐµÑ\n",
       "Ð½Ð¸ÑÐµÑÐºÐ¾Ð¹ Ð¿Ð¾Ð´Ð´ÐµÑÐ¶ÐºÐ¸ ÐÐÐ¡ ÑÐ°Ð±Ð¾ÑÐ°ÐµÑ Ð² ÐºÑÑÐ³Ð»Ð¾ÑÑÑÐ¾ÑÐ½Ð¾Ð¼ ÑÐµÐ¶Ð¸Ð¼Ðµ</h3>\n",
       "</div>\n",
       "<div class=\"hotline-phones\">\n",
       "<div class=\"phones-title\"> ÐÐ¾Ð½ÑÐ°ÐºÑÐ½ÑÐµ ÑÐµÐ»ÐµÑÐ¾Ð½Ñ ÑÐ»ÑÐ¶Ð±Ñ ÑÐµÑ\n",
       "Ð½Ð¸ÑÐµÑÐºÐ¾Ð¹ Ð¿Ð¾Ð´Ð´ÐµÑÐ¶ÐºÐ¸ ÐÐÐ¡:</div>\n",
       "<div class=\"phones-links\">\n",
       "<a class=\"phones-links__item\" href=\"tel:88006009089\">8 (800) 600-90-89</a>\n",
       "<a class=\"phones-links__item\" href=\"tel:84957392583\">8 (495) 739-25-83</a>\n",
       "</div>\n",
       "</div>\n",
       "<div class=\"hotline-phones\">\n",
       "<div class=\"phones-title\">ÐÐ¾Ð½ÑÐ°ÐºÑÐ½ÑÐµ ÑÐµÐ»ÐµÑÐ¾Ð½Ñ Ð¾Ð¿ÐµÑÐ°ÑÐ¾ÑÐ¾Ð² ÑÐ»ÐµÐºÑÑÐ¾Ð½Ð½ÑÑ\n",
       " Ð¿Ð»Ð¾ÑÐ°Ð´Ð¾Ðº:</div>\n",
       "<div class=\"phones-links\">\n",
       "<span class=\"phones-links__title\">ÐÐ Â«ÐÐ³ÐµÐ½ÑÑÑÐ²Ð¾ Ð¿Ð¾ Ð³Ð¾ÑÑÐ´Ð°ÑÑÑÐ²ÐµÐ½Ð½Ð¾Ð¼Ñ Ð·Ð°ÐºÐ°Ð·Ñ Ð ÐµÑÐ¿ÑÐ±Ð»Ð¸ÐºÐ¸ Ð¢Ð°ÑÐ°ÑÑÑÐ°Ð½Â»</span>\n",
       "<a class=\"phones-links__item\" href=\"tel:88432122425\">8 (843) 212-24-25</a>\n",
       "<a class=\"phones-links__item\" href=\"tel:88007009873\">8 (800) 700-98-73</a>\n",
       "</div>\n",
       "<div class=\"phones-links\">\n",
       "<span class=\"phones-links__title\">ÐÐ Â«ÐÐ´Ð¸Ð½Ð°Ñ ÑÐ»ÐµÐºÑÑÐ¾Ð½Ð½Ð°Ñ ÑÐ¾ÑÐ³Ð¾Ð²Ð°Ñ Ð¿Ð»Ð¾ÑÐ°Ð´ÐºÐ°Â»</span>\n",
       "<a class=\"phones-links__item\" href=\"tel:84952761626\">8 (495) 276-16-26</a>\n",
       "</div>\n",
       "<div class=\"phones-links\">\n",
       "<span class=\"phones-links__title\">ÐÐ Â«Ð Ð¾ÑÑÐ¸Ð¹ÑÐºÐ¸Ð¹ Ð°ÑÐºÑÐ¸Ð¾Ð½Ð½ÑÐ¹ Ð´Ð¾Ð¼Â»</span>\n",
       "<a class=\"phones-links__item\" href=\"tel:88007775757\">8 (800) 777-57-57</a>\n",
       "</div>\n",
       "<div class=\"phones-links\">\n",
       "<span class=\"phones-links__title\">ÐÐ Â«Ð­Ð»ÐµÐºÑÑÐ¾Ð½Ð½ÑÐµ ÑÐ¾ÑÐ³Ð¾Ð²ÑÐµ ÑÐ¸ÑÑÐµÐ¼ÑÂ»</span>\n",
       "<a class=\"phones-links__item\" href=\"tel:88007071507\">8 (800) 707-15-07</a>\n",
       "<a class=\"phones-links__item\" href=\"tel:84951389678\">8 (495) 138-96-78</a>\n",
       "<a class=\"phones-links__item\" href=\"tel:84955140204\">8 (495) 514-02-04</a>\n",
       "</div>\n",
       "<div class=\"phones-links\">\n",
       "<span class=\"phones-links__title\">ÐÐ Â«Ð¢Ð­Ð-Ð¢Ð¾ÑÐ³Â»</span>\n",
       "<a class=\"phones-links__item\" href=\"tel:84957348118\">8 (495) 734-81-18</a>\n",
       "<a class=\"phones-links__item\" href=\"tel:84997058118\">8 (499) 705-81-18</a>\n",
       "</div>\n",
       "<div class=\"phones-links\">\n",
       "<span class=\"phones-links__title\">ÐÐ Â«Ð¡Ð±ÐµÑÐ±Ð°Ð½Ðº-ÐÐ²ÑÐ¾Ð¼Ð°ÑÐ¸Ð·Ð¸ÑÐ¾Ð²Ð°Ð½Ð½Ð°Ñ ÑÐ¸ÑÑÐµÐ¼Ð° ÑÐ¾ÑÐ³Ð¾Ð²Â»</span>\n",
       "<a class=\"phones-links__item\" href=\"tel:84957872997\">8 (495) 787-29-97(99)</a>\n",
       "<a class=\"phones-links__item\" href=\"tel:84955395921\">8 (495) 539-59-21</a>\n",
       "</div>\n",
       "<div class=\"phones-links\">\n",
       "<span class=\"phones-links__title\">ÐÐÐ Â«Ð Ð¢Ð¡-Ð¢ÐÐÐÐÐ Â»</span>\n",
       "<a class=\"phones-links__item\" href=\"tel:88007755800\">8 (800) 775-58-00</a>\n",
       "<a class=\"phones-links__item\" href=\"tel:84996535500\">8 (499) 653-55-00</a>\n",
       "<a class=\"phones-links__item\" href=\"tel:84996539900\">8 (499) 653-99-00</a>\n",
       "</div>\n",
       "<div class=\"phones-links\">\n",
       "<span class=\"phones-links__title\">ÐÐÐ Â«Ð­Ð»ÐµÐºÑÑÐ¾Ð½Ð½Ð°Ñ ÑÐ¾ÑÐ³Ð¾Ð²Ð°Ñ Ð¿Ð»Ð¾ÑÐ°Ð´ÐºÐ° ÐÐÐÂ»</span>\n",
       "<a class=\"phones-links__item\" href=\"tel:88001006622\">8 (800) 100-66-22</a>\n",
       "<a class=\"phones-links__item\" href=\"tel:84951500661\">8 (495) 150-06-61</a>\n",
       "</div>\n",
       "</div>\n",
       "<div class=\"hotline-phones\">\n",
       "<div class=\"phones-title\"> ÐÐ¾Ð½ÑÐ°ÐºÑÐ½ÑÐµ ÑÐµÐ»ÐµÑÐ¾Ð½Ñ ÑÐ»ÑÐ¶Ð±Ñ Ð¿Ð¾Ð´Ð´ÐµÑÐ¶ÐºÐ¸ Ð¿Ð¾ÑÑÐ°Ð»Ð° ÐÐ¡ÐÐ (Ð³Ð¾ÑÑÑÐ»ÑÐ³Ð¸): </div>\n",
       "<div class=\"phones-links\">\n",
       "<a class=\"phones-links__item\" href=\"tel:88001007010\">8 (800) 100-70-10</a>\n",
       "<a class=\"phones-links__item\" href=\"tel:84957274747\">8 (495) 727-47-47</a>\n",
       "<span class=\"phones-links__desc\">(Ð´Ð»Ñ Ð·Ð²Ð¾Ð½ÐºÐ¾Ð² Ð¸Ð·-Ð·Ð° Ð³ÑÐ°Ð½Ð¸ÑÑ)</span>\n",
       "<a class=\"phones-links__item\" href=\"tel:115\">115</a>\n",
       "<span class=\"phones-links__desc\">(Ð´Ð»Ñ Ð¼Ð¾Ð±Ð¸Ð»ÑÐ½ÑÑ\n",
       " ÑÐµÐ»ÐµÑÐ¾Ð½Ð¾Ð²)</span>\n",
       "</div>\n",
       "</div>\n",
       "<div class=\"hotline-phones\">\n",
       "<div class=\"phones-title\"> ÐÐ¾Ð½ÑÐ°ÐºÑÐ½ÑÐ¹ ÑÐµÐ»ÐµÑÐ¾Ð½ ÑÐ»ÑÐ¶Ð±Ñ Ð¿Ð¾Ð´Ð´ÐµÑÐ¶ÐºÐ¸ Ð¿Ð¾Ð´ÑÐ¸ÑÑÐµÐ¼Ñ Ð±ÑÐ´Ð¶ÐµÑÐ½Ð¾Ð³Ð¾ Ð¿Ð»Ð°Ð½Ð¸ÑÐ¾Ð²Ð°Ð½Ð¸Ñ ÐÐÐÐ¡ Â«Ð­Ð»ÐµÐºÑÑÐ¾Ð½Ð½ÑÐ¹ Ð±ÑÐ´Ð¶ÐµÑÂ»:</div>\n",
       "<div class=\"phones-links\">\n",
       "<span class=\"phones-links__title\">(Ð´Ð»Ñ Ð¿Ð¾Ð»ÑÑÐµÐ½Ð¸Ñ Ð¸Ð½ÑÐ¾ÑÐ¼Ð°ÑÐ¸Ð¸ Ð¾ Ð¿ÑÐ¾ÑÐµÐ´ÑÑÐµ ÑÐ¾ÑÐ¼Ð¸ÑÐ¾Ð²Ð°Ð½Ð¸Ñ Ð¿Ð»Ð°Ð½Ð°-Ð³ÑÐ°ÑÐ¸ÐºÐ° Ð·Ð°ÐºÑÐ¿Ð¾Ðº)</span>\n",
       "<a class=\"phones-links__item\" href=\"tel:88003500218\">8 (800) 350-02-18</a>\n",
       "</div>\n",
       "</div>\n",
       "<div class=\"phones-links\">\n",
       "<div class=\"phones-title\">ÐÐ¾Ð½ÑÐ°ÐºÑÐ½ÑÐµ Ð´Ð°Ð½Ð½ÑÐµ ÑÐ»ÑÐ¶Ð±Ñ Ð¿Ð¾Ð´Ð´ÐµÑÐ¶ÐºÐ¸ ÐÐÐ¡ Â«ÐÐµÐ·Ð°Ð²Ð¸ÑÐ¸Ð¼ÑÐ¹ ÑÐµÐ³Ð¸ÑÑÑÐ°ÑÐ¾ÑÂ»:</div>\n",
       "<a class=\"phones-links__item\" href=\"mailto:help-nr@zakupki.gov.ru\">help-nr@zakupki.gov.ru</a></div>\n",
       "</div>\n",
       "</div>\n",
       "</div>\n",
       "</div>\n",
       "</div>\n",
       "</div></body>\n",
       "</html>"
      ]
     },
     "execution_count": 20,
     "metadata": {},
     "output_type": "execute_result"
    }
   ],
   "source": [
    "soup"
   ]
  },
  {
   "cell_type": "code",
   "execution_count": 61,
   "id": "a001adf9",
   "metadata": {},
   "outputs": [],
   "source": [
    "def remove_bad_symbols(string: str) -> str:\n",
    "    string = re.sub(\"\\n|\\||\\xa0\", \"\", string.strip())\n",
    "    return \" \".join(string.split())"
   ]
  },
  {
   "attachments": {},
   "cell_type": "markdown",
   "id": "880fb3d1",
   "metadata": {},
   "source": [
    "## Информация о заказчике"
   ]
  },
  {
   "cell_type": "code",
   "execution_count": 62,
   "id": "99f9c885",
   "metadata": {},
   "outputs": [
    {
     "data": {
      "text/plain": [
       "'САНКТ-ПЕТЕРБУРГСКОЕ ГОСУДАРСТВЕННОЕ БЮДЖЕТНОЕ УЧРЕЖДЕНИЕ ЗДРАВООХРАНЕНИЯ \"ГОРОДСКАЯ ПОЛИКЛИНИКА №39\"'"
      ]
     },
     "execution_count": 62,
     "metadata": {},
     "output_type": "execute_result"
    }
   ],
   "source": [
    "# ПОЛНОЕ НАИМЕНОВАНИЕ ЗАКАЗЧИКА\n",
    "def find_full_name_customer(soup: BeautifulSoup) -> str:\n",
    "    try:\n",
    "        soup = soup.find(\"span\", string=\"Полное наименование заказчика\")\n",
    "        castomer = soup.parent.find(\"a\", target=\"_blank\")\n",
    "        castomer = castomer.get_text()\n",
    "        return remove_bad_symbols(castomer)\n",
    "    except AttributeError:\n",
    "        # логии\n",
    "        return None\n",
    "\n",
    "find_full_name_customer(soup)"
   ]
  },
  {
   "cell_type": "code",
   "execution_count": 63,
   "id": "84c7c151",
   "metadata": {},
   "outputs": [
    {
     "data": {
      "text/plain": [
       "'СПБ ГБУЗ \"ГОРОДСКАЯ ПОЛИКЛИНИКА №39\"'"
      ]
     },
     "execution_count": 63,
     "metadata": {},
     "output_type": "execute_result"
    }
   ],
   "source": [
    "# СОКРАЩЕННОЕ НАИМЕНОВАНИЕ ЗАКАЗЧИКА\n",
    "def find_short_name_customer(soup: BeautifulSoup) -> str:\n",
    "    try:\n",
    "        soup = soup.find(\"span\", string=\"Сокращенное наименование заказчика\")\n",
    "        castomer = soup.parent.find(\"span\", class_=\"section__info\")\n",
    "        castomer = castomer.get_text()\n",
    "        return remove_bad_symbols(castomer)\n",
    "    except AttributeError:\n",
    "        # логии\n",
    "        return None\n",
    "\n",
    "find_short_name_customer(soup)"
   ]
  },
  {
   "cell_type": "code",
   "execution_count": 64,
   "id": "09895c10",
   "metadata": {},
   "outputs": [
    {
     "data": {
      "text/plain": [
       "'27825024478784101001'"
      ]
     },
     "execution_count": 64,
     "metadata": {},
     "output_type": "execute_result"
    }
   ],
   "source": [
    "# ИДЕНТИФИКАЦИОННЫЙ КОД ЗАКАЗЧИКА\n",
    "def find_id_customer(soup: BeautifulSoup) -> str:\n",
    "    try:\n",
    "        soup = soup.find(\"span\", string=\"Идентификационный код заказчика\")\n",
    "        code = soup.parent.find(\"span\", class_=\"section__info\")\n",
    "        code = code.get_text()\n",
    "        return remove_bad_symbols(code)\n",
    "    except AttributeError:\n",
    "        # логии\n",
    "        return None\n",
    "\n",
    "find_id_customer(soup)"
   ]
  },
  {
   "cell_type": "code",
   "execution_count": 65,
   "id": "9cca8d83",
   "metadata": {},
   "outputs": [
    {
     "data": {
      "text/plain": [
       "'7825024478'"
      ]
     },
     "execution_count": 65,
     "metadata": {},
     "output_type": "execute_result"
    }
   ],
   "source": [
    "# ИНН ЗАКАЗЧИКА\n",
    "def find_inn_customer(soup: object) -> str:\n",
    "    try:\n",
    "        soup = soup.find(\"span\", string=\"ИНН\")\n",
    "        code = soup.parent.find(\"span\", class_=\"section__info\")\n",
    "        code = code.get_text()\n",
    "        return remove_bad_symbols(code)\n",
    "    except AttributeError:\n",
    "        # логии\n",
    "        return None\n",
    "\n",
    "find_inn_customer(soup)"
   ]
  },
  {
   "cell_type": "code",
   "execution_count": 66,
   "id": "dc4a77e6",
   "metadata": {},
   "outputs": [
    {
     "data": {
      "text/plain": [
       "'784101001'"
      ]
     },
     "execution_count": 66,
     "metadata": {},
     "output_type": "execute_result"
    }
   ],
   "source": [
    "# КПП ЗАКАЗЧИКА\n",
    "def find_kpp_customer(soup: object) -> str:\n",
    "    try:\n",
    "        soup = soup.find(\"span\", string=\"КПП\")\n",
    "        code = soup.parent.find(\"span\", class_=\"section__info\")\n",
    "        code = code.get_text()\n",
    "        return remove_bad_symbols(code)\n",
    "    except AttributeError:\n",
    "        # логии\n",
    "        return None\n",
    "\n",
    "find_kpp_customer(soup)"
   ]
  },
  {
   "cell_type": "code",
   "execution_count": 67,
   "id": "705711a7",
   "metadata": {},
   "outputs": [
    {
     "data": {
      "text/plain": [
       "'75203'"
      ]
     },
     "execution_count": 67,
     "metadata": {},
     "output_type": "execute_result"
    }
   ],
   "source": [
    "# КОД ОРАГИЗАЦИОННО-ПРАВОВОЙ ФОРМЫ\n",
    "def find_code_form_org(soup: object) -> str:\n",
    "    try:\n",
    "        soup = soup.find(\"span\", string=\"Код организационно-правовой формы\")\n",
    "        code = soup.parent.find(\"span\", class_=\"section__info\")\n",
    "        code = code.get_text()\n",
    "        return remove_bad_symbols(code)\n",
    "    except AttributeError:\n",
    "        # логии\n",
    "        return None\n",
    "\n",
    "find_code_form_org(soup)"
   ]
  },
  {
   "cell_type": "code",
   "execution_count": 68,
   "id": "ea53fa9f",
   "metadata": {},
   "outputs": [
    {
     "data": {
      "text/plain": [
       "'35536932'"
      ]
     },
     "execution_count": 68,
     "metadata": {},
     "output_type": "execute_result"
    }
   ],
   "source": [
    "# КОД ПО ОКПО\n",
    "def find_okpo_code(soup: object) -> str:\n",
    "    try:\n",
    "        soup = soup.find(\"span\", string=\"Код ОКПО\")\n",
    "        code = soup.parent.find(\"span\", class_=\"section__info\")\n",
    "        code = code.get_text()\n",
    "        return remove_bad_symbols(code)\n",
    "    except AttributeError:\n",
    "        # логии\n",
    "        return None\n",
    "\n",
    "find_okpo_code(soup)"
   ]
  },
  {
   "cell_type": "code",
   "execution_count": 69,
   "id": "750ffa5e",
   "metadata": {},
   "outputs": [],
   "source": [
    "# КОД ТЕРРИТОРИИ МУНИЦИПАЛЬНОГО ОБРАЗОВАНИЯ\n",
    "def find_municipal_code(soup: object) -> str:\n",
    "    try:\n",
    "        soup = soup.find(\"span\", string=\"Код территории муниципального образования\")\n",
    "        code = soup.parent.find(\"span\", class_=\"section__info\")\n",
    "        code = code.get_text()\n",
    "        return remove_bad_symbols(code)\n",
    "    except AttributeError:\n",
    "        # логии\n",
    "        return None\n",
    "\n",
    "find_municipal_code(soup)"
   ]
  },
  {
   "cell_type": "code",
   "execution_count": 77,
   "id": "97d1a973",
   "metadata": {},
   "outputs": [
    {
     "data": {
      "text/plain": [
       "'21-Средства бюджетных учреждений'"
      ]
     },
     "execution_count": 77,
     "metadata": {},
     "output_type": "execute_result"
    }
   ],
   "source": [
    "def find_budget_name(soup: object) -> str:\n",
    "    try:\n",
    "        soup_1 = soup.find(\"span\", string=\"Наименование бюджета\")\n",
    "        name = soup_1.parent.find(\"span\", class_=\"section__info\")\n",
    "        name = name.get_text()\n",
    "        return remove_bad_symbols(name), None\n",
    "    except AttributeError:\n",
    "        try:\n",
    "            soup = soup.find(\"span\", string=\"Наименование внебюджетных средств\")\n",
    "            name = soup.parent.find(\"span\", class_=\"section__info\")\n",
    "            name = name.get_text()\n",
    "            return None, remove_bad_symbols(name)\n",
    "        except AttributeError:\n",
    "        # логии\n",
    "            return None, None\n",
    "\n",
    "find_budget_name(soup)"
   ]
  },
  {
   "cell_type": "code",
   "execution_count": null,
   "id": "87fcf8bf",
   "metadata": {},
   "outputs": [],
   "source": []
  },
  {
   "cell_type": "code",
   "execution_count": 14,
   "id": "64b75262",
   "metadata": {},
   "outputs": [
    {
     "data": {
      "text/plain": [
       "'10-федеральный бюджет'"
      ]
     },
     "execution_count": 14,
     "metadata": {},
     "output_type": "execute_result"
    }
   ],
   "source": [
    "def find_budget_level(soup: object) -> str:\n",
    "    try:\n",
    "        soup = soup.find(\"span\", string=\"Уровень бюджета\")\n",
    "        code = soup.parent.find(\"span\", class_=\"section__info\")\n",
    "        code = code.get_text()\n",
    "        return remove_bad_symbols(code)\n",
    "    except AttributeError:\n",
    "        # логии\n",
    "        return None\n",
    "\n",
    "find_budget_level(soup)"
   ]
  },
  {
   "attachments": {},
   "cell_type": "markdown",
   "id": "b2fc18cd",
   "metadata": {},
   "source": [
    "## Общая информация"
   ]
  },
  {
   "cell_type": "code",
   "execution_count": 15,
   "id": "99d4e77a",
   "metadata": {},
   "outputs": [
    {
     "data": {
      "text/plain": [
       "'Исполнение'"
      ]
     },
     "execution_count": 15,
     "metadata": {},
     "output_type": "execute_result"
    }
   ],
   "source": [
    "# СТАТУС КОНТРАКТА\n",
    "def find_contract_status(soup: object) -> str:\n",
    "    try:\n",
    "        soup = soup.find(\"span\", string=\"Статус контракта\")\n",
    "        code = soup.parent.find(\"span\", class_=\"section__info\")\n",
    "        code = code.get_text()\n",
    "        return remove_bad_symbols(code)\n",
    "    except AttributeError:\n",
    "        # логии\n",
    "        return None\n",
    "\n",
    "find_contract_status(soup)"
   ]
  },
  {
   "cell_type": "code",
   "execution_count": 16,
   "id": "ca3d3db5",
   "metadata": {},
   "outputs": [],
   "source": [
    "# НОМЕР ИЗВЕЩЕНИЯ ОБ ОСУЩЕСТВЛЕНИИ ЗАКУПКИ\n",
    "def find_notice(soup: object) -> str:\n",
    "    try:\n",
    "        soup = soup.find(\"span\", string=\"Номер извещения об осуществлении закупки\")\n",
    "        code = soup.parent.find(\"span\", class_=\"section__info\")\n",
    "        code = code.get_text()\n",
    "        return remove_bad_symbols(code)\n",
    "    except AttributeError:\n",
    "        # логии\n",
    "        return None\n",
    "\n",
    "find_notice(soup)"
   ]
  },
  {
   "cell_type": "code",
   "execution_count": 17,
   "id": "80351198",
   "metadata": {},
   "outputs": [
    {
     "data": {
      "text/plain": [
       "'231380805025538080100101210037112414'"
      ]
     },
     "execution_count": 17,
     "metadata": {},
     "output_type": "execute_result"
    }
   ],
   "source": [
    "# ИДЕНТИФИКАЦИОННЫЙ КОД ЗАКУПКИ (ИКЗ)\n",
    "def find_ikz_code(soup: object) -> str:\n",
    "    try:\n",
    "        soup = soup.find(\"span\", string=\"Идентификационный код закупки (ИКЗ)\")\n",
    "        code = soup.parent.find(\"span\", class_=\"section__info\")\n",
    "        code = code.get_text()\n",
    "        return remove_bad_symbols(code)\n",
    "    except AttributeError:\n",
    "        # логии\n",
    "        return None\n",
    "\n",
    "find_ikz_code(soup)"
   ]
  },
  {
   "cell_type": "code",
   "execution_count": 18,
   "id": "623e1b5b",
   "metadata": {},
   "outputs": [],
   "source": [
    "# ИДЕНТИФИКАТОР КОНТРАКТА, ЗАКЛЮЧЕННОГО В ЭЛЕКТРОННОЙ ФОРМЕ\n",
    "def find_id_contract_electronic(soup: object) -> str:\n",
    "    try:\n",
    "        soup = soup.find(\n",
    "            \"span\", string=\"Идентификатор контракта, заключенного в электронной форме\"\n",
    "        )\n",
    "        code = soup.parent.find(\"span\", class_=\"section__info\")\n",
    "        code = code.get_text()\n",
    "        return remove_bad_symbols(code)\n",
    "    except AttributeError:\n",
    "        # логии\n",
    "        return None\n",
    "\n",
    "find_id_contract_electronic(soup)"
   ]
  },
  {
   "cell_type": "code",
   "execution_count": 19,
   "id": "73c3e0ae",
   "metadata": {},
   "outputs": [
    {
     "data": {
      "text/plain": [
       "'202301341000091001000254'"
      ]
     },
     "execution_count": 19,
     "metadata": {},
     "output_type": "execute_result"
    }
   ],
   "source": [
    "# УНИКАЛЬНЫЙ НОМЕР ПОЗИЦИИ ПЛАНА-ГРАФИКА\n",
    "def find_unique_number_plan(soup: object) -> str:\n",
    "    try:\n",
    "        soup = soup.find(\"span\", string=\"Уникальный номер позиции плана-графика\")\n",
    "        number = soup.parent.find(\"span\", class_=\"section__info\")\n",
    "        number = number.get_text()\n",
    "        return remove_bad_symbols(number)\n",
    "    except AttributeError:\n",
    "        # логии\n",
    "        return None\n",
    "\n",
    "find_unique_number_plan(soup)"
   ]
  },
  {
   "cell_type": "code",
   "execution_count": 20,
   "id": "b8df4779",
   "metadata": {},
   "outputs": [
    {
     "data": {
      "text/plain": [
       "'Закупка у единственного поставщика (подрядчика, исполнителя)'"
      ]
     },
     "execution_count": 20,
     "metadata": {},
     "output_type": "execute_result"
    }
   ],
   "source": [
    "# СПОСОБ ОПРЕДЕЛНИЯ ПОСТАВЩИКА (подрядчика, исполнителя)\n",
    "def find_method_determinig_supplier(soup: object) -> str:\n",
    "    try:\n",
    "        soup = soup.find(\"span\", string=\"Способ определения поставщика (подрядчика, исполнителя)\")\n",
    "        number = soup.parent.find(\"span\", class_=\"section__info\")\n",
    "        number = number.get_text()\n",
    "        return remove_bad_symbols(number)\n",
    "    except AttributeError:\n",
    "        # логии\n",
    "        return None\n",
    "\n",
    "find_method_determinig_supplier(soup)"
   ]
  },
  {
   "cell_type": "code",
   "execution_count": 21,
   "id": "63191ffb",
   "metadata": {},
   "outputs": [],
   "source": [
    "# ДАТА ПОДВЕДЕНИЯ РЕЗУЛЬТАТОВ ОПРЕДЕЛЕНИЯ ПОСТАВЩИКА (ПОДРЯДЧИКА, ИСПОЛНИТЕЛЯ)\n",
    "def find_date_summarizing(soup: object) -> str:\n",
    "    \n",
    "    try:\n",
    "        soup = soup.find(\n",
    "            \"span\",\n",
    "            string=\"Дата подведения результатов определения поставщика (подрядчика, исполнителя)\",\n",
    "        )\n",
    "        date = soup.parent.find(\"span\", class_=\"section__info\")\n",
    "        date = date.get_text()\n",
    "        return remove_bad_symbols(date)\n",
    "    except AttributeError:\n",
    "        # логии\n",
    "        return None\n",
    "\n",
    "find_date_summarizing(soup)"
   ]
  },
  {
   "cell_type": "code",
   "execution_count": 22,
   "id": "a7603946",
   "metadata": {},
   "outputs": [
    {
     "data": {
      "text/plain": [
       "'26.06.2023 08:51 (МСК+5)'"
      ]
     },
     "execution_count": 22,
     "metadata": {},
     "output_type": "execute_result"
    }
   ],
   "source": [
    "# ДАТА РАЗМЕЩЕНИЯ (ПО МЕСТНОМУ ВРЕМЕНИ)\n",
    "def find_date_posting(soup: object) -> str:\n",
    "    try:\n",
    "        soup = soup.find(\"span\", string=\"Дата размещения (по местному времени)\")\n",
    "        date = soup.parent.find(\"span\", class_=\"section__info\")\n",
    "        date = date.get_text()\n",
    "        return remove_bad_symbols(date)\n",
    "    except AttributeError:\n",
    "        # логии\n",
    "        return None\n",
    "\n",
    "find_date_posting(soup)"
   ]
  },
  {
   "cell_type": "code",
   "execution_count": 23,
   "id": "bcb67bf1",
   "metadata": {},
   "outputs": [
    {
     "name": "stdout",
     "output_type": "stream",
     "text": [
      "\n"
     ]
    },
    {
     "data": {
      "text/plain": [
       "'Закупка услуг по осуществлению авторского контроля за разработкой проектной документации объекта капитального строительства, проведению авторского надзора за строительством, реконструкцией, капитальным ремонтом объекта капитального строительства соответствующими авторами, на проведение технического и авторского надзора за выполнением работ по сохранению объекта культурного наследия (памятников истории и культуры) народов Российской Федерации авторами проектов'"
      ]
     },
     "execution_count": 23,
     "metadata": {},
     "output_type": "execute_result"
    }
   ],
   "source": [
    "# ОСНОВАНИЕ ЗАКЛЮЧЕНИЯ КОНТРАКТА С ЕДИНСТВЕННЫМ ПОСТАВЩИКОМ\n",
    "def find_grouds_single_supplier(soup: object) -> str:\n",
    "    try:\n",
    "        soup = soup.find(\n",
    "            \"span\", string=\"Основание заключения контракта с единственным поставщиком\"\n",
    "        )\n",
    "        print()\n",
    "        grouds = soup.parent.find(\"span\", class_=\"section__info\")\n",
    "        grouds = grouds.get_text()\n",
    "        return remove_bad_symbols(grouds)\n",
    "    except AttributeError:\n",
    "        # логии\n",
    "        return None\n",
    "\n",
    "find_grouds_single_supplier(soup)"
   ]
  },
  {
   "cell_type": "code",
   "execution_count": 24,
   "id": "6e9cb6fe",
   "metadata": {},
   "outputs": [],
   "source": [
    "# РЕКВИЗИТЫ ДОКУМЕНТА, ПОДТВЕРЖДАЮЩЕГО ЗАКЛЮЧЕНИЯ КОНТРАКТА\n",
    "def find_document_details(soup: object) -> str:\n",
    "    try:\n",
    "        soup = soup.find(\n",
    "            \"span\", string=\"Реквизиты документа, подтверждающего основание заключения контракта\"\n",
    "        )\n",
    "        date = soup.parent.find(\"span\", class_=\"section__info\")\n",
    "        date = date.get_text()\n",
    "        return remove_bad_symbols(date)\n",
    "    except AttributeError:\n",
    "        # логии\n",
    "        return None\n",
    "\n",
    "find_document_details(soup)"
   ]
  },
  {
   "cell_type": "code",
   "execution_count": 25,
   "id": "672c5269",
   "metadata": {},
   "outputs": [
    {
     "data": {
      "text/plain": [
       "'Банковское или казначейское сопровождение контракта не требуется'"
      ]
     },
     "execution_count": 25,
     "metadata": {},
     "output_type": "execute_result"
    }
   ],
   "source": [
    "# ИНФОРМАЦИЯ О БАНКОВСКОМ и (или) КАЗНАЧЕЙСКОМ СОПРОВОЖДЕНИИ КОНТРАКТА\n",
    "def info_support(soup: object) -> str:\n",
    "    try:\n",
    "        soup = soup.find(\n",
    "            \"span\", string=\"Информация о банковском и (или) казначейском сопровождении контракта\"\n",
    "        )\n",
    "        date = soup.parent.find(\"span\", class_=\"section__info\")\n",
    "        date = date.get_text()\n",
    "        return remove_bad_symbols(date)\n",
    "    except AttributeError:\n",
    "        # логии\n",
    "        return None\n",
    "\n",
    "info_support(soup)"
   ]
  },
  {
   "attachments": {},
   "cell_type": "markdown",
   "id": "6841bc37",
   "metadata": {},
   "source": [
    "## Общие данные"
   ]
  },
  {
   "cell_type": "code",
   "execution_count": 26,
   "id": "4306d6af",
   "metadata": {},
   "outputs": [
    {
     "data": {
      "text/plain": [
       "'23.06.2023'"
      ]
     },
     "execution_count": 26,
     "metadata": {},
     "output_type": "execute_result"
    }
   ],
   "source": [
    "# ЗАКЛЮЧЕНИЕ КОНТРАКТА\n",
    "def find_date_contract(soup: object) -> str:\n",
    "    try:\n",
    "        soup = soup.find(\"span\", string=\"Заключение контракта\")\n",
    "        number = soup.parent.find(\"span\", class_=\"cardMainInfo__content\")\n",
    "        number = number.get_text()\n",
    "        return remove_bad_symbols(number)\n",
    "    except AttributeError:\n",
    "        # логии\n",
    "        return None\n",
    "\n",
    "find_date_contract(soup)"
   ]
  },
  {
   "cell_type": "code",
   "execution_count": 27,
   "id": "dfc00138",
   "metadata": {},
   "outputs": [
    {
     "data": {
      "text/plain": [
       "'31.12.2024'"
      ]
     },
     "execution_count": 27,
     "metadata": {},
     "output_type": "execute_result"
    }
   ],
   "source": [
    "# СРОК ИСПОЛНЕНИЯ\n",
    "def find_date_performance(soup: object) -> str:\n",
    "    try:\n",
    "        soup = soup.find(\"span\", string=\"Срок исполнения\")\n",
    "        number = soup.parent.find(\"span\", class_=\"cardMainInfo__content\")\n",
    "        number = number.get_text()\n",
    "        return remove_bad_symbols(number)\n",
    "    except AttributeError:\n",
    "        # логии\n",
    "        return None\n",
    "\n",
    "find_date_performance(soup)"
   ]
  },
  {
   "cell_type": "code",
   "execution_count": 28,
   "id": "985b1657",
   "metadata": {},
   "outputs": [
    {
     "data": {
      "text/plain": [
       "'26.06.2023'"
      ]
     },
     "execution_count": 28,
     "metadata": {},
     "output_type": "execute_result"
    }
   ],
   "source": [
    "# ДАТА РАЗМЕЩЕНИЕ КОНТРАКТА В РЕЕСТРЕ КОНТРАКТОВ\n",
    "def find_date_contract_registry(soup: object) -> str:\n",
    "    try:\n",
    "        soup = soup.find(\"span\", string=\"Размещен контракт в реестре контрактов\")\n",
    "        number = soup.parent.find(\"span\", class_=\"cardMainInfo__content\")\n",
    "        number = number.get_text()\n",
    "        return remove_bad_symbols(number)\n",
    "    except AttributeError:\n",
    "        # логии\n",
    "        return None\n",
    "\n",
    "find_date_contract_registry(soup)"
   ]
  },
  {
   "cell_type": "code",
   "execution_count": 29,
   "id": "d8d7930d",
   "metadata": {},
   "outputs": [
    {
     "data": {
      "text/plain": [
       "'26.06.2023'"
      ]
     },
     "execution_count": 29,
     "metadata": {},
     "output_type": "execute_result"
    }
   ],
   "source": [
    "# ДАТА ОБНОВЛЕНИЯ КОНТРАКТА В РЕЕСТРЕ КОНТРАКТОВ\n",
    "def find_date_update_registry(soup: object) -> str:\n",
    "    try:\n",
    "        soup = soup.find(\"span\", string=\"Обновлен контракт в реестре контрактов\")\n",
    "        number = soup.parent.find(\"span\", class_=\"cardMainInfo__content\")\n",
    "        number = number.get_text()\n",
    "        return remove_bad_symbols(number)\n",
    "    except AttributeError:\n",
    "        # логии\n",
    "        return None\n",
    "\n",
    "find_date_contract_registry(soup)"
   ]
  },
  {
   "cell_type": "code",
   "execution_count": 30,
   "id": "6202b014",
   "metadata": {},
   "outputs": [
    {
     "data": {
      "text/plain": [
       "'23.06.2023'"
      ]
     },
     "execution_count": 30,
     "metadata": {},
     "output_type": "execute_result"
    }
   ],
   "source": [
    "# ДАТА НАЧАЛА ИСПОЛНЕНИЯ КОНТРАКТА\n",
    "def find_date_start_performance(soup: object) -> str:\n",
    "    try:\n",
    "        soup = soup.find(\"span\", string=\"Дата начала исполнения контракта\")\n",
    "        date = soup.parent.find(\"span\", class_=\"section__info\")\n",
    "        date = date.get_text()\n",
    "        return remove_bad_symbols(date)\n",
    "    except AttributeError:\n",
    "        # логии\n",
    "        return None\n",
    "\n",
    "find_date_start_performance(soup)"
   ]
  },
  {
   "cell_type": "code",
   "execution_count": 31,
   "id": "2f4899c6",
   "metadata": {},
   "outputs": [
    {
     "data": {
      "text/plain": [
       "'31.12.2024'"
      ]
     },
     "execution_count": 31,
     "metadata": {},
     "output_type": "execute_result"
    }
   ],
   "source": [
    "# ДАТА ОКОНЧАНИЯ ИСПОЛНЕНИЯ КОНТРАКТА\n",
    "def find_date_end_performance(soup: object) -> str:\n",
    "    try:\n",
    "        soup = soup.find(\"span\", string=\"Дата окончания исполнения контракта\")\n",
    "        date = soup.parent.find(\"span\", class_=\"section__info\")\n",
    "        date = date.get_text()\n",
    "        return remove_bad_symbols(date)\n",
    "    except AttributeError:\n",
    "        # логии\n",
    "        return None\n",
    "\n",
    "find_date_end_performance(soup)"
   ]
  },
  {
   "cell_type": "code",
   "execution_count": 32,
   "id": "d404c648",
   "metadata": {},
   "outputs": [
    {
     "data": {
      "text/plain": [
       "'Услуги по авторскому надзору за строительством объекта капитального строительства «Строительство здания для размещения Нижнеудинского городского суда Иркутской области» по адресу: Иркутская область, г. Нижнеудинск, ул. Профсоюзная, уч. 140»'"
      ]
     },
     "execution_count": 32,
     "metadata": {},
     "output_type": "execute_result"
    }
   ],
   "source": [
    "# ПРЕДМЕТ КОНТРАКТА\n",
    "def find_contract_item(soup: object) -> str:\n",
    "    try:\n",
    "        soup = soup.find(\"span\", string=\"Предмет контракта\")\n",
    "        item = soup.parent.find(\"span\", class_=\"section__info\")\n",
    "        item = item.get_text()\n",
    "        return remove_bad_symbols(item)\n",
    "    except AttributeError:\n",
    "        # логии\n",
    "        return None\n",
    "\n",
    "find_contract_item(soup)"
   ]
  },
  {
   "cell_type": "code",
   "execution_count": 33,
   "id": "0533077a",
   "metadata": {},
   "outputs": [
    {
     "data": {
      "text/plain": [
       "'1286725.79'"
      ]
     },
     "execution_count": 33,
     "metadata": {},
     "output_type": "execute_result"
    }
   ],
   "source": [
    "# ЦЕНА КОНТРАКТА\n",
    "def find_contract_price(soup: object) -> str:\n",
    "    try:\n",
    "        soup_firts = soup.find(\"span\", string=\"Цена контракта\")\n",
    "        price = soup_firts.parent.find(\"span\", class_=\"cardMainInfo__content cost\")\n",
    "        price = remove_bad_symbols(price.get_text())\n",
    "        price = \"\".join([i for i in price if i.isdigit() or i in [\",\", \".\"]]).replace(\",\", \".\")\n",
    "        if price != \"\":\n",
    "            return price\n",
    "    except AttributeError:\n",
    "        # логии\n",
    "        pass\n",
    "\n",
    "    try:\n",
    "        soup = soup.find(\"div\", class_=\"price\")\n",
    "        price = soup.parent.find(\"span\", class_=\"cardMainInfo__content cost\")\n",
    "        price = remove_bad_symbols(price.get_text())\n",
    "        price = \"\".join([i for i in price if i.isdigit() or i in [\",\", \".\"]]).replace(\",\", \".\")\n",
    "        if price != \"\":\n",
    "            return price\n",
    "    except AttributeError:\n",
    "        # логии\n",
    "        return None\n",
    "\n",
    "find_contract_price(soup)"
   ]
  },
  {
   "cell_type": "code",
   "execution_count": 34,
   "id": "d43ae691",
   "metadata": {},
   "outputs": [
    {
     "data": {
      "text/plain": [
       "'1286725.79'"
      ]
     },
     "execution_count": 34,
     "metadata": {},
     "output_type": "execute_result"
    }
   ],
   "source": [
    "# В ТОМ ЧИСЛЕ С НДС\n",
    "def find_contract_price_nds(soup: object) -> str:\n",
    "    try:\n",
    "        soup_firts = soup.find(\"span\", string=\"В том числе НДС\")\n",
    "        price = soup_firts.parent.find(\"span\", class_=\"section__info\")\n",
    "        price = remove_bad_symbols(price.get_text())\n",
    "        price = \"\".join([i for i in price if i.isdigit() or i in [\",\", \".\"]]).replace(\",\", \".\")\n",
    "        if price != \"\":\n",
    "            return price\n",
    "    except AttributeError:\n",
    "        # логии\n",
    "        return None\n",
    "\n",
    "find_contract_price(soup)"
   ]
  },
  {
   "cell_type": "code",
   "execution_count": 35,
   "id": "30225384",
   "metadata": {},
   "outputs": [],
   "source": [
    "# РАЗМЕР АНВАНСА\n",
    "def find_prepayment_amount(soup: object) -> str:\n",
    "    try:\n",
    "        soup = soup.find(\"span\", string=\"Размер аванса\")\n",
    "        prepayment = soup.parent.find(\"span\", class_=\"section__info\")\n",
    "        prepayment = remove_bad_symbols(prepayment.get_text())\n",
    "        return prepayment\n",
    "    except AttributeError:\n",
    "        # логги\n",
    "        return None\n",
    "\n",
    "find_prepayment_amount(soup)"
   ]
  },
  {
   "cell_type": "code",
   "execution_count": 36,
   "id": "2d49a53e",
   "metadata": {},
   "outputs": [],
   "source": [
    "# РАЗМЕР ОБЕСПЕЧЕНИЯ ИСПОЛНЕНИЯ КОНТРАКТА\n",
    "def find_performance_security(soup: object) -> str:\n",
    "    try:\n",
    "        soup = soup.find(\"span\", string=\"Размер обеспечения исполнения контракта, ₽\")\n",
    "        security_sum = soup.parent.find(\"span\", class_=\"section__info\")\n",
    "        security_sum = remove_bad_symbols(security_sum.get_text())\n",
    "        security_sum = \"\".join(\n",
    "            [i for i in security_sum if i.isdigit() or i in [\",\", \".\"]]\n",
    "        ).replace(\",\", \".\")\n",
    "        if security_sum != \"\":\n",
    "            return security_sum\n",
    "    except AttributeError:\n",
    "        # логии\n",
    "        return None\n",
    "\n",
    "find_performance_security(soup)"
   ]
  },
  {
   "cell_type": "code",
   "execution_count": 37,
   "id": "d6d0ee43",
   "metadata": {},
   "outputs": [],
   "source": [
    "# РАЗМЕР ОБЕСПЕЧЕНИЯ ИСПОЛНЕНИЯ ОБЯЗАТЕЛЬСТВ ПО ПРЕДОСТАВЛЕННОЙ ГАРАНТИИ КАЧЕСТВА ТОВАРОВ, РАБОТ, УСЛУГ\n",
    "def find_size_performance_quality(soup: object) -> str:\n",
    "    try:\n",
    "        soup = soup.find(\n",
    "            \"span\",\n",
    "            string=\"Размер обеспечения исполнения обязательств по предоставленной гарантии качества товаров, работ, услуг\",\n",
    "        )\n",
    "        security_sum = soup.parent.find(\"span\", class_=\"section__info\")\n",
    "        security_sum = remove_bad_symbols(security_sum.get_text())\n",
    "        security_sum = \"\".join(\n",
    "            [i for i in security_sum if i.isdigit() or i in [\",\", \".\"]]\n",
    "        ).replace(\",\", \".\")\n",
    "        if security_sum != \"\":\n",
    "            return security_sum\n",
    "    except AttributeError:\n",
    "        # логии\n",
    "        return None\n",
    "\n",
    "find_size_performance_quality(soup)"
   ]
  },
  {
   "cell_type": "code",
   "execution_count": 38,
   "id": "f2c2be22",
   "metadata": {},
   "outputs": [],
   "source": [
    "# СРОК НА КОТОРЫЙ ПРЕДОСТАВЛЯЕТСЯ ГАРАНТИЯ\n",
    "def find_warranty_period(soup: object) -> str:\n",
    "    try:\n",
    "        soup_new = soup.find(\"h2\", string=\"Срок, на который предоставляется гарантия\")\n",
    "        if soup_new is None:\n",
    "            soup_new = soup.find(\"span\", string=\"Срок, на который предоставляется гарантия\")\n",
    "        date = soup_new.parent.find(\"span\", class_=\"section__info\")\n",
    "        date = date.get_text()\n",
    "        return remove_bad_symbols(date)\n",
    "    except AttributeError:\n",
    "        return None\n",
    "\n",
    "find_warranty_period(soup)"
   ]
  },
  {
   "cell_type": "code",
   "execution_count": 39,
   "id": "44504119",
   "metadata": {},
   "outputs": [
    {
     "data": {
      "text/plain": [
       "'Российская Федерация, Иркутская обл, Нижнеудинск г, ул. Профсоюзная, уч. 140 (Нижнеудинский городской суд Иркутской области)'"
      ]
     },
     "execution_count": 39,
     "metadata": {},
     "output_type": "execute_result"
    }
   ],
   "source": [
    "# ИНФОРМАЦИЯ О МЕСТЕ ПОСТАВКИ ТОВАРА, ВЫПОЛНЕНИИ РАБОТЫ ИЛИ ОКАЗАНИИ УСЛУГИ\n",
    "def find_place_performance(soup: object) -> str:\n",
    "    try:\n",
    "        place = soup.find(\n",
    "            \"h2\",\n",
    "            string=\"Информация о месте поставки товара, выполнения работы или оказания услуги\",\n",
    "            class_=\"blockInfo__title_sub\",\n",
    "        ).parent.find(\"span\", class_=\"section__info\")\n",
    "        place = remove_bad_symbols(place.get_text())\n",
    "        return place\n",
    "    except AttributeError:\n",
    "        # логии\n",
    "        return None\n",
    "\n",
    "find_place_performance(soup)"
   ]
  },
  {
   "attachments": {},
   "cell_type": "markdown",
   "id": "ffcbcfa6",
   "metadata": {},
   "source": [
    "## Информация о поставщиках"
   ]
  },
  {
   "cell_type": "code",
   "execution_count": 40,
   "id": "2619252b",
   "metadata": {},
   "outputs": [],
   "source": [
    "# ИМЯ ПОСТАВЩИКА\n",
    "def find_full_name_supplier(soup: object) -> str:\n",
    "    try:\n",
    "        name = soup.next.get_text()\n",
    "        return remove_bad_symbols(name)\n",
    "    except AttributeError:\n",
    "        # логии\n",
    "        return None"
   ]
  },
  {
   "cell_type": "code",
   "execution_count": 41,
   "id": "59637e75",
   "metadata": {},
   "outputs": [],
   "source": [
    "# КОД ПО ОКПО\n",
    "def find_code_okpo_supplier(soup: object) -> str:\n",
    "    try:\n",
    "        soup = soup.find(\"span\", string=\"Код по ОКПО:\")\n",
    "        code = soup.next.next.next\n",
    "        code = code.get_text()\n",
    "        return remove_bad_symbols(code)\n",
    "    except AttributeError:\n",
    "        # логии\n",
    "        return None"
   ]
  },
  {
   "cell_type": "code",
   "execution_count": 42,
   "id": "9349c922",
   "metadata": {},
   "outputs": [],
   "source": [
    "# ИНН ПОСТАВЩИКА\n",
    "def find_inn_supplier(soup: object) -> str:\n",
    "    try:\n",
    "        inn = soup.parent.find(\"span\", string=\"ИНН:\").next.next.next\n",
    "        inn = inn.get_text()\n",
    "        return remove_bad_symbols(inn)\n",
    "    except AttributeError:\n",
    "        # логии\n",
    "        return None"
   ]
  },
  {
   "cell_type": "code",
   "execution_count": 43,
   "id": "8c578181",
   "metadata": {},
   "outputs": [],
   "source": [
    "# КПП ПОСТАВЩИКА\n",
    "def find_kpp_supplier(soup: object) -> str:\n",
    "    try:\n",
    "        kpp = soup.parent.find(\"span\", string=\"КПП:\").next.next.next\n",
    "        kpp = kpp.get_text()\n",
    "        return remove_bad_symbols(kpp)\n",
    "    except AttributeError:\n",
    "        # логии\n",
    "        return None"
   ]
  },
  {
   "cell_type": "code",
   "execution_count": 44,
   "id": "d343f84b",
   "metadata": {},
   "outputs": [],
   "source": [
    "# ДАТА ПОСТАНОВКИ НА УЧЕТ\n",
    "def find_date_registration_supplier(soup: object) -> str:\n",
    "    try:\n",
    "        date = soup.parent.find(\"span\", string=\"Дата постановки на учет:\").next.next.next\n",
    "        date = date.get_text()\n",
    "        return remove_bad_symbols(date)\n",
    "    except AttributeError:\n",
    "        # логии\n",
    "        return None"
   ]
  },
  {
   "cell_type": "code",
   "execution_count": 45,
   "id": "9b5e6821",
   "metadata": {},
   "outputs": [],
   "source": [
    "# СТРАНА И КОД\n",
    "def find_country_code_supplier(soup: object) -> tuple[str, str]:\n",
    "    try:\n",
    "        country_code = soup.get_text()\n",
    "        country_code = remove_bad_symbols(country_code)\n",
    "\n",
    "        contry_list = []\n",
    "        code_list = []\n",
    "        for i in country_code.split():\n",
    "            if i.isdigit():\n",
    "                code_list.append(i)\n",
    "            else:\n",
    "                contry_list.append(i)\n",
    "\n",
    "        return \" \".join(contry_list), \"\".join(code_list)\n",
    "    except AttributeError:\n",
    "        # логии\n",
    "        return (None, None)"
   ]
  },
  {
   "cell_type": "code",
   "execution_count": 46,
   "id": "51e53c91",
   "metadata": {},
   "outputs": [],
   "source": [
    "# АДРЕС МЕСТА НАХОЖДЕНИЯ\n",
    "def find_adress_supplier(soup: object) -> str:\n",
    "    try:\n",
    "        adress = soup.get_text()\n",
    "        adress = remove_bad_symbols(adress)\n",
    "\n",
    "        return adress\n",
    "    except AttributeError:\n",
    "        # логии\n",
    "        return None"
   ]
  },
  {
   "cell_type": "code",
   "execution_count": 47,
   "id": "5f4497a3",
   "metadata": {},
   "outputs": [],
   "source": [
    "# ПОЧТОВЫЙ АДРЕСС\n",
    "def find_postal_adress_supplier(soup: object) -> str:\n",
    "    try:\n",
    "        adress = soup.get_text()\n",
    "        adress = remove_bad_symbols(adress)\n",
    "\n",
    "        return adress\n",
    "    except AttributeError:\n",
    "        # логии\n",
    "        return None"
   ]
  },
  {
   "cell_type": "code",
   "execution_count": 48,
   "id": "21a522a9",
   "metadata": {},
   "outputs": [],
   "source": [
    "# ТЕЛЕФОН, ЭЛЕКТРОННАЯ ПОЧТА\n",
    "def find_contact_supplier(soup: object) -> str:\n",
    "    try:\n",
    "        contact = soup.get_text()\n",
    "        contact = remove_bad_symbols(contact)\n",
    "\n",
    "        return contact\n",
    "    except AttributeError:\n",
    "        # логии\n",
    "        return None"
   ]
  },
  {
   "cell_type": "code",
   "execution_count": 49,
   "id": "59f95570",
   "metadata": {},
   "outputs": [],
   "source": [
    "# СТАТУС\n",
    "def find_status_supplier(soup: object) -> str:\n",
    "    try:\n",
    "        status = soup.get_text()\n",
    "        status = remove_bad_symbols(status)\n",
    "\n",
    "        return status\n",
    "    except AttributeError:\n",
    "        # логии\n",
    "        return None"
   ]
  },
  {
   "cell_type": "code",
   "execution_count": 50,
   "id": "3d6d7f1f",
   "metadata": {},
   "outputs": [],
   "source": [
    "def read_table_supplier(soup) -> tuple[list, list]:\n",
    "    table_names = soup.find(\n",
    "        \"h2\", class_=\"blockInfo__title\", string=\"Информация о поставщиках\"\n",
    "    ).parent.find(\"tr\", class_=\"tableBlock__row\")\n",
    "\n",
    "    table_values = soup.find(\n",
    "        \"h2\", class_=\"blockInfo__title\", string=\"Информация о поставщиках\"\n",
    "    ).parent.find_all(\"td\", class_=\"tableBlock__col\")\n",
    "\n",
    "    if table_names is None or table_values is None:\n",
    "        \"логги\"\n",
    "        return None, None\n",
    "\n",
    "    list_table_values = [element for element in table_values if type(element) is bs4.element.Tag]\n",
    "    string = remove_bad_symbols(table_names.get_text())\n",
    "    names_columns = []\n",
    "    i_start = 0\n",
    "    i_status = False\n",
    "    for i in range(len(string)):\n",
    "        if string[i].isupper() and not i_status:\n",
    "            i_status = True\n",
    "            i_start = i\n",
    "        elif string[i].isupper() and i_status == True:\n",
    "            names_columns.append(string[i_start:i])\n",
    "            i_start = i\n",
    "        elif i == len(string) - 1:\n",
    "            names_columns.append(string[i_start : i + 1])\n",
    "    return names_columns, list_table_values"
   ]
  },
  {
   "cell_type": "code",
   "execution_count": 51,
   "id": "5a01081b",
   "metadata": {},
   "outputs": [
    {
     "name": "stdout",
     "output_type": "stream",
     "text": [
      "full_name_supplier АКЦИОНЕРНОЕ ОБЩЕСТВО \"ВОСТСИБПРОЕКТ\" (АКЦИОНЕРНОЕ ОБЩЕСТВО \"ВОСТСИБПРОЕКТ\")\n",
      "inn_supplier 3808102030\n",
      "kpp_supplier 381101001\n",
      "code_okpo_supplier None\n",
      "date_registration_supplier None\n",
      "country Российская Федерация\n",
      "code 643\n",
      "adress_supplier 664075, Иркутская область, г.о. ГОРОД ИРКУТСК, Г ИРКУТСК, УЛ БАЙКАЛЬСКАЯ, Д. 202, ОФИС 503, 505\n",
      "postal_adress_supplier 664075, Иркутская область, г.о. ГОРОД ИРКУТСК, Г ИРКУТСК, УЛ БАЙКАЛЬСКАЯ, Д. 202, ОФИС 503, 505 ; - ; -\n",
      "contact 7-3952-550075 vi@vostsibstroy.ru\n"
     ]
    }
   ],
   "source": [
    "def parsing_supplier(soup):\n",
    "    \"\"\"\n",
    "    Парсинг данных поставщиков\n",
    "    \"\"\"\n",
    "    names_columns, list_table_values = read_table_supplier(soup)\n",
    "\n",
    "    if names_columns is None or list_table_values is None:\n",
    "        return None\n",
    "\n",
    "    for i_step, name_columns in enumerate(names_columns):\n",
    "        if \"Организация\" in name_columns:\n",
    "            full_name_supplier = find_full_name_supplier(list_table_values[i_step])\n",
    "            inn_supplier = find_inn_supplier(list_table_values[i_step])\n",
    "            kpp_supplier = find_kpp_supplier(list_table_values[i_step])\n",
    "            code_okpo_supplier = find_code_okpo_supplier(list_table_values[i_step])\n",
    "            date_registration_supplier = find_date_registration_supplier(\n",
    "                list_table_values[i_step]\n",
    "            )\n",
    "\n",
    "            print(\"full_name_supplier\", full_name_supplier)\n",
    "            print(\"inn_supplier\", inn_supplier)\n",
    "            print(\"kpp_supplier\", kpp_supplier)\n",
    "            print(\"code_okpo_supplier\", code_okpo_supplier)\n",
    "\n",
    "            print(\"date_registration_supplier\", date_registration_supplier)\n",
    "            continue\n",
    "\n",
    "        if \"Страна, код\" in name_columns:\n",
    "            country, code = find_country_code_supplier(list_table_values[i_step])\n",
    "            print(\"country\", country)\n",
    "            print(\"code\", code)\n",
    "            continue\n",
    "\n",
    "        if \"Адрес места нахождения\" in name_columns:\n",
    "            adress_supplier = find_adress_supplier(list_table_values[i_step])\n",
    "            print(\"adress_supplier\", adress_supplier)\n",
    "            continue\n",
    "\n",
    "        if \"Почтовый адрес\" in name_columns:\n",
    "            postal_adress_supplier = find_postal_adress_supplier(list_table_values[i_step])\n",
    "            print(\"postal_adress_supplier\", postal_adress_supplier)\n",
    "            continue\n",
    "\n",
    "        if \"Телефон, электронная почта\" in name_columns:\n",
    "            contact = find_contact_supplier(list_table_values[i_step])\n",
    "            print(\"contact\", contact)\n",
    "            continue\n",
    "\n",
    "        if \"Статус\" in name_columns:\n",
    "            status_supplier = find_status_supplier(list_table_values[i_step])\n",
    "            print(\"status_supplier\", status_supplier)\n",
    "            continue\n",
    "\n",
    "parsing_supplier(soup)"
   ]
  },
  {
   "attachments": {},
   "cell_type": "markdown",
   "id": "d4b6052b",
   "metadata": {},
   "source": [
    "## Платежи и объекты закупки "
   ]
  },
  {
   "cell_type": "code",
   "execution_count": 52,
   "id": "693339db",
   "metadata": {},
   "outputs": [
    {
     "data": {
      "text/plain": [
       "'https://zakupki.gov.ru/epz/contract/contractCard/payment-info-and-target-of-order.html?reestrNumber='"
      ]
     },
     "execution_count": 52,
     "metadata": {},
     "output_type": "execute_result"
    }
   ],
   "source": [
    "url_payment"
   ]
  },
  {
   "cell_type": "code",
   "execution_count": 58,
   "id": "cc5d025b",
   "metadata": {},
   "outputs": [],
   "source": [
    "url_payment_test = \"\"\"https://zakupki.gov.ru/epz/contract/contractCard/\n",
    "payment-info-and-target-of-order.html?reestrNumber=\"\"\".replace(\n",
    "    \"\\n\", \"\")\n"
   ]
  },
  {
   "cell_type": "code",
   "execution_count": 59,
   "id": "305bfbe2",
   "metadata": {},
   "outputs": [
    {
     "data": {
      "text/plain": [
       "'https://zakupki.gov.ru/epz/contract/contractCard/payment-info-and-target-of-order.html?reestrNumber='"
      ]
     },
     "execution_count": 59,
     "metadata": {},
     "output_type": "execute_result"
    }
   ],
   "source": [
    "url_payment_test"
   ]
  },
  {
   "cell_type": "code",
   "execution_count": 57,
   "id": "59445d4b",
   "metadata": {},
   "outputs": [
    {
     "data": {
      "text/plain": [
       "True"
      ]
     },
     "execution_count": 57,
     "metadata": {},
     "output_type": "execute_result"
    }
   ],
   "source": [
    "url_payment_test"
   ]
  },
  {
   "cell_type": "code",
   "execution_count": 53,
   "id": "b4fe5c5a",
   "metadata": {},
   "outputs": [],
   "source": [
    "number_contract = \"166610555072200001\"\n",
    "url_info = (f'{url_payment}{number_contract}')\n",
    "res = requests.get(url_info, headers={\"User-Agent\": UserAgent().random})\n",
    "soup = BeautifulSoup(res.text, \"lxml\")"
   ]
  },
  {
   "cell_type": "code",
   "execution_count": 54,
   "id": "891685f7",
   "metadata": {},
   "outputs": [
    {
     "data": {
      "text/plain": [
       "<html><body><p>ï»¿\n",
       "</p>\n",
       "<meta charset=\"utf-8\" content=\"no-cache\" http-equiv=\"Pragma\"/>\n",
       "<title> Ð¡ÑÑÐ°Ð½Ð¸ÑÐ° Ð½Ðµ Ð½Ð°Ð¹Ð´ÐµÐ½Ð° </title>\n",
       "<style type=\"text/css\">\n",
       "        body {\n",
       "            background-color: #D5D5D5;\n",
       "        }\n",
       "\n",
       "        td {\n",
       "            color: #666666;\n",
       "            font-family: Arial, Helvetica, sans-serif;\n",
       "            font-size: 11px;\n",
       "        }\n",
       "\n",
       "        button {\n",
       "            border: 1px solid #D9D9D9;\n",
       "            font-family: tahoma;\n",
       "            font-size: 11px;\n",
       "            font-size-adjust: none;\n",
       "            font-stretch: normal;\n",
       "            font-style: normal;\n",
       "            font-variant: normal;\n",
       "            font-weight: normal;\n",
       "            line-height: normal;\n",
       "            margin: 0;\n",
       "            padding: 3px;\n",
       "        }\n",
       "    </style>\n",
       "<table cellpadding=\"0\" cellspacing=\"0\" height=\"100%\" width=\"100%\">\n",
       "<tr>\n",
       "<td align=\"center\" valign=\"middle\" width=\"100%\">\n",
       "<table border=\"0\" cellpadding=\"0\" cellspacing=\"0\" style=\"background-color:white;\">\n",
       "<tr>\n",
       "<td>\n",
       "<img alt=\"\" src=\"/header_left.gif\" style=\"padding:0;margin:0;border:0\"/>\n",
       "</td>\n",
       "</tr>\n",
       "<tr><td style=\"padding:20px;\">\n",
       "<table style=\"border:0;\" width=\"100%\">\n",
       "<tr>\n",
       "<td align=\"center\" style=\"font-weight:bold;font-size:11px;\" width=\"100%\">\n",
       "                                ÐÐ°Ð¿ÑÐ°ÑÐ¸Ð²Ð°ÐµÐ¼Ð°Ñ ÑÑÑÐ°Ð½Ð¸ÑÐ° Ð½Ðµ ÑÑÑÐµÑÑÐ²ÑÐµÑ.\n",
       "                            </td>\n",
       "</tr>\n",
       "<tr>\n",
       "<td align=\"center\" width=\"100%\">\n",
       "<button onclick=\"location.href='http://zakupki.gov.ru/';\">ÐÐµÑÐµÐ¹ÑÐ¸ Ð½Ð° Ð³Ð»Ð°Ð²Ð½ÑÑ ÑÑÑÐ°Ð½Ð¸ÑÑ</button>\n",
       "</td>\n",
       "</tr>\n",
       "</table>\n",
       "</td></tr>\n",
       "</table>\n",
       "</td>\n",
       "</tr>\n",
       "</table>\n",
       "</body></html>"
      ]
     },
     "execution_count": 54,
     "metadata": {},
     "output_type": "execute_result"
    }
   ],
   "source": [
    "soup"
   ]
  },
  {
   "cell_type": "code",
   "execution_count": 64,
   "id": "069be6f4",
   "metadata": {},
   "outputs": [
    {
     "data": {
      "text/plain": [
       "'43801059090090020242'"
      ]
     },
     "execution_count": 64,
     "metadata": {},
     "output_type": "execute_result"
    }
   ],
   "source": [
    "# КБК\n",
    "def find_kbk(soup: object) -> str:\n",
    "    try:\n",
    "        code = soup.find(\"td\", class_=\"tableBlock__col\")\n",
    "        code = remove_bad_symbols(code.get_text())\n",
    "\n",
    "        return code.replace(\" \", \"\")\n",
    "    except AttributeError:\n",
    "        # логии\n",
    "        return None\n",
    "find_status_supplier(soup)"
   ]
  },
  {
   "cell_type": "code",
   "execution_count": 78,
   "id": "40224852",
   "metadata": {},
   "outputs": [],
   "source": [
    "number_contract = \"1666105550722000041\"\n",
    "url_info = (f'{url_payment}{number_contract}')\n",
    "res = requests.get(url_info, headers={\"User-Agent\": UserAgent().random})\n",
    "soup = BeautifulSoup(res.text, \"lxml\")"
   ]
  },
  {
   "cell_type": "code",
   "execution_count": 164,
   "id": "19ef45b6",
   "metadata": {},
   "outputs": [],
   "source": [
    "def get_page(url: str) -> BeautifulSoup:\n",
    "    \"\"\"\n",
    "    Метод считывает заданную страницу,\n",
    "    а потом преобразует в lxml\n",
    "    \"\"\"\n",
    "    for num_attempt in range(10):\n",
    "        res = requests.get(\n",
    "            url,\n",
    "            headers={\"User-Agent\": UserAgent().random}\n",
    "        )\n",
    "        if res is not None and res.ok:\n",
    "            return BeautifulSoup(res.text, \"lxml\")\n",
    "\n",
    "number_contract = \"1666105550722000041\"  \n",
    "soup3 = get_page(f'{url_payment}{number_contract}#page-3')"
   ]
  },
  {
   "cell_type": "code",
   "execution_count": 148,
   "id": "7809f52c",
   "metadata": {},
   "outputs": [
    {
     "data": {
      "text/plain": [
       "['Наименование объекта закупки и его характеристики',\n",
       " 'Позиции по КТРУ, ОКПД2',\n",
       " 'Тип объекта закупки',\n",
       " 'Количество товара, объем работы, услуги,Единица измерения',\n",
       " 'Цена за единицу измерения, ₽',\n",
       " 'Сумма, ₽']"
      ]
     },
     "execution_count": 148,
     "metadata": {},
     "output_type": "execute_result"
    }
   ],
   "source": [
    "def read_table_budget(soup:BeautifulSoup) -> list:\n",
    "    soup = soup.find(\"table\", id='contract_subjects')\n",
    "    soup_table = soup.find_all(\"th\", class_='tableBlock__col tableBlock__col_header')\n",
    "    soup_table += soup.find_all(\"th\", class_='tableBlock__col tableBlock__col_right tableBlock__col_header')\n",
    "\n",
    "    list_result = []\n",
    "    for col_name in soup_table:\n",
    "        col_name = remove_bad_symbols(col_name.get_text())\n",
    "        if col_name != '':\n",
    "            list_result.append(col_name)\n",
    "\n",
    "    return list_result\n",
    "\n",
    "read_table_budget(soup)"
   ]
  },
  {
   "cell_type": "code",
   "execution_count": 150,
   "id": "d23af7f9",
   "metadata": {},
   "outputs": [
    {
     "name": "stdout",
     "output_type": "stream",
     "text": [
      "['Наименование объекта закупки и его характеристики', 'Позиции по КТРУ, ОКПД2', 'Тип объекта закупки', 'Количество товара, объем работы, услуги,Единица измерения', 'Цена за единицу измерения, ₽', 'Сумма, ₽']\n"
     ]
    }
   ],
   "source": [
    "def write_info_object(number_contract:str):\n",
    "    url_payment = \"https://zakupki.gov.ru/epz/contract/contractCard/payment-info-and-target-of-order.html?reestrNumber=\"\n",
    "    soup = get_page(f'{url_payment}{number_contract}')\n",
    "    table_columns = read_table_budget(soup)\n",
    "    print(table_columns)\n",
    "\n",
    "    \n",
    "number_contract = \"1666105550722000041\"\n",
    "write_info_object(number_contract)"
   ]
  },
  {
   "cell_type": "code",
   "execution_count": 143,
   "id": "cd4af281",
   "metadata": {},
   "outputs": [],
   "source": [
    "def read_table_budget(soup:BeautifulSoup) -> list:\n",
    "    soup_table = soup.find(\"table\", id='contract_subjects')\n",
    "    soup_table = soup_table.find(\"tbody\", class_='tableBlock__body')\n",
    "    list_values = soup_table.find_all('tr', class_='tableBlock__row')\n",
    "\n",
    "    return list_values\n",
    "\n",
    "for i in read_table_budget(soup)[1]:\n",
    "    if remove_bad_symbols(i.get_text()) != '':\n",
    "        print(remove_bad_symbols(i.get_text()))\n",
    "    else: \n",
    "        pass"
   ]
  },
  {
   "cell_type": "code",
   "execution_count": null,
   "id": "ba82df50",
   "metadata": {},
   "outputs": [],
   "source": [
    "def read_table_budget(soup) -> tuple[list, list]:\n",
    "    table_names = soup.find(\n",
    "        \"h2\", class_=\"blockInfo__title\", string=\"Информация о поставщиках\"\n",
    "    ).parent.find(\"tr\", class_=\"tableBlock__row\")\n",
    "\n",
    "    table_values = soup.find(\n",
    "        \"h2\", class_=\"blockInfo__title\", string=\"Информация о поставщиках\"\n",
    "    ).parent.find_all(\"td\", class_=\"tableBlock__col\")\n",
    "\n",
    "    if table_names is None or table_values is None:\n",
    "        \"логги\"\n",
    "        return None, None\n",
    "\n",
    "    list_table_values = [element for element in table_values if type(element) is bs4.element.Tag]\n",
    "    string = remove_bad_symbols(table_names.get_text())\n",
    "    names_columns = []\n",
    "    i_start = 0\n",
    "    i_status = False\n",
    "    for i in range(len(string)):\n",
    "        if string[i].isupper() and not i_status:\n",
    "            i_status = True\n",
    "            i_start = i\n",
    "        elif string[i].isupper() and i_status == True:\n",
    "            names_columns.append(string[i_start:i])\n",
    "            i_start = i\n",
    "        elif i == len(string) - 1:\n",
    "            names_columns.append(string[i_start : i + 1])\n",
    "    return names_columns, list_table_values"
   ]
  },
  {
   "cell_type": "code",
   "execution_count": 174,
   "id": "b78f4708",
   "metadata": {},
   "outputs": [],
   "source": [
    "number_contract = \"166610555072000041\"  \n",
    "inf = get_page('https://zakupki.gov.ru/epz/contract/contractCard/payment-info-and-target-of-order.html?reestrNumber=1784136222723')"
   ]
  },
  {
   "cell_type": "code",
   "execution_count": 177,
   "id": "5b8d39ab",
   "metadata": {},
   "outputs": [],
   "source": [
    "if inf is not None and inf.ok:\n",
    "    print(1)"
   ]
  },
  {
   "cell_type": "code",
   "execution_count": null,
   "id": "c698d588",
   "metadata": {},
   "outputs": [],
   "source": []
  }
 ],
 "metadata": {
  "kernelspec": {
   "display_name": "Python 3 (ipykernel)",
   "language": "python",
   "name": "python3"
  },
  "language_info": {
   "codemirror_mode": {
    "name": "ipython",
    "version": 3
   },
   "file_extension": ".py",
   "mimetype": "text/x-python",
   "name": "python",
   "nbconvert_exporter": "python",
   "pygments_lexer": "ipython3",
   "version": "3.10.6"
  }
 },
 "nbformat": 4,
 "nbformat_minor": 5
}
