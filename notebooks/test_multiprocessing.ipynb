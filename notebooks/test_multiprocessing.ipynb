{
 "cells": [
  {
   "cell_type": "code",
   "execution_count": 6,
   "metadata": {},
   "outputs": [],
   "source": [
    "import time\n",
    "import multiprocessing\n",
    "from multiprocessing import Process, Manager\n"
   ]
  },
  {
   "cell_type": "code",
   "execution_count": 7,
   "metadata": {},
   "outputs": [],
   "source": [
    "import queue\n",
    "\n",
    "q = queue.Queue([3, 4])"
   ]
  },
  {
   "cell_type": "code",
   "execution_count": 1,
   "metadata": {},
   "outputs": [
    {
     "name": "stdout",
     "output_type": "stream",
     "text": [
      "Выполнение заняло  3.28 секунд.\n"
     ]
    }
   ],
   "source": [
    "def task(n=100_000_000):\n",
    "    while n:\n",
    "        n -= 1\n",
    "\n",
    "if __name__  ==  '__main__':\n",
    "    start = time.perf_counter()\n",
    "\n",
    "    p1 = multiprocessing.Process(target=task)\n",
    "    p2 = multiprocessing.Process(target=task)\n",
    "\n",
    "    p1.start()\n",
    "    p2.start()\n",
    "\n",
    "    p1.join()\n",
    "    p2.join()\n",
    "\n",
    "    finish = time.perf_counter()\n",
    "\n",
    "    print(f'Выполнение заняло {finish-start: .2f} секунд.')"
   ]
  },
  {
   "cell_type": "code",
   "execution_count": 3,
   "metadata": {},
   "outputs": [
    {
     "data": {
      "text/plain": [
       "deque(['owl', 'owl1'])"
      ]
     },
     "execution_count": 3,
     "metadata": {},
     "output_type": "execute_result"
    }
   ],
   "source": [
    "from collections import deque\n",
    "deque(['owl', 'owl1'])"
   ]
  },
  {
   "cell_type": "code",
   "execution_count": 57,
   "metadata": {},
   "outputs": [
    {
     "name": "stdout",
     "output_type": "stream",
     "text": [
      "1 images/1.jpg\n",
      "2 images/2.jpg\n",
      "3 images/3.jpg\n",
      "4 images/4.jpg\n",
      "5 images/5.jpg\n",
      "Выполнение заняло  1.06 секунд.\n"
     ]
    }
   ],
   "source": [
    "from collections import deque\n",
    "\n",
    "parser = [1, 2, 3, 4, 5]\n",
    "\n",
    "filenames = deque([\n",
    "    'images/1.jpg',\n",
    "    'images/2.jpg',\n",
    "    'images/3.jpg',\n",
    "    'images/4.jpg',\n",
    "    'images/5.jpg',\n",
    "])\n",
    "\n",
    "def create_thumbnail(parser, filenames):\n",
    "    while filenames:\n",
    "        try:\n",
    "            text = filenames.pop()\n",
    "        except IndexError:\n",
    "            break\n",
    "\n",
    "        print(f'{parser} {text}')\n",
    "        time.sleep(1)\n",
    "\n",
    "if __name__ == '__main__':\n",
    "    manager = Manager()\n",
    "    filenames = manager.list()\n",
    "    filenames.extend([\n",
    "    'images/1.jpg',\n",
    "    'images/2.jpg',\n",
    "    'images/3.jpg',\n",
    "    'images/4.jpg',\n",
    "    'images/5.jpg',\n",
    "])\n",
    "    filenames.reverse()\n",
    "\n",
    "    start = time.perf_counter()\n",
    "\n",
    "\n",
    "    # создаем процесс\n",
    "    processes = [Process(target=create_thumbnail, args=[num_parser, filenames]) \n",
    "                for num_parser in parser]\n",
    "\n",
    "    # запускаем процесс\n",
    "    for process in processes:\n",
    "        process.start()\n",
    "\n",
    "    # дожидаемся выполнение\n",
    "    for process in processes:\n",
    "        process.join()\n",
    "\n",
    "    finish = time.perf_counter()\n",
    "\n",
    "    print(f'Выполнение заняло {finish-start: .2f} секунд.')"
   ]
  },
  {
   "cell_type": "code",
   "execution_count": null,
   "metadata": {},
   "outputs": [],
   "source": []
  }
 ],
 "metadata": {
  "kernelspec": {
   "display_name": "contract-dAdEAitF-py3.10",
   "language": "python",
   "name": "python3"
  },
  "language_info": {
   "codemirror_mode": {
    "name": "ipython",
    "version": 3
   },
   "file_extension": ".py",
   "mimetype": "text/x-python",
   "name": "python",
   "nbconvert_exporter": "python",
   "pygments_lexer": "ipython3",
   "version": "3.10.6"
  },
  "orig_nbformat": 4
 },
 "nbformat": 4,
 "nbformat_minor": 2
}
