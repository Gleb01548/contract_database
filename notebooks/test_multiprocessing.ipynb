{
 "cells": [
  {
   "cell_type": "code",
   "execution_count": 5,
   "metadata": {},
   "outputs": [],
   "source": [
    "import os\n",
    "import time\n",
    "import multiprocessing\n",
    "from multiprocessing import Process, Manager\n",
    "\n",
    "from src import GetNum, split_data, ParsingDataContract, extract_code_id, ParsingOrg"
   ]
  },
  {
   "cell_type": "code",
   "execution_count": 7,
   "metadata": {},
   "outputs": [],
   "source": [
    "import queue\n",
    "\n",
    "q = queue.Queue([3, 4])"
   ]
  },
  {
   "cell_type": "code",
   "execution_count": 1,
   "metadata": {},
   "outputs": [
    {
     "name": "stdout",
     "output_type": "stream",
     "text": [
      "Выполнение заняло  3.28 секунд.\n"
     ]
    }
   ],
   "source": [
    "def task(n=100_000_000):\n",
    "    while n:\n",
    "        n -= 1\n",
    "\n",
    "if __name__  ==  '__main__':\n",
    "    start = time.perf_counter()\n",
    "\n",
    "    p1 = multiprocessing.Process(target=task)\n",
    "    p2 = multiprocessing.Process(target=task)\n",
    "\n",
    "    p1.start()\n",
    "    p2.start()\n",
    "\n",
    "    p1.join()\n",
    "    p2.join()\n",
    "\n",
    "    finish = time.perf_counter()\n",
    "\n",
    "    print(f'Выполнение заняло {finish-start: .2f} секунд.')"
   ]
  },
  {
   "cell_type": "code",
   "execution_count": 3,
   "metadata": {},
   "outputs": [
    {
     "data": {
      "text/plain": [
       "deque(['owl', 'owl1'])"
      ]
     },
     "execution_count": 3,
     "metadata": {},
     "output_type": "execute_result"
    }
   ],
   "source": [
    "from collections import deque\n",
    "deque(['owl', 'owl1'])"
   ]
  },
  {
   "cell_type": "code",
   "execution_count": 3,
   "metadata": {},
   "outputs": [
    {
     "name": "stdout",
     "output_type": "stream",
     "text": [
      "1 images/1.jpg\n",
      "2 images/2.jpg\n",
      "3 images/3.jpg\n",
      "4 images/4.jpg\n",
      "1 images/5.jpg\n",
      "Выполнение заняло  2.03 секунд.\n"
     ]
    }
   ],
   "source": [
    "from collections import deque\n",
    "\n",
    "parser = [1, 2, 3, 4]\n",
    "\n",
    "filenames = deque([\n",
    "    'images/1.jpg',\n",
    "    'images/2.jpg',\n",
    "    'images/3.jpg',\n",
    "    'images/4.jpg',\n",
    "    'images/5.jpg',\n",
    "])\n",
    "\n",
    "def create_thumbnail(parser, filenames):\n",
    "    while filenames:\n",
    "        try:\n",
    "            text = filenames.pop()\n",
    "        except IndexError:\n",
    "            break\n",
    "\n",
    "        print(f'{parser} {text}')\n",
    "        time.sleep(1)\n",
    "\n",
    "if __name__ == '__main__':\n",
    "    manager = Manager()\n",
    "    filenames = manager.list()\n",
    "    filenames.extend([\n",
    "    'images/1.jpg',\n",
    "    'images/2.jpg',\n",
    "    'images/3.jpg',\n",
    "    'images/4.jpg',\n",
    "    'images/5.jpg',\n",
    "])\n",
    "    filenames.reverse()\n",
    "\n",
    "    start = time.perf_counter()\n",
    "\n",
    "    # создаем процесс\n",
    "    processes = [Process(target=create_thumbnail, args=[num_parser, filenames]) \n",
    "                for num_parser in parser]\n",
    "\n",
    "    # запускаем процесс\n",
    "    for process in processes:\n",
    "        process.start()\n",
    "\n",
    "    # дожидаемся выполнение\n",
    "    for process in processes:\n",
    "        process.join()\n",
    "\n",
    "    finish = time.perf_counter()\n",
    "\n",
    "    print(f'Выполнение заняло {finish-start: .2f} секунд.')"
   ]
  },
  {
   "cell_type": "code",
   "execution_count": null,
   "metadata": {},
   "outputs": [],
   "source": [
    "class pipline:\n",
    "    def __init__(self, input_dir:str, list_parser:list):\n",
    "        self.input_dir = input_dir\n",
    "        self.list_parser = list_parser\n",
    "\n",
    "        self.get_num = GetNum(\n",
    "            path_dir_input=f\"data/data_from_spendgov/{input_dir}\",\n",
    "            path_name_result=f\"data/contract_number/numbers/{input_dir}.csv\",\n",
    "            path_dir_log=\"logs/logs_get_num/\",\n",
    "        )\n",
    "\n",
    "def create_parsing_contract_process(self, parser, filenames):\n",
    "    while filenames:\n",
    "        try:\n",
    "            name_file_pars = filenames.pop()\n",
    "        except IndexError:\n",
    "            break\n",
    "\n",
    "    parsing_data = ParsingDataContract(\n",
    "        path_df=f\"data/contract_number/split_data/contract/{self.input_dir}/{name_file_pars}\",\n",
    "        path_output=\"data/raw_data/contract/\",\n",
    "        path_dir_log=\"logs/parsing_data/\",\n",
    "        path_contract_problem=\"data/contract_number/problem_contract/parsing_data/\",\n",
    "        parser=parser\n",
    "    )\n",
    "    parsing_data.run()\n",
    "\n",
    "def create_parsing_org_process(self, parser, filenames):\n",
    "    while filenames:\n",
    "        try:\n",
    "            name_file_pars = filenames.pop()\n",
    "        except IndexError:\n",
    "            break\n",
    "\n",
    "    parsing_org = ParsingOrg(\n",
    "        path_df=f\"data/contract_number/split_data/code/{self.input_dir}/{name_file_pars}\",\n",
    "        path_output=\"data/raw_data/org/\",\n",
    "        path_dir_log=\"logs/parsing_org/\",\n",
    "        path_contract_problem=\"data/contract_number/problem_contract/parsing_org\",\n",
    "        parser=parser,\n",
    "        )\n",
    "    parsing_org.run()\n",
    "\n",
    "def start_parsing_data(self, data_type:str = 'contract'):\n",
    "    if data_type == 'contract':\n",
    "        data_type = self.create_parsing_contract_process\n",
    "    elif data_type == 'org':\n",
    "        data_type = self.create_parsing_org_process\n",
    "    else:\n",
    "        print('Ошибка: Неверный аргумент data_type для start_parsing_data')\n",
    "        return None\n",
    "\n",
    "    manager = Manager()\n",
    "    filenames = manager.list()\n",
    "    list_files = os.listdir(f\"data/contract_number/split_data/contract/{self.input_dir}/\")\n",
    "    filenames.extend(list_files)\n",
    "    processes = [Process(target=data_type, args=[parser, filenames]) \n",
    "                for parser in self.list_parser]\n",
    "    \n",
    "    for process in processes:\n",
    "        process.start()\n",
    "    \n",
    "    for process in processes:\n",
    "        process.join()\n",
    "    \n",
    "    \n",
    "    def run(self):\n",
    "        self.get_num.run()\n",
    "\n",
    "        split_data(\n",
    "        path_data=f\"data/contract_number/numbers/{self.input_dir}.csv\",\n",
    "        path_output=\"data/contract_number/split_data/contract\",\n",
    "        n_split=500,\n",
    "        )\n",
    "\n",
    "        self.start_parsing_data(data_type='contract')\n",
    "\n",
    "        extract_code_id(\n",
    "        input_path=f\"data/raw_data/contract/{self.input_dir}/\",\n",
    "        path_global_set_code=\"data/global_cache/cache_code.csv\",\n",
    "        path_global_set_id=\"data/global_cache/cache_id.csv\",\n",
    "        output_path=\"data/contract_number/code_id\",\n",
    "        )\n",
    "\n",
    "        split_data(\n",
    "        path_data=f\"data/contract_number/code_id/{self.input_dir}/\",\n",
    "        path_output=\"data/contract_number/split_data/code/\",\n",
    "        n_split=500,\n",
    "        )\n",
    "\n",
    "        self.start_parsing_data(data_type='org')"
   ]
  },
  {
   "cell_type": "code",
   "execution_count": 4,
   "metadata": {},
   "outputs": [],
   "source": [
    "class owl:\n",
    "    def __init__(self, oo):\n",
    "        self.oo = oo\n",
    "    \n",
    "    def prin(self):\n",
    "        print(self.oo)\n",
    "\n",
    "qw = owl"
   ]
  },
  {
   "cell_type": "code",
   "execution_count": 5,
   "metadata": {},
   "outputs": [],
   "source": [
    "qw = qw('owl')"
   ]
  }
 ],
 "metadata": {
  "kernelspec": {
   "display_name": "contract-dAdEAitF-py3.10",
   "language": "python",
   "name": "python3"
  },
  "language_info": {
   "codemirror_mode": {
    "name": "ipython",
    "version": 3
   },
   "file_extension": ".py",
   "mimetype": "text/x-python",
   "name": "python",
   "nbconvert_exporter": "python",
   "pygments_lexer": "ipython3",
   "version": "3.10.12"
  },
  "orig_nbformat": 4
 },
 "nbformat": 4,
 "nbformat_minor": 2
}
