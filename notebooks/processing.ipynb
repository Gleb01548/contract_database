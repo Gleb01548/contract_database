{
 "cells": [
  {
   "cell_type": "code",
   "execution_count": 3,
   "metadata": {},
   "outputs": [
    {
     "name": "stdout",
     "output_type": "stream",
     "text": [
      "INFO: Pandarallel will run on 32 workers.\n",
      "INFO: Pandarallel will use Memory file system to transfer data between the main process and workers.\n"
     ]
    }
   ],
   "source": [
    "import os\n",
    "\n",
    "import pandas as pd\n",
    "from pandas import DataFrame, Series\n",
    "from tqdm.auto import tqdm\n",
    "from pandarallel import pandarallel\n",
    "\n",
    "tqdm.pandas()\n",
    "pandarallel.initialize(progress_bar=False)\n",
    "# Сброс ограничений на число столбцов\n",
    "pd.set_option(\"display.max_columns\", 200)\n",
    "\n",
    "# Сброс ограничений на количество символов в записи\n",
    "pd.set_option(\"display.max_colwidth\", 200)"
   ]
  },
  {
   "cell_type": "markdown",
   "metadata": {},
   "source": [
    "Что надо сделать:\n",
    "- заполнение бюджетного уровня\n",
    "- адресов заказчиков (найти плохие адреса и тоже их поменять)\n",
    "- дополнение адресов поставщиков (теже что по инн и ближайшие по времени)\n",
    "- расшифровка кбк \n",
    "- расшифровка адресов \n",
    "- "
   ]
  },
  {
   "cell_type": "code",
   "execution_count": 4,
   "metadata": {},
   "outputs": [],
   "source": [
    "df = pd.read_csv('../data/raw_data/contract/2014/0.csv', sep='|', dtype='str')"
   ]
  },
  {
   "cell_type": "code",
   "execution_count": 5,
   "metadata": {},
   "outputs": [
    {
     "data": {
      "text/plain": [
       "Index(['number_contract', 'adress_customer', 'full_name_customer',\n",
       "       'short_name_customer', 'unique_site_code', 'unique_site_id',\n",
       "       'id_customer', 'inn_customer', 'kpp_customer', 'code_form_org',\n",
       "       'okpo_code', 'municipal_code', 'budget_name', 'extrabudget_name',\n",
       "       'budget_level', 'contract_status', 'notice', 'ikz_code',\n",
       "       'id_contract_electronic', 'unique_number_plan',\n",
       "       'method_determinig_supplier', 'date_summarizing', 'date_posting',\n",
       "       'grouds_single_supplier', 'document_details', 'info_support',\n",
       "       'find_date_contract', 'date_performance', 'date_contract_registry',\n",
       "       'date_update_registry', 'date_start_performance',\n",
       "       'date_end_performance', 'contract_item', 'contract_price',\n",
       "       'contract_price_nds', 'prepayment_amount', 'performance_security',\n",
       "       'size_performance_quality', 'warranty_period', 'place_performance',\n",
       "       'full_name_supplier', 'inn_supplier', 'kpp_supplier',\n",
       "       'code_okpo_supplier', 'date_registration_supplier', 'country_supplier',\n",
       "       'code_country_supplier', 'adress_supplier', 'postal_adress_supplier',\n",
       "       'contact', 'status_supplier', 'kbk'],\n",
       "      dtype='object')"
      ]
     },
     "execution_count": 5,
     "metadata": {},
     "output_type": "execute_result"
    }
   ],
   "source": [
    "df.columns"
   ]
  },
  {
   "cell_type": "markdown",
   "metadata": {},
   "source": [
    "## Дополнение уровней бюджета"
   ]
  },
  {
   "cell_type": "code",
   "execution_count": 6,
   "metadata": {},
   "outputs": [],
   "source": [
    "list_local = ['Муниципальный уровень', \n",
    "            'местный бюджет']\n",
    "list_sub = ['Уровень субъекта РФ', \n",
    "            'бюджет субъекта Российской Федерации', \n",
    "            'бюджет территориального государственного внебюджетного фонда',\n",
    "            'бюджет территориального государственного внебюджетного фонда']\n",
    "list_fed = ['Федеральный уровень', \n",
    "            'федеральный бюджет', \n",
    "            'бюджет Пенсионного фонда Российской Федерации', \n",
    "            'бюджет Федерального фонда обязательного медицинского страхования', \n",
    "            'бюджет Фонда социального страхования Российской Федерации']\n",
    "\n",
    "list_local_2 = ['муниципаль', 'школа', 'детский сад']\n",
    "list_sub_2 = ['центр занятости населения', 'област', 'республи', 'края', 'край', 'краевое',\n",
    "              'здравоохране', 'профессиональн']\n",
    "list_fed_2 = ['войскавая', 'воениз', 'федеральн',\n",
    "              'следствен', 'пенсион', 'росгран', 'фгбу', 'всероссийс', \n",
    "             'университ']"
   ]
  },
  {
   "cell_type": "code",
   "execution_count": 7,
   "metadata": {},
   "outputs": [],
   "source": [
    "def fillna_budget_level(budget_level:str, full_name_customer:str):\n",
    "    for list_name, name in zip([list_local, list_sub, list_fed], ['местный', 'субъектовый', 'федеральный']):\n",
    "        for name_trigger in list_name:\n",
    "            if name_trigger.lower() in budget_level:\n",
    "                return name\n",
    "    \n",
    "    # если не получилось выделить данные из budget_level попробуем сделать это с full_name_customer\n",
    "    for list_name, name in zip([list_local_2, list_sub_2, list_fed_2], ['местный', 'субъектовый', 'федеральный']):\n",
    "        for name_trigger in list_name:\n",
    "            if name_trigger.lower() in full_name_customer:\n",
    "                return name\n",
    "    \n",
    "    return budget_level"
   ]
  },
  {
   "cell_type": "code",
   "execution_count": 8,
   "metadata": {},
   "outputs": [],
   "source": [
    "def processing_budget(X: Series):\n",
    "    budget_level = str(X['budget_level']).lower()\n",
    "    full_name_customer = str(X['full_name_customer']).lower()\n",
    "    \n",
    "    budget_level = fillna_budget_level(budget_level, full_name_customer)\n",
    "    return budget_level\n",
    "    "
   ]
  },
  {
   "cell_type": "code",
   "execution_count": 9,
   "metadata": {},
   "outputs": [],
   "source": [
    "df_test = df.copy()"
   ]
  },
  {
   "cell_type": "code",
   "execution_count": 10,
   "metadata": {},
   "outputs": [],
   "source": [
    "df_test['budget_level_new'] = df_test.apply(processing_budget, axis=1)"
   ]
  },
  {
   "cell_type": "code",
   "execution_count": 11,
   "metadata": {},
   "outputs": [
    {
     "data": {
      "text/plain": [
       "0"
      ]
     },
     "execution_count": 11,
     "metadata": {},
     "output_type": "execute_result"
    }
   ],
   "source": [
    "df_test['budget_level_new'].isnull().sum()"
   ]
  },
  {
   "cell_type": "code",
   "execution_count": 12,
   "metadata": {},
   "outputs": [
    {
     "name": "stderr",
     "output_type": "stream",
     "text": [
      "100%|██████████| 479/479 [26:40<00:00,  3.34s/it]\n"
     ]
    }
   ],
   "source": [
    "## проверка на других данных\n",
    "path_test = '../data/raw_data/contract/2014/'\n",
    "list_problem = []\n",
    "for file_name in tqdm(os.listdir(path_test)):\n",
    "    df_test_now = pd.read_csv(os.path.join(path_test, file_name), sep='|', dtype='str')\n",
    "    df_test_now['budget_level_new'] = df_test_now.parallel_apply(processing_budget, axis=1)\n",
    "    if df_test['budget_level_new'].isnull().sum() == 0:\n",
    "        continue\n",
    "    else:\n",
    "        list_problem.append((file_name, df_test['budget_level_new'].isnull().sum()))\n",
    "    "
   ]
  },
  {
   "cell_type": "code",
   "execution_count": 13,
   "metadata": {},
   "outputs": [
    {
     "data": {
      "text/plain": [
       "[]"
      ]
     },
     "execution_count": 13,
     "metadata": {},
     "output_type": "execute_result"
    }
   ],
   "source": [
    "list_problem"
   ]
  }
 ],
 "metadata": {
  "kernelspec": {
   "display_name": "contract-Fr7eyqb1-py3.10",
   "language": "python",
   "name": "python3"
  },
  "language_info": {
   "codemirror_mode": {
    "name": "ipython",
    "version": 3
   },
   "file_extension": ".py",
   "mimetype": "text/x-python",
   "name": "python",
   "nbconvert_exporter": "python",
   "pygments_lexer": "ipython3",
   "version": "3.10.12"
  },
  "orig_nbformat": 4
 },
 "nbformat": 4,
 "nbformat_minor": 2
}
