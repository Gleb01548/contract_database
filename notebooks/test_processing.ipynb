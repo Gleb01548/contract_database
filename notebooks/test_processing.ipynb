{
 "cells": [
  {
   "cell_type": "code",
   "execution_count": 1,
   "metadata": {},
   "outputs": [
    {
     "name": "stdout",
     "output_type": "stream",
     "text": [
      "INFO: Pandarallel will run on 32 workers.\n",
      "INFO: Pandarallel will use Memory file system to transfer data between the main process and workers.\n"
     ]
    },
    {
     "name": "stderr",
     "output_type": "stream",
     "text": [
      "/home/gleb/.cache/pypoetry/virtualenvs/contract-Fr7eyqb1-py3.10/lib/python3.10/site-packages/tqdm/auto.py:21: TqdmWarning: IProgress not found. Please update jupyter and ipywidgets. See https://ipywidgets.readthedocs.io/en/stable/user_install.html\n",
      "  from .autonotebook import tqdm as notebook_tqdm\n"
     ]
    }
   ],
   "source": [
    "import os\n",
    "import re\n",
    "import datetime\n",
    "import copy\n",
    "\n",
    "import numpy as np\n",
    "import pandas as pd\n",
    "from pandas import DataFrame, Series\n",
    "from tqdm.auto import tqdm\n",
    "from pandarallel import pandarallel\n",
    "\n",
    "tqdm.pandas()\n",
    "pandarallel.initialize(progress_bar=False)\n",
    "# Сброс ограничений на число столбцов\n",
    "pd.set_option(\"display.max_columns\", 200)\n",
    "\n",
    "# Сброс ограничений на количество символов в записи\n",
    "pd.set_option(\"display.max_colwidth\", 200)"
   ]
  },
  {
   "cell_type": "markdown",
   "metadata": {},
   "source": [
    "Что нужно сделать: \n",
    "- добавить удаление плохих символов в get_num \n",
    "- удалить location из parsing_org\n",
    "- добавиьт колонку с type_code"
   ]
  },
  {
   "cell_type": "markdown",
   "metadata": {},
   "source": [
    "Что надо сделать:\n",
    "- обработка данных организаций\n",
    "    - Обаработать даты\n",
    "    - Убрать organization_level, добавить уровень бюджета\n",
    "\n",
    "\n",
    "- заполнение бюджетного уровня + (найти данные за 2014 год по кодам видов расходов)\n",
    "- адресов заказчиков (найти плохие адреса и тоже их поменять) +\n",
    "- дополнение адресов поставщиков (теже что по инн и ближайшие по времени)\n",
    "- расшифровка кбк +  \n",
    "- расшифровка адресов \n",
    "- обработка дат +"
   ]
  },
  {
   "cell_type": "markdown",
   "metadata": {},
   "source": [
    "## Обработка данных организаций"
   ]
  },
  {
   "cell_type": "code",
   "execution_count": 13,
   "metadata": {},
   "outputs": [
    {
     "data": {
      "text/plain": [
       "(4499, 35)"
      ]
     },
     "execution_count": 13,
     "metadata": {},
     "output_type": "execute_result"
    }
   ],
   "source": [
    "df = pd.read_csv(\"../data/raw_data/org/2014/0.csv\", sep=\"|\", dtype=\"str\")\n",
    "df.shape"
   ]
  },
  {
   "cell_type": "code",
   "execution_count": 3,
   "metadata": {},
   "outputs": [
    {
     "data": {
      "text/html": [
       "<div>\n",
       "<style scoped>\n",
       "    .dataframe tbody tr th:only-of-type {\n",
       "        vertical-align: middle;\n",
       "    }\n",
       "\n",
       "    .dataframe tbody tr th {\n",
       "        vertical-align: top;\n",
       "    }\n",
       "\n",
       "    .dataframe thead th {\n",
       "        text-align: right;\n",
       "    }\n",
       "</style>\n",
       "<table border=\"1\" class=\"dataframe\">\n",
       "  <thead>\n",
       "    <tr style=\"text-align: right;\">\n",
       "      <th></th>\n",
       "      <th>0</th>\n",
       "    </tr>\n",
       "  </thead>\n",
       "  <tbody>\n",
       "    <tr>\n",
       "      <th>code</th>\n",
       "      <td>0</td>\n",
       "    </tr>\n",
       "    <tr>\n",
       "      <th>code_type</th>\n",
       "      <td>0</td>\n",
       "    </tr>\n",
       "    <tr>\n",
       "      <th>access_blocking</th>\n",
       "      <td>4499</td>\n",
       "    </tr>\n",
       "    <tr>\n",
       "      <th>full_name</th>\n",
       "      <td>0</td>\n",
       "    </tr>\n",
       "    <tr>\n",
       "      <th>short_name</th>\n",
       "      <td>268</td>\n",
       "    </tr>\n",
       "    <tr>\n",
       "      <th>adress</th>\n",
       "      <td>0</td>\n",
       "    </tr>\n",
       "    <tr>\n",
       "      <th>code_registr</th>\n",
       "      <td>45</td>\n",
       "    </tr>\n",
       "    <tr>\n",
       "      <th>date_registration</th>\n",
       "      <td>0</td>\n",
       "    </tr>\n",
       "    <tr>\n",
       "      <th>date_last_change</th>\n",
       "      <td>255</td>\n",
       "    </tr>\n",
       "    <tr>\n",
       "      <th>inn</th>\n",
       "      <td>0</td>\n",
       "    </tr>\n",
       "    <tr>\n",
       "      <th>kpp</th>\n",
       "      <td>0</td>\n",
       "    </tr>\n",
       "    <tr>\n",
       "      <th>ogrn</th>\n",
       "      <td>0</td>\n",
       "    </tr>\n",
       "    <tr>\n",
       "      <th>oktmo</th>\n",
       "      <td>45</td>\n",
       "    </tr>\n",
       "    <tr>\n",
       "      <th>location</th>\n",
       "      <td>0</td>\n",
       "    </tr>\n",
       "    <tr>\n",
       "      <th>iky</th>\n",
       "      <td>5</td>\n",
       "    </tr>\n",
       "    <tr>\n",
       "      <th>date_iky</th>\n",
       "      <td>5</td>\n",
       "    </tr>\n",
       "    <tr>\n",
       "      <th>code_okfs</th>\n",
       "      <td>255</td>\n",
       "    </tr>\n",
       "    <tr>\n",
       "      <th>name_property</th>\n",
       "      <td>9</td>\n",
       "    </tr>\n",
       "    <tr>\n",
       "      <th>okpf_code</th>\n",
       "      <td>9</td>\n",
       "    </tr>\n",
       "    <tr>\n",
       "      <th>okopf_name</th>\n",
       "      <td>82</td>\n",
       "    </tr>\n",
       "    <tr>\n",
       "      <th>credentials</th>\n",
       "      <td>255</td>\n",
       "    </tr>\n",
       "    <tr>\n",
       "      <th>date_registration_tax</th>\n",
       "      <td>5</td>\n",
       "    </tr>\n",
       "    <tr>\n",
       "      <th>organization_type</th>\n",
       "      <td>255</td>\n",
       "    </tr>\n",
       "    <tr>\n",
       "      <th>organization_level</th>\n",
       "      <td>255</td>\n",
       "    </tr>\n",
       "    <tr>\n",
       "      <th>okpo_code</th>\n",
       "      <td>4</td>\n",
       "    </tr>\n",
       "    <tr>\n",
       "      <th>okfd_code</th>\n",
       "      <td>9</td>\n",
       "    </tr>\n",
       "    <tr>\n",
       "      <th>budget_code</th>\n",
       "      <td>10</td>\n",
       "    </tr>\n",
       "    <tr>\n",
       "      <th>budget_name</th>\n",
       "      <td>10</td>\n",
       "    </tr>\n",
       "    <tr>\n",
       "      <th>telephone</th>\n",
       "      <td>14</td>\n",
       "    </tr>\n",
       "    <tr>\n",
       "      <th>fax</th>\n",
       "      <td>16</td>\n",
       "    </tr>\n",
       "    <tr>\n",
       "      <th>postal_adress</th>\n",
       "      <td>4499</td>\n",
       "    </tr>\n",
       "    <tr>\n",
       "      <th>email</th>\n",
       "      <td>1048</td>\n",
       "    </tr>\n",
       "    <tr>\n",
       "      <th>site</th>\n",
       "      <td>708</td>\n",
       "    </tr>\n",
       "    <tr>\n",
       "      <th>contact_person</th>\n",
       "      <td>11</td>\n",
       "    </tr>\n",
       "    <tr>\n",
       "      <th>time_zone</th>\n",
       "      <td>4</td>\n",
       "    </tr>\n",
       "  </tbody>\n",
       "</table>\n",
       "</div>"
      ],
      "text/plain": [
       "                          0\n",
       "code                      0\n",
       "code_type                 0\n",
       "access_blocking        4499\n",
       "full_name                 0\n",
       "short_name              268\n",
       "adress                    0\n",
       "code_registr             45\n",
       "date_registration         0\n",
       "date_last_change        255\n",
       "inn                       0\n",
       "kpp                       0\n",
       "ogrn                      0\n",
       "oktmo                    45\n",
       "location                  0\n",
       "iky                       5\n",
       "date_iky                  5\n",
       "code_okfs               255\n",
       "name_property             9\n",
       "okpf_code                 9\n",
       "okopf_name               82\n",
       "credentials             255\n",
       "date_registration_tax     5\n",
       "organization_type       255\n",
       "organization_level      255\n",
       "okpo_code                 4\n",
       "okfd_code                 9\n",
       "budget_code              10\n",
       "budget_name              10\n",
       "telephone                14\n",
       "fax                      16\n",
       "postal_adress          4499\n",
       "email                  1048\n",
       "site                    708\n",
       "contact_person           11\n",
       "time_zone                 4"
      ]
     },
     "execution_count": 3,
     "metadata": {},
     "output_type": "execute_result"
    }
   ],
   "source": [
    "pd.DataFrame(df.isnull().sum())"
   ]
  },
  {
   "cell_type": "markdown",
   "metadata": {},
   "source": [
    "### Обработка дат"
   ]
  },
  {
   "cell_type": "code",
   "execution_count": 4,
   "metadata": {},
   "outputs": [
    {
     "data": {
      "text/html": [
       "<div>\n",
       "<style scoped>\n",
       "    .dataframe tbody tr th:only-of-type {\n",
       "        vertical-align: middle;\n",
       "    }\n",
       "\n",
       "    .dataframe tbody tr th {\n",
       "        vertical-align: top;\n",
       "    }\n",
       "\n",
       "    .dataframe thead th {\n",
       "        text-align: right;\n",
       "    }\n",
       "</style>\n",
       "<table border=\"1\" class=\"dataframe\">\n",
       "  <thead>\n",
       "    <tr style=\"text-align: right;\">\n",
       "      <th></th>\n",
       "      <th>date_registration</th>\n",
       "      <th>date_last_change</th>\n",
       "      <th>date_registration_tax</th>\n",
       "      <th>date_iky</th>\n",
       "    </tr>\n",
       "  </thead>\n",
       "  <tbody>\n",
       "    <tr>\n",
       "      <th>0</th>\n",
       "      <td>02.12.2016</td>\n",
       "      <td>20.07.2021 22:45:35</td>\n",
       "      <td>16.09.2010</td>\n",
       "      <td>36423235526642301001</td>\n",
       "    </tr>\n",
       "    <tr>\n",
       "      <th>1</th>\n",
       "      <td>22.07.2016</td>\n",
       "      <td>05.08.2022 03:17:01</td>\n",
       "      <td>01.07.1990</td>\n",
       "      <td>24909004514490901001</td>\n",
       "    </tr>\n",
       "    <tr>\n",
       "      <th>2</th>\n",
       "      <td>18.11.2016</td>\n",
       "      <td>04.07.2023 07:18:30</td>\n",
       "      <td>16.09.1996</td>\n",
       "      <td>35052008899505001001</td>\n",
       "    </tr>\n",
       "    <tr>\n",
       "      <th>3</th>\n",
       "      <td>25.07.2016</td>\n",
       "      <td>24.01.2023 15:29:08</td>\n",
       "      <td>14.10.1992</td>\n",
       "      <td>27801033297780101001</td>\n",
       "    </tr>\n",
       "    <tr>\n",
       "      <th>4</th>\n",
       "      <td>19.07.2016</td>\n",
       "      <td>20.06.2022 16:14:31</td>\n",
       "      <td>10.05.2017</td>\n",
       "      <td>35721001232572101001</td>\n",
       "    </tr>\n",
       "    <tr>\n",
       "      <th>...</th>\n",
       "      <td>...</td>\n",
       "      <td>...</td>\n",
       "      <td>...</td>\n",
       "      <td>...</td>\n",
       "    </tr>\n",
       "    <tr>\n",
       "      <th>4494</th>\n",
       "      <td>21.07.2016</td>\n",
       "      <td>06.12.2022 10:52:30</td>\n",
       "      <td>24.10.2022</td>\n",
       "      <td>37012003880701201001</td>\n",
       "    </tr>\n",
       "    <tr>\n",
       "      <th>4495</th>\n",
       "      <td>19.12.2016</td>\n",
       "      <td>10.12.2021 17:02:30</td>\n",
       "      <td>23.08.2021</td>\n",
       "      <td>35053033947505301001</td>\n",
       "    </tr>\n",
       "    <tr>\n",
       "      <th>4496</th>\n",
       "      <td>13.12.2016</td>\n",
       "      <td>15.03.2023 19:07:51</td>\n",
       "      <td>28.03.2022</td>\n",
       "      <td>33024000502302301001</td>\n",
       "    </tr>\n",
       "    <tr>\n",
       "      <th>4497</th>\n",
       "      <td>31.12.2010</td>\n",
       "      <td>NaN</td>\n",
       "      <td>29.10.1999</td>\n",
       "      <td>38901010312890101001</td>\n",
       "    </tr>\n",
       "    <tr>\n",
       "      <th>4498</th>\n",
       "      <td>18.10.2016</td>\n",
       "      <td>18.02.2023 17:13:20</td>\n",
       "      <td>29.11.1991</td>\n",
       "      <td>35077007093507701001</td>\n",
       "    </tr>\n",
       "  </tbody>\n",
       "</table>\n",
       "<p>4499 rows × 4 columns</p>\n",
       "</div>"
      ],
      "text/plain": [
       "     date_registration     date_last_change date_registration_tax  \\\n",
       "0           02.12.2016  20.07.2021 22:45:35            16.09.2010   \n",
       "1           22.07.2016  05.08.2022 03:17:01            01.07.1990   \n",
       "2           18.11.2016  04.07.2023 07:18:30            16.09.1996   \n",
       "3           25.07.2016  24.01.2023 15:29:08            14.10.1992   \n",
       "4           19.07.2016  20.06.2022 16:14:31            10.05.2017   \n",
       "...                ...                  ...                   ...   \n",
       "4494        21.07.2016  06.12.2022 10:52:30            24.10.2022   \n",
       "4495        19.12.2016  10.12.2021 17:02:30            23.08.2021   \n",
       "4496        13.12.2016  15.03.2023 19:07:51            28.03.2022   \n",
       "4497        31.12.2010                  NaN            29.10.1999   \n",
       "4498        18.10.2016  18.02.2023 17:13:20            29.11.1991   \n",
       "\n",
       "                  date_iky  \n",
       "0     36423235526642301001  \n",
       "1     24909004514490901001  \n",
       "2     35052008899505001001  \n",
       "3     27801033297780101001  \n",
       "4     35721001232572101001  \n",
       "...                    ...  \n",
       "4494  37012003880701201001  \n",
       "4495  35053033947505301001  \n",
       "4496  33024000502302301001  \n",
       "4497  38901010312890101001  \n",
       "4498  35077007093507701001  \n",
       "\n",
       "[4499 rows x 4 columns]"
      ]
     },
     "execution_count": 4,
     "metadata": {},
     "output_type": "execute_result"
    }
   ],
   "source": [
    "df[[\"date_registration\", \"date_last_change\", \"date_registration_tax\", \"date_iky\"]]"
   ]
  },
  {
   "cell_type": "code",
   "execution_count": 15,
   "metadata": {},
   "outputs": [],
   "source": [
    "daict_month = {\n",
    "    \"января\": \"01\",\n",
    "    \"февраля\": \"02\",\n",
    "    \"марта\": \"03\",\n",
    "    \"апреля\": \"04\",\n",
    "    \"мая\": \"05\",\n",
    "    \"июня\": \"06\",\n",
    "    \"июля\": \"07\",\n",
    "    \"августа\": \"08\",\n",
    "    \"сентября\": \"09\",\n",
    "    \"октября\": \"10\",\n",
    "    \"ноября\": \"11\",\n",
    "    \"декабря\": \"12\",\n",
    "}\n",
    "\n",
    "\n",
    "def date_extract(date: str, uniq_number):\n",
    "    date_copy = date\n",
    "    if not date or date == '--.--.----':\n",
    "        return None\n",
    "\n",
    "    date = date.replace(\"Загрузка ...\", \"\").strip()\n",
    "    try:\n",
    "        return datetime.datetime.strptime(date, \"%d.%m.%Y\").date()\n",
    "    except ValueError:\n",
    "        pass\n",
    "\n",
    "    try:\n",
    "        return datetime.datetime.strptime(date[:10], \"%d.%m.%Y\").date()\n",
    "    except ValueError:\n",
    "        pass\n",
    "\n",
    "    try:\n",
    "        return datetime.datetime.strptime(date.split()[0], \"%d.%m.%Y\").date()\n",
    "    except ValueError:\n",
    "        pass\n",
    "\n",
    "    for key, value in daict_month.items():\n",
    "        if key in date:\n",
    "            date = date.replace(key, value)\n",
    "            date = \".\".join(date.split())\n",
    "\n",
    "    date = date.split(\".\")\n",
    "\n",
    "    if len(date) == 2:\n",
    "        date = \".\".join([\"01\"] + date)\n",
    "        return datetime.datetime.strptime(date[:10], \"%d.%m.%Y\").date()\n",
    "    # логи\n",
    "    print(uniq_number)\n",
    "    print(date)"
   ]
  },
  {
   "cell_type": "code",
   "execution_count": 16,
   "metadata": {},
   "outputs": [],
   "source": [
    "def processing_date_org(df: Series, columns: list):\n",
    "    dict_result = {}\n",
    "    # если мы получает nan при обращении к дате в DataFrame, то\n",
    "    # np.nan == nan возращает False, однако у nan type float, когда у всех дат str\n",
    "    uniq_number = df[\"code\"]\n",
    "\n",
    "    date_registration = df[\"date_registration\"] if type(df[\"date_registration\"]) == str else None\n",
    "    date_last_change = df[\"date_last_change\"] if type(df[\"date_last_change\"]) == str else None\n",
    "    date_registration_tax = (\n",
    "        df[\"date_registration_tax\"] if type(df[\"date_registration_tax\"]) == str else None\n",
    "    )\n",
    "    date_iky = df[\"date_iky\"] if type(df[\"date_iky\"]) == str else None\n",
    "\n",
    "    dict_result[\"date_registration\"] = date_extract(date_registration, uniq_number)\n",
    "    dict_result[\"date_last_change\"] = date_extract(date_last_change, uniq_number)\n",
    "    dict_result[\"date_registration_tax\"] = date_extract(date_registration_tax, uniq_number)\n",
    "    #dict_result[\"date_iky\"] = date_extract(date_iky, uniq_number)\n",
    "\n",
    "    return pd.Series(dict_result)[columns].to_list()"
   ]
  },
  {
   "cell_type": "code",
   "execution_count": 17,
   "metadata": {},
   "outputs": [],
   "source": [
    "df_copy = df.copy()"
   ]
  },
  {
   "cell_type": "code",
   "execution_count": 18,
   "metadata": {},
   "outputs": [],
   "source": [
    "df_copy = df.copy()"
   ]
  },
  {
   "cell_type": "code",
   "execution_count": 19,
   "metadata": {},
   "outputs": [
    {
     "data": {
      "text/html": [
       "<div>\n",
       "<style scoped>\n",
       "    .dataframe tbody tr th:only-of-type {\n",
       "        vertical-align: middle;\n",
       "    }\n",
       "\n",
       "    .dataframe tbody tr th {\n",
       "        vertical-align: top;\n",
       "    }\n",
       "\n",
       "    .dataframe thead th {\n",
       "        text-align: right;\n",
       "    }\n",
       "</style>\n",
       "<table border=\"1\" class=\"dataframe\">\n",
       "  <thead>\n",
       "    <tr style=\"text-align: right;\">\n",
       "      <th></th>\n",
       "      <th>date_registration</th>\n",
       "      <th>date_last_change</th>\n",
       "      <th>date_registration_tax</th>\n",
       "    </tr>\n",
       "  </thead>\n",
       "  <tbody>\n",
       "    <tr>\n",
       "      <th>3885</th>\n",
       "      <td>--.--.----</td>\n",
       "      <td>NaN</td>\n",
       "      <td>NaN</td>\n",
       "    </tr>\n",
       "  </tbody>\n",
       "</table>\n",
       "</div>"
      ],
      "text/plain": [
       "     date_registration date_last_change date_registration_tax\n",
       "3885        --.--.----              NaN                   NaN"
      ]
     },
     "execution_count": 19,
     "metadata": {},
     "output_type": "execute_result"
    }
   ],
   "source": [
    "df.loc[df.code == '03113003261', [\"date_registration\", \"date_last_change\", \"date_registration_tax\"]]"
   ]
  },
  {
   "cell_type": "code",
   "execution_count": 21,
   "metadata": {},
   "outputs": [
    {
     "name": "stderr",
     "output_type": "stream",
     "text": [
      "100%|██████████| 40/40 [00:29<00:00,  1.38it/s]\n"
     ]
    }
   ],
   "source": [
    "columns = [\"date_registration\", \"date_last_change\", \"date_registration_tax\"]\n",
    "for file_name in tqdm(\n",
    "    sorted(os.listdir(\"../data/raw_data/org/2014/\"), key=lambda x: int(x.removesuffix(\".csv\")))\n",
    "):\n",
    "    df_now = pd.read_csv(\n",
    "        os.path.join(\"../data/raw_data/org/2014/\", file_name), sep=\"|\", dtype=\"str\"\n",
    "    )\n",
    "    df_now[columns] = df_now.parallel_apply(\n",
    "        lambda x: processing_date_org(x, columns), axis=1, result_type=\"expand\"\n",
    "    )"
   ]
  },
  {
   "cell_type": "markdown",
   "metadata": {},
   "source": [
    "### Выделение уровнею бюджета"
   ]
  },
  {
   "cell_type": "code",
   "execution_count": 23,
   "metadata": {},
   "outputs": [],
   "source": [
    "list_local = [\"муниципальный уровень\", \"местный бюджет\"]\n",
    "list_sub = [\n",
    "    \"уровень субъекта рф\",\n",
    "    \"бюджет субъекта российской федерации\",\n",
    "    \"бюджет территориального государственного внебюджетного фонда\",\n",
    "    \"бюджет территориального государственного внебюджетного фонда\",\n",
    "]\n",
    "list_fed = [\n",
    "    \"федеральный уровень\",\n",
    "    \"федеральный бюджет\",\n",
    "    \"бюджет пенсионного фонда российской федерации\",\n",
    "    \"бюджет федерального фонда обязательного медицинского страхования\",\n",
    "    \"бюджет фонда социального страхования российской федерации\",\n",
    "]\n",
    "\n",
    "list_fed_2 = [\n",
    "    \"войскавая\",\n",
    "    \"войсковая\",\n",
    "    \"воениз\",\n",
    "    \"федеральн\",\n",
    "    \"район водных путей и судоходства\",\n",
    "    \"следвест\",\n",
    "    \"пенсион\",\n",
    "    \"росган\",\n",
    "    \"фгбу\",\n",
    "    \"всероссийс\",\n",
    "    \" фбу\",\n",
    "    \"прокурату\",\n",
    "    \"университ\",\n",
    "    \"научно-исследователь\",\n",
    "    \"государственное научное учреждение\",\n",
    "    \"росграниц\",\n",
    "    \"российской академии наук\",\n",
    "    \"внутренних дел\",\n",
    "]\n",
    "list_local_2 = [\n",
    "    \"муниципал\",\n",
    "    \"школа\",\n",
    "    \"детский сад\",\n",
    "    \"городского поселения\",\n",
    "    \"городского округа\",\n",
    "    \"администрация рабочего поселка\",\n",
    "]\n",
    "list_sub_2 = [\n",
    "    \"центр занятости населения\",\n",
    "    \"област\",\n",
    "    \"республи\",\n",
    "    \"края\",\n",
    "    \"край\",\n",
    "    \"краев\",\n",
    "    \"города\",\n",
    "    \"автоном\",\n",
    "    \"oбластное\",\n",
    "    \"здравоохране\",\n",
    "    \"больниц\",\n",
    "    \"родильный дом\",\n",
    "    \"профессиональн\",\n",
    "    \"детский дом\",\n",
    "    \"дом-интернат\",\n",
    "    \"социальн\",\n",
    "    \"поликлиник\",\n",
    "    \"больниц\",\n",
    "    \"государственное бюджетное общеобразовательное учреждение\",\n",
    "    \"государственное бюджетное образовательное учреждение\",\n",
    "    \"медико-санитарная часть\",\n",
    "    \"московское государственное унитарное предприятие\",\n",
    "    \"учреждение культуры города\",\n",
    "    \"государственное бюджетное учреждение культуры\",\n",
    "    \"центр социального обслуживания\",\n",
    "    \"социального обслуживания граждан\",\n",
    "    \"стоматологическая поликлиника\",\n",
    "    \"центр для детей-сирот и детей\",\n",
    "    \"санкт-петербургс\",\n",
    "    \"фонд социального страхования российской федерации\",\n",
    "    \"государственное бюджетное учреждение\",\n",
    "    \"инспекция труда\",\n",
    "]\n",
    "list_anothe = [\n",
    "    \"акционерное общество\",\n",
    "    \"завод\",\n",
    "    \"акционерное московское общество\",\n",
    "    \"общество с ограниченной ответственностью\",\n",
    "]\n",
    "list_fed_3 = []\n",
    "list_sub_3 = [\n",
    "    \"ветеринар\",\n",
    "]\n",
    "list_local_3 = [\"района\", \"сельск\"]\n",
    "\n",
    "inn_sub = {\n",
    "    \"7727795994\": 'Государственное бюджетное научное учреждение \"Московский институт развития образования\"',\n",
    "    \"4205050521\": 'государственное учреждение \"Кузбасспассажиравтотранс\"',\n",
    "}\n",
    "inn_fed = {\"7704193182\": \"Региональное оперативно-поисковое управление\"}\n",
    "inn_mun = {}\n",
    "\n",
    "name_for_result = [\"местный\", \"субъектовый\", \"федеральный\", \"иное\"]\n",
    "\n",
    "def fillna_budget_level(budget_level: str, full_name_customer: str, inn_customer: str):\n",
    "    for list_name, name in zip(\n",
    "        [list_local, list_sub, list_fed], [\"местный\", \"субъектовый\", \"федеральный\"]\n",
    "    ):\n",
    "        for name_trigger in list_name:\n",
    "            if name_trigger.lower() in budget_level:\n",
    "                return name\n",
    "\n",
    "    # если не получилось выделить данные из budget_level попробуем сделать это с full_name_customer\n",
    "    for list_name, name in zip(\n",
    "        [list_fed_2, list_local_2, list_sub_2, list_anothe],\n",
    "        [\"федеральный\", \"местный\", \"субъектовый\", \"иное\"],\n",
    "    ):\n",
    "        for name_trigger in list_name:\n",
    "            if name_trigger.lower() in full_name_customer:\n",
    "                return name\n",
    "\n",
    "    for list_name, name in zip(\n",
    "        [list_fed_3, list_local_3, list_sub_3], [\"федеральный\", \"местный\", \"субъектовый\", \"иное\"]\n",
    "    ):\n",
    "        for name_trigger in list_name:\n",
    "            if name_trigger.lower() in full_name_customer:\n",
    "                return name\n",
    "\n",
    "    for inn_dict, name in zip(\n",
    "        [inn_mun, inn_sub, inn_fed], [\"местный\", \"субъектовый\", \"федеральный\"]\n",
    "    ):\n",
    "        for inn in inn_dict.keys():\n",
    "            if inn == inn_customer:\n",
    "                return name\n",
    "\n",
    "    return np.nan"
   ]
  },
  {
   "cell_type": "code",
   "execution_count": null,
   "metadata": {},
   "outputs": [],
   "source": [
    "def processing_date_org(df: Series, columns: list):\n",
    "    dict_result = {}\n",
    "    # если мы получает nan при обращении к дате в DataFrame, то\n",
    "    # np.nan == nan возращает False, однако у nan type float, когда у всех дат str   \n",
    "    uniq_number = df[\"code\"]\n",
    "\n",
    "    date_registration = df[\"date_registration\"] if type(df[\"date_registration\"]) == str else None\n",
    "    date_last_change = df[\"date_last_change\"] if type(df[\"date_last_change\"]) == str else None\n",
    "    date_registration_tax = (\n",
    "        df[\"date_registration_tax\"] if type(df[\"date_registration_tax\"]) == str else None\n",
    "    )\n",
    "    date_iky = df[\"date_iky\"] if type(df[\"date_iky\"]) == str else None\n",
    "\n",
    "    dict_result[\"date_registration\"] = date_extract(date_registration, uniq_number)\n",
    "    dict_result[\"date_last_change\"] = date_extract(date_last_change, uniq_number)\n",
    "    dict_result[\"date_registration_tax\"] = date_extract(date_registration_tax, uniq_number)\n",
    "    #dict_result[\"date_iky\"] = date_extract(date_iky, uniq_number)\n",
    "    \n",
    "    # определяем уровень бюджета\n",
    "    budget_level = str(df[\"budget_level\"]).lower() if type(df[\"budget_level\"]) == str else None\n",
    "    full_name_customer = str(df[\"full_name_customer\"]).lower()\n",
    "    inn_customer = str(df[\"inn_customer\"])\n",
    "    budget_level = fillna_budget_level(budget_level, full_name_customer, unique_code)\n",
    "    \n",
    "    \n",
    "\n",
    "    return pd.Series(dict_result)[columns].to_list()"
   ]
  },
  {
   "cell_type": "markdown",
   "metadata": {},
   "source": [
    "## Обработка данных по контрактам"
   ]
  },
  {
   "cell_type": "code",
   "execution_count": 94,
   "metadata": {},
   "outputs": [],
   "source": [
    "df = pd.read_csv(\"../data/raw_data/contract/2014/0.csv\", sep=\"|\", dtype=\"str\")"
   ]
  },
  {
   "cell_type": "code",
   "execution_count": 95,
   "metadata": {},
   "outputs": [
    {
     "data": {
      "text/plain": [
       "Index(['number_contract', 'adress_customer', 'full_name_customer',\n",
       "       'short_name_customer', 'unique_site_code', 'unique_site_id',\n",
       "       'id_customer', 'inn_customer', 'kpp_customer', 'code_form_org',\n",
       "       'okpo_code', 'municipal_code', 'budget_name', 'extrabudget_name',\n",
       "       'budget_level', 'contract_status', 'notice', 'ikz_code',\n",
       "       'id_contract_electronic', 'unique_number_plan',\n",
       "       'method_determinig_supplier', 'date_summarizing', 'date_posting',\n",
       "       'grouds_single_supplier', 'document_details', 'info_support',\n",
       "       'find_date_contract', 'date_performance', 'date_contract_registry',\n",
       "       'date_update_registry', 'date_start_performance',\n",
       "       'date_end_performance', 'contract_item', 'contract_price',\n",
       "       'contract_price_nds', 'prepayment_amount', 'performance_security',\n",
       "       'size_performance_quality', 'warranty_period', 'place_performance',\n",
       "       'full_name_supplier', 'inn_supplier', 'kpp_supplier',\n",
       "       'code_okpo_supplier', 'date_registration_supplier', 'country_supplier',\n",
       "       'code_country_supplier', 'adress_supplier', 'postal_adress_supplier',\n",
       "       'contact', 'status_supplier', 'kbk'],\n",
       "      dtype='object')"
      ]
     },
     "execution_count": 95,
     "metadata": {},
     "output_type": "execute_result"
    }
   ],
   "source": [
    "df.columns"
   ]
  },
  {
   "cell_type": "code",
   "execution_count": 96,
   "metadata": {},
   "outputs": [
    {
     "data": {
      "text/plain": [
       "0                                                                                      г.Смоленск, Тульский переулок, 7\n",
       "1                                                                          214019, город Смоленск, ул. Тенишевой, д. 33\n",
       "2                                                           214013, Смоленская область, г. Смоленск, Тульский пер. д. 7\n",
       "3                                       216200, Смоленская область, Духовщинский район, д.Заберезье, ул.Лукшинская, д.6\n",
       "4                                                                                     216410 п.Шумячи,ул.Заводская д.25\n",
       "                                                             ...                                                       \n",
       "5568                                               Россия, 394038, Воронежская обл., Воронеж г., Пеше-Стрелецкая, д. 74\n",
       "5569                               Россия, 344018, Ростовская обл., Ростов-на-Дону г., -, Буденновский пр-кт., д. 80 ,4\n",
       "5570    422730, Российская Федерация, республика Татарстан, Высокогорский р-н, с. Куркачи, нет, нет офис (квартира) нет\n",
       "5571              344092, Российская Федерация, Ростовская обл., г. Ростов-на-Дону, ул. Волкова, 18, ОКАТО: 60401362000\n",
       "5572                          107143, Российская Федерация, г. Москва, Открытое шоссе, д.17, корп.1, ОКАТО: 45000000000\n",
       "Name: adress_supplier, Length: 5573, dtype: object"
      ]
     },
     "execution_count": 96,
     "metadata": {},
     "output_type": "execute_result"
    }
   ],
   "source": [
    "df.adress_supplier"
   ]
  },
  {
   "cell_type": "markdown",
   "metadata": {},
   "source": [
    "### Дополнение уровней бюджета"
   ]
  },
  {
   "cell_type": "code",
   "execution_count": 2,
   "metadata": {},
   "outputs": [],
   "source": [
    "list_local = [\"муниципальный уровень\", \"местный бюджет\"]\n",
    "list_sub = [\n",
    "    \"уровень субъекта рф\",\n",
    "    \"бюджет субъекта российской федерации\",\n",
    "    \"бюджет территориального государственного внебюджетного фонда\",\n",
    "    \"бюджет территориального государственного внебюджетного фонда\",\n",
    "]\n",
    "list_fed = [\n",
    "    \"федеральный уровень\",\n",
    "    \"федеральный бюджет\",\n",
    "    \"бюджет пенсионного фонда российской федерации\",\n",
    "    \"бюджет федерального фонда обязательного медицинского страхования\",\n",
    "    \"бюджет фонда социального страхования российской федерации\",\n",
    "]\n",
    "\n",
    "list_fed_2 = [\n",
    "    \"войскавая\",\n",
    "    \"войсковая\",\n",
    "    \"воениз\",\n",
    "    \"федеральн\",\n",
    "    \"район водных путей и судоходства\",\n",
    "    \"следвест\",\n",
    "    \"пенсион\",\n",
    "    \"росган\",\n",
    "    \"фгбу\",\n",
    "    \"всероссийс\",\n",
    "    \" фбу\",\n",
    "    \"прокурату\",\n",
    "    \"университ\",\n",
    "    \"научно-исследователь\",\n",
    "    \"государственное научное учреждение\",\n",
    "    \"росграниц\",\n",
    "    \"российской академии наук\",\n",
    "    \"внутренних дел\",\n",
    "]\n",
    "list_local_2 = [\n",
    "    \"муниципал\",\n",
    "    \"школа\",\n",
    "    \"детский сад\",\n",
    "    \"городского поселения\",\n",
    "    \"городского округа\",\n",
    "    \"администрация рабочего поселка\",\n",
    "]\n",
    "list_sub_2 = [\n",
    "    \"центр занятости населения\",\n",
    "    \"област\",\n",
    "    \"республи\",\n",
    "    \"края\",\n",
    "    \"край\",\n",
    "    \"краев\",\n",
    "    \"города\",\n",
    "    \"автоном\",\n",
    "    \"oбластное\",\n",
    "    \"здравоохране\",\n",
    "    \"больниц\",\n",
    "    \"родильный дом\",\n",
    "    \"профессиональн\",\n",
    "    \"детский дом\",\n",
    "    \"дом-интернат\",\n",
    "    \"социальн\",\n",
    "    \"поликлиник\",\n",
    "    \"больниц\",\n",
    "    \"государственное бюджетное общеобразовательное учреждение\",\n",
    "    \"государственное бюджетное образовательное учреждение\",\n",
    "    \"медико-санитарная часть\",\n",
    "    \"московское государственное унитарное предприятие\",\n",
    "    \"учреждение культуры города\",\n",
    "    \"государственное бюджетное учреждение культуры\",\n",
    "    \"центр социального обслуживания\",\n",
    "    \"социального обслуживания граждан\",\n",
    "    \"стоматологическая поликлиника\",\n",
    "    \"центр для детей-сирот и детей\",\n",
    "    \"санкт-петербургс\",\n",
    "    \"фонд социального страхования российской федерации\",\n",
    "    \"государственное бюджетное учреждение\",\n",
    "    \"инспекция труда\",\n",
    "]\n",
    "list_anothe = [\n",
    "    \"акционерное общество\",\n",
    "    \"завод\",\n",
    "    \"акционерное московское общество\",\n",
    "    \"общество с ограниченной ответственностью\",\n",
    "]\n",
    "list_fed_3 = []\n",
    "list_sub_3 = [\n",
    "    \"ветеринар\",\n",
    "]\n",
    "list_local_3 = [\"района\", \"сельск\"]\n",
    "\n",
    "inn_sub = {\n",
    "    \"7727795994\": 'Государственное бюджетное научное учреждение \"Московский институт развития образования\"',\n",
    "    \"4205050521\": 'государственное учреждение \"Кузбасспассажиравтотранс\"',\n",
    "}\n",
    "inn_fed = {\"7704193182\": \"Региональное оперативно-поисковое управление\"}\n",
    "inn_mun = {}\n",
    "\n",
    "name_for_result = [\"местный\", \"субъектовый\", \"федеральный\", \"иное\"]\n",
    "\n",
    "def fillna_budget_level(budget_level: str, full_name_customer: str, inn_customer: str):\n",
    "    for list_name, name in zip(\n",
    "        [list_local, list_sub, list_fed], [\"местный\", \"субъектовый\", \"федеральный\"]\n",
    "    ):\n",
    "        for name_trigger in list_name:\n",
    "            if name_trigger.lower() in budget_level:\n",
    "                return name\n",
    "\n",
    "    # если не получилось выделить данные из budget_level попробуем сделать это с full_name_customer\n",
    "    for list_name, name in zip(\n",
    "        [list_fed_2, list_local_2, list_sub_2, list_anothe],\n",
    "        [\"федеральный\", \"местный\", \"субъектовый\", \"иное\"],\n",
    "    ):\n",
    "        for name_trigger in list_name:\n",
    "            if name_trigger.lower() in full_name_customer:\n",
    "                return name\n",
    "\n",
    "    for list_name, name in zip(\n",
    "        [list_fed_3, list_local_3, list_sub_3], [\"федеральный\", \"местный\", \"субъектовый\", \"иное\"]\n",
    "    ):\n",
    "        for name_trigger in list_name:\n",
    "            if name_trigger.lower() in full_name_customer:\n",
    "                return name\n",
    "\n",
    "    for inn_dict, name in zip(\n",
    "        [inn_mun, inn_sub, inn_fed], [\"местный\", \"субъектовый\", \"федеральный\"]\n",
    "    ):\n",
    "        for inn in inn_dict.keys():\n",
    "            if inn == inn_customer:\n",
    "                return name\n",
    "\n",
    "    return np.nan"
   ]
  },
  {
   "cell_type": "code",
   "execution_count": 4,
   "metadata": {},
   "outputs": [],
   "source": [
    "def processing_budget(X: Series):\n",
    "    budget_level = str(X[\"budget_level\"]).lower()\n",
    "    full_name_customer = str(X[\"full_name_customer\"]).lower()\n",
    "    inn_customer = str(X[\"inn_customer\"])\n",
    "\n",
    "    budget_level = fillna_budget_level(budget_level, full_name_customer, inn_customer)\n",
    "\n",
    "    return budget_level"
   ]
  },
  {
   "cell_type": "code",
   "execution_count": null,
   "metadata": {},
   "outputs": [],
   "source": [
    "df = pd.read_csv(\"../data/raw_data/contract/2014/37.csv\", sep=\"|\", dtype=\"str\")\n",
    "df_test = df.copy()\n",
    "df_test[\"budget_level_new\"] = df_test.apply(processing_budget, axis=1)\n",
    "print(\"Количество прокусков:\", df_test[\"budget_level_new\"].isna().sum())\n",
    "df_test[\"budget_level_new\"].value_counts()"
   ]
  },
  {
   "cell_type": "code",
   "execution_count": null,
   "metadata": {},
   "outputs": [],
   "source": [
    "df_test.loc[df_test.budget_level_new.isna(), \"full_name_customer\"].unique()"
   ]
  },
  {
   "cell_type": "code",
   "execution_count": null,
   "metadata": {},
   "outputs": [],
   "source": [
    "df_test.loc[\n",
    "    df_test.full_name_customer == 'государственное учреждение \"Кузбасспассажиравтотранс\"',\n",
    "    \"inn_customer\",\n",
    "].unique()"
   ]
  },
  {
   "cell_type": "code",
   "execution_count": null,
   "metadata": {},
   "outputs": [],
   "source": [
    "## проверка на других данных\n",
    "path_test = \"../data/raw_data/contract/2014/\"\n",
    "list_problem = []\n",
    "list_fullname_problem = []\n",
    "for file_name in tqdm(\n",
    "    sorted(os.listdir(path_test), key=lambda x: int(x.removesuffix(\".csv\")))[200:]\n",
    "):\n",
    "    df_test_now = pd.read_csv(os.path.join(path_test, file_name), sep=\"|\", dtype=\"str\")\n",
    "    df_test_now[\"budget_level_new\"] = df_test_now.parallel_apply(processing_budget, axis=1)\n",
    "    if df_test[\"budget_level_new\"].isna().sum() == 0:\n",
    "        continue\n",
    "    else:\n",
    "        list_problem.append((file_name, df_test[\"budget_level_new\"].isnull().sum()))\n",
    "        list_fullname_problem.extend(\n",
    "            list(df_test.loc[df_test.budget_level_new.isna(), \"full_name_customer\"].unique())\n",
    "        )"
   ]
  },
  {
   "cell_type": "markdown",
   "metadata": {},
   "source": [
    "## Обработка дат"
   ]
  },
  {
   "cell_type": "code",
   "execution_count": 5,
   "metadata": {},
   "outputs": [],
   "source": [
    "df = pd.read_csv(\"../data/raw_data/contract/2014/37.csv\", sep=\"|\", dtype=\"str\")"
   ]
  },
  {
   "cell_type": "code",
   "execution_count": 6,
   "metadata": {},
   "outputs": [
    {
     "data": {
      "text/plain": [
       "['date_summarizing',\n",
       " 'date_posting',\n",
       " 'find_date_contract',\n",
       " 'date_performance',\n",
       " 'date_contract_registry',\n",
       " 'date_update_registry',\n",
       " 'date_start_performance',\n",
       " 'date_end_performance',\n",
       " 'date_registration_supplier']"
      ]
     },
     "execution_count": 6,
     "metadata": {},
     "output_type": "execute_result"
    }
   ],
   "source": [
    "dates = [i for i in df.columns if \"date\" in i]\n",
    "dates"
   ]
  },
  {
   "cell_type": "code",
   "execution_count": 7,
   "metadata": {},
   "outputs": [],
   "source": [
    "date = df.date_performance.iloc[0]"
   ]
  },
  {
   "cell_type": "code",
   "execution_count": 8,
   "metadata": {},
   "outputs": [],
   "source": [
    "qw = df.date_performance.loc[0]"
   ]
  },
  {
   "cell_type": "code",
   "execution_count": 11,
   "metadata": {},
   "outputs": [],
   "source": [
    "def make_date(df: Series):\n",
    "    # если мы получает nan при обращении к дате в DataFrame, то\n",
    "    # np.nan == nan влзращает False, однако у nan type float, когда у всех дат str\n",
    "    number_contract = df[\"number_contract\"]\n",
    "\n",
    "    date_summarizing = df[\"date_summarizing\"] if type(df[\"date_summarizing\"]) == str else None\n",
    "    date_posting = df[\"date_posting\"] if type(df[\"date_posting\"]) == str else None\n",
    "    date_contract = df[\"find_date_contract\"] if type(df[\"find_date_contract\"]) == str else None\n",
    "    date_performance = df[\"date_performance\"] if type(df[\"date_performance\"]) == str else None\n",
    "    date_contract_registry = (\n",
    "        df[\"date_contract_registry\"] if type(df[\"date_contract_registry\"]) == str else None\n",
    "    )\n",
    "    date_update_registry = (\n",
    "        df[\"date_update_registry\"] if type(df[\"date_update_registry\"]) == str else None\n",
    "    )\n",
    "    date_start_performance = (\n",
    "        df[\"date_start_performance\"] if type(df[\"date_start_performance\"]) == str else None\n",
    "    )\n",
    "    date_end_performance = (\n",
    "        df[\"date_end_performance\"] if type(df[\"date_end_performance\"]) == str else None\n",
    "    )\n",
    "    date_registration_supplier = (\n",
    "        df[\"date_registration_supplier\"]\n",
    "        if type(df[\"date_registration_supplier\"]) == str\n",
    "        else None\n",
    "    )\n",
    "\n",
    "    if not date_start_performance:\n",
    "        date_start_performance = date_contract\n",
    "\n",
    "    date_summarizing = date_extract(date_summarizing, number_contract)\n",
    "    date_posting = date_extract(date_posting, number_contract)\n",
    "    date_contract = date_extract(date_contract, number_contract)\n",
    "    date_performance = date_extract(date_performance, number_contract)\n",
    "    date_contract_registry = date_extract(date_contract_registry, number_contract)\n",
    "    date_update_registry = date_extract(date_update_registry, number_contract)\n",
    "    date_start_performance = date_extract(date_start_performance, number_contract)\n",
    "    date_end_performance = date_extract(date_end_performance, number_contract)\n",
    "    date_registration_supplier = date_extract(date_registration_supplier, number_contract)\n",
    "\n",
    "    return (\n",
    "        date_summarizing,\n",
    "        date_posting,\n",
    "        date_contract,\n",
    "        date_performance,\n",
    "        date_contract_registry,\n",
    "        date_update_registry,\n",
    "        date_start_performance,\n",
    "        date_end_performance,\n",
    "        date_registration_supplier,\n",
    "    )"
   ]
  },
  {
   "cell_type": "code",
   "execution_count": 22,
   "metadata": {},
   "outputs": [],
   "source": [
    "df_copy = df.copy()"
   ]
  },
  {
   "cell_type": "code",
   "execution_count": 23,
   "metadata": {},
   "outputs": [],
   "source": [
    "df_copy[\n",
    "    [\n",
    "        \"date_summarizing_new\",\n",
    "        \"date_posting_new\",\n",
    "        \"find_date_contract_new\",\n",
    "        \"date_performance_new\",\n",
    "        \"date_contract_registry_new\",\n",
    "        \"date_update_registry_new\",\n",
    "        \"date_start_performance_new\",\n",
    "        \"date_end_performance_new\",\n",
    "        \"date_registration_supplier_new\",\n",
    "    ]\n",
    "] = df_copy.apply(make_date, axis=1, result_type=\"expand\")"
   ]
  },
  {
   "cell_type": "code",
   "execution_count": 24,
   "metadata": {},
   "outputs": [
    {
     "name": "stdout",
     "output_type": "stream",
     "text": [
      "date_summarizing        1143\n",
      "date_summarizing_new    1143\n",
      "dtype: int64\n",
      "date_posting        0\n",
      "date_posting_new    0\n",
      "dtype: int64\n",
      "find_date_contract        0\n",
      "find_date_contract_new    0\n",
      "dtype: int64\n",
      "date_performance        0\n",
      "date_performance_new    0\n",
      "dtype: int64\n",
      "date_contract_registry        0\n",
      "date_contract_registry_new    0\n",
      "dtype: int64\n",
      "date_update_registry        0\n",
      "date_update_registry_new    0\n",
      "dtype: int64\n",
      "date_start_performance        5357\n",
      "date_start_performance_new    5357\n",
      "dtype: int64\n",
      "date_end_performance        0\n",
      "date_end_performance_new    0\n",
      "dtype: int64\n",
      "date_registration_supplier        5363\n",
      "date_registration_supplier_new    5363\n",
      "dtype: int64\n"
     ]
    }
   ],
   "source": [
    "for i in [\n",
    "    \"date_summarizing_new\",\n",
    "    \"date_posting_new\",\n",
    "    \"find_date_contract_new\",\n",
    "    \"date_performance_new\",\n",
    "    \"date_contract_registry_new\",\n",
    "    \"date_update_registry_new\",\n",
    "    \"date_start_performance_new\",\n",
    "    \"date_end_performance_new\",\n",
    "    \"date_registration_supplier_new\",\n",
    "]:\n",
    "    print(df_copy[[i.removesuffix(\"_new\"), i]].isnull().sum())"
   ]
  },
  {
   "cell_type": "code",
   "execution_count": 25,
   "metadata": {},
   "outputs": [
    {
     "data": {
      "text/html": [
       "<div>\n",
       "<style scoped>\n",
       "    .dataframe tbody tr th:only-of-type {\n",
       "        vertical-align: middle;\n",
       "    }\n",
       "\n",
       "    .dataframe tbody tr th {\n",
       "        vertical-align: top;\n",
       "    }\n",
       "\n",
       "    .dataframe thead th {\n",
       "        text-align: right;\n",
       "    }\n",
       "</style>\n",
       "<table border=\"1\" class=\"dataframe\">\n",
       "  <thead>\n",
       "    <tr style=\"text-align: right;\">\n",
       "      <th></th>\n",
       "      <th>date_summarizing</th>\n",
       "      <th>date_summarizing_new</th>\n",
       "    </tr>\n",
       "  </thead>\n",
       "  <tbody>\n",
       "    <tr>\n",
       "      <th>0</th>\n",
       "      <td>28.03.2014</td>\n",
       "      <td>2014-03-28</td>\n",
       "    </tr>\n",
       "    <tr>\n",
       "      <th>1</th>\n",
       "      <td>18.03.2014</td>\n",
       "      <td>2014-03-18</td>\n",
       "    </tr>\n",
       "    <tr>\n",
       "      <th>2</th>\n",
       "      <td>28.03.2014</td>\n",
       "      <td>2014-03-28</td>\n",
       "    </tr>\n",
       "    <tr>\n",
       "      <th>3</th>\n",
       "      <td>27.03.2014</td>\n",
       "      <td>2014-03-27</td>\n",
       "    </tr>\n",
       "    <tr>\n",
       "      <th>4</th>\n",
       "      <td>28.03.2014</td>\n",
       "      <td>2014-03-28</td>\n",
       "    </tr>\n",
       "    <tr>\n",
       "      <th>...</th>\n",
       "      <td>...</td>\n",
       "      <td>...</td>\n",
       "    </tr>\n",
       "    <tr>\n",
       "      <th>5557</th>\n",
       "      <td>NaN</td>\n",
       "      <td>None</td>\n",
       "    </tr>\n",
       "    <tr>\n",
       "      <th>5558</th>\n",
       "      <td>02.04.2014</td>\n",
       "      <td>2014-04-02</td>\n",
       "    </tr>\n",
       "    <tr>\n",
       "      <th>5559</th>\n",
       "      <td>NaN</td>\n",
       "      <td>None</td>\n",
       "    </tr>\n",
       "    <tr>\n",
       "      <th>5560</th>\n",
       "      <td>NaN</td>\n",
       "      <td>None</td>\n",
       "    </tr>\n",
       "    <tr>\n",
       "      <th>5561</th>\n",
       "      <td>01.04.2014</td>\n",
       "      <td>2014-04-01</td>\n",
       "    </tr>\n",
       "  </tbody>\n",
       "</table>\n",
       "<p>5562 rows × 2 columns</p>\n",
       "</div>"
      ],
      "text/plain": [
       "     date_summarizing date_summarizing_new\n",
       "0          28.03.2014           2014-03-28\n",
       "1          18.03.2014           2014-03-18\n",
       "2          28.03.2014           2014-03-28\n",
       "3          27.03.2014           2014-03-27\n",
       "4          28.03.2014           2014-03-28\n",
       "...               ...                  ...\n",
       "5557              NaN                 None\n",
       "5558       02.04.2014           2014-04-02\n",
       "5559              NaN                 None\n",
       "5560              NaN                 None\n",
       "5561       01.04.2014           2014-04-01\n",
       "\n",
       "[5562 rows x 2 columns]"
      ]
     },
     "execution_count": 25,
     "metadata": {},
     "output_type": "execute_result"
    }
   ],
   "source": [
    "qw = \"date_summarizing_new\"\n",
    "df_copy[[qw.removesuffix(\"_new\"), qw]]"
   ]
  },
  {
   "cell_type": "code",
   "execution_count": 26,
   "metadata": {},
   "outputs": [
    {
     "name": "stderr",
     "output_type": "stream",
     "text": [
      "  6%|▋         | 32/500 [00:20<04:54,  1.59it/s]"
     ]
    },
    {
     "name": "stdout",
     "output_type": "stream",
     "text": [
      "0307300000714000007\n",
      "Дата окончания исполнения контракта\n",
      "['Дата окончания исполнения контракта']\n"
     ]
    },
    {
     "name": "stderr",
     "output_type": "stream",
     "text": [
      " 12%|█▏        | 60/500 [00:38<04:34,  1.61it/s]"
     ]
    },
    {
     "name": "stdout",
     "output_type": "stream",
     "text": [
      "0319300086014000023\n",
      "Дата окончания исполнения контракта\n",
      "['Дата окончания исполнения контракта']\n"
     ]
    },
    {
     "name": "stderr",
     "output_type": "stream",
     "text": [
      " 25%|██▍       | 124/500 [01:20<03:52,  1.62it/s]"
     ]
    },
    {
     "name": "stdout",
     "output_type": "stream",
     "text": [
      "0842200001114000001\n",
      "Дата окончания исполнения контракта\n",
      "['Дата окончания исполнения контракта']\n"
     ]
    },
    {
     "name": "stderr",
     "output_type": "stream",
     "text": [
      " 44%|████▍     | 221/500 [02:22<02:56,  1.58it/s]"
     ]
    },
    {
     "name": "stdout",
     "output_type": "stream",
     "text": [
      "0152300016314000003\n",
      "Дата начала исполнения контракта\n",
      "['Дата начала исполнения контракта']\n"
     ]
    },
    {
     "name": "stderr",
     "output_type": "stream",
     "text": [
      " 49%|████▉     | 246/500 [02:38<02:45,  1.53it/s]"
     ]
    },
    {
     "name": "stdout",
     "output_type": "stream",
     "text": [
      "0840200003814000041\n",
      "Дата окончания исполнения контракта\n",
      "['Дата окончания исполнения контракта']\n",
      "0840200003814000040\n",
      "Дата окончания исполнения контракта\n",
      "['Дата окончания исполнения контракта']\n"
     ]
    },
    {
     "name": "stderr",
     "output_type": "stream",
     "text": [
      " 50%|█████     | 250/500 [02:41<02:40,  1.55it/s]"
     ]
    },
    {
     "name": "stdout",
     "output_type": "stream",
     "text": [
      "0348300216814000008\n",
      "Дата начала исполнения контракта\n",
      "['Дата начала исполнения контракта']\n"
     ]
    },
    {
     "name": "stderr",
     "output_type": "stream",
     "text": [
      " 51%|█████     | 254/500 [02:43<02:39,  1.54it/s]"
     ]
    },
    {
     "name": "stdout",
     "output_type": "stream",
     "text": [
      "0840200003814000042\n",
      "Дата окончания исполнения контракта\n",
      "['Дата окончания исполнения контракта']\n"
     ]
    },
    {
     "name": "stderr",
     "output_type": "stream",
     "text": [
      " 51%|█████▏    | 257/500 [02:45<02:46,  1.46it/s]"
     ]
    },
    {
     "name": "stdout",
     "output_type": "stream",
     "text": [
      "0840200003814000044\n",
      "Дата окончания исполнения контракта\n",
      "['Дата окончания исполнения контракта']\n"
     ]
    },
    {
     "name": "stderr",
     "output_type": "stream",
     "text": [
      " 53%|█████▎    | 264/500 [02:50<02:30,  1.57it/s]"
     ]
    },
    {
     "name": "stdout",
     "output_type": "stream",
     "text": [
      "0840200003814000045\n",
      "Дата окончания исполнения контракта\n",
      "['Дата окончания исполнения контракта']\n"
     ]
    },
    {
     "name": "stderr",
     "output_type": "stream",
     "text": [
      " 54%|█████▍    | 269/500 [02:53<02:24,  1.59it/s]"
     ]
    },
    {
     "name": "stdout",
     "output_type": "stream",
     "text": [
      "0840200003814000048\n",
      "Дата окончания исполнения контракта\n",
      "['Дата окончания исполнения контракта']\n"
     ]
    },
    {
     "name": "stderr",
     "output_type": "stream",
     "text": [
      " 58%|█████▊    | 290/500 [03:06<02:15,  1.55it/s]"
     ]
    },
    {
     "name": "stdout",
     "output_type": "stream",
     "text": [
      "0128100001214000087\n",
      "Дата окончания исполнения контракта\n",
      "['Дата окончания исполнения контракта']\n"
     ]
    },
    {
     "name": "stderr",
     "output_type": "stream",
     "text": [
      " 58%|█████▊    | 292/500 [03:08<02:14,  1.54it/s]"
     ]
    },
    {
     "name": "stdout",
     "output_type": "stream",
     "text": [
      "0128100001214000088\n",
      "Дата окончания исполнения контракта\n",
      "['Дата окончания исполнения контракта']\n"
     ]
    },
    {
     "name": "stderr",
     "output_type": "stream",
     "text": [
      " 68%|██████▊   | 341/500 [03:39<01:40,  1.59it/s]"
     ]
    },
    {
     "name": "stdout",
     "output_type": "stream",
     "text": [
      "0348300216814000002\n",
      "Дата начала исполнения контракта\n",
      "['Дата начала исполнения контракта']\n"
     ]
    },
    {
     "name": "stderr",
     "output_type": "stream",
     "text": [
      " 80%|████████  | 402/500 [04:19<01:04,  1.52it/s]"
     ]
    },
    {
     "name": "stdout",
     "output_type": "stream",
     "text": [
      "0840200003814000051\n",
      "Дата окончания исполнения контракта\n",
      "['Дата окончания исполнения контракта']\n"
     ]
    },
    {
     "name": "stderr",
     "output_type": "stream",
     "text": [
      " 81%|████████  | 403/500 [04:19<01:03,  1.54it/s]"
     ]
    },
    {
     "name": "stdout",
     "output_type": "stream",
     "text": [
      "0840200003814000052Дата окончания исполнения контракта\n",
      "\n",
      "['Дата окончания исполнения контракта']\n",
      "0840200003814000049\n",
      "Дата окончания исполнения контракта\n",
      "['Дата окончания исполнения контракта']\n",
      "0840200003814000050\n",
      "Дата окончания исполнения контракта\n",
      "['Дата окончания исполнения контракта']\n"
     ]
    },
    {
     "name": "stderr",
     "output_type": "stream",
     "text": [
      " 82%|████████▏ | 411/500 [04:25<00:58,  1.53it/s]"
     ]
    },
    {
     "name": "stdout",
     "output_type": "stream",
     "text": [
      "0840200003814000055\n",
      "Дата окончания исполнения контракта\n",
      "['Дата окончания исполнения контракта']\n",
      "0840200003814000054\n",
      "Дата окончания исполнения контракта\n",
      "['Дата окончания исполнения контракта']\n",
      "0840200003814000056\n",
      "Дата окончания исполнения контракта\n",
      "0840200003814000053['Дата окончания исполнения контракта']\n",
      "\n",
      "Дата окончания исполнения контракта\n",
      "['Дата окончания исполнения контракта']\n"
     ]
    },
    {
     "name": "stderr",
     "output_type": "stream",
     "text": [
      " 84%|████████▎ | 418/500 [04:29<00:53,  1.53it/s]"
     ]
    },
    {
     "name": "stdout",
     "output_type": "stream",
     "text": [
      "0840200003814000058\n",
      "Дата окончания исполнения контракта\n",
      "['Дата окончания исполнения контракта']\n"
     ]
    },
    {
     "name": "stderr",
     "output_type": "stream",
     "text": [
      " 86%|████████▌ | 431/500 [04:38<00:45,  1.52it/s]"
     ]
    },
    {
     "name": "stdout",
     "output_type": "stream",
     "text": [
      "0373100066814000239\n",
      "Дата окончания исполнения контракта\n",
      "['Дата окончания исполнения контракта']\n"
     ]
    },
    {
     "name": "stderr",
     "output_type": "stream",
     "text": [
      " 87%|████████▋ | 435/500 [04:40<00:41,  1.57it/s]"
     ]
    },
    {
     "name": "stdout",
     "output_type": "stream",
     "text": [
      "0390300019014000023\n",
      "Дата окончания исполнения контракта\n",
      "['Дата окончания исполнения контракта']\n"
     ]
    },
    {
     "name": "stderr",
     "output_type": "stream",
     "text": [
      " 87%|████████▋ | 437/500 [04:42<00:39,  1.58it/s]"
     ]
    },
    {
     "name": "stdout",
     "output_type": "stream",
     "text": [
      "0336200008814000009\n",
      "Дата окончания исполнения контракта\n",
      "['Дата окончания исполнения контракта']\n",
      "0336200008814000010\n",
      "Дата окончания исполнения контракта\n",
      "['Дата окончания исполнения контракта']\n"
     ]
    },
    {
     "name": "stderr",
     "output_type": "stream",
     "text": [
      " 89%|████████▉ | 446/500 [04:47<00:35,  1.54it/s]"
     ]
    },
    {
     "name": "stdout",
     "output_type": "stream",
     "text": [
      "0390300063614000037\n",
      "Дата окончания исполнения контракта\n",
      "['Дата окончания исполнения контракта']\n"
     ]
    },
    {
     "name": "stderr",
     "output_type": "stream",
     "text": [
      " 90%|████████▉ | 449/500 [04:49<00:33,  1.51it/s]"
     ]
    },
    {
     "name": "stdout",
     "output_type": "stream",
     "text": [
      "0840200003814000059\n",
      "Дата окончания исполнения контракта\n",
      "['Дата окончания исполнения контракта']\n"
     ]
    },
    {
     "name": "stderr",
     "output_type": "stream",
     "text": [
      " 92%|█████████▏| 458/500 [04:55<00:26,  1.57it/s]"
     ]
    },
    {
     "name": "stdout",
     "output_type": "stream",
     "text": [
      "0840200003814000061\n",
      "Дата окончания исполнения контракта\n",
      "['Дата окончания исполнения контракта']\n"
     ]
    },
    {
     "name": "stderr",
     "output_type": "stream",
     "text": [
      " 92%|█████████▏| 459/500 [04:56<00:25,  1.60it/s]"
     ]
    },
    {
     "name": "stdout",
     "output_type": "stream",
     "text": [
      "0840200003814000062\n",
      "Дата окончания исполнения контракта\n",
      "['Дата окончания исполнения контракта']\n"
     ]
    },
    {
     "name": "stderr",
     "output_type": "stream",
     "text": [
      " 93%|█████████▎| 466/500 [05:00<00:21,  1.57it/s]"
     ]
    },
    {
     "name": "stdout",
     "output_type": "stream",
     "text": [
      "2166003376615000002\n",
      "Дата окончания исполнения контракта\n",
      "['Дата окончания исполнения контракта']\n"
     ]
    },
    {
     "name": "stderr",
     "output_type": "stream",
     "text": [
      " 93%|█████████▎| 467/500 [05:01<00:21,  1.57it/s]"
     ]
    },
    {
     "name": "stdout",
     "output_type": "stream",
     "text": [
      "0390300063814000040\n",
      "Дата начала исполнения контракта\n",
      "['Дата начала исполнения контракта']\n",
      "0390300063814000041\n",
      "Дата начала исполнения контракта\n",
      "['Дата начала исполнения контракта']\n"
     ]
    },
    {
     "name": "stderr",
     "output_type": "stream",
     "text": [
      " 95%|█████████▍| 473/500 [05:05<00:17,  1.53it/s]"
     ]
    },
    {
     "name": "stdout",
     "output_type": "stream",
     "text": [
      "3690202684015000006\n",
      "Дата начала исполнения контракта\n",
      "['Дата начала исполнения контракта']\n"
     ]
    },
    {
     "name": "stderr",
     "output_type": "stream",
     "text": [
      " 95%|█████████▌| 475/500 [05:06<00:15,  1.57it/s]"
     ]
    },
    {
     "name": "stdout",
     "output_type": "stream",
     "text": [
      "0371300076714000012\n",
      "Дата окончания исполнения контракта\n",
      "['Дата окончания исполнения контракта']\n"
     ]
    },
    {
     "name": "stderr",
     "output_type": "stream",
     "text": [
      " 95%|█████████▌| 476/500 [05:07<00:15,  1.57it/s]"
     ]
    },
    {
     "name": "stdout",
     "output_type": "stream",
     "text": [
      "3700500635115000004\n",
      "Дата окончания исполнения контракта\n",
      "['Дата окончания исполнения контракта']\n"
     ]
    },
    {
     "name": "stderr",
     "output_type": "stream",
     "text": [
      " 95%|█████████▌| 477/500 [05:07<00:14,  1.55it/s]"
     ]
    },
    {
     "name": "stdout",
     "output_type": "stream",
     "text": [
      "0368200016714000026\n",
      "Дата окончания исполнения контракта\n",
      "['Дата окончания исполнения контракта']\n"
     ]
    },
    {
     "name": "stderr",
     "output_type": "stream",
     "text": [
      " 97%|█████████▋| 484/500 [05:12<00:10,  1.60it/s]"
     ]
    },
    {
     "name": "stdout",
     "output_type": "stream",
     "text": [
      "3700500635115000002\n",
      "Дата окончания исполнения контракта\n",
      "['Дата окончания исполнения контракта']\n"
     ]
    },
    {
     "name": "stderr",
     "output_type": "stream",
     "text": [
      " 97%|█████████▋| 485/500 [05:12<00:09,  1.58it/s]"
     ]
    },
    {
     "name": "stdout",
     "output_type": "stream",
     "text": [
      "0318300031214000010\n",
      "Дата окончания исполнения контракта\n",
      "['Дата окончания исполнения контракта']\n"
     ]
    },
    {
     "name": "stderr",
     "output_type": "stream",
     "text": [
      " 98%|█████████▊| 490/500 [05:15<00:06,  1.59it/s]"
     ]
    },
    {
     "name": "stdout",
     "output_type": "stream",
     "text": [
      "0301300442814000007\n",
      "Дата окончания исполнения контракта\n",
      "['Дата окончания исполнения контракта']\n"
     ]
    },
    {
     "name": "stderr",
     "output_type": "stream",
     "text": [
      "100%|██████████| 500/500 [05:21<00:00,  1.55it/s]\n"
     ]
    }
   ],
   "source": [
    "path_test = \"../data/raw_data/contract/2014/\"\n",
    "for file_name in tqdm(sorted(os.listdir(path_test), key=lambda x: int(x.removesuffix(\".csv\")))):\n",
    "    df_test_now = pd.read_csv(os.path.join(path_test, file_name), sep=\"|\", dtype=\"str\")\n",
    "    df_test_now[\n",
    "        [\n",
    "            \"date_summarizing_new\",\n",
    "            \"date_posting_new\",\n",
    "            \"find_date_contract_new\",\n",
    "            \"date_performance_new\",\n",
    "            \"date_contract_registry_new\",\n",
    "            \"date_update_registry_new\",\n",
    "            \"date_start_performance_new\",\n",
    "            \"date_end_performance_new\",\n",
    "            \"date_registration_supplier_new\",\n",
    "        ]\n",
    "    ] = df_test_now.parallel_apply(make_date, axis=1, result_type=\"expand\")"
   ]
  },
  {
   "cell_type": "markdown",
   "metadata": {},
   "source": [
    "## Расшифровка КБК"
   ]
  },
  {
   "cell_type": "code",
   "execution_count": 12,
   "metadata": {},
   "outputs": [],
   "source": [
    "kbk_type = pd.read_excel(\"../data/kbk.xlsx\", sheet_name=\"type\", dtype=\"str\")\n",
    "kbk_np = pd.read_excel(\"../data/kbk.xlsx\", sheet_name=\"np\", dtype=\"str\")\n",
    "kbk_section = pd.read_excel(\"../data/kbk.xlsx\", sheet_name=\"section\", dtype=\"str\")"
   ]
  },
  {
   "cell_type": "code",
   "execution_count": 13,
   "metadata": {},
   "outputs": [],
   "source": [
    "df = pd.read_csv(\"../data/raw_data/contract/2014/0.csv\", sep=\"|\", dtype=\"str\")\n",
    "kbk = df.loc[3, \"kbk\"]"
   ]
  },
  {
   "cell_type": "code",
   "execution_count": 18,
   "metadata": {},
   "outputs": [],
   "source": [
    "def extract_data_from_kbk(kbk, year):\n",
    "    dict_kbk = {\n",
    "        \"code_main_admin\": None,\n",
    "        \"code_section_sub\": None,\n",
    "        \"code_direction_expenses\": None,\n",
    "        \"code_type_expenses\": None,\n",
    "        \"code_national_project\": None,\n",
    "        \"value_code_section\": None,\n",
    "        \"value_code_sub\": None,\n",
    "        \"value_code_type_expenses\": None,\n",
    "        \"name_national_project\": None,\n",
    "        \"name_fed_national_project\": None,\n",
    "    }\n",
    "    if not kbk:\n",
    "        return dict_kbk\n",
    "\n",
    "    if len(kbk) == 3 or kbk[:-3] == \"0\" * 17:\n",
    "        code_type_expenses = kbk[-3:]\n",
    "        value_code_type_expenses = kbk_type.loc[\n",
    "            kbk_type.code == code_type_expenses, \"mean\"\n",
    "        ].to_list()\n",
    "\n",
    "        if len(value_code_type_expenses):\n",
    "            dict_kbk[\"value_code_type_expenses\"] = value_code_type_expenses[0]\n",
    "        else:\n",
    "            pass\n",
    "            # логи\n",
    "        dict_kbk[\"code_type_expenses\"] = code_type_expenses\n",
    "        return dict_kbk\n",
    "\n",
    "    elif len(kbk) == 20:\n",
    "        kbk_search = re.compile(r\"(\\S\\S\\S)(\\S\\S\\S\\S)(\\S\\S\\S\\S\\S\\S\\S\\S\\S\\S)(\\S\\S\\S)\")\n",
    "        kbk_find = kbk_search.search(kbk)\n",
    "\n",
    "        # код главного распоредителя бюджетных средств\n",
    "        code_main_admin = kbk_find.group(1)\n",
    "        # print('Код ГРС:', code_main_admin)\n",
    "        # код раздела и подраздела\n",
    "        code_section_sub = kbk_find.group(2)\n",
    "        # print('Код раздела и подраздела:', code_section_sub)\n",
    "        # код целевой статьи\n",
    "        code_direction_expenses = kbk_find.group(3)\n",
    "        # print('Код целевой статьи:', code_direction_expenses)\n",
    "        # код вида расходов\n",
    "        code_type_expenses = kbk_find.group(4)\n",
    "        # print('Код вида расходов:', code_type_expenses)\n",
    "        # код национального проекта\n",
    "        code_national_project = (\n",
    "            code_direction_expenses[3:5] if not code_direction_expenses[3].isdigit() else None\n",
    "        )\n",
    "        # print('Код национального проекта:', code_national_project)\n",
    "\n",
    "        value_code_section = kbk_section.loc[\n",
    "            (kbk_section.year == year) & (kbk_section.code == code_section_sub[:2]), \"mean\"\n",
    "        ].to_list()\n",
    "        if len(value_code_section):\n",
    "            dict_kbk[\"value_code_section\"] = value_code_section[0]\n",
    "        else:\n",
    "            pass\n",
    "        # print('value_code_section:', value_code_section)\n",
    "\n",
    "        value_code_sub = kbk_section.loc[\n",
    "            (kbk_section.year == year) & (kbk_section.code == code_section_sub), \"mean\"\n",
    "        ].to_list()\n",
    "        if len(value_code_sub):\n",
    "            dict_kbk[\"value_code_sub\"] = value_code_sub[0]\n",
    "        else:\n",
    "            pass\n",
    "        # print('code_type_expenses:', value_code_sub)\n",
    "\n",
    "        value_code_type_expenses = kbk_type.loc[\n",
    "            kbk_type.code == code_type_expenses, \"mean\"\n",
    "        ].to_list()\n",
    "        if len(value_code_type_expenses):\n",
    "            dict_kbk[\"value_code_type_expenses\"] = value_code_type_expenses[0]\n",
    "        else:\n",
    "            pass\n",
    "\n",
    "        # print('value_code_type_expenses:', value_code_type_expenses)\n",
    "        if code_national_project:\n",
    "            list_national_project = kbk_np.loc[\n",
    "                (kbk_np.year == year) & (kbk_np.code == code_national_project),\n",
    "                [\"name_national_project\", \"name_fed_national_project\"],\n",
    "            ].values\n",
    "            # print('list_national_project:', list_national_project)\n",
    "\n",
    "            if len(list_national_project):\n",
    "                dict_kbk[\"name_national_project\"] = list_national_project[0]\n",
    "                dict_kbk[\"name_fed_national_project\"] = list_national_project[1]\n",
    "            else:\n",
    "                pass\n",
    "                # логи\n",
    "\n",
    "        dict_kbk[\"code_main_admin\"] = code_main_admin\n",
    "        dict_kbk[\"code_section_sub\"] = code_section_sub\n",
    "        dict_kbk[\"code_direction_expenses\"] = code_direction_expenses\n",
    "        dict_kbk[\"code_type_expenses\"] = code_type_expenses\n",
    "        dict_kbk[\"code_national_project\"] = code_national_project\n",
    "\n",
    "        return dict_kbk\n",
    "\n",
    "    else:\n",
    "        # print(kbk)\n",
    "        return dict_kbk\n",
    "        # добавить логи"
   ]
  },
  {
   "cell_type": "code",
   "execution_count": 19,
   "metadata": {},
   "outputs": [],
   "source": [
    "list_p = []\n",
    "\n",
    "if len(list_p):\n",
    "    print(\"owl\")"
   ]
  },
  {
   "cell_type": "code",
   "execution_count": 20,
   "metadata": {},
   "outputs": [],
   "source": [
    "def make_date(df: Series, columns: list):\n",
    "    dict_result = {}\n",
    "    # если мы получает nan при обращении к дате в DataFrame, то\n",
    "    # np.nan == nan влзращает False, однако у nan type float, когда у всех дат str\n",
    "    number_contract = df[\"number_contract\"]\n",
    "\n",
    "    date_summarizing = df[\"date_summarizing\"] if type(df[\"date_summarizing\"]) == str else None\n",
    "    date_posting = df[\"date_posting\"] if type(df[\"date_posting\"]) == str else None\n",
    "    date_contract = df[\"find_date_contract\"] if type(df[\"find_date_contract\"]) == str else None\n",
    "    date_performance = df[\"date_performance\"] if type(df[\"date_performance\"]) == str else None\n",
    "    date_contract_registry = (\n",
    "        df[\"date_contract_registry\"] if type(df[\"date_contract_registry\"]) == str else None\n",
    "    )\n",
    "    date_update_registry = (\n",
    "        df[\"date_update_registry\"] if type(df[\"date_update_registry\"]) == str else None\n",
    "    )\n",
    "    date_start_performance = (\n",
    "        df[\"date_start_performance\"] if type(df[\"date_start_performance\"]) == str else None\n",
    "    )\n",
    "    date_end_performance = (\n",
    "        df[\"date_end_performance\"] if type(df[\"date_end_performance\"]) == str else None\n",
    "    )\n",
    "    date_registration_supplier = (\n",
    "        df[\"date_registration_supplier\"]\n",
    "        if type(df[\"date_registration_supplier\"]) == str\n",
    "        else None\n",
    "    )\n",
    "\n",
    "    if not date_start_performance:\n",
    "        date_start_performance = date_contract\n",
    "\n",
    "    dict_result[\"date_summarizing_new\"] = date_extract(date_summarizing, number_contract)\n",
    "    dict_result[\"date_posting_new\"] = date_extract(date_posting, number_contract)\n",
    "    dict_result[\"date_contract_new\"] = date_extract(date_contract, number_contract)\n",
    "    dict_result[\"date_performance_new\"] = date_extract(date_performance, number_contract)\n",
    "    dict_result[\"date_contract_registry_new\"] = date_extract(\n",
    "        date_contract_registry, number_contract\n",
    "    )\n",
    "    dict_result[\"date_update_registry_new\"] = date_extract(date_update_registry, number_contract)\n",
    "    dict_result[\"date_start_performance_new\"] = date_extract(\n",
    "        date_start_performance, number_contract\n",
    "    )\n",
    "    dict_result[\"date_end_performance_new\"] = date_extract(date_end_performance, number_contract)\n",
    "    dict_result[\"date_registration_supplier_new\"] = date_extract(\n",
    "        date_registration_supplier, number_contract\n",
    "    )\n",
    "\n",
    "    for date in [\n",
    "        dict_result[\"date_contract_new\"],\n",
    "        dict_result[\"date_summarizing_new\"],\n",
    "        dict_result[\"date_posting_new\"],\n",
    "        dict_result[\"date_performance_new\"],\n",
    "        dict_result[\"date_end_performance_new\"],\n",
    "    ]:\n",
    "        if type(date) == datetime.date:\n",
    "            year = str(date.year)\n",
    "            break\n",
    "\n",
    "    kbk = df[\"kbk\"] if type(df[\"kbk\"]) == str else None\n",
    "\n",
    "    dict_kbk_result = extract_data_from_kbk(kbk, year)\n",
    "\n",
    "    dict_result.update(dict_kbk_result)\n",
    "\n",
    "    # print(df.name)\n",
    "\n",
    "    return pd.Series(dict_result)[columns].to_list()"
   ]
  },
  {
   "cell_type": "code",
   "execution_count": 21,
   "metadata": {},
   "outputs": [],
   "source": [
    "df_copy = df.copy()"
   ]
  },
  {
   "cell_type": "code",
   "execution_count": 22,
   "metadata": {},
   "outputs": [],
   "source": [
    "columns = [\n",
    "    \"date_summarizing_new\",\n",
    "    \"date_posting_new\",\n",
    "    \"date_contract_new\",\n",
    "    \"date_performance_new\",\n",
    "    \"date_contract_registry_new\",\n",
    "    \"date_update_registry_new\",\n",
    "    \"date_start_performance_new\",\n",
    "    \"date_end_performance_new\",\n",
    "    \"date_registration_supplier_new\",\n",
    "    \"code_main_admin\",\n",
    "    \"code_section_sub\",\n",
    "    \"code_direction_expenses\",\n",
    "    \"code_type_expenses\",\n",
    "    \"code_national_project\",\n",
    "    \"value_code_section\",\n",
    "    \"value_code_sub\",\n",
    "    \"value_code_type_expenses\",\n",
    "    \"name_national_project\",\n",
    "    \"name_fed_national_project\",\n",
    "]\n",
    "df_copy[columns] = df_copy.apply(\n",
    "    lambda x: make_date(x, columns=columns), axis=1, result_type=\"expand\"\n",
    ")"
   ]
  },
  {
   "cell_type": "code",
   "execution_count": 27,
   "metadata": {},
   "outputs": [
    {
     "data": {
      "text/plain": [
       "Index(['number_contract', 'adress_customer', 'full_name_customer',\n",
       "       'short_name_customer', 'unique_site_code', 'unique_site_id',\n",
       "       'id_customer', 'inn_customer', 'kpp_customer', 'code_form_org',\n",
       "       'okpo_code', 'municipal_code', 'budget_name', 'extrabudget_name',\n",
       "       'budget_level', 'contract_status', 'notice', 'ikz_code',\n",
       "       'id_contract_electronic', 'unique_number_plan',\n",
       "       'method_determinig_supplier', 'date_summarizing', 'date_posting',\n",
       "       'grouds_single_supplier', 'document_details', 'info_support',\n",
       "       'find_date_contract', 'date_performance', 'date_contract_registry',\n",
       "       'date_update_registry', 'date_start_performance',\n",
       "       'date_end_performance', 'contract_item', 'contract_price',\n",
       "       'contract_price_nds', 'prepayment_amount', 'performance_security',\n",
       "       'size_performance_quality', 'warranty_period', 'place_performance',\n",
       "       'full_name_supplier', 'inn_supplier', 'kpp_supplier',\n",
       "       'code_okpo_supplier', 'date_registration_supplier', 'country_supplier',\n",
       "       'code_country_supplier', 'adress_supplier', 'postal_adress_supplier',\n",
       "       'contact', 'status_supplier', 'kbk'],\n",
       "      dtype='object')"
      ]
     },
     "execution_count": 27,
     "metadata": {},
     "output_type": "execute_result"
    }
   ],
   "source": [
    "df.columns"
   ]
  },
  {
   "cell_type": "markdown",
   "metadata": {},
   "source": [
    "## Выявление плохих адресов"
   ]
  },
  {
   "cell_type": "code",
   "execution_count": 29,
   "metadata": {},
   "outputs": [],
   "source": [
    "df = pd.read_csv(\"../data/raw_data/contract/2014/0.csv\", sep=\"|\", dtype=\"str\")"
   ]
  },
  {
   "cell_type": "code",
   "execution_count": 51,
   "metadata": {},
   "outputs": [
    {
     "data": {
      "text/plain": [
       "(5573, 52)"
      ]
     },
     "execution_count": 51,
     "metadata": {},
     "output_type": "execute_result"
    }
   ],
   "source": [
    "df.shape"
   ]
  },
  {
   "cell_type": "code",
   "execution_count": 32,
   "metadata": {},
   "outputs": [
    {
     "data": {
      "text/plain": [
       "208"
      ]
     },
     "execution_count": 32,
     "metadata": {},
     "output_type": "execute_result"
    }
   ],
   "source": [
    "df.adress_customer.isnull().sum()"
   ]
  },
  {
   "cell_type": "markdown",
   "metadata": {},
   "source": [
    "Обработать: \"Юридический адрес: Российская Федерация, 660049, Красноярский край, Красноярск г, Мира, 76, -\n",
    "Фактический адрес: Российская Федерация, 660062, Красноярский край, Красноярск г, Высотная, 9\"\n",
    "\n",
    "hodashooh@mail.ru\n",
    "ulibka6@mail.ru\n",
    "detskisad27@mail.ru\n",
    "rucheekdou@mail.ru\n",
    "zelnurlat@mail.ru\n",
    "balashova.liudmila2013@yandex.ru\n",
    "topolek51@mail.ru\n",
    "shirdan@yandex.ru\n",
    "\"\""
   ]
  },
  {
   "cell_type": "markdown",
   "metadata": {},
   "source": [
    "Посмотреть как с такими адрессами будет работать pulenti"
   ]
  },
  {
   "cell_type": "markdown",
   "metadata": {},
   "source": [
    "Красная строка в адрессе:  \n",
    "0352200002914000002 0158200002314000019 0372200037314000013"
   ]
  },
  {
   "cell_type": "code",
   "execution_count": 75,
   "metadata": {},
   "outputs": [],
   "source": [
    "df = pd.read_csv(\"../data/contract_number/numbers/2014.csv\", sep=\"|\", dtype=\"str\")"
   ]
  },
  {
   "cell_type": "code",
   "execution_count": 76,
   "metadata": {},
   "outputs": [],
   "source": [
    "index_telephon = df.adress_customer.str.replace(\"-\", \"\").str.isdigit().fillna(False)\n",
    "index_email = df.adress_customer.str.find(\"@\") > -1\n",
    "index_isull = df.adress_customer.isnull()"
   ]
  },
  {
   "cell_type": "code",
   "execution_count": 80,
   "metadata": {},
   "outputs": [],
   "source": [
    "bad_index = index_telephon | index_email | index_isull"
   ]
  },
  {
   "cell_type": "code",
   "execution_count": null,
   "metadata": {},
   "outputs": [],
   "source": [
    "data_org = pd.DataFrame()\n",
    "\n",
    "\n",
    "def check_adress(adress, code, code_type):\n",
    "    list_check = [\"Российская Федерация\", \"РФ\", \"обл\", \"ул\", \"край\", \"г,\", \"п.\"]\n",
    "    is_nan = type(adress) == float\n",
    "    is_telephon = adress.replace(\"-\", \"\").isdigit()\n",
    "    is_email = (\"@\" in adress) and not any([i in adress for i in list_check])\n",
    "\n",
    "    need_replace = any([is_nan, is_telephon, is_email])\n",
    "\n",
    "    if not need_replace:\n",
    "        return adress\n",
    "    else:\n",
    "        adress = data_org.loc[\n",
    "            (data_org.code == code) & (data_org.code_type == code_type), \"adress\"\n",
    "        ]\n",
    "        return adress"
   ]
  }
 ],
 "metadata": {
  "kernelspec": {
   "display_name": "contract-Fr7eyqb1-py3.10",
   "language": "python",
   "name": "python3"
  },
  "language_info": {
   "codemirror_mode": {
    "name": "ipython",
    "version": 3
   },
   "file_extension": ".py",
   "mimetype": "text/x-python",
   "name": "python",
   "nbconvert_exporter": "python",
   "pygments_lexer": "ipython3",
   "version": "3.10.12"
  },
  "orig_nbformat": 4
 },
 "nbformat": 4,
 "nbformat_minor": 2
}
