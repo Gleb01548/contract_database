{
 "cells": [
  {
   "cell_type": "code",
   "execution_count": 1,
   "metadata": {},
   "outputs": [],
   "source": [
    "import pandas as pd"
   ]
  },
  {
   "cell_type": "markdown",
   "metadata": {},
   "source": [
    "## Анализ данных по организации"
   ]
  },
  {
   "cell_type": "code",
   "execution_count": 9,
   "metadata": {},
   "outputs": [
    {
     "data": {
      "text/plain": [
       "(5577, 52)"
      ]
     },
     "execution_count": 9,
     "metadata": {},
     "output_type": "execute_result"
    }
   ],
   "source": [
    "df = pd.read_csv('../data/raw_data/contract/2014/1.csv', sep='|', dtype='str')\n",
    "df.shape"
   ]
  },
  {
   "cell_type": "code",
   "execution_count": 18,
   "metadata": {},
   "outputs": [
    {
     "data": {
      "text/plain": [
       "3061"
      ]
     },
     "execution_count": 18,
     "metadata": {},
     "output_type": "execute_result"
    }
   ],
   "source": [
    "df['budget_name'].isnull().sum()"
   ]
  },
  {
   "cell_type": "code",
   "execution_count": 17,
   "metadata": {},
   "outputs": [
    {
     "data": {
      "text/plain": [
       "number_contract                  0\n",
       "adress_customer                  3\n",
       "full_name_customer               0\n",
       "short_name_customer            321\n",
       "unique_site_code              5289\n",
       "unique_site_id                 288\n",
       "id_customer                   5420\n",
       "inn_customer                    94\n",
       "kpp_customer                    94\n",
       "code_form_org                   94\n",
       "okpo_code                       95\n",
       "municipal_code                5470\n",
       "budget_name                   3061\n",
       "extrabudget_name              5577\n",
       "budget_level                  3061\n",
       "contract_status                  0\n",
       "notice                           0\n",
       "ikz_code                      5577\n",
       "id_contract_electronic        5577\n",
       "unique_number_plan            5577\n",
       "method_determinig_supplier       0\n",
       "date_summarizing                 0\n",
       "date_posting                     0\n",
       "grouds_single_supplier        2626\n",
       "document_details                 0\n",
       "info_support                     0\n",
       "find_date_contract               0\n",
       "date_performance                 0\n",
       "date_contract_registry           0\n",
       "date_update_registry             0\n",
       "date_start_performance        5420\n",
       "date_end_performance             0\n",
       "contract_item                 5577\n",
       "contract_price                   0\n",
       "contract_price_nds            5577\n",
       "prepayment_amount             5577\n",
       "performance_security          5571\n",
       "size_performance_quality      5577\n",
       "warranty_period               5577\n",
       "place_performance             5577\n",
       "full_name_supplier               0\n",
       "inn_supplier                     0\n",
       "kpp_supplier                   643\n",
       "code_okpo_supplier            5432\n",
       "date_registration_supplier    5420\n",
       "country_supplier                11\n",
       "code_country_supplier           11\n",
       "adress_supplier                  0\n",
       "postal_adress_supplier        5577\n",
       "contact                          0\n",
       "status_supplier               5479\n",
       "kbk                              2\n",
       "dtype: int64"
      ]
     },
     "execution_count": 17,
     "metadata": {},
     "output_type": "execute_result"
    }
   ],
   "source": [
    "df.isnull().sum()"
   ]
  },
  {
   "cell_type": "code",
   "execution_count": 19,
   "metadata": {},
   "outputs": [
    {
     "data": {
      "text/html": [
       "<div>\n",
       "<style scoped>\n",
       "    .dataframe tbody tr th:only-of-type {\n",
       "        vertical-align: middle;\n",
       "    }\n",
       "\n",
       "    .dataframe tbody tr th {\n",
       "        vertical-align: top;\n",
       "    }\n",
       "\n",
       "    .dataframe thead th {\n",
       "        text-align: right;\n",
       "    }\n",
       "</style>\n",
       "<table border=\"1\" class=\"dataframe\">\n",
       "  <thead>\n",
       "    <tr style=\"text-align: right;\">\n",
       "      <th></th>\n",
       "      <th>number_contract</th>\n",
       "      <th>budget_name</th>\n",
       "    </tr>\n",
       "  </thead>\n",
       "  <tbody>\n",
       "    <tr>\n",
       "      <th>0</th>\n",
       "      <td>0358200041314000090</td>\n",
       "      <td>NaN</td>\n",
       "    </tr>\n",
       "    <tr>\n",
       "      <th>1</th>\n",
       "      <td>0358200049614000073</td>\n",
       "      <td>NaN</td>\n",
       "    </tr>\n",
       "    <tr>\n",
       "      <th>2</th>\n",
       "      <td>0358200049614000059</td>\n",
       "      <td>NaN</td>\n",
       "    </tr>\n",
       "    <tr>\n",
       "      <th>4</th>\n",
       "      <td>0358200041314000084</td>\n",
       "      <td>NaN</td>\n",
       "    </tr>\n",
       "    <tr>\n",
       "      <th>5</th>\n",
       "      <td>0358100006214000068</td>\n",
       "      <td>NaN</td>\n",
       "    </tr>\n",
       "    <tr>\n",
       "      <th>...</th>\n",
       "      <td>...</td>\n",
       "      <td>...</td>\n",
       "    </tr>\n",
       "    <tr>\n",
       "      <th>5569</th>\n",
       "      <td>0317300084614000023</td>\n",
       "      <td>NaN</td>\n",
       "    </tr>\n",
       "    <tr>\n",
       "      <th>5572</th>\n",
       "      <td>0317300254614000105</td>\n",
       "      <td>NaN</td>\n",
       "    </tr>\n",
       "    <tr>\n",
       "      <th>5574</th>\n",
       "      <td>0317300256414000147</td>\n",
       "      <td>NaN</td>\n",
       "    </tr>\n",
       "    <tr>\n",
       "      <th>5575</th>\n",
       "      <td>0317200045514000042</td>\n",
       "      <td>NaN</td>\n",
       "    </tr>\n",
       "    <tr>\n",
       "      <th>5576</th>\n",
       "      <td>0317300256414000149</td>\n",
       "      <td>NaN</td>\n",
       "    </tr>\n",
       "  </tbody>\n",
       "</table>\n",
       "<p>3061 rows × 2 columns</p>\n",
       "</div>"
      ],
      "text/plain": [
       "          number_contract budget_name\n",
       "0     0358200041314000090         NaN\n",
       "1     0358200049614000073         NaN\n",
       "2     0358200049614000059         NaN\n",
       "4     0358200041314000084         NaN\n",
       "5     0358100006214000068         NaN\n",
       "...                   ...         ...\n",
       "5569  0317300084614000023         NaN\n",
       "5572  0317300254614000105         NaN\n",
       "5574  0317300256414000147         NaN\n",
       "5575  0317200045514000042         NaN\n",
       "5576  0317300256414000149         NaN\n",
       "\n",
       "[3061 rows x 2 columns]"
      ]
     },
     "execution_count": 19,
     "metadata": {},
     "output_type": "execute_result"
    }
   ],
   "source": [
    "df.loc[df['budget_name'].isnull(), ['number_contract', 'budget_name']]"
   ]
  }
 ],
 "metadata": {
  "kernelspec": {
   "display_name": "contract-Fr7eyqb1-py3.10",
   "language": "python",
   "name": "python3"
  },
  "language_info": {
   "codemirror_mode": {
    "name": "ipython",
    "version": 3
   },
   "file_extension": ".py",
   "mimetype": "text/x-python",
   "name": "python",
   "nbconvert_exporter": "python",
   "pygments_lexer": "ipython3",
   "version": "3.10.6"
  },
  "orig_nbformat": 4
 },
 "nbformat": 4,
 "nbformat_minor": 2
}
